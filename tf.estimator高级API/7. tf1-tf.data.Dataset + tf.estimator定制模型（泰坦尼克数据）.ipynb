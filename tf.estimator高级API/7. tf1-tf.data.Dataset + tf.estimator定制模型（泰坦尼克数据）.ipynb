{
 "cells": [
  {
   "cell_type": "markdown",
   "metadata": {},
   "source": [
    "# 目录\n",
    "## 1. 导入模块\n",
    "## 2. 加载泰坦尼克数据\n",
    "## 3. 定义输入数据的格式feature_columns\n",
    "  - `tf.feature_column.indicator_column`\n",
    "  - `tf.feature_column.categorical_column_with_vocabulary_list`\n",
    "  - `tf.feature_column.numeric_column`\n",
    "\n",
    "## 4. tf.data.Dataset制作可迭代的数据\n",
    "  - `tf.data.Dataset.from_tensor_slices`\n",
    "  - `shuffle`\n",
    "  - `repeat`\n",
    "  - `batch`\n",
    "  - `make_one_shot_iterator`\n",
    "  - `get_next`\n",
    "  \n",
    "## 5. 定义estimator模型\n",
    "### 5.1 模型函数定义\n",
    "  - 参数`features` `labels` `mode` `params`\n",
    "  - 数据输入层 `tf.feature_column.input_layer`,传入features数据和feature_columns （都是 列名--> 数值）\n",
    "  - 三种mode，`tf.estimator.ModeKeys.PREDICT` `tf.estimator.ModeKeys.EVAL` `tf.estimator.ModeKeys.TRAIN`\n",
    "  \n",
    "### 5.2 生成estimator模型\n",
    "  - `tf.estimator.Estimator`\n",
    "  \n",
    "\n",
    "## 6. estimator 训练\n",
    "\n",
    "## 7. estimator 测试"
   ]
  },
  {
   "cell_type": "markdown",
   "metadata": {},
   "source": [
    "## 1. 导入模块"
   ]
  },
  {
   "cell_type": "code",
   "execution_count": 1,
   "metadata": {},
   "outputs": [
    {
     "name": "stdout",
     "output_type": "stream",
     "text": [
      "numpy 1.17.2\n",
      "pandas 0.25.1\n",
      "matplotlib 3.1.1\n",
      "sklearn 0.21.3\n",
      "tensorflow.python.keras.api._v1.keras 2.2.4-tf\n",
      "tensorflow 1.15.0\n"
     ]
    }
   ],
   "source": [
    "%matplotlib inline\n",
    "import numpy as np\n",
    "import pandas as pd\n",
    "import matplotlib as mpl\n",
    "import matplotlib.pyplot as plt\n",
    "import sklearn\n",
    "\n",
    "from tensorflow import keras\n",
    "import tensorflow as tf\n",
    "import sys\n",
    "import os\n",
    "import time\n",
    "import datetime\n",
    "\n",
    "for module in [np, pd, mpl, sklearn, keras, tf]:\n",
    "    print(module.__name__, module.__version__)"
   ]
  },
  {
   "cell_type": "markdown",
   "metadata": {},
   "source": [
    "## 2. 加载泰坦尼克数据"
   ]
  },
  {
   "cell_type": "code",
   "execution_count": 2,
   "metadata": {},
   "outputs": [],
   "source": [
    "train_file = \"./data/titanic/train.csv\"\n",
    "eval_file = \"./data/titanic/eval.csv\"\n",
    "\n",
    "train_df = pd.read_csv(train_file)\n",
    "eval_df = pd.read_csv(eval_file)\n",
    "\n",
    "# y_train y_eval 是 pd.Series 类型\n",
    "y_train = train_df.pop(\"survived\") # survived 这一列的数据从 train_df 中移除，并返回给 y_train\n",
    "y_eval = eval_df.pop(\"survived\")\n",
    "\n",
    "x_train = train_df.copy()\n",
    "x_eval = eval_df.copy()"
   ]
  },
  {
   "cell_type": "markdown",
   "metadata": {},
   "source": [
    "## 3. 定义输入数据的格式feature_columns"
   ]
  },
  {
   "cell_type": "code",
   "execution_count": 3,
   "metadata": {},
   "outputs": [
    {
     "name": "stdout",
     "output_type": "stream",
     "text": [
      "n_siblings_spouses --->  [1 0 3 4 2 5 8]\n",
      "deck --->  ['unknown' 'C' 'G' 'A' 'B' 'D' 'F' 'E']\n",
      "class --->  ['Third' 'First' 'Second']\n",
      "alone --->  ['n' 'y']\n",
      "sex --->  ['male' 'female']\n",
      "embark_town --->  ['Southampton' 'Cherbourg' 'Queenstown' 'unknown']\n",
      "parch --->  [0 1 2 5 3 4]\n"
     ]
    }
   ],
   "source": [
    "numerical_columns = [\"age\", \"fare\"]\n",
    "categorical_columns = list(set(x_train.columns.tolist()).difference(set(numerical_columns)))\n",
    "\n",
    "feature_columns = []\n",
    "\n",
    "# 离散数据的输入\n",
    "for categorical_column in categorical_columns:\n",
    "    vocab = x_train[categorical_column].unique()\n",
    "    \n",
    "    print(categorical_column, \"---> \",vocab)\n",
    "    feature_columns.append(\n",
    "        tf.feature_column.indicator_column(\n",
    "            tf.feature_column.categorical_column_with_vocabulary_list(categorical_column, vocab) # 列名 --> 几种类别的列表\n",
    "        )\n",
    "    )\n",
    "\n",
    "# 连续数据的输入\n",
    "for numerical_column in numerical_columns:\n",
    "    feature_columns.append(\n",
    "        tf.feature_column.numeric_column(\n",
    "            numerical_column, dtype=tf.float32   # 列名 --> 维度为0 的连续数据\n",
    "        )\n",
    "    )"
   ]
  },
  {
   "cell_type": "markdown",
   "metadata": {},
   "source": [
    "## 4. tf.data.Dataset制作可迭代的数据"
   ]
  },
  {
   "cell_type": "code",
   "execution_count": 4,
   "metadata": {},
   "outputs": [],
   "source": [
    "def make_dataset(train_df, label_df, shuffle=False, epochs=10, batch_size=32):\n",
    "    '''\n",
    "    train_df DataFrame 类型\n",
    "    label_dfel  Series 类型\n",
    "    '''\n",
    "    # (features, labels), features 必须是一个字典类型，才能与feature_columns 的列名对应\n",
    "    dataset = tf.data.Dataset.from_tensor_slices((dict(train_df), label_df))\n",
    "    if shuffle:\n",
    "        dataset = dataset.shuffle(10000)\n",
    "    dataset = dataset.repeat(epochs).batch(batch_size)\n",
    "    return dataset.make_one_shot_iterator().get_next()"
   ]
  },
  {
   "cell_type": "markdown",
   "metadata": {},
   "source": [
    "## 5. 定义estimator模型"
   ]
  },
  {
   "cell_type": "markdown",
   "metadata": {},
   "source": [
    "### 5.1 模型函数定义"
   ]
  },
  {
   "cell_type": "code",
   "execution_count": 5,
   "metadata": {},
   "outputs": [],
   "source": [
    "def model_fn(features, labels, mode, params):\n",
    "    # 网络机构    \n",
    "    input_for_next_layer = tf.feature_column.input_layer(features, params[\"feature_columns\"])\n",
    "    \n",
    "    for hidden_unit in params[\"hidden_units\"]:\n",
    "        input_for_next_layer = tf.layers.dense(input_for_next_layer, units=hidden_unit, activation=tf.nn.relu)\n",
    "    \n",
    "    logits = tf.layers.dense(input_for_next_layer, units=params[\"class_num\"], activation=None)\n",
    "    \n",
    "    predictions = tf.argmax(logits, axis=1)\n",
    "    \n",
    "    # PREDICT\n",
    "    if mode == tf.estimator.ModeKeys.PREDICT:\n",
    "        return tf.estimator.EstimatorSpec(\n",
    "            mode=mode,\n",
    "            predictions={\n",
    "                \"logits\": logits,\n",
    "                \"probabilities\": tf.nn.softmax(logits),\n",
    "                \"class_ids\": predictions[:, tf.newaxis]\n",
    "            }\n",
    "        )\n",
    "    \n",
    "    # EVAL\n",
    "    loss = tf.losses.sparse_softmax_cross_entropy(logits=logits, labels=labels)\n",
    "    accuracy = tf.metrics.accuracy(labels=labels, predictions=predictions, name=\"acc_op\")\n",
    "    if mode == tf.estimator.ModeKeys.EVAL:\n",
    "        return tf.estimator.EstimatorSpec(\n",
    "            mode=mode,\n",
    "            loss=loss,\n",
    "            eval_metric_ops={\"accuracy\": accuracy}\n",
    "        )\n",
    "    \n",
    "    # TRAIN\n",
    "    train_op = tf.train.AdamOptimizer(1e-3).minimize(loss=loss, global_step=tf.train.get_global_step())\n",
    "    if mode == tf.estimator.ModeKeys.TRAIN:\n",
    "        return tf.estimator.EstimatorSpec(\n",
    "            mode=mode,\n",
    "            loss=loss,\n",
    "            train_op=train_op\n",
    "        )"
   ]
  },
  {
   "cell_type": "markdown",
   "metadata": {},
   "source": [
    "### 5.2 生成estimator模型"
   ]
  },
  {
   "cell_type": "code",
   "execution_count": 7,
   "metadata": {},
   "outputs": [
    {
     "name": "stdout",
     "output_type": "stream",
     "text": [
      "INFO:tensorflow:Using default config.\n",
      "INFO:tensorflow:Using config: {'_model_dir': 'customized_estimator', '_tf_random_seed': None, '_save_summary_steps': 100, '_save_checkpoints_steps': None, '_save_checkpoints_secs': 600, '_session_config': allow_soft_placement: true\n",
      "graph_options {\n",
      "  rewrite_options {\n",
      "    meta_optimizer_iterations: ONE\n",
      "  }\n",
      "}\n",
      ", '_keep_checkpoint_max': 5, '_keep_checkpoint_every_n_hours': 10000, '_log_step_count_steps': 100, '_train_distribute': None, '_device_fn': None, '_protocol': None, '_eval_distribute': None, '_experimental_distribute': None, '_experimental_max_worker_delay_secs': None, '_session_creation_timeout_secs': 7200, '_service': None, '_cluster_spec': <tensorflow.python.training.server_lib.ClusterSpec object at 0x7faed14d17f0>, '_task_type': 'worker', '_task_id': 0, '_global_id_in_cluster': 0, '_master': '', '_evaluation_master': '', '_is_chief': True, '_num_ps_replicas': 0, '_num_worker_replicas': 1}\n"
     ]
    }
   ],
   "source": [
    "output_dir = \"customized_estimator\"\n",
    "if not os.path.exists(output_dir):\n",
    "    os.mkdir(output_dir)\n",
    "\n",
    "estimator = tf.estimator.Estimator(\n",
    "    model_fn=model_fn,\n",
    "    model_dir=output_dir,\n",
    "    params={\n",
    "        \"feature_columns\": feature_columns,\n",
    "        \"hidden_units\": [100, 100],\n",
    "        \"class_num\": 2\n",
    "    }\n",
    ")"
   ]
  },
  {
   "cell_type": "markdown",
   "metadata": {},
   "source": [
    "## 6. estimator 训练"
   ]
  },
  {
   "cell_type": "code",
   "execution_count": 9,
   "metadata": {},
   "outputs": [
    {
     "name": "stdout",
     "output_type": "stream",
     "text": [
      "INFO:tensorflow:Calling model_fn.\n",
      "INFO:tensorflow:Done calling model_fn.\n",
      "INFO:tensorflow:Create CheckpointSaverHook.\n",
      "INFO:tensorflow:Graph was finalized.\n",
      "INFO:tensorflow:Restoring parameters from customized_estimator/model.ckpt-196\n",
      "WARNING:tensorflow:From /home/gaosy/environment/tf1.14_py3/lib/python3.6/site-packages/tensorflow_core/python/training/saver.py:1069: get_checkpoint_mtimes (from tensorflow.python.training.checkpoint_management) is deprecated and will be removed in a future version.\n",
      "Instructions for updating:\n",
      "Use standard file utilities to get mtimes.\n",
      "INFO:tensorflow:Running local_init_op.\n",
      "INFO:tensorflow:Done running local_init_op.\n",
      "INFO:tensorflow:Saving checkpoints for 196 into customized_estimator/model.ckpt.\n",
      "INFO:tensorflow:loss = 0.45267773, step = 196\n",
      "INFO:tensorflow:global_step/sec: 308.639\n",
      "INFO:tensorflow:loss = 0.45816305, step = 296 (0.325 sec)\n",
      "INFO:tensorflow:global_step/sec: 469.416\n",
      "INFO:tensorflow:loss = 0.34162676, step = 396 (0.213 sec)\n",
      "INFO:tensorflow:global_step/sec: 476.16\n",
      "INFO:tensorflow:loss = 0.4171638, step = 496 (0.210 sec)\n",
      "INFO:tensorflow:global_step/sec: 472.983\n",
      "INFO:tensorflow:loss = 0.34072155, step = 596 (0.211 sec)\n",
      "INFO:tensorflow:global_step/sec: 474.336\n",
      "INFO:tensorflow:loss = 0.49389106, step = 696 (0.211 sec)\n",
      "INFO:tensorflow:global_step/sec: 473.667\n",
      "INFO:tensorflow:loss = 0.3770116, step = 796 (0.211 sec)\n",
      "INFO:tensorflow:global_step/sec: 471.425\n",
      "INFO:tensorflow:loss = 0.47122923, step = 896 (0.212 sec)\n",
      "INFO:tensorflow:global_step/sec: 476.661\n",
      "INFO:tensorflow:loss = 0.23492828, step = 996 (0.210 sec)\n",
      "INFO:tensorflow:global_step/sec: 460.908\n",
      "INFO:tensorflow:loss = 0.30641633, step = 1096 (0.217 sec)\n",
      "INFO:tensorflow:global_step/sec: 466.194\n",
      "INFO:tensorflow:loss = 0.24399, step = 1196 (0.215 sec)\n",
      "INFO:tensorflow:global_step/sec: 463.752\n",
      "INFO:tensorflow:loss = 0.27397192, step = 1296 (0.216 sec)\n",
      "INFO:tensorflow:global_step/sec: 465.093\n",
      "INFO:tensorflow:loss = 0.45736092, step = 1396 (0.215 sec)\n",
      "INFO:tensorflow:global_step/sec: 464.719\n",
      "INFO:tensorflow:loss = 0.5422612, step = 1496 (0.215 sec)\n",
      "INFO:tensorflow:global_step/sec: 458.47\n",
      "INFO:tensorflow:loss = 0.17052111, step = 1596 (0.218 sec)\n",
      "INFO:tensorflow:global_step/sec: 473.074\n",
      "INFO:tensorflow:loss = 0.36091644, step = 1696 (0.211 sec)\n",
      "INFO:tensorflow:global_step/sec: 464.192\n",
      "INFO:tensorflow:loss = 0.3416599, step = 1796 (0.215 sec)\n",
      "INFO:tensorflow:global_step/sec: 460.637\n",
      "INFO:tensorflow:loss = 0.16943955, step = 1896 (0.217 sec)\n",
      "INFO:tensorflow:global_step/sec: 436.895\n",
      "INFO:tensorflow:loss = 0.52901185, step = 1996 (0.229 sec)\n",
      "INFO:tensorflow:global_step/sec: 442.452\n",
      "INFO:tensorflow:loss = 0.458146, step = 2096 (0.226 sec)\n",
      "INFO:tensorflow:Saving checkpoints for 2156 into customized_estimator/model.ckpt.\n",
      "INFO:tensorflow:Loss for final step: 0.27703947.\n"
     ]
    },
    {
     "data": {
      "text/plain": [
       "<tensorflow_estimator.python.estimator.estimator.Estimator at 0x7faed16224a8>"
      ]
     },
     "execution_count": 9,
     "metadata": {},
     "output_type": "execute_result"
    }
   ],
   "source": [
    "estimator.train(input_fn=lambda: make_dataset(x_train, y_train, shuffle=True, epochs=100, batch_size=32))"
   ]
  },
  {
   "cell_type": "markdown",
   "metadata": {},
   "source": [
    "## 7. estimator 测试"
   ]
  },
  {
   "cell_type": "code",
   "execution_count": 10,
   "metadata": {},
   "outputs": [
    {
     "name": "stdout",
     "output_type": "stream",
     "text": [
      "INFO:tensorflow:Calling model_fn.\n",
      "INFO:tensorflow:Done calling model_fn.\n",
      "INFO:tensorflow:Starting evaluation at 2020-01-23T13:49:43Z\n",
      "INFO:tensorflow:Graph was finalized.\n",
      "INFO:tensorflow:Restoring parameters from customized_estimator/model.ckpt-2156\n",
      "INFO:tensorflow:Running local_init_op.\n",
      "INFO:tensorflow:Done running local_init_op.\n",
      "INFO:tensorflow:Finished evaluation at 2020-01-23-13:49:44\n",
      "INFO:tensorflow:Saving dict for global step 2156: accuracy = 0.8068182, global_step = 2156, loss = 0.47885895\n",
      "INFO:tensorflow:Saving 'checkpoint_path' summary for global step 2156: customized_estimator/model.ckpt-2156\n"
     ]
    },
    {
     "data": {
      "text/plain": [
       "{'accuracy': 0.8068182, 'loss': 0.47885895, 'global_step': 2156}"
      ]
     },
     "execution_count": 10,
     "metadata": {},
     "output_type": "execute_result"
    }
   ],
   "source": [
    "estimator.evaluate(input_fn=lambda: make_dataset(x_eval, y_eval, shuffle=False, epochs=1, batch_size=32))"
   ]
  }
 ],
 "metadata": {
  "kernelspec": {
   "display_name": "Python 3",
   "language": "python",
   "name": "python3"
  },
  "language_info": {
   "codemirror_mode": {
    "name": "ipython",
    "version": 3
   },
   "file_extension": ".py",
   "mimetype": "text/x-python",
   "name": "python",
   "nbconvert_exporter": "python",
   "pygments_lexer": "ipython3",
   "version": "3.6.8"
  }
 },
 "nbformat": 4,
 "nbformat_minor": 2
}
