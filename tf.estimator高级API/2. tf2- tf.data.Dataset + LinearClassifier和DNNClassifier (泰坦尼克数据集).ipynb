{
 "cells": [
  {
   "cell_type": "markdown",
   "metadata": {},
   "source": [
    "# 目录\n",
    "### 1. 导入模块\n",
    "### 2. 导入泰坦尼克数据\n",
    "### 3. 定义Estimator的输入feature_columns\n",
    "  - `tf.feature_column.indicator_column`\n",
    "  - `tf.feature_column.categorical_column_with_vocabulary_list`\n",
    "  - `tf.feature_column.numeric_column`\n",
    "  \n",
    "### 4. 使用tf.data.Dataset定义喂数据的迭代器\n",
    "  - `tf.data.Dataset.from_tensor_slices`\n",
    "  - `shuffle`\n",
    "  - `repeat`\n",
    "  - `batch`\n",
    "\n",
    "### 5. estimator.LinearClassifier 模型\n",
    "- estimator.LinearClassifier定义\n",
    "- estimator.LinearClassifier训练\n",
    "- estimator.LinearClassifier测试\n",
    "\n",
    "### 6. estimator.DNNClassifier 模型\n",
    "- estimator.DNNClassifier定义\n",
    "- estimator.DNNClassifier训练\n",
    "- estimator.DNNClassifier测试"
   ]
  },
  {
   "cell_type": "markdown",
   "metadata": {},
   "source": [
    "## 1. 导入模块"
   ]
  },
  {
   "cell_type": "code",
   "execution_count": 1,
   "metadata": {},
   "outputs": [
    {
     "name": "stdout",
     "output_type": "stream",
     "text": [
      "numpy 1.18.1\n",
      "pandas 0.25.3\n",
      "matplotlib 3.1.2\n",
      "sklearn 0.22.1\n",
      "tensorflow_core.python.keras.api._v2.keras 2.2.4-tf\n",
      "tensorflow 2.1.0\n"
     ]
    }
   ],
   "source": [
    "%matplotlib inline\n",
    "import numpy as np\n",
    "import pandas as pd\n",
    "import matplotlib as mpl\n",
    "import matplotlib.pyplot as plt\n",
    "import sklearn\n",
    "\n",
    "from tensorflow import keras\n",
    "import tensorflow as tf\n",
    "import sys\n",
    "import os\n",
    "import time\n",
    "import datetime\n",
    "\n",
    "for module in [np, pd, mpl, sklearn, keras, tf]:\n",
    "    print(module.__name__, module.__version__)"
   ]
  },
  {
   "cell_type": "markdown",
   "metadata": {},
   "source": [
    "## 2. 导入泰坦尼克数据"
   ]
  },
  {
   "cell_type": "code",
   "execution_count": 2,
   "metadata": {},
   "outputs": [
    {
     "data": {
      "text/html": [
       "<div>\n",
       "<style scoped>\n",
       "    .dataframe tbody tr th:only-of-type {\n",
       "        vertical-align: middle;\n",
       "    }\n",
       "\n",
       "    .dataframe tbody tr th {\n",
       "        vertical-align: top;\n",
       "    }\n",
       "\n",
       "    .dataframe thead th {\n",
       "        text-align: right;\n",
       "    }\n",
       "</style>\n",
       "<table border=\"1\" class=\"dataframe\">\n",
       "  <thead>\n",
       "    <tr style=\"text-align: right;\">\n",
       "      <th></th>\n",
       "      <th>sex</th>\n",
       "      <th>age</th>\n",
       "      <th>n_siblings_spouses</th>\n",
       "      <th>parch</th>\n",
       "      <th>fare</th>\n",
       "      <th>class</th>\n",
       "      <th>deck</th>\n",
       "      <th>embark_town</th>\n",
       "      <th>alone</th>\n",
       "    </tr>\n",
       "  </thead>\n",
       "  <tbody>\n",
       "    <tr>\n",
       "      <th>0</th>\n",
       "      <td>male</td>\n",
       "      <td>22.0</td>\n",
       "      <td>1</td>\n",
       "      <td>0</td>\n",
       "      <td>7.2500</td>\n",
       "      <td>Third</td>\n",
       "      <td>unknown</td>\n",
       "      <td>Southampton</td>\n",
       "      <td>n</td>\n",
       "    </tr>\n",
       "    <tr>\n",
       "      <th>1</th>\n",
       "      <td>female</td>\n",
       "      <td>38.0</td>\n",
       "      <td>1</td>\n",
       "      <td>0</td>\n",
       "      <td>71.2833</td>\n",
       "      <td>First</td>\n",
       "      <td>C</td>\n",
       "      <td>Cherbourg</td>\n",
       "      <td>n</td>\n",
       "    </tr>\n",
       "    <tr>\n",
       "      <th>2</th>\n",
       "      <td>female</td>\n",
       "      <td>26.0</td>\n",
       "      <td>0</td>\n",
       "      <td>0</td>\n",
       "      <td>7.9250</td>\n",
       "      <td>Third</td>\n",
       "      <td>unknown</td>\n",
       "      <td>Southampton</td>\n",
       "      <td>y</td>\n",
       "    </tr>\n",
       "    <tr>\n",
       "      <th>3</th>\n",
       "      <td>female</td>\n",
       "      <td>35.0</td>\n",
       "      <td>1</td>\n",
       "      <td>0</td>\n",
       "      <td>53.1000</td>\n",
       "      <td>First</td>\n",
       "      <td>C</td>\n",
       "      <td>Southampton</td>\n",
       "      <td>n</td>\n",
       "    </tr>\n",
       "    <tr>\n",
       "      <th>4</th>\n",
       "      <td>male</td>\n",
       "      <td>28.0</td>\n",
       "      <td>0</td>\n",
       "      <td>0</td>\n",
       "      <td>8.4583</td>\n",
       "      <td>Third</td>\n",
       "      <td>unknown</td>\n",
       "      <td>Queenstown</td>\n",
       "      <td>y</td>\n",
       "    </tr>\n",
       "  </tbody>\n",
       "</table>\n",
       "</div>"
      ],
      "text/plain": [
       "      sex   age  n_siblings_spouses  parch     fare  class     deck  \\\n",
       "0    male  22.0                   1      0   7.2500  Third  unknown   \n",
       "1  female  38.0                   1      0  71.2833  First        C   \n",
       "2  female  26.0                   0      0   7.9250  Third  unknown   \n",
       "3  female  35.0                   1      0  53.1000  First        C   \n",
       "4    male  28.0                   0      0   8.4583  Third  unknown   \n",
       "\n",
       "   embark_town alone  \n",
       "0  Southampton     n  \n",
       "1    Cherbourg     n  \n",
       "2  Southampton     y  \n",
       "3  Southampton     n  \n",
       "4   Queenstown     y  "
      ]
     },
     "execution_count": 2,
     "metadata": {},
     "output_type": "execute_result"
    }
   ],
   "source": [
    "train_file = \"./data/titanic/train.csv\"\n",
    "eval_file = \"./data/titanic/eval.csv\"\n",
    "\n",
    "train_df = pd.read_csv(train_file)\n",
    "eval_df = pd.read_csv(eval_file)\n",
    "\n",
    "# y_train y_eval 是 pd.Series 类型\n",
    "y_train = train_df.pop(\"survived\") # survived 这一列的数据从 train_df 中移除，并返回给 y_train\n",
    "y_eval = eval_df.pop(\"survived\")\n",
    "\n",
    "x_train = train_df.copy()\n",
    "x_eval = eval_df.copy()\n",
    "\n",
    "x_train.head()"
   ]
  },
  {
   "cell_type": "markdown",
   "metadata": {},
   "source": [
    "## 3. 定义Estimator的输入feature_columns"
   ]
  },
  {
   "cell_type": "code",
   "execution_count": 3,
   "metadata": {},
   "outputs": [
    {
     "name": "stdout",
     "output_type": "stream",
     "text": [
      "embark_town --->  ['Southampton' 'Cherbourg' 'Queenstown' 'unknown']\n",
      "class --->  ['Third' 'First' 'Second']\n",
      "n_siblings_spouses --->  [1 0 3 4 2 5 8]\n",
      "deck --->  ['unknown' 'C' 'G' 'A' 'B' 'D' 'F' 'E']\n",
      "parch --->  [0 1 2 5 3 4]\n",
      "alone --->  ['n' 'y']\n",
      "sex --->  ['male' 'female']\n"
     ]
    }
   ],
   "source": [
    "numerical_columns = [\"age\", \"fare\"]\n",
    "categorical_columns = list(set(x_train.columns.tolist()).difference(set(numerical_columns)))\n",
    "\n",
    "feature_columns = []\n",
    "\n",
    "# 离散数据的输入\n",
    "for categorical_column in categorical_columns:\n",
    "    vocab = x_train[categorical_column].unique()\n",
    "    \n",
    "    print(categorical_column, \"---> \",vocab)\n",
    "    feature_columns.append(\n",
    "        tf.feature_column.indicator_column(\n",
    "            tf.feature_column.categorical_column_with_vocabulary_list(categorical_column, vocab) # 列名 --> 几种类别的列表\n",
    "        )\n",
    "    )\n",
    "\n",
    "# 连续数据的输入\n",
    "for numerical_column in numerical_columns:\n",
    "    feature_columns.append(\n",
    "        tf.feature_column.numeric_column(\n",
    "            numerical_column, dtype=tf.float32   # 列名 --> 维度为0 的连续数据\n",
    "        )\n",
    "    )"
   ]
  },
  {
   "cell_type": "markdown",
   "metadata": {},
   "source": [
    "## 4. 使用tf.data.Dataset定义喂数据的迭代器"
   ]
  },
  {
   "cell_type": "code",
   "execution_count": 4,
   "metadata": {},
   "outputs": [],
   "source": [
    "def make_dataset(train_df, label_df, shuffle=False, epochs=10, batch_size=32):\n",
    "    '''\n",
    "    train_df DataFrame 类型\n",
    "    label_dfel  Series 类型\n",
    "    '''\n",
    "    # (features, labels), features 必须是一个字典类型，才能与feature_columns 的列名对应\n",
    "    dataset = tf.data.Dataset.from_tensor_slices((dict(train_df), label_df))\n",
    "    if shuffle:\n",
    "        dataset = dataset.shuffle(10000)\n",
    "    dataset = dataset.repeat(epochs).batch(batch_size)\n",
    "    return dataset"
   ]
  },
  {
   "cell_type": "markdown",
   "metadata": {},
   "source": [
    "## 5. estimator.LinearClassifier 模型"
   ]
  },
  {
   "cell_type": "markdown",
   "metadata": {},
   "source": [
    "### 5.1. 定义estimator.LinearClassifier 模型"
   ]
  },
  {
   "cell_type": "code",
   "execution_count": 5,
   "metadata": {},
   "outputs": [
    {
     "name": "stdout",
     "output_type": "stream",
     "text": [
      "INFO:tensorflow:Using default config.\n",
      "INFO:tensorflow:Using config: {'_model_dir': 'linear_estimator_model', '_tf_random_seed': None, '_save_summary_steps': 100, '_save_checkpoints_steps': None, '_save_checkpoints_secs': 600, '_session_config': allow_soft_placement: true\n",
      "graph_options {\n",
      "  rewrite_options {\n",
      "    meta_optimizer_iterations: ONE\n",
      "  }\n",
      "}\n",
      ", '_keep_checkpoint_max': 5, '_keep_checkpoint_every_n_hours': 10000, '_log_step_count_steps': 100, '_train_distribute': None, '_device_fn': None, '_protocol': None, '_eval_distribute': None, '_experimental_distribute': None, '_experimental_max_worker_delay_secs': None, '_session_creation_timeout_secs': 7200, '_service': None, '_cluster_spec': ClusterSpec({}), '_task_type': 'worker', '_task_id': 0, '_global_id_in_cluster': 0, '_master': '', '_evaluation_master': '', '_is_chief': True, '_num_ps_replicas': 0, '_num_worker_replicas': 1}\n"
     ]
    }
   ],
   "source": [
    "linear_output_dir = \"linear_estimator_model\"\n",
    "if not os.path.exists(linear_output_dir):\n",
    "    os.makedirs(linear_output_dir)\n",
    "    \n",
    "linear_estimator = tf.estimator.LinearClassifier(\n",
    "    model_dir=linear_output_dir,\n",
    "    feature_columns=feature_columns,\n",
    "    n_classes=2\n",
    ")"
   ]
  },
  {
   "cell_type": "markdown",
   "metadata": {},
   "source": [
    "### 5.2. estimator.LinearClassifier 训练"
   ]
  },
  {
   "cell_type": "code",
   "execution_count": 6,
   "metadata": {},
   "outputs": [
    {
     "name": "stdout",
     "output_type": "stream",
     "text": [
      "WARNING:tensorflow:From /home/gaosy/environment/tf2_py3/lib/python3.6/site-packages/tensorflow_core/python/ops/resource_variable_ops.py:1635: calling BaseResourceVariable.__init__ (from tensorflow.python.ops.resource_variable_ops) with constraint is deprecated and will be removed in a future version.\n",
      "Instructions for updating:\n",
      "If using Keras pass *_constraint arguments to layers.\n",
      "WARNING:tensorflow:From /home/gaosy/environment/tf2_py3/lib/python3.6/site-packages/tensorflow_core/python/training/training_util.py:236: Variable.initialized_value (from tensorflow.python.ops.variables) is deprecated and will be removed in a future version.\n",
      "Instructions for updating:\n",
      "Use Variable.read_value. Variables in 2.X are initialized automatically both in eager and graph (inside tf.defun) contexts.\n",
      "INFO:tensorflow:Calling model_fn.\n",
      "WARNING:tensorflow:Layer linear/linear_model is casting an input tensor from dtype float64 to the layer's dtype of float32, which is new behavior in TensorFlow 2.  The layer has dtype float32 because it's dtype defaults to floatx.\n",
      "\n",
      "If you intended to run this layer in float32, you can safely ignore this warning. If in doubt, this warning is likely only an issue if you are porting a TensorFlow 1.X model to TensorFlow 2.\n",
      "\n",
      "To change all layers to have dtype float64 by default, call `tf.keras.backend.set_floatx('float64')`. To change just this layer, pass dtype='float64' to the layer constructor. If you are the author of this layer, you can disable autocasting by passing autocast=False to the base Layer constructor.\n",
      "\n",
      "WARNING:tensorflow:From /home/gaosy/environment/tf2_py3/lib/python3.6/site-packages/tensorflow_core/python/feature_column/feature_column_v2.py:518: Layer.add_variable (from tensorflow.python.keras.engine.base_layer) is deprecated and will be removed in a future version.\n",
      "Instructions for updating:\n",
      "Please use `layer.add_weight` method instead.\n",
      "WARNING:tensorflow:From /home/gaosy/environment/tf2_py3/lib/python3.6/site-packages/tensorflow_core/python/feature_column/feature_column_v2.py:4267: IndicatorColumn._variable_shape (from tensorflow.python.feature_column.feature_column_v2) is deprecated and will be removed in a future version.\n",
      "Instructions for updating:\n",
      "The old _FeatureColumn APIs are being deprecated. Please use the new FeatureColumn APIs instead.\n",
      "WARNING:tensorflow:From /home/gaosy/environment/tf2_py3/lib/python3.6/site-packages/tensorflow_core/python/feature_column/feature_column_v2.py:4322: VocabularyListCategoricalColumn._num_buckets (from tensorflow.python.feature_column.feature_column_v2) is deprecated and will be removed in a future version.\n",
      "Instructions for updating:\n",
      "The old _FeatureColumn APIs are being deprecated. Please use the new FeatureColumn APIs instead.\n",
      "WARNING:tensorflow:From /home/gaosy/environment/tf2_py3/lib/python3.6/site-packages/tensorflow_core/python/keras/optimizer_v2/ftrl.py:143: calling Constant.__init__ (from tensorflow.python.ops.init_ops) with dtype is deprecated and will be removed in a future version.\n",
      "Instructions for updating:\n",
      "Call initializer instance with the dtype argument instead of passing it to the constructor\n",
      "INFO:tensorflow:Done calling model_fn.\n",
      "INFO:tensorflow:Create CheckpointSaverHook.\n",
      "INFO:tensorflow:Graph was finalized.\n",
      "INFO:tensorflow:Restoring parameters from linear_estimator_model/model.ckpt-1960\n",
      "WARNING:tensorflow:From /home/gaosy/environment/tf2_py3/lib/python3.6/site-packages/tensorflow_core/python/training/saver.py:1069: get_checkpoint_mtimes (from tensorflow.python.training.checkpoint_management) is deprecated and will be removed in a future version.\n",
      "Instructions for updating:\n",
      "Use standard file utilities to get mtimes.\n",
      "INFO:tensorflow:Running local_init_op.\n",
      "INFO:tensorflow:Done running local_init_op.\n",
      "INFO:tensorflow:Saving checkpoints for 1960 into linear_estimator_model/model.ckpt.\n",
      "INFO:tensorflow:loss = 0.3631696, step = 1960\n",
      "INFO:tensorflow:global_step/sec: 250.831\n",
      "INFO:tensorflow:loss = 0.46348336, step = 2060 (0.400 sec)\n",
      "INFO:tensorflow:global_step/sec: 368.419\n",
      "INFO:tensorflow:loss = 0.49366927, step = 2160 (0.271 sec)\n",
      "INFO:tensorflow:global_step/sec: 366.042\n",
      "INFO:tensorflow:loss = 0.44968864, step = 2260 (0.273 sec)\n",
      "INFO:tensorflow:global_step/sec: 371.083\n",
      "INFO:tensorflow:loss = 0.3443107, step = 2360 (0.269 sec)\n",
      "INFO:tensorflow:global_step/sec: 375.707\n",
      "INFO:tensorflow:loss = 0.3837847, step = 2460 (0.266 sec)\n",
      "INFO:tensorflow:global_step/sec: 376.122\n",
      "INFO:tensorflow:loss = 0.4418379, step = 2560 (0.266 sec)\n",
      "INFO:tensorflow:global_step/sec: 375.343\n",
      "INFO:tensorflow:loss = 0.4749388, step = 2660 (0.266 sec)\n",
      "INFO:tensorflow:global_step/sec: 371.432\n",
      "INFO:tensorflow:loss = 0.5150857, step = 2760 (0.269 sec)\n",
      "INFO:tensorflow:global_step/sec: 373.674\n",
      "INFO:tensorflow:loss = 0.38507295, step = 2860 (0.267 sec)\n",
      "INFO:tensorflow:global_step/sec: 372.181\n",
      "INFO:tensorflow:loss = 0.553082, step = 2960 (0.269 sec)\n",
      "INFO:tensorflow:global_step/sec: 371.014\n",
      "INFO:tensorflow:loss = 0.44673365, step = 3060 (0.269 sec)\n",
      "INFO:tensorflow:global_step/sec: 372.762\n",
      "INFO:tensorflow:loss = 0.57198757, step = 3160 (0.268 sec)\n",
      "INFO:tensorflow:global_step/sec: 376.007\n",
      "INFO:tensorflow:loss = 0.5871889, step = 3260 (0.266 sec)\n",
      "INFO:tensorflow:global_step/sec: 377.535\n",
      "INFO:tensorflow:loss = 0.31569695, step = 3360 (0.265 sec)\n",
      "INFO:tensorflow:global_step/sec: 381.499\n",
      "INFO:tensorflow:loss = 0.29782104, step = 3460 (0.262 sec)\n",
      "INFO:tensorflow:global_step/sec: 382.385\n",
      "INFO:tensorflow:loss = 0.663886, step = 3560 (0.262 sec)\n",
      "INFO:tensorflow:global_step/sec: 371.4\n",
      "INFO:tensorflow:loss = 0.29134846, step = 3660 (0.269 sec)\n",
      "INFO:tensorflow:global_step/sec: 372.588\n",
      "INFO:tensorflow:loss = 0.34893948, step = 3760 (0.268 sec)\n",
      "INFO:tensorflow:global_step/sec: 382.998\n",
      "INFO:tensorflow:loss = 0.40907413, step = 3860 (0.261 sec)\n",
      "INFO:tensorflow:Saving checkpoints for 3920 into linear_estimator_model/model.ckpt.\n",
      "INFO:tensorflow:Loss for final step: 0.43806073.\n"
     ]
    },
    {
     "data": {
      "text/plain": [
       "<tensorflow_estimator.python.estimator.canned.linear.LinearClassifierV2 at 0x7f7054009550>"
      ]
     },
     "execution_count": 6,
     "metadata": {},
     "output_type": "execute_result"
    }
   ],
   "source": [
    "# input_fn: \n",
    "#1. 是一个函数；\n",
    "#2. 这个函数是一个迭代器；\n",
    "#3. 返回 （features, labels）数据， features是一个字典，才能与feature_columns对应\n",
    "linear_estimator.train(input_fn = lambda: make_dataset(x_train, y_train, shuffle=True, epochs=100, batch_size=32))"
   ]
  },
  {
   "cell_type": "markdown",
   "metadata": {},
   "source": [
    "### 5.3. estimator.LinearClassifier 测试"
   ]
  },
  {
   "cell_type": "code",
   "execution_count": 7,
   "metadata": {},
   "outputs": [
    {
     "name": "stdout",
     "output_type": "stream",
     "text": [
      "INFO:tensorflow:Calling model_fn.\n",
      "WARNING:tensorflow:Layer linear/linear_model is casting an input tensor from dtype float64 to the layer's dtype of float32, which is new behavior in TensorFlow 2.  The layer has dtype float32 because it's dtype defaults to floatx.\n",
      "\n",
      "If you intended to run this layer in float32, you can safely ignore this warning. If in doubt, this warning is likely only an issue if you are porting a TensorFlow 1.X model to TensorFlow 2.\n",
      "\n",
      "To change all layers to have dtype float64 by default, call `tf.keras.backend.set_floatx('float64')`. To change just this layer, pass dtype='float64' to the layer constructor. If you are the author of this layer, you can disable autocasting by passing autocast=False to the base Layer constructor.\n",
      "\n",
      "INFO:tensorflow:Done calling model_fn.\n",
      "INFO:tensorflow:Starting evaluation at 2020-01-22T23:17:03Z\n",
      "INFO:tensorflow:Graph was finalized.\n",
      "INFO:tensorflow:Restoring parameters from linear_estimator_model/model.ckpt-3920\n",
      "INFO:tensorflow:Running local_init_op.\n",
      "INFO:tensorflow:Done running local_init_op.\n",
      "INFO:tensorflow:Inference Time : 0.67623s\n",
      "INFO:tensorflow:Finished evaluation at 2020-01-22-23:17:03\n",
      "INFO:tensorflow:Saving dict for global step 3920: accuracy = 0.7878788, accuracy_baseline = 0.625, auc = 0.83719015, auc_precision_recall = 0.7856679, average_loss = 0.48789534, global_step = 3920, label/mean = 0.375, loss = 0.46902195, precision = 0.6902655, prediction/mean = 0.4391188, recall = 0.7878788\n",
      "INFO:tensorflow:Saving 'checkpoint_path' summary for global step 3920: linear_estimator_model/model.ckpt-3920\n"
     ]
    },
    {
     "data": {
      "text/plain": [
       "{'accuracy': 0.7878788,\n",
       " 'accuracy_baseline': 0.625,\n",
       " 'auc': 0.83719015,\n",
       " 'auc_precision_recall': 0.7856679,\n",
       " 'average_loss': 0.48789534,\n",
       " 'label/mean': 0.375,\n",
       " 'loss': 0.46902195,\n",
       " 'precision': 0.6902655,\n",
       " 'prediction/mean': 0.4391188,\n",
       " 'recall': 0.7878788,\n",
       " 'global_step': 3920}"
      ]
     },
     "execution_count": 7,
     "metadata": {},
     "output_type": "execute_result"
    }
   ],
   "source": [
    "linear_estimator.evaluate(input_fn=lambda: make_dataset(x_eval, y_eval, shuffle=False, epochs=1, batch_size=32))"
   ]
  },
  {
   "cell_type": "markdown",
   "metadata": {},
   "source": [
    "## 6. estimator.DNNClassifier 模型"
   ]
  },
  {
   "cell_type": "markdown",
   "metadata": {},
   "source": [
    "### 6.1. 定义 estimator.DNNClassifier 模型"
   ]
  },
  {
   "cell_type": "code",
   "execution_count": 8,
   "metadata": {},
   "outputs": [
    {
     "name": "stdout",
     "output_type": "stream",
     "text": [
      "INFO:tensorflow:Using default config.\n",
      "INFO:tensorflow:Using config: {'_model_dir': 'dnn_estimator_model', '_tf_random_seed': None, '_save_summary_steps': 100, '_save_checkpoints_steps': None, '_save_checkpoints_secs': 600, '_session_config': allow_soft_placement: true\n",
      "graph_options {\n",
      "  rewrite_options {\n",
      "    meta_optimizer_iterations: ONE\n",
      "  }\n",
      "}\n",
      ", '_keep_checkpoint_max': 5, '_keep_checkpoint_every_n_hours': 10000, '_log_step_count_steps': 100, '_train_distribute': None, '_device_fn': None, '_protocol': None, '_eval_distribute': None, '_experimental_distribute': None, '_experimental_max_worker_delay_secs': None, '_session_creation_timeout_secs': 7200, '_service': None, '_cluster_spec': ClusterSpec({}), '_task_type': 'worker', '_task_id': 0, '_global_id_in_cluster': 0, '_master': '', '_evaluation_master': '', '_is_chief': True, '_num_ps_replicas': 0, '_num_worker_replicas': 1}\n"
     ]
    }
   ],
   "source": [
    "dnn_output_dir = \"dnn_estimator_model\"\n",
    "if not os.path.exists(dnn_output_dir):\n",
    "    os.makedirs(dnn_output_dir)\n",
    "    \n",
    "dnn_estimator = tf.estimator.DNNClassifier(\n",
    "    model_dir=dnn_output_dir,\n",
    "    feature_columns=feature_columns,\n",
    "    n_classes=2,\n",
    "    hidden_units=[100, 100],\n",
    "    activation_fn=tf.nn.relu,\n",
    "    optimizer=\"Adam\"\n",
    ")"
   ]
  },
  {
   "cell_type": "markdown",
   "metadata": {},
   "source": [
    "### 6.2. estimator.DNNClassifier 训练"
   ]
  },
  {
   "cell_type": "code",
   "execution_count": 9,
   "metadata": {},
   "outputs": [
    {
     "name": "stdout",
     "output_type": "stream",
     "text": [
      "INFO:tensorflow:Calling model_fn.\n",
      "WARNING:tensorflow:Layer dnn is casting an input tensor from dtype float64 to the layer's dtype of float32, which is new behavior in TensorFlow 2.  The layer has dtype float32 because it's dtype defaults to floatx.\n",
      "\n",
      "If you intended to run this layer in float32, you can safely ignore this warning. If in doubt, this warning is likely only an issue if you are porting a TensorFlow 1.X model to TensorFlow 2.\n",
      "\n",
      "To change all layers to have dtype float64 by default, call `tf.keras.backend.set_floatx('float64')`. To change just this layer, pass dtype='float64' to the layer constructor. If you are the author of this layer, you can disable autocasting by passing autocast=False to the base Layer constructor.\n",
      "\n",
      "INFO:tensorflow:Done calling model_fn.\n",
      "INFO:tensorflow:Create CheckpointSaverHook.\n",
      "INFO:tensorflow:Graph was finalized.\n",
      "INFO:tensorflow:Restoring parameters from dnn_estimator_model/model.ckpt-1960\n",
      "INFO:tensorflow:Running local_init_op.\n",
      "INFO:tensorflow:Done running local_init_op.\n",
      "INFO:tensorflow:Saving checkpoints for 1960 into dnn_estimator_model/model.ckpt.\n",
      "INFO:tensorflow:loss = 0.45359203, step = 1960\n",
      "INFO:tensorflow:global_step/sec: 247.76\n",
      "INFO:tensorflow:loss = 0.29971343, step = 2060 (0.405 sec)\n",
      "INFO:tensorflow:global_step/sec: 377.873\n",
      "INFO:tensorflow:loss = 0.3535098, step = 2160 (0.264 sec)\n",
      "INFO:tensorflow:global_step/sec: 379.621\n",
      "INFO:tensorflow:loss = 0.16871813, step = 2260 (0.264 sec)\n",
      "INFO:tensorflow:global_step/sec: 375.389\n",
      "INFO:tensorflow:loss = 0.1982636, step = 2360 (0.266 sec)\n",
      "INFO:tensorflow:global_step/sec: 375.882\n",
      "INFO:tensorflow:loss = 0.33165887, step = 2460 (0.266 sec)\n",
      "INFO:tensorflow:global_step/sec: 374.209\n",
      "INFO:tensorflow:loss = 0.15215811, step = 2560 (0.267 sec)\n",
      "INFO:tensorflow:global_step/sec: 379.752\n",
      "INFO:tensorflow:loss = 0.22297542, step = 2660 (0.263 sec)\n",
      "INFO:tensorflow:global_step/sec: 383.349\n",
      "INFO:tensorflow:loss = 0.2864424, step = 2760 (0.261 sec)\n",
      "INFO:tensorflow:global_step/sec: 393.249\n",
      "INFO:tensorflow:loss = 0.34241825, step = 2860 (0.254 sec)\n",
      "INFO:tensorflow:global_step/sec: 383.716\n",
      "INFO:tensorflow:loss = 0.20106475, step = 2960 (0.261 sec)\n",
      "INFO:tensorflow:global_step/sec: 386.419\n",
      "INFO:tensorflow:loss = 0.2141513, step = 3060 (0.259 sec)\n",
      "INFO:tensorflow:global_step/sec: 389.752\n",
      "INFO:tensorflow:loss = 0.3087129, step = 3160 (0.257 sec)\n",
      "INFO:tensorflow:global_step/sec: 384.758\n",
      "INFO:tensorflow:loss = 0.42983627, step = 3260 (0.260 sec)\n",
      "INFO:tensorflow:global_step/sec: 390.815\n",
      "INFO:tensorflow:loss = 0.43505734, step = 3360 (0.256 sec)\n",
      "INFO:tensorflow:global_step/sec: 392.499\n",
      "INFO:tensorflow:loss = 0.19597054, step = 3460 (0.255 sec)\n",
      "INFO:tensorflow:global_step/sec: 389.945\n",
      "INFO:tensorflow:loss = 0.28098536, step = 3560 (0.256 sec)\n",
      "INFO:tensorflow:global_step/sec: 385.092\n",
      "INFO:tensorflow:loss = 0.6249664, step = 3660 (0.260 sec)\n",
      "INFO:tensorflow:global_step/sec: 388.444\n",
      "INFO:tensorflow:loss = 0.28306773, step = 3760 (0.258 sec)\n",
      "INFO:tensorflow:global_step/sec: 387.557\n",
      "INFO:tensorflow:loss = 0.47530335, step = 3860 (0.258 sec)\n",
      "INFO:tensorflow:Saving checkpoints for 3920 into dnn_estimator_model/model.ckpt.\n",
      "INFO:tensorflow:Loss for final step: 0.069150515.\n"
     ]
    },
    {
     "data": {
      "text/plain": [
       "<tensorflow_estimator.python.estimator.canned.dnn.DNNClassifierV2 at 0x7f6ed43b7ac8>"
      ]
     },
     "execution_count": 9,
     "metadata": {},
     "output_type": "execute_result"
    }
   ],
   "source": [
    "# input_fn: \n",
    "#1. 是一个函数；\n",
    "#2. 这个函数是一个迭代器；\n",
    "#3. 返回 （features, labels）数据， features是一个字典，才能与feature_columns对应\n",
    "dnn_estimator.train(input_fn = lambda: make_dataset(x_train, y_train, shuffle=True, epochs=100, batch_size=32))"
   ]
  },
  {
   "cell_type": "markdown",
   "metadata": {},
   "source": [
    "### 6.3. estimator.DNNClassifier 测试"
   ]
  },
  {
   "cell_type": "code",
   "execution_count": 10,
   "metadata": {},
   "outputs": [
    {
     "name": "stdout",
     "output_type": "stream",
     "text": [
      "INFO:tensorflow:Calling model_fn.\n",
      "WARNING:tensorflow:Layer dnn is casting an input tensor from dtype float64 to the layer's dtype of float32, which is new behavior in TensorFlow 2.  The layer has dtype float32 because it's dtype defaults to floatx.\n",
      "\n",
      "If you intended to run this layer in float32, you can safely ignore this warning. If in doubt, this warning is likely only an issue if you are porting a TensorFlow 1.X model to TensorFlow 2.\n",
      "\n",
      "To change all layers to have dtype float64 by default, call `tf.keras.backend.set_floatx('float64')`. To change just this layer, pass dtype='float64' to the layer constructor. If you are the author of this layer, you can disable autocasting by passing autocast=False to the base Layer constructor.\n",
      "\n",
      "INFO:tensorflow:Done calling model_fn.\n",
      "INFO:tensorflow:Starting evaluation at 2020-01-22T23:17:11Z\n",
      "INFO:tensorflow:Graph was finalized.\n",
      "INFO:tensorflow:Restoring parameters from dnn_estimator_model/model.ckpt-3920\n",
      "INFO:tensorflow:Running local_init_op.\n",
      "INFO:tensorflow:Done running local_init_op.\n",
      "INFO:tensorflow:Inference Time : 0.61394s\n",
      "INFO:tensorflow:Finished evaluation at 2020-01-22-23:17:12\n",
      "INFO:tensorflow:Saving dict for global step 3920: accuracy = 0.81060606, accuracy_baseline = 0.625, auc = 0.83535355, auc_precision_recall = 0.7717025, average_loss = 0.5599526, global_step = 3920, label/mean = 0.375, loss = 0.53544617, precision = 0.7425743, prediction/mean = 0.39552742, recall = 0.75757575\n",
      "INFO:tensorflow:Saving 'checkpoint_path' summary for global step 3920: dnn_estimator_model/model.ckpt-3920\n"
     ]
    },
    {
     "data": {
      "text/plain": [
       "{'accuracy': 0.81060606,\n",
       " 'accuracy_baseline': 0.625,\n",
       " 'auc': 0.83535355,\n",
       " 'auc_precision_recall': 0.7717025,\n",
       " 'average_loss': 0.5599526,\n",
       " 'label/mean': 0.375,\n",
       " 'loss': 0.53544617,\n",
       " 'precision': 0.7425743,\n",
       " 'prediction/mean': 0.39552742,\n",
       " 'recall': 0.75757575,\n",
       " 'global_step': 3920}"
      ]
     },
     "execution_count": 10,
     "metadata": {},
     "output_type": "execute_result"
    }
   ],
   "source": [
    "dnn_estimator.evaluate(input_fn=lambda: make_dataset(x_eval, y_eval, shuffle=False, epochs=1, batch_size=32))"
   ]
  },
  {
   "cell_type": "code",
   "execution_count": null,
   "metadata": {},
   "outputs": [],
   "source": []
  },
  {
   "cell_type": "code",
   "execution_count": null,
   "metadata": {},
   "outputs": [],
   "source": []
  },
  {
   "cell_type": "code",
   "execution_count": null,
   "metadata": {},
   "outputs": [],
   "source": []
  }
 ],
 "metadata": {
  "kernelspec": {
   "display_name": "Python 3",
   "language": "python",
   "name": "python3"
  },
  "language_info": {
   "codemirror_mode": {
    "name": "ipython",
    "version": 3
   },
   "file_extension": ".py",
   "mimetype": "text/x-python",
   "name": "python",
   "nbconvert_exporter": "python",
   "pygments_lexer": "ipython3",
   "version": "3.6.8"
  }
 },
 "nbformat": 4,
 "nbformat_minor": 2
}
