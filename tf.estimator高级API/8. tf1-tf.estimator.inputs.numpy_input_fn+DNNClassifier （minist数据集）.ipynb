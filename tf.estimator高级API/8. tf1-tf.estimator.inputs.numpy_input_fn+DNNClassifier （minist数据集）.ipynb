{
 "cells": [
  {
   "cell_type": "markdown",
   "metadata": {},
   "source": [
    "# 目录\n",
    "## 1. 导入模块\n",
    "## 2. 获取minist数据集\n",
    "## 3. 定义输入数据格式的feature_columns\n",
    "## 4. tf.estimator.inputs.numpy_input_fn可迭代的数据函数\n",
    "## 5. 定义DNNClassifier\n",
    "## 6. 训练\n",
    "## 7. 测试"
   ]
  },
  {
   "cell_type": "markdown",
   "metadata": {},
   "source": [
    "## 1. 导入模块"
   ]
  },
  {
   "cell_type": "code",
   "execution_count": 1,
   "metadata": {},
   "outputs": [
    {
     "name": "stdout",
     "output_type": "stream",
     "text": [
      "numpy 1.17.2\n",
      "pandas 0.25.1\n",
      "matplotlib 3.1.1\n",
      "sklearn 0.21.3\n",
      "tensorflow.python.keras.api._v1.keras 2.2.4-tf\n",
      "tensorflow 1.15.0\n"
     ]
    }
   ],
   "source": [
    "%matplotlib inline\n",
    "import numpy as np\n",
    "import pandas as pd\n",
    "import matplotlib as mpl\n",
    "import matplotlib.pyplot as plt\n",
    "import sklearn\n",
    "\n",
    "from tensorflow import keras\n",
    "import tensorflow as tf\n",
    "import sys\n",
    "import os\n",
    "import time\n",
    "import datetime\n",
    "\n",
    "for module in [np, pd, mpl, sklearn, keras, tf]:\n",
    "    print(module.__name__, module.__version__)"
   ]
  },
  {
   "cell_type": "markdown",
   "metadata": {},
   "source": [
    "## 2. 获取minist数据集"
   ]
  },
  {
   "cell_type": "code",
   "execution_count": 3,
   "metadata": {},
   "outputs": [
    {
     "name": "stdout",
     "output_type": "stream",
     "text": [
      "WARNING:tensorflow:From <ipython-input-3-00f0d53e5cb9>:5: read_data_sets (from tensorflow.contrib.learn.python.learn.datasets.mnist) is deprecated and will be removed in a future version.\n",
      "Instructions for updating:\n",
      "Please use alternatives such as official/mnist/dataset.py from tensorflow/models.\n",
      "WARNING:tensorflow:From /home/gaosy/environment/tf1.14_py3/lib/python3.6/site-packages/tensorflow_core/contrib/learn/python/learn/datasets/mnist.py:260: maybe_download (from tensorflow.contrib.learn.python.learn.datasets.base) is deprecated and will be removed in a future version.\n",
      "Instructions for updating:\n",
      "Please write your own downloading logic.\n",
      "WARNING:tensorflow:From /home/gaosy/environment/tf1.14_py3/lib/python3.6/site-packages/tensorflow_core/contrib/learn/python/learn/datasets/base.py:252: _internal_retry.<locals>.wrap.<locals>.wrapped_fn (from tensorflow.contrib.learn.python.learn.datasets.base) is deprecated and will be removed in a future version.\n",
      "Instructions for updating:\n",
      "Please use urllib or similar directly.\n",
      "Successfully downloaded train-images-idx3-ubyte.gz 9912422 bytes.\n",
      "WARNING:tensorflow:From /home/gaosy/environment/tf1.14_py3/lib/python3.6/site-packages/tensorflow_core/contrib/learn/python/learn/datasets/mnist.py:262: extract_images (from tensorflow.contrib.learn.python.learn.datasets.mnist) is deprecated and will be removed in a future version.\n",
      "Instructions for updating:\n",
      "Please use tf.data to implement this functionality.\n",
      "Extracting ./data/MNIST_data/train-images-idx3-ubyte.gz\n",
      "Successfully downloaded train-labels-idx1-ubyte.gz 28881 bytes.\n",
      "WARNING:tensorflow:From /home/gaosy/environment/tf1.14_py3/lib/python3.6/site-packages/tensorflow_core/contrib/learn/python/learn/datasets/mnist.py:267: extract_labels (from tensorflow.contrib.learn.python.learn.datasets.mnist) is deprecated and will be removed in a future version.\n",
      "Instructions for updating:\n",
      "Please use tf.data to implement this functionality.\n",
      "Extracting ./data/MNIST_data/train-labels-idx1-ubyte.gz\n",
      "Successfully downloaded t10k-images-idx3-ubyte.gz 1648877 bytes.\n",
      "Extracting ./data/MNIST_data/t10k-images-idx3-ubyte.gz\n",
      "Successfully downloaded t10k-labels-idx1-ubyte.gz 4542 bytes.\n",
      "Extracting ./data/MNIST_data/t10k-labels-idx1-ubyte.gz\n",
      "WARNING:tensorflow:From /home/gaosy/environment/tf1.14_py3/lib/python3.6/site-packages/tensorflow_core/contrib/learn/python/learn/datasets/mnist.py:290: DataSet.__init__ (from tensorflow.contrib.learn.python.learn.datasets.mnist) is deprecated and will be removed in a future version.\n",
      "Instructions for updating:\n",
      "Please use alternatives such as official/mnist/dataset.py from tensorflow/models.\n"
     ]
    }
   ],
   "source": [
    "from tensorflow.examples.tutorials.mnist import input_data\n",
    "\n",
    "tf.logging.set_verbosity(tf.logging.INFO)\n",
    "\n",
    "mnist = input_data.read_data_sets(\"./data/MNIST_data\", one_hot=False)"
   ]
  },
  {
   "cell_type": "markdown",
   "metadata": {},
   "source": [
    "## 3. 定义输入数据格式的feature_columns"
   ]
  },
  {
   "cell_type": "code",
   "execution_count": 5,
   "metadata": {},
   "outputs": [],
   "source": [
    "feature_columns = [tf.feature_column.numeric_column(\"images\", shape=[784])]"
   ]
  },
  {
   "cell_type": "markdown",
   "metadata": {},
   "source": [
    "## 4. tf.estimator.inputs.numpy_input_fn可迭代的数据函数"
   ]
  },
  {
   "cell_type": "code",
   "execution_count": 10,
   "metadata": {},
   "outputs": [],
   "source": [
    "train_data_fn = tf.estimator.inputs.numpy_input_fn(\n",
    "    x={\"images\": mnist.train.images},\n",
    "    y=mnist.train.labels.astype(np.int32),\n",
    "    shuffle=True,\n",
    "    num_epochs=None,\n",
    "    batch_size=32\n",
    ")\n",
    "\n",
    "test_data_fn = tf.estimator.inputs.numpy_input_fn(\n",
    "    x={\"images\": mnist.test.images},\n",
    "    y=mnist.test.labels.astype(np.int32),\n",
    "    shuffle=False,\n",
    "    num_epochs=1,\n",
    "    batch_size=32\n",
    ")"
   ]
  },
  {
   "cell_type": "markdown",
   "metadata": {},
   "source": [
    "## 5. 定义DNNClassifier"
   ]
  },
  {
   "cell_type": "code",
   "execution_count": 11,
   "metadata": {},
   "outputs": [
    {
     "name": "stdout",
     "output_type": "stream",
     "text": [
      "INFO:tensorflow:Using default config.\n",
      "INFO:tensorflow:Using config: {'_model_dir': 'tf1_dnn_classifier_model', '_tf_random_seed': None, '_save_summary_steps': 100, '_save_checkpoints_steps': None, '_save_checkpoints_secs': 600, '_session_config': allow_soft_placement: true\n",
      "graph_options {\n",
      "  rewrite_options {\n",
      "    meta_optimizer_iterations: ONE\n",
      "  }\n",
      "}\n",
      ", '_keep_checkpoint_max': 5, '_keep_checkpoint_every_n_hours': 10000, '_log_step_count_steps': 100, '_train_distribute': None, '_device_fn': None, '_protocol': None, '_eval_distribute': None, '_experimental_distribute': None, '_experimental_max_worker_delay_secs': None, '_session_creation_timeout_secs': 7200, '_service': None, '_cluster_spec': <tensorflow.python.training.server_lib.ClusterSpec object at 0x7ff383017e10>, '_task_type': 'worker', '_task_id': 0, '_global_id_in_cluster': 0, '_master': '', '_evaluation_master': '', '_is_chief': True, '_num_ps_replicas': 0, '_num_worker_replicas': 1}\n"
     ]
    }
   ],
   "source": [
    "output_dir = \"tf1_dnn_classifier_model\"\n",
    "if not os.path.exists(output_dir):\n",
    "    os.mkdir(output_dir)\n",
    "    \n",
    "dnn_estimator = tf.estimator.DNNClassifier(\n",
    "    model_dir=output_dir,\n",
    "    feature_columns=feature_columns,\n",
    "    hidden_units=[100, 100],\n",
    "    n_classes=10,\n",
    "    optimizer=tf.train.AdamOptimizer(1e-3)\n",
    ")"
   ]
  },
  {
   "cell_type": "markdown",
   "metadata": {},
   "source": [
    "## 6. 训练"
   ]
  },
  {
   "cell_type": "code",
   "execution_count": 12,
   "metadata": {},
   "outputs": [
    {
     "name": "stdout",
     "output_type": "stream",
     "text": [
      "WARNING:tensorflow:From /home/gaosy/environment/tf1.14_py3/lib/python3.6/site-packages/tensorflow_core/python/training/training_util.py:236: Variable.initialized_value (from tensorflow.python.ops.variables) is deprecated and will be removed in a future version.\n",
      "Instructions for updating:\n",
      "Use Variable.read_value. Variables in 2.X are initialized automatically both in eager and graph (inside tf.defun) contexts.\n",
      "WARNING:tensorflow:From /home/gaosy/environment/tf1.14_py3/lib/python3.6/site-packages/tensorflow_estimator/python/estimator/inputs/queues/feeding_queue_runner.py:62: QueueRunner.__init__ (from tensorflow.python.training.queue_runner_impl) is deprecated and will be removed in a future version.\n",
      "Instructions for updating:\n",
      "To construct input pipelines, use the `tf.data` module.\n",
      "WARNING:tensorflow:From /home/gaosy/environment/tf1.14_py3/lib/python3.6/site-packages/tensorflow_estimator/python/estimator/inputs/queues/feeding_functions.py:500: add_queue_runner (from tensorflow.python.training.queue_runner_impl) is deprecated and will be removed in a future version.\n",
      "Instructions for updating:\n",
      "To construct input pipelines, use the `tf.data` module.\n",
      "INFO:tensorflow:Calling model_fn.\n",
      "WARNING:tensorflow:From /home/gaosy/environment/tf1.14_py3/lib/python3.6/site-packages/tensorflow_core/python/ops/resource_variable_ops.py:1630: calling BaseResourceVariable.__init__ (from tensorflow.python.ops.resource_variable_ops) with constraint is deprecated and will be removed in a future version.\n",
      "Instructions for updating:\n",
      "If using Keras pass *_constraint arguments to layers.\n",
      "WARNING:tensorflow:From /home/gaosy/environment/tf1.14_py3/lib/python3.6/site-packages/tensorflow_estimator/python/estimator/canned/head.py:437: to_float (from tensorflow.python.ops.math_ops) is deprecated and will be removed in a future version.\n",
      "Instructions for updating:\n",
      "Use `tf.cast` instead.\n",
      "INFO:tensorflow:Done calling model_fn.\n",
      "INFO:tensorflow:Create CheckpointSaverHook.\n",
      "WARNING:tensorflow:From /home/gaosy/environment/tf1.14_py3/lib/python3.6/site-packages/tensorflow_core/python/ops/array_ops.py:1475: where (from tensorflow.python.ops.array_ops) is deprecated and will be removed in a future version.\n",
      "Instructions for updating:\n",
      "Use tf.where in 2.0, which has the same broadcast rule as np.where\n",
      "INFO:tensorflow:Graph was finalized.\n",
      "INFO:tensorflow:Running local_init_op.\n",
      "INFO:tensorflow:Done running local_init_op.\n",
      "WARNING:tensorflow:From /home/gaosy/environment/tf1.14_py3/lib/python3.6/site-packages/tensorflow_core/python/training/monitored_session.py:882: start_queue_runners (from tensorflow.python.training.queue_runner_impl) is deprecated and will be removed in a future version.\n",
      "Instructions for updating:\n",
      "To construct input pipelines, use the `tf.data` module.\n",
      "INFO:tensorflow:Saving checkpoints for 0 into tf1_dnn_classifier_model/model.ckpt.\n",
      "INFO:tensorflow:loss = 74.636185, step = 0\n",
      "INFO:tensorflow:global_step/sec: 471.139\n",
      "INFO:tensorflow:loss = 15.396126, step = 100 (0.213 sec)\n",
      "INFO:tensorflow:global_step/sec: 620.352\n",
      "INFO:tensorflow:loss = 6.9933906, step = 200 (0.161 sec)\n",
      "INFO:tensorflow:global_step/sec: 620.061\n",
      "INFO:tensorflow:loss = 11.962965, step = 300 (0.161 sec)\n",
      "INFO:tensorflow:global_step/sec: 624.374\n",
      "INFO:tensorflow:loss = 4.4782143, step = 400 (0.160 sec)\n",
      "INFO:tensorflow:global_step/sec: 630.869\n",
      "INFO:tensorflow:loss = 7.5715666, step = 500 (0.159 sec)\n",
      "INFO:tensorflow:global_step/sec: 624.691\n",
      "INFO:tensorflow:loss = 3.7634854, step = 600 (0.160 sec)\n",
      "INFO:tensorflow:global_step/sec: 624.068\n",
      "INFO:tensorflow:loss = 2.1599054, step = 700 (0.160 sec)\n",
      "INFO:tensorflow:global_step/sec: 548.276\n",
      "INFO:tensorflow:loss = 7.5182, step = 800 (0.183 sec)\n",
      "INFO:tensorflow:global_step/sec: 548.494\n",
      "INFO:tensorflow:loss = 5.40815, step = 900 (0.182 sec)\n",
      "INFO:tensorflow:global_step/sec: 558.721\n",
      "INFO:tensorflow:loss = 4.0006175, step = 1000 (0.179 sec)\n",
      "INFO:tensorflow:global_step/sec: 553.644\n",
      "INFO:tensorflow:loss = 1.2979313, step = 1100 (0.181 sec)\n",
      "INFO:tensorflow:global_step/sec: 559.121\n",
      "INFO:tensorflow:loss = 3.7243755, step = 1200 (0.179 sec)\n",
      "INFO:tensorflow:global_step/sec: 566.485\n",
      "INFO:tensorflow:loss = 1.4195163, step = 1300 (0.177 sec)\n",
      "INFO:tensorflow:global_step/sec: 560.704\n",
      "INFO:tensorflow:loss = 1.0392036, step = 1400 (0.178 sec)\n",
      "INFO:tensorflow:global_step/sec: 554.812\n",
      "INFO:tensorflow:loss = 0.28711322, step = 1500 (0.180 sec)\n",
      "INFO:tensorflow:global_step/sec: 545.508\n",
      "INFO:tensorflow:loss = 3.3173828, step = 1600 (0.183 sec)\n",
      "INFO:tensorflow:global_step/sec: 554.194\n",
      "INFO:tensorflow:loss = 1.2085278, step = 1700 (0.180 sec)\n",
      "INFO:tensorflow:global_step/sec: 559.879\n",
      "INFO:tensorflow:loss = 4.9397354, step = 1800 (0.179 sec)\n",
      "INFO:tensorflow:global_step/sec: 560.834\n",
      "INFO:tensorflow:loss = 3.963954, step = 1900 (0.178 sec)\n",
      "INFO:tensorflow:global_step/sec: 553.278\n",
      "INFO:tensorflow:loss = 1.150265, step = 2000 (0.181 sec)\n",
      "INFO:tensorflow:global_step/sec: 554.278\n",
      "INFO:tensorflow:loss = 1.7754924, step = 2100 (0.180 sec)\n",
      "INFO:tensorflow:global_step/sec: 550.391\n",
      "INFO:tensorflow:loss = 2.8282764, step = 2200 (0.182 sec)\n",
      "INFO:tensorflow:global_step/sec: 533.904\n",
      "INFO:tensorflow:loss = 1.8390849, step = 2300 (0.188 sec)\n",
      "INFO:tensorflow:global_step/sec: 563.084\n",
      "INFO:tensorflow:loss = 0.8577294, step = 2400 (0.177 sec)\n",
      "INFO:tensorflow:global_step/sec: 552.566\n",
      "INFO:tensorflow:loss = 1.2164079, step = 2500 (0.181 sec)\n",
      "INFO:tensorflow:global_step/sec: 553.164\n",
      "INFO:tensorflow:loss = 17.327496, step = 2600 (0.181 sec)\n",
      "INFO:tensorflow:global_step/sec: 570.88\n",
      "INFO:tensorflow:loss = 5.1377597, step = 2700 (0.175 sec)\n",
      "INFO:tensorflow:global_step/sec: 535.832\n",
      "INFO:tensorflow:loss = 2.136113, step = 2800 (0.187 sec)\n",
      "INFO:tensorflow:global_step/sec: 553.741\n",
      "INFO:tensorflow:loss = 0.950924, step = 2900 (0.180 sec)\n",
      "INFO:tensorflow:global_step/sec: 566.12\n",
      "INFO:tensorflow:loss = 1.2009156, step = 3000 (0.177 sec)\n",
      "INFO:tensorflow:global_step/sec: 564.441\n",
      "INFO:tensorflow:loss = 0.45975015, step = 3100 (0.177 sec)\n",
      "INFO:tensorflow:global_step/sec: 559.508\n",
      "INFO:tensorflow:loss = 11.953944, step = 3200 (0.179 sec)\n",
      "INFO:tensorflow:global_step/sec: 553.826\n",
      "INFO:tensorflow:loss = 1.7980912, step = 3300 (0.181 sec)\n",
      "INFO:tensorflow:global_step/sec: 557.612\n",
      "INFO:tensorflow:loss = 2.300303, step = 3400 (0.179 sec)\n",
      "INFO:tensorflow:global_step/sec: 562.235\n",
      "INFO:tensorflow:loss = 0.6323516, step = 3500 (0.178 sec)\n",
      "INFO:tensorflow:global_step/sec: 553.081\n",
      "INFO:tensorflow:loss = 7.246252, step = 3600 (0.181 sec)\n",
      "INFO:tensorflow:global_step/sec: 559.57\n",
      "INFO:tensorflow:loss = 2.1800404, step = 3700 (0.179 sec)\n",
      "INFO:tensorflow:global_step/sec: 562.28\n",
      "INFO:tensorflow:loss = 4.810141, step = 3800 (0.178 sec)\n",
      "INFO:tensorflow:global_step/sec: 549.562\n",
      "INFO:tensorflow:loss = 4.8364882, step = 3900 (0.182 sec)\n",
      "INFO:tensorflow:global_step/sec: 561.448\n",
      "INFO:tensorflow:loss = 1.1123883, step = 4000 (0.178 sec)\n",
      "INFO:tensorflow:global_step/sec: 552.977\n",
      "INFO:tensorflow:loss = 3.5985994, step = 4100 (0.181 sec)\n",
      "INFO:tensorflow:global_step/sec: 550.416\n",
      "INFO:tensorflow:loss = 0.45164284, step = 4200 (0.182 sec)\n",
      "INFO:tensorflow:global_step/sec: 557.923\n",
      "INFO:tensorflow:loss = 1.7968657, step = 4300 (0.180 sec)\n",
      "INFO:tensorflow:global_step/sec: 558.041\n",
      "INFO:tensorflow:loss = 9.0503845, step = 4400 (0.179 sec)\n",
      "INFO:tensorflow:global_step/sec: 548.459\n",
      "INFO:tensorflow:loss = 1.3445874, step = 4500 (0.182 sec)\n",
      "INFO:tensorflow:global_step/sec: 565.793\n",
      "INFO:tensorflow:loss = 0.3300599, step = 4600 (0.177 sec)\n",
      "INFO:tensorflow:global_step/sec: 561.356\n",
      "INFO:tensorflow:loss = 1.1360861, step = 4700 (0.178 sec)\n",
      "INFO:tensorflow:global_step/sec: 554.123\n",
      "INFO:tensorflow:loss = 6.816427, step = 4800 (0.180 sec)\n",
      "INFO:tensorflow:global_step/sec: 552.36\n",
      "INFO:tensorflow:loss = 1.2564118, step = 4900 (0.181 sec)\n",
      "INFO:tensorflow:global_step/sec: 571.822\n",
      "INFO:tensorflow:loss = 2.4343805, step = 5000 (0.175 sec)\n",
      "INFO:tensorflow:global_step/sec: 553.682\n",
      "INFO:tensorflow:loss = 0.32090634, step = 5100 (0.181 sec)\n",
      "INFO:tensorflow:global_step/sec: 548.781\n",
      "INFO:tensorflow:loss = 5.069085, step = 5200 (0.182 sec)\n",
      "INFO:tensorflow:global_step/sec: 532.933\n",
      "INFO:tensorflow:loss = 0.7991117, step = 5300 (0.188 sec)\n",
      "INFO:tensorflow:global_step/sec: 563.509\n",
      "INFO:tensorflow:loss = 0.043723278, step = 5400 (0.178 sec)\n"
     ]
    },
    {
     "name": "stdout",
     "output_type": "stream",
     "text": [
      "INFO:tensorflow:global_step/sec: 551.244\n",
      "INFO:tensorflow:loss = 1.1769235, step = 5500 (0.181 sec)\n",
      "INFO:tensorflow:global_step/sec: 551.897\n",
      "INFO:tensorflow:loss = 0.14660639, step = 5600 (0.181 sec)\n",
      "INFO:tensorflow:global_step/sec: 563.127\n",
      "INFO:tensorflow:loss = 2.772406, step = 5700 (0.177 sec)\n",
      "INFO:tensorflow:global_step/sec: 558.162\n",
      "INFO:tensorflow:loss = 0.27763742, step = 5800 (0.179 sec)\n",
      "INFO:tensorflow:global_step/sec: 561.376\n",
      "INFO:tensorflow:loss = 0.7231338, step = 5900 (0.178 sec)\n",
      "INFO:tensorflow:global_step/sec: 550.312\n",
      "INFO:tensorflow:loss = 1.1291009, step = 6000 (0.182 sec)\n",
      "INFO:tensorflow:global_step/sec: 550.338\n",
      "INFO:tensorflow:loss = 2.8376348, step = 6100 (0.182 sec)\n",
      "INFO:tensorflow:global_step/sec: 549.618\n",
      "INFO:tensorflow:loss = 0.5390651, step = 6200 (0.182 sec)\n",
      "INFO:tensorflow:global_step/sec: 551.602\n",
      "INFO:tensorflow:loss = 0.04696548, step = 6300 (0.181 sec)\n",
      "INFO:tensorflow:global_step/sec: 553.559\n",
      "INFO:tensorflow:loss = 0.39870483, step = 6400 (0.181 sec)\n",
      "INFO:tensorflow:global_step/sec: 551.011\n",
      "INFO:tensorflow:loss = 0.12829128, step = 6500 (0.183 sec)\n",
      "INFO:tensorflow:global_step/sec: 552.669\n",
      "INFO:tensorflow:loss = 8.766395, step = 6600 (0.179 sec)\n",
      "INFO:tensorflow:global_step/sec: 557.149\n",
      "INFO:tensorflow:loss = 2.5163264, step = 6700 (0.180 sec)\n",
      "INFO:tensorflow:global_step/sec: 566.59\n",
      "INFO:tensorflow:loss = 1.014322, step = 6800 (0.176 sec)\n",
      "INFO:tensorflow:global_step/sec: 543.031\n",
      "INFO:tensorflow:loss = 5.703052, step = 6900 (0.184 sec)\n",
      "INFO:tensorflow:global_step/sec: 563.233\n",
      "INFO:tensorflow:loss = 2.2518206, step = 7000 (0.177 sec)\n",
      "INFO:tensorflow:global_step/sec: 555.996\n",
      "INFO:tensorflow:loss = 0.2855156, step = 7100 (0.180 sec)\n",
      "INFO:tensorflow:global_step/sec: 564.552\n",
      "INFO:tensorflow:loss = 1.015221, step = 7200 (0.177 sec)\n",
      "INFO:tensorflow:global_step/sec: 554.509\n",
      "INFO:tensorflow:loss = 5.461124, step = 7300 (0.180 sec)\n",
      "INFO:tensorflow:global_step/sec: 556.276\n",
      "INFO:tensorflow:loss = 0.30237335, step = 7400 (0.180 sec)\n",
      "INFO:tensorflow:global_step/sec: 558.608\n",
      "INFO:tensorflow:loss = 1.678899, step = 7500 (0.179 sec)\n",
      "INFO:tensorflow:global_step/sec: 557.845\n",
      "INFO:tensorflow:loss = 1.529106, step = 7600 (0.179 sec)\n",
      "INFO:tensorflow:global_step/sec: 558.506\n",
      "INFO:tensorflow:loss = 4.2576394, step = 7700 (0.179 sec)\n",
      "INFO:tensorflow:global_step/sec: 552.142\n",
      "INFO:tensorflow:loss = 0.05827412, step = 7800 (0.181 sec)\n",
      "INFO:tensorflow:global_step/sec: 551.598\n",
      "INFO:tensorflow:loss = 0.2547869, step = 7900 (0.181 sec)\n",
      "INFO:tensorflow:global_step/sec: 562.041\n",
      "INFO:tensorflow:loss = 1.5095644, step = 8000 (0.178 sec)\n",
      "INFO:tensorflow:global_step/sec: 552.598\n",
      "INFO:tensorflow:loss = 0.4848082, step = 8100 (0.181 sec)\n",
      "INFO:tensorflow:global_step/sec: 560.771\n",
      "INFO:tensorflow:loss = 1.3539861, step = 8200 (0.178 sec)\n",
      "INFO:tensorflow:global_step/sec: 564.835\n",
      "INFO:tensorflow:loss = 0.33074152, step = 8300 (0.177 sec)\n",
      "INFO:tensorflow:global_step/sec: 560.97\n",
      "INFO:tensorflow:loss = 0.14844638, step = 8400 (0.178 sec)\n",
      "INFO:tensorflow:global_step/sec: 558.376\n",
      "INFO:tensorflow:loss = 0.12975231, step = 8500 (0.179 sec)\n",
      "INFO:tensorflow:global_step/sec: 567.518\n",
      "INFO:tensorflow:loss = 0.23776264, step = 8600 (0.176 sec)\n",
      "INFO:tensorflow:global_step/sec: 563.423\n",
      "INFO:tensorflow:loss = 0.33046737, step = 8700 (0.178 sec)\n",
      "INFO:tensorflow:global_step/sec: 568.17\n",
      "INFO:tensorflow:loss = 0.08110181, step = 8800 (0.176 sec)\n",
      "INFO:tensorflow:global_step/sec: 552.576\n",
      "INFO:tensorflow:loss = 4.2615013, step = 8900 (0.181 sec)\n",
      "INFO:tensorflow:global_step/sec: 566.521\n",
      "INFO:tensorflow:loss = 0.82936364, step = 9000 (0.177 sec)\n",
      "INFO:tensorflow:global_step/sec: 560.301\n",
      "INFO:tensorflow:loss = 0.09971148, step = 9100 (0.179 sec)\n",
      "INFO:tensorflow:global_step/sec: 549.356\n",
      "INFO:tensorflow:loss = 0.33370307, step = 9200 (0.183 sec)\n",
      "INFO:tensorflow:global_step/sec: 556.637\n",
      "INFO:tensorflow:loss = 0.08484274, step = 9300 (0.179 sec)\n",
      "INFO:tensorflow:global_step/sec: 560.483\n",
      "INFO:tensorflow:loss = 2.890376, step = 9400 (0.178 sec)\n",
      "INFO:tensorflow:global_step/sec: 564.713\n",
      "INFO:tensorflow:loss = 0.88893837, step = 9500 (0.177 sec)\n",
      "INFO:tensorflow:global_step/sec: 558.3\n",
      "INFO:tensorflow:loss = 2.3482516, step = 9600 (0.179 sec)\n",
      "INFO:tensorflow:global_step/sec: 547.77\n",
      "INFO:tensorflow:loss = 0.07018046, step = 9700 (0.183 sec)\n",
      "INFO:tensorflow:global_step/sec: 561.454\n",
      "INFO:tensorflow:loss = 2.378416, step = 9800 (0.178 sec)\n",
      "INFO:tensorflow:global_step/sec: 549.652\n",
      "INFO:tensorflow:loss = 0.72622633, step = 9900 (0.182 sec)\n",
      "INFO:tensorflow:Saving checkpoints for 10000 into tf1_dnn_classifier_model/model.ckpt.\n",
      "INFO:tensorflow:Loss for final step: 1.5040761.\n"
     ]
    },
    {
     "data": {
      "text/plain": [
       "<tensorflow_estimator.python.estimator.canned.dnn.DNNClassifier at 0x7ff382fcafd0>"
      ]
     },
     "execution_count": 12,
     "metadata": {},
     "output_type": "execute_result"
    }
   ],
   "source": [
    "dnn_estimator.train(\n",
    "    input_fn=train_data_fn,\n",
    "    steps=10000\n",
    ")"
   ]
  },
  {
   "cell_type": "markdown",
   "metadata": {},
   "source": [
    "## 7. 测试"
   ]
  },
  {
   "cell_type": "code",
   "execution_count": 13,
   "metadata": {},
   "outputs": [
    {
     "name": "stdout",
     "output_type": "stream",
     "text": [
      "INFO:tensorflow:Calling model_fn.\n",
      "INFO:tensorflow:Done calling model_fn.\n",
      "INFO:tensorflow:Starting evaluation at 2020-01-23T15:42:54Z\n",
      "INFO:tensorflow:Graph was finalized.\n",
      "INFO:tensorflow:Restoring parameters from tf1_dnn_classifier_model/model.ckpt-10000\n",
      "INFO:tensorflow:Running local_init_op.\n",
      "INFO:tensorflow:Done running local_init_op.\n",
      "INFO:tensorflow:Finished evaluation at 2020-01-23-15:42:55\n",
      "INFO:tensorflow:Saving dict for global step 10000: accuracy = 0.9739, average_loss = 0.09918483, global_step = 10000, loss = 3.1688445\n",
      "INFO:tensorflow:Saving 'checkpoint_path' summary for global step 10000: tf1_dnn_classifier_model/model.ckpt-10000\n"
     ]
    }
   ],
   "source": [
    "result = dnn_estimator.evaluate(input_fn=test_data_fn)"
   ]
  },
  {
   "cell_type": "code",
   "execution_count": 14,
   "metadata": {},
   "outputs": [
    {
     "data": {
      "text/plain": [
       "{'accuracy': 0.9739,\n",
       " 'average_loss': 0.09918483,\n",
       " 'loss': 3.1688445,\n",
       " 'global_step': 10000}"
      ]
     },
     "execution_count": 14,
     "metadata": {},
     "output_type": "execute_result"
    }
   ],
   "source": [
    "result"
   ]
  }
 ],
 "metadata": {
  "kernelspec": {
   "display_name": "Python 3",
   "language": "python",
   "name": "python3"
  },
  "language_info": {
   "codemirror_mode": {
    "name": "ipython",
    "version": 3
   },
   "file_extension": ".py",
   "mimetype": "text/x-python",
   "name": "python",
   "nbconvert_exporter": "python",
   "pygments_lexer": "ipython3",
   "version": "3.6.8"
  }
 },
 "nbformat": 4,
 "nbformat_minor": 2
}
