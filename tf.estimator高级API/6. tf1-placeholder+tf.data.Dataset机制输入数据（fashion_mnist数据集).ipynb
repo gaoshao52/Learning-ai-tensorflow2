{
 "cells": [
  {
   "cell_type": "markdown",
   "metadata": {},
   "source": [
    "# 目录\n",
    "### 1. 导入模块\n",
    "### 2. 导入fashion_mnist数据\n",
    "### 3. tf.data.Dataset制作dataset\n",
    "  - `tf.data.Dataset.from_tensor_slices`\n",
    "  - `shuffle`\n",
    "  - `repeat`\n",
    "  - `batch`\n",
    "  \n",
    "### 4. 定义模型（图）\n",
    "  - 定义 features 和labels两个占位符\n",
    "  - 把占位符传给dataset\n",
    "  - 把迭代的数据传给模型\n",
    "  \n",
    "### 5. tf.Seesion 训练\n",
    ">(使用tf.data的缺点：训练的过程中，只能使用同一批数据；如果想要验证的话，只能训练完后再使用验证数据)\n",
    "### 6. 直接获取数据\n",
    "  - placeholder\n",
    "  - make_initializable_iterator\n",
    "  - get_next\n",
    "  - sess.run 初始化dataset\n",
    "  - sess.run 取数据"
   ]
  },
  {
   "cell_type": "markdown",
   "metadata": {},
   "source": [
    "## 1. 导入模块"
   ]
  },
  {
   "cell_type": "code",
   "execution_count": 1,
   "metadata": {},
   "outputs": [
    {
     "name": "stdout",
     "output_type": "stream",
     "text": [
      "numpy 1.17.2\n",
      "pandas 0.25.1\n",
      "matplotlib 3.1.1\n",
      "sklearn 0.21.3\n",
      "tensorflow.python.keras.api._v1.keras 2.2.4-tf\n",
      "tensorflow 1.15.0\n"
     ]
    }
   ],
   "source": [
    "%matplotlib inline\n",
    "import numpy as np\n",
    "import pandas as pd\n",
    "import matplotlib as mpl\n",
    "import matplotlib.pyplot as plt\n",
    "import sklearn\n",
    "\n",
    "from tensorflow import keras\n",
    "import tensorflow as tf\n",
    "import sys\n",
    "import os\n",
    "import time\n",
    "import datetime\n",
    "\n",
    "for module in [np, pd, mpl, sklearn, keras, tf]:\n",
    "    print(module.__name__, module.__version__)"
   ]
  },
  {
   "cell_type": "markdown",
   "metadata": {},
   "source": [
    "## 2. 导入fashion_mnist数据"
   ]
  },
  {
   "cell_type": "code",
   "execution_count": 2,
   "metadata": {},
   "outputs": [
    {
     "name": "stdout",
     "output_type": "stream",
     "text": [
      "(55000, 28, 28) (55000,)\n",
      "(5000, 28, 28) (5000,)\n",
      "(10000, 28, 28) (10000,)\n"
     ]
    }
   ],
   "source": [
    "fashion_mnist = keras.datasets.fashion_mnist\n",
    "\n",
    "(x_train_all, y_train_all), (x_test, y_test) = fashion_mnist.load_data()\n",
    "\n",
    "x_valid, x_train = x_train_all[:5000], x_train_all[5000:]\n",
    "y_valid, y_train = y_train_all[:5000], y_train_all[5000:]\n",
    "\n",
    "print(x_train.shape, y_train.shape)\n",
    "print(x_valid.shape, y_valid.shape)\n",
    "print(x_test.shape, y_test.shape)"
   ]
  },
  {
   "cell_type": "code",
   "execution_count": 3,
   "metadata": {},
   "outputs": [],
   "source": [
    "from sklearn.preprocessing import StandardScaler\n",
    "\n",
    "scaler = StandardScaler()\n",
    "\n",
    "x_train_scaled = scaler.fit_transform(x_train.astype(np.float32).reshape(-1,1)).reshape(-1, 28*28)\n",
    "x_valid_scaled = scaler.transform(x_valid.astype(np.float32).reshape(-1,1)).reshape(-1, 28*28)\n",
    "x_test_scaled = scaler.transform(x_test.astype(np.float32).reshape(-1,1)).reshape(-1, 28*28)"
   ]
  },
  {
   "cell_type": "markdown",
   "metadata": {},
   "source": [
    "## 3. tf.data.Dataset制作dataset"
   ]
  },
  {
   "cell_type": "code",
   "execution_count": 4,
   "metadata": {},
   "outputs": [],
   "source": [
    "def make_dataset(images, labels, shuffle=False, epochs=10, batch_size=32):\n",
    "    dataset = tf.data.Dataset.from_tensor_slices((images, labels))\n",
    "    if shuffle:\n",
    "        dataset = dataset.shuffle(10000)\n",
    "    dataset = dataset.repeat(epochs).batch(batch_size)\n",
    "    return dataset"
   ]
  },
  {
   "cell_type": "markdown",
   "metadata": {},
   "source": [
    "## 4. 定义模型（图）"
   ]
  },
  {
   "cell_type": "code",
   "execution_count": 5,
   "metadata": {},
   "outputs": [
    {
     "name": "stdout",
     "output_type": "stream",
     "text": [
      "WARNING:tensorflow:From <ipython-input-5-c4af650fb89e>:12: DatasetV1.make_initializable_iterator (from tensorflow.python.data.ops.dataset_ops) is deprecated and will be removed in a future version.\n",
      "Instructions for updating:\n",
      "Use `for ... in dataset:` to iterate over a dataset. If using `tf.estimator`, return the `Dataset` object directly from your input function. As a last resort, you can use `tf.compat.v1.data.make_initializable_iterator(dataset)`.\n",
      "WARNING:tensorflow:From <ipython-input-5-c4af650fb89e>:17: dense (from tensorflow.python.layers.core) is deprecated and will be removed in a future version.\n",
      "Instructions for updating:\n",
      "Use keras.layers.Dense instead.\n",
      "WARNING:tensorflow:From /home/gaosy/environment/tf1.14_py3/lib/python3.6/site-packages/tensorflow_core/python/layers/core.py:187: Layer.apply (from tensorflow.python.keras.engine.base_layer) is deprecated and will be removed in a future version.\n",
      "Instructions for updating:\n",
      "Please use `layer.__call__` method instead.\n",
      "WARNING:tensorflow:From /home/gaosy/environment/tf1.14_py3/lib/python3.6/site-packages/tensorflow_core/python/ops/losses/losses_impl.py:121: where (from tensorflow.python.ops.array_ops) is deprecated and will be removed in a future version.\n",
      "Instructions for updating:\n",
      "Use tf.where in 2.0, which has the same broadcast rule as np.where\n"
     ]
    }
   ],
   "source": [
    "# 网络结构\n",
    "hidden_units = [100, 100]\n",
    "class_num = 10\n",
    "\n",
    "epochs = 10\n",
    "batch_size = 32\n",
    "\n",
    "x = tf.placeholder(tf.float32, shape=(None, 28*28))\n",
    "y = tf.placeholder(tf.int64, shape=(None))\n",
    "\n",
    "train_dataset = make_dataset(x, y, shuffle=True, batch_size=batch_size, epochs=epochs)\n",
    "train_dataset_iter = train_dataset.make_initializable_iterator()\n",
    "x_dataset, y_dataset = train_dataset_iter.get_next()\n",
    "\n",
    "input_for_next_layer = x_dataset\n",
    "for hidden_unit in hidden_units:\n",
    "    input_for_next_layer = tf.layers.dense(input_for_next_layer, units=hidden_unit, activation=tf.nn.relu)\n",
    "\n",
    "logits = tf.layers.dense(input_for_next_layer, class_num)\n",
    "\n",
    "# 计算损失\n",
    "loss = tf.losses.sparse_softmax_cross_entropy(labels=y_dataset, logits=logits)\n",
    "\n",
    "# 预测\n",
    "prediction = tf.argmax(logits, axis=1)\n",
    "\n",
    "# 计算准确率\n",
    "correct_prediction = tf.equal(prediction, y_dataset)\n",
    "accuracy = tf.reduce_mean(tf.cast(correct_prediction, tf.float32))\n",
    "\n",
    "# 训练操作\n",
    "train_op = tf.train.AdamOptimizer(1e-3).minimize(loss)"
   ]
  },
  {
   "cell_type": "markdown",
   "metadata": {},
   "source": [
    "## 5. tf.Seesion 训练"
   ]
  },
  {
   "cell_type": "code",
   "execution_count": 6,
   "metadata": {},
   "outputs": [
    {
     "name": "stdout",
     "output_type": "stream",
     "text": [
      "[train] epoch: 0, loss: 0.22728, acc: 0.94\n",
      "[train] epoch: 1, loss: 0.57262, acc: 0.75\n",
      "[train] epoch: 2, loss: 0.54824, acc: 0.88\n",
      "[train] epoch: 3, loss: 0.25395, acc: 0.94\n",
      "[train] epoch: 4, loss: 0.55037, acc: 0.84\n",
      "[train] epoch: 5, loss: 0.22819, acc: 0.94\n",
      "[train] epoch: 6, loss: 0.11044, acc: 0.97\n",
      "[train] epoch: 7, loss: 0.17002, acc: 0.88\n",
      "[train] epoch: 8, loss: 0.27831, acc: 0.88\n",
      "[train] epoch: 9, loss: 0.35195, acc: 0.91\n"
     ]
    }
   ],
   "source": [
    "init = tf.global_variables_initializer()\n",
    "\n",
    "train_step_per_epoch = 1718\n",
    "\n",
    "\n",
    "with tf.Session() as sess:\n",
    "    sess.run(init)\n",
    "    # dataset 初始化\n",
    "    sess.run(train_dataset_iter.initializer, feed_dict={x: x_train_scaled, y: y_train})\n",
    "    \n",
    "    for epoch in range(epochs):\n",
    "        for step in range(train_step_per_epoch):\n",
    "            # 推理和反向传播\n",
    "            loss_value, prediction_value, accuracy_value, _ = sess.run(\n",
    "                [loss, prediction, accuracy, train_op]\n",
    "            )\n",
    "            print(\"\\r[train] epoch: {}, loss: {:.5f}, acc: {:.2f}\".format(epoch, loss_value, accuracy_value), end=\"\")\n",
    "        print()\n",
    "            \n"
   ]
  },
  {
   "cell_type": "markdown",
   "metadata": {},
   "source": [
    "## 6. 直接获取数据"
   ]
  },
  {
   "cell_type": "code",
   "execution_count": 7,
   "metadata": {},
   "outputs": [
    {
     "name": "stdout",
     "output_type": "stream",
     "text": [
      "[[-0.8105136 -0.8105136 -0.8105136 ... -0.8105136 -0.8105136 -0.8105136]\n",
      " [-0.8105136 -0.8105136 -0.8105136 ... -0.8105136 -0.8105136 -0.8105136]\n",
      " [-0.8105136 -0.8105136 -0.8105136 ... -0.8105136 -0.8105136 -0.8105136]\n",
      " [-0.8105136 -0.8105136 -0.8105136 ... -0.8105136 -0.8105136 -0.8105136]\n",
      " [-0.8105136 -0.8105136 -0.8105136 ... -0.8105136 -0.8105136 -0.8105136]]\n",
      "[9 2 1 1 6]\n",
      "[[-0.8105136 -0.8105136 -0.8105136 ... -0.8105136 -0.8105136 -0.8105136]\n",
      " [-0.8105136 -0.8105136 -0.8105136 ... -0.8105136 -0.8105136 -0.8105136]\n",
      " [-0.8105136 -0.8105136 -0.8105136 ... -0.8105136 -0.8105136 -0.8105136]\n",
      " [-0.8105136 -0.8105136 -0.8105136 ... -0.8105136 -0.8105136 -0.8105136]\n",
      " [-0.8105136 -0.8105136 -0.8105136 ... -0.8105136 -0.8105136 -0.8105136]]\n",
      "[4 0 7 9 9]\n",
      "[[-0.8105136 -0.8105136 -0.8105136 ... -0.8105136 -0.8105136 -0.8105136]\n",
      " [-0.8105136 -0.8105136 -0.8105136 ... -0.8105136 -0.8105136 -0.8105136]\n",
      " [-0.8105136 -0.8105136 -0.8105136 ... -0.8105136 -0.8105136 -0.8105136]\n",
      " [-0.8105136 -0.8105136 -0.8105136 ... -0.8105136 -0.8105136 -0.8105136]\n",
      " [-0.8105136 -0.8105136 -0.8105136 ... -0.8105136 -0.8105136 -0.8105136]]\n",
      "[4 0 7 9 9]\n",
      "[[-0.8105136 -0.8105136 -0.8105136 ... -0.8105136 -0.8105136 -0.8105136]\n",
      " [-0.8105136 -0.8105136 -0.8105136 ... -0.8105136 -0.8105136 -0.8105136]\n",
      " [-0.8105136 -0.8105136 -0.8105136 ... -0.8105136 -0.8105136 -0.8105136]\n",
      " [-0.8105136 -0.8105136 -0.8105136 ... -0.8105136 -0.8105136 -0.8105136]\n",
      " [-0.8105136 -0.8105136 -0.8105136 ... -0.8105136 -0.8105136 -0.8105136]]\n",
      "[9 4 4 3 4]\n",
      "======\n",
      "[[-0.8105136 -0.8105136 -0.8105136 ... -0.8105136 -0.8105136 -0.8105136]\n",
      " [-0.8105136 -0.8105136 -0.8105136 ... -0.8105136 -0.8105136 -0.8105136]\n",
      " [-0.8105136 -0.8105136 -0.8105136 ... -0.7216146 -0.7771765 -0.8105136]\n",
      " [-0.8105136 -0.8105136 -0.8105136 ... -0.8105136 -0.8105136 -0.8105136]\n",
      " [-0.8105136 -0.8105136 -0.8105136 ... -0.8105136 -0.8105136 -0.8105136]]\n",
      "[0 1 8 6 3]\n"
     ]
    }
   ],
   "source": [
    "# placeholoder\n",
    "x = tf.placeholder(tf.float32, shape=(None, 28*28))\n",
    "y = tf.placeholder(tf.int64, shape=(None))\n",
    "\n",
    "# placeholoder --> dataset\n",
    "dataset = make_dataset(x, y, shuffle=False, batch_size=5)\n",
    "dataset_iter = dataset.make_initializable_iterator()\n",
    "x_dataset, y_dataset = dataset_iter.get_next()\n",
    "\n",
    "# 1. run 初始化 2. run 取数据\n",
    "with tf.Session() as sess:\n",
    "    sess.run(dataset_iter.initializer, feed_dict={x: x_test_scaled, y: y_test})\n",
    "    x_value_test, y_value_test = sess.run([x_dataset, y_dataset])\n",
    "    print(x_value_test)\n",
    "    print(y_value_test)\n",
    "    \n",
    "    sess.run(dataset_iter.initializer, feed_dict={x: x_train_scaled, y: y_train})\n",
    "    x_value_train, y_value_train = sess.run([x_dataset, y_dataset])\n",
    "    print(x_value_train)\n",
    "    print(y_value_train)\n",
    "    \n",
    "    sess.run(dataset_iter.initializer, feed_dict={x: x_train_scaled, y: y_train})\n",
    "    x_value_train2, y_value_train2 = sess.run([x_dataset, y_dataset])\n",
    "    print(x_value_train2)\n",
    "    print(y_value_train2)\n",
    "    \n",
    "    x_value_train, y_value_train = sess.run([x_dataset, y_dataset])\n",
    "    print(x_value_train)\n",
    "    print(y_value_train)\n",
    "    \n",
    "    print(\"======\")\n",
    "    x_value_train2, y_value_train2 = sess.run([x_dataset, y_dataset])\n",
    "    print(x_value_train2)\n",
    "    print(y_value_train2)\n",
    "    "
   ]
  },
  {
   "cell_type": "code",
   "execution_count": null,
   "metadata": {},
   "outputs": [],
   "source": []
  },
  {
   "cell_type": "code",
   "execution_count": null,
   "metadata": {},
   "outputs": [],
   "source": []
  }
 ],
 "metadata": {
  "kernelspec": {
   "display_name": "Python 3",
   "language": "python",
   "name": "python3"
  },
  "language_info": {
   "codemirror_mode": {
    "name": "ipython",
    "version": 3
   },
   "file_extension": ".py",
   "mimetype": "text/x-python",
   "name": "python",
   "nbconvert_exporter": "python",
   "pygments_lexer": "ipython3",
   "version": "3.6.8"
  }
 },
 "nbformat": 4,
 "nbformat_minor": 2
}
