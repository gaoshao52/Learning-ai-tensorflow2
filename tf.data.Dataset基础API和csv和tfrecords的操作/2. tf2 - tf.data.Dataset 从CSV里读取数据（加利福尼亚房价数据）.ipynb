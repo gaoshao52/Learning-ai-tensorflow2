{
 "cells": [
  {
   "cell_type": "markdown",
   "metadata": {},
   "source": [
    "# 目录\n",
    "## 1. 导入模块\n",
    "## 2. 导入加利福尼亚房价数据，并写入CSV\n",
    "## 3. dataset读取CSV文件数据\n",
    "### 3.1 tf.data.Dataset.list_files 分装文件名列表\n",
    "  - `tf.data.Dataset.list_files`\n",
    "  - `tf.data.Dataset.from_tensor_slices`\n",
    "  \n",
    "### 3.2 interleave (tf.data.TextLineDataset) 读取文件列表的数据\n",
    "  - `interleave`\n",
    "  - `tf.data.TextLineDataset` 和 `skip`\n",
    "\n",
    "### 3.3 tf.io.decode_csv解析字符串数据\n",
    "  - `tf.io.decode_csv`\n",
    "\n",
    "### 3.4 合起来封装成一个函数\n",
    "  - `tf.data.Dataset.list_files`\n",
    "  - `tf.data.Dataset.from_tensor_slices`\n",
    "  - `interleave`\n",
    "  - `tf.data.TextLineDataset` 和 `skip`\n",
    "  - `tf.io.decode_csv`\n",
    "  - `tf.stack`\n",
    "  - `map`\n",
    "  - `shuffle`\n",
    "  - `repeat`\n",
    "  - `batch`\n",
    "\n",
    "### 3.5 生成train valid test 的dataset\n",
    "## 4. 使用dataset 训练、测试"
   ]
  },
  {
   "cell_type": "markdown",
   "metadata": {},
   "source": [
    "## 1. 导入模块"
   ]
  },
  {
   "cell_type": "code",
   "execution_count": 1,
   "metadata": {},
   "outputs": [
    {
     "name": "stdout",
     "output_type": "stream",
     "text": [
      "numpy 1.18.1\n",
      "pandas 0.25.3\n",
      "matplotlib 3.1.2\n",
      "sklearn 0.22.1\n",
      "tensorflow_core.python.keras.api._v2.keras 2.2.4-tf\n",
      "tensorflow 2.1.0\n"
     ]
    }
   ],
   "source": [
    "%matplotlib inline\n",
    "import numpy as np\n",
    "import pandas as pd\n",
    "import matplotlib as mpl\n",
    "import matplotlib.pyplot as plt\n",
    "import sklearn\n",
    "\n",
    "from tensorflow import keras\n",
    "import tensorflow as tf\n",
    "import sys\n",
    "import os\n",
    "import time\n",
    "import datetime\n",
    "\n",
    "for module in [np, pd, mpl, sklearn, keras, tf]:\n",
    "    print(module.__name__, module.__version__)"
   ]
  },
  {
   "cell_type": "markdown",
   "metadata": {},
   "source": [
    "## 2. 导入加利福尼亚房价数据，并写入CSV"
   ]
  },
  {
   "cell_type": "code",
   "execution_count": 2,
   "metadata": {},
   "outputs": [
    {
     "name": "stdout",
     "output_type": "stream",
     "text": [
      "(11610, 8) (11610,)\n",
      "(3870, 8) (3870,)\n",
      "(5160, 8) (5160,)\n"
     ]
    }
   ],
   "source": [
    "from sklearn.datasets import fetch_california_housing\n",
    "from sklearn.model_selection import train_test_split\n",
    "\n",
    "housing = fetch_california_housing()\n",
    "\n",
    "x_train_all, x_test, y_train_all, y_test = train_test_split(housing.data, housing.target, random_state=1234)\n",
    "x_train, x_valid, y_train, y_valid = train_test_split(x_train_all, y_train_all, random_state=1234)\n",
    "\n",
    "print(x_train.shape, y_train.shape)\n",
    "print(x_valid.shape, y_valid.shape)\n",
    "print(x_test.shape, y_test.shape)\n",
    "\n",
    "from sklearn.preprocessing import StandardScaler\n",
    "\n",
    "scaler = StandardScaler()\n",
    "\n",
    "x_train = scaler.fit_transform(x_train)\n",
    "x_valid = scaler.transform(x_valid)\n",
    "x_test = scaler.transform(x_test)"
   ]
  },
  {
   "cell_type": "code",
   "execution_count": 3,
   "metadata": {},
   "outputs": [],
   "source": [
    "output_dir = \"generate_csv\"\n",
    "if not os.path.exists(output_dir):\n",
    "    os.mkdir(output_dir)\n",
    "    \n",
    "def save_to_csv(output_dir, data, name_prefix, headers=None, n_parts=10):\n",
    "    path_format = os.path.join(output_dir, \"{}_{:02d}.csv\")\n",
    "    file_names = []\n",
    "    \n",
    "    for file_index, row_indices in enumerate(np.array_split(np.arange(len(data)), n_parts)):\n",
    "        part_file = path_format.format(name_prefix, file_index)\n",
    "        file_names.append(part_file)\n",
    "        \n",
    "        with open(part_file, \"wt\", encoding=\"utf-8\") as f:\n",
    "            if headers is not None:\n",
    "                f.write(headers+\"\\n\")\n",
    "            for row_index in row_indices:\n",
    "                data_str = \",\".join([repr(col) for col in data[row_index]])\n",
    "                f.write(data_str + \"\\n\")\n",
    "                \n",
    "    return file_names\n",
    "            \n",
    "train_data = np.c_[x_train, y_train]\n",
    "valid_data = np.c_[x_valid, y_valid]\n",
    "test_data = np.c_[x_test, y_test]\n",
    "header_str = \",\".join(housing.feature_names + [\"MidianHouseValue\"])\n",
    "\n",
    "train_filenames = save_to_csv(output_dir, train_data, \"train\", headers=header_str, n_parts=20)\n",
    "valid_filenames = save_to_csv(output_dir, valid_data, \"valid\", headers=header_str, n_parts=10)\n",
    "test_filenames = save_to_csv(output_dir, test_data, \"test\", headers=header_str, n_parts=10)\n"
   ]
  },
  {
   "cell_type": "markdown",
   "metadata": {},
   "source": [
    "## 3. dataset读取CSV文件数据\n",
    "> 1. tf.data.Dataset.list_files 分装文件名列表<br/>\n",
    "2. interleave (tf.data.TextLineDataset) 读取文件列表的数据<br/>\n",
    "3. tf.io.decode_csv 解析数据\n"
   ]
  },
  {
   "cell_type": "markdown",
   "metadata": {},
   "source": [
    "### 3.1 tf.data.Dataset.list_files 分装文件名列表"
   ]
  },
  {
   "cell_type": "code",
   "execution_count": 4,
   "metadata": {},
   "outputs": [
    {
     "name": "stdout",
     "output_type": "stream",
     "text": [
      "tf.Tensor(b'generate_csv/train_07.csv', shape=(), dtype=string)\n",
      "tf.Tensor(b'generate_csv/train_03.csv', shape=(), dtype=string)\n",
      "tf.Tensor(b'generate_csv/train_17.csv', shape=(), dtype=string)\n",
      "tf.Tensor(b'generate_csv/train_02.csv', shape=(), dtype=string)\n",
      "tf.Tensor(b'generate_csv/train_10.csv', shape=(), dtype=string)\n"
     ]
    }
   ],
   "source": [
    "filenames_dataset = tf.data.Dataset.list_files(train_filenames)\n",
    "for filename in filenames_dataset.take(5):\n",
    "    print(filename)"
   ]
  },
  {
   "cell_type": "code",
   "execution_count": 15,
   "metadata": {},
   "outputs": [
    {
     "name": "stdout",
     "output_type": "stream",
     "text": [
      "tf.Tensor(b'generate_csv/train_00.csv', shape=(), dtype=string)\n",
      "tf.Tensor(b'generate_csv/train_01.csv', shape=(), dtype=string)\n",
      "tf.Tensor(b'generate_csv/train_02.csv', shape=(), dtype=string)\n",
      "tf.Tensor(b'generate_csv/train_03.csv', shape=(), dtype=string)\n",
      "tf.Tensor(b'generate_csv/train_04.csv', shape=(), dtype=string)\n"
     ]
    }
   ],
   "source": [
    "filenames_dataset = tf.data.Dataset.from_tensor_slices(train_filenames)\n",
    "for filename in filenames_dataset.take(5):\n",
    "    print(filename)"
   ]
  },
  {
   "cell_type": "markdown",
   "metadata": {},
   "source": [
    ">目前所知， `tf.data.Dataset.from_tensor_slices` 和 `tf.data.Dataset.list_files` 的效果一样"
   ]
  },
  {
   "cell_type": "markdown",
   "metadata": {},
   "source": [
    "### 3.2 interleave (tf.data.TextLineDataset) 读取文件列表的数据"
   ]
  },
  {
   "cell_type": "code",
   "execution_count": 5,
   "metadata": {},
   "outputs": [
    {
     "name": "stdout",
     "output_type": "stream",
     "text": [
      "tf.Tensor(b'0.5902555211727188,-1.0047716525188841,0.21699232000464558,-0.12981269476922802,-0.8572437318334718,-0.0321533002773346,1.5783419299912835,-0.7683382058137005,1.923', shape=(), dtype=string)\n",
      "tf.Tensor(b'1.7098603165469446,-0.28425041904670467,1.0304884304939064,-0.15087509238871963,0.1922770273226248,6.041362108085698e-05,-0.8738403492849366,0.7601019943019404,2.949', shape=(), dtype=string)\n",
      "tf.Tensor(b'0.13032274828980675,-0.6845399931979155,0.08409426834023241,-0.33923810587324865,-0.23015977197991858,0.02396275063956827,-1.126546156691264,1.1596942034825073,1.625', shape=(), dtype=string)\n",
      "tf.Tensor(b'1.545255545502697,-1.0047716525188841,0.6293517735071292,-0.1617293906834496,2.2256061546322004,-0.009899126784783673,-0.5790169073108862,0.505361960949337,3.233', shape=(), dtype=string)\n"
     ]
    }
   ],
   "source": [
    "raw_dataset = filenames_dataset.interleave(\n",
    "    lambda filename: tf.data.TextLineDataset(filename).skip(1), # skip 跳过CSV文件的header\n",
    "    cycle_length=5\n",
    ")\n",
    "\n",
    "for raw_item in raw_dataset.take(4):\n",
    "    print(raw_item)"
   ]
  },
  {
   "cell_type": "markdown",
   "metadata": {},
   "source": [
    "### 3.3 tf.io.decode_csv解析字符串数据"
   ]
  },
  {
   "cell_type": "code",
   "execution_count": 6,
   "metadata": {},
   "outputs": [
    {
     "name": "stdout",
     "output_type": "stream",
     "text": [
      "[<tf.Tensor: shape=(), dtype=int32, numpy=1>, <tf.Tensor: shape=(), dtype=int32, numpy=2>, <tf.Tensor: shape=(), dtype=float32, numpy=3.0>, <tf.Tensor: shape=(), dtype=string, numpy=b'4'>, <tf.Tensor: shape=(), dtype=float32, numpy=5.0>, <tf.Tensor: shape=(), dtype=float32, numpy=6.0>]\n"
     ]
    }
   ],
   "source": [
    "# tf.io.decode_csv(str, record_defaults)\n",
    "test_str = \"1,2,3,4,5,6\"\n",
    "record_defaults = [tf.constant(0, dtype=tf.int32), 0, np.nan, \"hi\", tf.constant([]), 1.0]\n",
    "\n",
    "parsed_fields = tf.io.decode_csv(test_str, record_defaults) # 按照 record_defaults 的对应的数据类型解析 test_str\n",
    "\n",
    "print(parsed_fields)"
   ]
  },
  {
   "cell_type": "markdown",
   "metadata": {},
   "source": [
    "### 3.4 合起来封装成一个函数"
   ]
  },
  {
   "cell_type": "code",
   "execution_count": 7,
   "metadata": {},
   "outputs": [],
   "source": [
    "def csv_reader_dataset(filenames, n_readers=5, n_fields=9, n_threads=5, epochs=None, batch_size=32, shuffle=True):\n",
    "\n",
    "    # 1. dataset 分装文件列表\n",
    "    filenames_dataset = tf.data.Dataset.from_tensor_slices(filenames)\n",
    "    # filenames_dataset = tf.data.Dataset.list_files(filenames)\n",
    "    \n",
    "    # 2. interleave 根据文件名 读取文件数据\n",
    "    raw_dataset = filenames_dataset.interleave( # interleave 下面函数返回的元素，组合成一个dataset\n",
    "        lambda filename: tf.data.TextLineDataset(filename).skip(1),\n",
    "        cycle_length=n_readers\n",
    "    )\n",
    "    \n",
    "    # 3. 使用map 和 tf.io.decode_csv 对应解析\n",
    "    def parse_csv_line(line, n_fields):\n",
    "        default_fields = [tf.constant(np.nan)]* n_fields\n",
    "        parsed_line = tf.io.decode_csv(line, default_fields) # 解析出来的是一个列表，列表的元素是一个0维的tensor\n",
    "\n",
    "        # tf.stack 把 parsed_line 转化为一个向量tensor\n",
    "        x = tf.stack(parsed_line[:-1])\n",
    "        y = tf.stack(parsed_line[-1:])\n",
    "\n",
    "        return x, y\n",
    "    \n",
    "    dataset = raw_dataset.map(  # map 不改变dataset的元素数量，只改变元素的数据结构\n",
    "        map_func=lambda line: parse_csv_line(line, n_fields),\n",
    "        num_parallel_calls=n_threads\n",
    "    )\n",
    "    \n",
    "    # 4. shuffle repeat batch\n",
    "    if shuffle:\n",
    "        dataset = dataset.shuffle(10000)\n",
    "    dataset = dataset.repeat(epochs).batch(batch_size)\n",
    "    \n",
    "    return dataset"
   ]
  },
  {
   "cell_type": "code",
   "execution_count": 8,
   "metadata": {},
   "outputs": [
    {
     "name": "stdout",
     "output_type": "stream",
     "text": [
      "tf.Tensor(\n",
      "[[-0.9824953   1.8773133   0.03170636  0.09444513 -0.3681558   0.01779718\n",
      "  -0.76152664  0.63023454]\n",
      " [-1.1782669  -0.2842504   0.40971473  1.4811543  -1.0487484  -0.05024404\n",
      "   2.4066553  -1.857227  ]\n",
      " [-1.0428973  -1.0047717  -0.46401903 -0.13675326  1.558156    0.1401103\n",
      "   0.02466919  0.17070349]\n",
      " [ 1.4205359   0.276155    0.48176667 -0.13708918 -0.3644008  -0.0439072\n",
      "  -0.7662064   0.5852804 ]], shape=(4, 8), dtype=float32)\n",
      "tf.Tensor(\n",
      "[[1.28 ]\n",
      " [0.792]\n",
      " [0.552]\n",
      " [3.692]], shape=(4, 1), dtype=float32)\n"
     ]
    }
   ],
   "source": [
    "dataset = csv_reader_dataset(train_filenames, n_readers=5, n_fields=9, n_threads=1, epochs=1, batch_size=4, shuffle=True)\n",
    "for x, y in dataset.take(1):\n",
    "    print(x)\n",
    "    print(y)"
   ]
  },
  {
   "cell_type": "markdown",
   "metadata": {},
   "source": [
    "### 3.5 生成train  valid  test 的dataset"
   ]
  },
  {
   "cell_type": "code",
   "execution_count": 9,
   "metadata": {},
   "outputs": [],
   "source": [
    "batch_size = 32\n",
    "epochs = 100\n",
    "\n",
    "train_dataset = csv_reader_dataset(train_filenames, n_readers=5, n_fields=9, n_threads=5, epochs=None, batch_size=batch_size, shuffle=True)\n",
    "valid_dataset = csv_reader_dataset(valid_filenames, n_readers=5, n_fields=9, n_threads=5, epochs=1, batch_size=32, shuffle=False)\n",
    "test_dataset = csv_reader_dataset(test_filenames, n_readers=5, n_fields=9, n_threads=5, epochs=1, batch_size=32, shuffle=False)"
   ]
  },
  {
   "cell_type": "markdown",
   "metadata": {},
   "source": [
    "## 4. 使用dataset 训练、测试"
   ]
  },
  {
   "cell_type": "code",
   "execution_count": 10,
   "metadata": {},
   "outputs": [],
   "source": [
    "model = keras.models.Sequential([\n",
    "    keras.layers.Dense(100, input_shape=[8], activation=\"relu\"),\n",
    "    keras.layers.Dense(100, activation=\"relu\"),\n",
    "    keras.layers.Dense(1)\n",
    "])\n",
    "\n",
    "model.compile(loss=\"mean_squared_error\", optimizer=\"sgd\")"
   ]
  },
  {
   "cell_type": "code",
   "execution_count": 11,
   "metadata": {},
   "outputs": [
    {
     "name": "stdout",
     "output_type": "stream",
     "text": [
      "Train for 362 steps, validate for 120 steps\n",
      "Epoch 1/100\n",
      "362/362 [==============================] - 1s 4ms/step - loss: 0.7297 - val_loss: 0.6342\n",
      "Epoch 2/100\n",
      "362/362 [==============================] - 1s 2ms/step - loss: 0.8922 - val_loss: 0.5401\n",
      "Epoch 3/100\n",
      "362/362 [==============================] - 1s 2ms/step - loss: 0.4830 - val_loss: 0.5984\n",
      "Epoch 4/100\n",
      "362/362 [==============================] - 1s 2ms/step - loss: 0.5133 - val_loss: 0.6793\n",
      "Epoch 5/100\n",
      "362/362 [==============================] - 1s 2ms/step - loss: 0.5260 - val_loss: 0.4166\n",
      "Epoch 6/100\n",
      "362/362 [==============================] - 1s 2ms/step - loss: 0.3897 - val_loss: 0.4076\n",
      "Epoch 7/100\n",
      "362/362 [==============================] - 1s 2ms/step - loss: 0.3997 - val_loss: 0.3986\n",
      "Epoch 8/100\n",
      "362/362 [==============================] - 1s 2ms/step - loss: 0.3649 - val_loss: 0.3676\n",
      "Epoch 9/100\n",
      "362/362 [==============================] - 1s 2ms/step - loss: 0.3557 - val_loss: 0.3655\n",
      "Epoch 10/100\n",
      "362/362 [==============================] - 1s 2ms/step - loss: 0.3507 - val_loss: 0.3527\n",
      "Epoch 11/100\n",
      "362/362 [==============================] - 1s 2ms/step - loss: 0.3469 - val_loss: 0.3616\n",
      "Epoch 12/100\n",
      "362/362 [==============================] - 1s 2ms/step - loss: 0.3382 - val_loss: 0.3801\n",
      "Epoch 13/100\n",
      "362/362 [==============================] - 1s 2ms/step - loss: 0.3359 - val_loss: 0.3437\n",
      "Epoch 14/100\n",
      "362/362 [==============================] - 1s 2ms/step - loss: 0.3304 - val_loss: 0.3468\n",
      "Epoch 15/100\n",
      "362/362 [==============================] - 1s 2ms/step - loss: 0.3289 - val_loss: 0.3400\n",
      "Epoch 16/100\n",
      "362/362 [==============================] - 1s 2ms/step - loss: 0.3290 - val_loss: 0.3329\n",
      "Epoch 17/100\n",
      "362/362 [==============================] - 1s 2ms/step - loss: 0.3197 - val_loss: 0.3380\n",
      "Epoch 18/100\n",
      "362/362 [==============================] - 1s 2ms/step - loss: 0.3212 - val_loss: 0.3274\n",
      "Epoch 19/100\n",
      "362/362 [==============================] - 1s 2ms/step - loss: 0.3162 - val_loss: 0.3226\n",
      "Epoch 20/100\n",
      "362/362 [==============================] - 1s 2ms/step - loss: 0.3107 - val_loss: 0.3361\n",
      "Epoch 21/100\n",
      "362/362 [==============================] - 1s 2ms/step - loss: 0.3137 - val_loss: 0.3196\n",
      "Epoch 22/100\n",
      "362/362 [==============================] - 1s 2ms/step - loss: 0.3095 - val_loss: 0.3213\n",
      "Epoch 23/100\n",
      "362/362 [==============================] - 1s 2ms/step - loss: 0.3094 - val_loss: 0.3212\n",
      "Epoch 24/100\n",
      "362/362 [==============================] - 1s 2ms/step - loss: 0.3053 - val_loss: 0.3288\n",
      "Epoch 25/100\n",
      "362/362 [==============================] - 1s 2ms/step - loss: 0.2992 - val_loss: 0.3204\n",
      "Epoch 26/100\n",
      "362/362 [==============================] - 1s 2ms/step - loss: 0.3029 - val_loss: 0.3062\n",
      "Epoch 27/100\n",
      "362/362 [==============================] - 1s 2ms/step - loss: 0.2990 - val_loss: 0.3248\n",
      "Epoch 28/100\n",
      "362/362 [==============================] - 1s 2ms/step - loss: 0.2962 - val_loss: 0.3283\n",
      "Epoch 29/100\n",
      "362/362 [==============================] - 1s 2ms/step - loss: 0.2948 - val_loss: 0.3250\n",
      "Epoch 30/100\n",
      "362/362 [==============================] - 1s 2ms/step - loss: 0.2925 - val_loss: 0.3083\n",
      "Epoch 31/100\n",
      "362/362 [==============================] - 1s 2ms/step - loss: 0.2899 - val_loss: 0.3014\n",
      "Epoch 32/100\n",
      "362/362 [==============================] - 1s 2ms/step - loss: 0.2961 - val_loss: 0.3189\n",
      "Epoch 33/100\n",
      "362/362 [==============================] - 1s 2ms/step - loss: 0.2858 - val_loss: 0.3118\n",
      "Epoch 34/100\n",
      "362/362 [==============================] - 1s 2ms/step - loss: 0.2874 - val_loss: 0.3000\n",
      "Epoch 35/100\n",
      "362/362 [==============================] - 1s 2ms/step - loss: 0.2917 - val_loss: 0.2976\n",
      "Epoch 36/100\n",
      "362/362 [==============================] - 1s 2ms/step - loss: 0.2854 - val_loss: 0.2976\n",
      "Epoch 37/100\n",
      "362/362 [==============================] - 1s 2ms/step - loss: 0.2876 - val_loss: 0.3131\n",
      "Epoch 38/100\n",
      "362/362 [==============================] - 1s 2ms/step - loss: 0.2752 - val_loss: 0.2960\n",
      "Epoch 39/100\n",
      "362/362 [==============================] - 1s 2ms/step - loss: 0.2840 - val_loss: 0.3086\n",
      "Epoch 40/100\n",
      "362/362 [==============================] - 1s 2ms/step - loss: 0.2797 - val_loss: 0.2971\n",
      "Epoch 41/100\n",
      "362/362 [==============================] - 1s 2ms/step - loss: 0.2780 - val_loss: 0.3012\n",
      "Epoch 42/100\n",
      "362/362 [==============================] - 1s 2ms/step - loss: 0.2771 - val_loss: 0.2922\n",
      "Epoch 43/100\n",
      "362/362 [==============================] - 1s 2ms/step - loss: 0.2784 - val_loss: 0.2981\n",
      "Epoch 44/100\n",
      "362/362 [==============================] - 1s 2ms/step - loss: 0.2773 - val_loss: 0.2952\n",
      "Epoch 45/100\n",
      "362/362 [==============================] - 1s 2ms/step - loss: 0.2765 - val_loss: 0.2924\n",
      "Epoch 46/100\n",
      "362/362 [==============================] - 1s 2ms/step - loss: 0.2717 - val_loss: 0.2968\n",
      "Epoch 47/100\n",
      "362/362 [==============================] - 1s 2ms/step - loss: 0.2753 - val_loss: 0.2941\n",
      "Epoch 48/100\n",
      "362/362 [==============================] - 1s 2ms/step - loss: 0.2738 - val_loss: 0.2972\n",
      "Epoch 49/100\n",
      "362/362 [==============================] - 1s 2ms/step - loss: 0.2688 - val_loss: 0.2941\n",
      "Epoch 50/100\n",
      "362/362 [==============================] - 1s 2ms/step - loss: 0.2730 - val_loss: 0.2918\n",
      "Epoch 51/100\n",
      "362/362 [==============================] - 1s 2ms/step - loss: 0.2726 - val_loss: 0.3097\n",
      "Epoch 52/100\n",
      "362/362 [==============================] - 1s 2ms/step - loss: 0.2713 - val_loss: 0.2838\n",
      "Epoch 53/100\n",
      "362/362 [==============================] - 1s 2ms/step - loss: 0.2694 - val_loss: 0.2867\n",
      "Epoch 54/100\n",
      "362/362 [==============================] - 1s 2ms/step - loss: 0.2683 - val_loss: 0.2915\n",
      "Epoch 55/100\n",
      "362/362 [==============================] - 1s 2ms/step - loss: 0.2699 - val_loss: 0.3018\n",
      "Epoch 56/100\n",
      "362/362 [==============================] - 1s 2ms/step - loss: 0.2641 - val_loss: 0.2932\n",
      "Epoch 57/100\n",
      "362/362 [==============================] - 1s 2ms/step - loss: 0.2677 - val_loss: 0.2857\n",
      "Epoch 58/100\n",
      "362/362 [==============================] - 1s 2ms/step - loss: 0.2663 - val_loss: 0.2876\n",
      "Epoch 59/100\n",
      "362/362 [==============================] - 1s 2ms/step - loss: 0.2674 - val_loss: 0.2908\n",
      "Epoch 60/100\n",
      "362/362 [==============================] - 1s 2ms/step - loss: 0.2685 - val_loss: 0.2849\n",
      "Epoch 61/100\n",
      "362/362 [==============================] - 1s 2ms/step - loss: 0.2616 - val_loss: 0.2981\n",
      "Epoch 62/100\n",
      "362/362 [==============================] - 1s 2ms/step - loss: 0.2645 - val_loss: 0.2881\n",
      "Epoch 63/100\n",
      "362/362 [==============================] - 1s 2ms/step - loss: 0.2644 - val_loss: 0.3014\n",
      "Epoch 64/100\n",
      "362/362 [==============================] - 1s 2ms/step - loss: 0.2570 - val_loss: 0.2856\n",
      "Epoch 65/100\n",
      "362/362 [==============================] - 1s 2ms/step - loss: 0.2644 - val_loss: 0.3013\n",
      "Epoch 66/100\n",
      "362/362 [==============================] - 1s 2ms/step - loss: 0.2631 - val_loss: 0.2828\n",
      "Epoch 67/100\n",
      "362/362 [==============================] - 1s 2ms/step - loss: 0.2603 - val_loss: 0.2847\n",
      "Epoch 68/100\n",
      "362/362 [==============================] - 1s 2ms/step - loss: 0.2638 - val_loss: 0.2875\n",
      "Epoch 69/100\n",
      "362/362 [==============================] - 1s 2ms/step - loss: 0.2562 - val_loss: 0.2911\n",
      "Epoch 70/100\n",
      "362/362 [==============================] - 1s 2ms/step - loss: 0.2558 - val_loss: 0.2830\n",
      "Epoch 71/100\n",
      "362/362 [==============================] - 1s 2ms/step - loss: 0.2551 - val_loss: 0.2821\n",
      "Epoch 72/100\n",
      "362/362 [==============================] - 1s 2ms/step - loss: 0.2611 - val_loss: 0.2931\n",
      "Epoch 73/100\n",
      "362/362 [==============================] - 1s 2ms/step - loss: 0.2521 - val_loss: 0.2852\n",
      "Epoch 74/100\n",
      "362/362 [==============================] - 1s 2ms/step - loss: 0.2571 - val_loss: 0.2987\n",
      "Epoch 75/100\n",
      "362/362 [==============================] - 1s 2ms/step - loss: 0.2546 - val_loss: 0.2840\n",
      "Epoch 76/100\n",
      "362/362 [==============================] - 1s 2ms/step - loss: 0.2583 - val_loss: 0.2874\n",
      "Epoch 77/100\n",
      "362/362 [==============================] - 1s 2ms/step - loss: 0.2538 - val_loss: 0.2797\n",
      "Epoch 78/100\n",
      "362/362 [==============================] - 1s 2ms/step - loss: 0.2517 - val_loss: 0.2803\n",
      "Epoch 79/100\n",
      "362/362 [==============================] - 1s 2ms/step - loss: 0.2517 - val_loss: 0.2925\n",
      "Epoch 80/100\n",
      "362/362 [==============================] - 1s 2ms/step - loss: 0.2555 - val_loss: 0.2840\n"
     ]
    },
    {
     "name": "stdout",
     "output_type": "stream",
     "text": [
      "Epoch 81/100\n",
      "362/362 [==============================] - 1s 2ms/step - loss: 0.2497 - val_loss: 0.3047\n",
      "Epoch 82/100\n",
      "362/362 [==============================] - 1s 2ms/step - loss: 0.2589 - val_loss: 0.2918\n",
      "Epoch 83/100\n",
      "362/362 [==============================] - 1s 2ms/step - loss: 0.2470 - val_loss: 0.2884\n",
      "Epoch 84/100\n",
      "362/362 [==============================] - 1s 2ms/step - loss: 0.2506 - val_loss: 0.2852\n",
      "Epoch 85/100\n",
      "362/362 [==============================] - 1s 2ms/step - loss: 0.2545 - val_loss: 0.2811\n",
      "Epoch 86/100\n",
      "362/362 [==============================] - 1s 2ms/step - loss: 0.2441 - val_loss: 0.2765\n",
      "Epoch 87/100\n",
      "362/362 [==============================] - 1s 2ms/step - loss: 0.2528 - val_loss: 0.2800\n",
      "Epoch 88/100\n",
      "362/362 [==============================] - 1s 2ms/step - loss: 0.2521 - val_loss: 0.2790\n",
      "Epoch 89/100\n",
      "362/362 [==============================] - 1s 2ms/step - loss: 0.2480 - val_loss: 0.2817\n",
      "Epoch 90/100\n",
      "362/362 [==============================] - 1s 2ms/step - loss: 0.2449 - val_loss: 0.2729\n",
      "Epoch 91/100\n",
      "362/362 [==============================] - 1s 2ms/step - loss: 0.2522 - val_loss: 0.2868\n",
      "Epoch 92/100\n",
      "362/362 [==============================] - 1s 2ms/step - loss: 0.2399 - val_loss: 0.2774\n",
      "Epoch 93/100\n",
      "362/362 [==============================] - 1s 2ms/step - loss: 0.2484 - val_loss: 0.2767\n",
      "Epoch 94/100\n",
      "362/362 [==============================] - 1s 2ms/step - loss: 0.2533 - val_loss: 0.2841\n",
      "Epoch 95/100\n",
      "362/362 [==============================] - 1s 2ms/step - loss: 0.2422 - val_loss: 0.2807\n",
      "Epoch 96/100\n",
      "362/362 [==============================] - 1s 2ms/step - loss: 0.2487 - val_loss: 0.2820\n",
      "Epoch 97/100\n",
      "362/362 [==============================] - 1s 2ms/step - loss: 0.2452 - val_loss: 0.2771\n",
      "Epoch 98/100\n",
      "362/362 [==============================] - 1s 2ms/step - loss: 0.2442 - val_loss: 0.2765\n",
      "Epoch 99/100\n",
      "362/362 [==============================] - 1s 2ms/step - loss: 0.2450 - val_loss: 0.2749\n",
      "Epoch 100/100\n",
      "362/362 [==============================] - 1s 2ms/step - loss: 0.2377 - val_loss: 0.2752\n"
     ]
    },
    {
     "data": {
      "text/plain": [
       "<tensorflow.python.keras.callbacks.History at 0x7f59dc5c2278>"
      ]
     },
     "execution_count": 11,
     "metadata": {},
     "output_type": "execute_result"
    }
   ],
   "source": [
    "model.fit(\n",
    "    train_dataset, \n",
    "    validation_data=valid_dataset, \n",
    "    steps_per_epoch=len(x_train)//batch_size, \n",
    "    validation_steps=len(x_valid)//batch_size, \n",
    "    epochs=epochs\n",
    ")"
   ]
  },
  {
   "cell_type": "code",
   "execution_count": 14,
   "metadata": {},
   "outputs": [
    {
     "name": "stdout",
     "output_type": "stream",
     "text": [
      "    162/Unknown - 0s 2ms/step - loss: 0.2858"
     ]
    },
    {
     "data": {
      "text/plain": [
       "0.28575366818242603"
      ]
     },
     "execution_count": 14,
     "metadata": {},
     "output_type": "execute_result"
    }
   ],
   "source": [
    "model.evaluate(test_dataset)"
   ]
  },
  {
   "cell_type": "code",
   "execution_count": null,
   "metadata": {},
   "outputs": [],
   "source": []
  },
  {
   "cell_type": "code",
   "execution_count": null,
   "metadata": {},
   "outputs": [],
   "source": []
  }
 ],
 "metadata": {
  "kernelspec": {
   "display_name": "Python 3",
   "language": "python",
   "name": "python3"
  },
  "language_info": {
   "codemirror_mode": {
    "name": "ipython",
    "version": 3
   },
   "file_extension": ".py",
   "mimetype": "text/x-python",
   "name": "python",
   "nbconvert_exporter": "python",
   "pygments_lexer": "ipython3",
   "version": "3.6.8"
  }
 },
 "nbformat": 4,
 "nbformat_minor": 2
}
