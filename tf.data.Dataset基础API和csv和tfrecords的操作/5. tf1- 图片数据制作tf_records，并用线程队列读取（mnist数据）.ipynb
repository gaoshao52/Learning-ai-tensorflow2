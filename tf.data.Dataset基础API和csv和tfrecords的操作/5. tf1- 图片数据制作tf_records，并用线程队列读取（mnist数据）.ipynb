{
 "cells": [
  {
   "cell_type": "markdown",
   "metadata": {},
   "source": [
    "# 目录\n",
    "## 1. 模块导入\n",
    "## 2. 获取mnist数据集\n",
    "## 3. 写入mnist到tfrecords\n",
    "  - `tf.python_io.TFRecordWriter`\n",
    "  - `tf.train.Example`\n",
    "  - `tf.train.Features`\n",
    "  - `tf.train.Feature`\n",
    "  - `tf.train.BytesList`\n",
    "  - `tf.train.Int64List`\n",
    "  - `SerializeToString`\n",
    "  \n",
    "## 4. 读取tfrecords（单一读取，批量读取）\n",
    "  - `tf.TFRecordReader`\n",
    "  - `tf.train.string_input_producer`\n",
    "  - `read`\n",
    "  - `tf.io.FixedLenFeature`\n",
    "  - `tf.io.parse_single_example`\n",
    "  - `tf.decode_raw`\n",
    "  - `tf.train.shuffle_batch`\n",
    "  - `tf.train.batch`\n",
    "  - `tf.train.Coordinator`\n",
    "  - `tf.train.start_queue_runners`\n",
    "  - `request_stop`\n",
    "  - `join`"
   ]
  },
  {
   "cell_type": "markdown",
   "metadata": {},
   "source": [
    "## 1. 模块导入"
   ]
  },
  {
   "cell_type": "code",
   "execution_count": 1,
   "metadata": {},
   "outputs": [
    {
     "name": "stdout",
     "output_type": "stream",
     "text": [
      "numpy 1.17.2\n",
      "pandas 0.25.1\n",
      "matplotlib 3.1.1\n",
      "sklearn 0.21.3\n",
      "tensorflow.python.keras.api._v1.keras 2.2.4-tf\n",
      "tensorflow 1.15.0\n"
     ]
    }
   ],
   "source": [
    "%matplotlib inline\n",
    "import numpy as np\n",
    "import pandas as pd\n",
    "import matplotlib as mpl\n",
    "import matplotlib.pyplot as plt\n",
    "import sklearn\n",
    "\n",
    "from tensorflow import keras\n",
    "import tensorflow as tf\n",
    "import sys\n",
    "import os\n",
    "import time\n",
    "import datetime\n",
    "\n",
    "for module in [np, pd, mpl, sklearn, keras, tf]:\n",
    "    print(module.__name__, module.__version__)"
   ]
  },
  {
   "cell_type": "markdown",
   "metadata": {},
   "source": [
    "## 2. 获取mnist数据集"
   ]
  },
  {
   "cell_type": "code",
   "execution_count": 29,
   "metadata": {},
   "outputs": [
    {
     "name": "stdout",
     "output_type": "stream",
     "text": [
      "Extracting tf1_data/MNIST_data/train-images-idx3-ubyte.gz\n",
      "Extracting tf1_data/MNIST_data/train-labels-idx1-ubyte.gz\n",
      "Extracting tf1_data/MNIST_data/t10k-images-idx3-ubyte.gz\n",
      "Extracting tf1_data/MNIST_data/t10k-labels-idx1-ubyte.gz\n"
     ]
    }
   ],
   "source": [
    "from tensorflow.examples.tutorials.mnist import input_data\n",
    "\n",
    "output_dir = \"tf1_data\"\n",
    "if not os.path.exists(output_dir):\n",
    "    os.mkdir(output_dir)\n",
    "\n",
    "mnist = input_data.read_data_sets(\"tf1_data/MNIST_data\", dtype=tf.uint8, one_hot=False)"
   ]
  },
  {
   "cell_type": "markdown",
   "metadata": {},
   "source": [
    "## 3. 写入mnist到tfrecords"
   ]
  },
  {
   "cell_type": "code",
   "execution_count": 7,
   "metadata": {},
   "outputs": [],
   "source": [
    "def mnist_to_tfrecords(images, labels, save_dir, name_prefix):\n",
    "    filename_fullpath = os.path.join(save_dir, name_prefix+\".tfrecords\")\n",
    "    with tf.python_io.TFRecordWriter(filename_fullpath) as writer:\n",
    "        for image, label in zip(images, labels):\n",
    "            example = tf.train.Example(\n",
    "                features=tf.train.Features(\n",
    "                    feature={\n",
    "                        \"image\": tf.train.Feature(bytes_list=tf.train.BytesList(value=[image.tostring()])),\n",
    "                        \"label\": tf.train.Feature(int64_list=tf.train.Int64List(value=[label]))\n",
    "                    }\n",
    "                )\n",
    "            )\n",
    "            serialized_example = example.SerializeToString()\n",
    "            writer.write(serialized_example)\n",
    "    return filename_fullpath            "
   ]
  },
  {
   "cell_type": "code",
   "execution_count": 8,
   "metadata": {},
   "outputs": [
    {
     "name": "stdout",
     "output_type": "stream",
     "text": [
      "tf1_data/train.tfrecords\n",
      "tf1_data/valid.tfrecords\n",
      "tf1_data/test.tfrecords\n"
     ]
    }
   ],
   "source": [
    "train_filename = mnist_to_tfrecords(mnist.train.images, mnist.train.labels, \"tf1_data\", \"train\")\n",
    "valid_filename = mnist_to_tfrecords(mnist.validation.images, mnist.validation.labels, \"tf1_data\", \"valid\")\n",
    "test_filename = mnist_to_tfrecords(mnist.test.images, mnist.test.labels, \"tf1_data\", \"test\")\n",
    "\n",
    "print(train_filename)\n",
    "print(valid_filename)\n",
    "print(test_filename)"
   ]
  },
  {
   "cell_type": "markdown",
   "metadata": {},
   "source": [
    "## 4. 读取tfrecords（单一读取，批量读取）"
   ]
  },
  {
   "cell_type": "code",
   "execution_count": 26,
   "metadata": {},
   "outputs": [],
   "source": [
    "def mnist_tfrecords_single_reader(filename, epochs=None):\n",
    "    '''\n",
    "    filename: 是一个文件名列表\n",
    "    '''\n",
    "    # 实例化一个读取对象\n",
    "    reader = tf.TFRecordReader()\n",
    "    \n",
    "    # 把文件名列表放入队列\n",
    "    filename_queue = tf.train.string_input_producer(filename, shuffle=False, num_epochs=epochs)\n",
    "    \n",
    "    # 读取一个序列化的example\n",
    "    _,serialized_example = reader.read(filename_queue)\n",
    "    \n",
    "    # 解析example， 方法跟tf2 一样\n",
    "    expect_features = {\n",
    "        \"image\": tf.io.FixedLenFeature([1], tf.string),\n",
    "        \"label\": tf.io.FixedLenFeature([1], tf.int64)\n",
    "    }\n",
    "    \n",
    "    example = tf.io.parse_single_example(serialized_example, expect_features) # 是一个字典\n",
    "    \n",
    "    # 解析图片数组\n",
    "    image = tf.decode_raw(example[\"image\"],tf.uint8)\n",
    "    image = tf.reshape(image, shape=[784])\n",
    "    \n",
    "    # 解析label\n",
    "    label = example[\"label\"]\n",
    "    label = label[0]\n",
    "    \n",
    "    return image, label\n",
    "\n",
    "def mnist_tfrecords_batch_reader(filename, batch_size=32, shuffle=True, epochs=None):\n",
    "     '''\n",
    "    filename: 是一个文件名列表\n",
    "    '''\n",
    "    # 实例化一个读取对象\n",
    "    reader = tf.TFRecordReader()\n",
    "    \n",
    "    # 把文件名列表放入队列\n",
    "    filename_queue = tf.train.string_input_producer(filename, shuffle=False, num_epochs=epochs)\n",
    "    \n",
    "    # 读取一个序列化的example\n",
    "    _,serialized_example = reader.read(filename_queue)\n",
    "    \n",
    "    # 解析example， 方法跟tf2 一样\n",
    "    expect_features = {\n",
    "        \"image\": tf.io.FixedLenFeature([1], tf.string),\n",
    "        \"label\": tf.io.FixedLenFeature([1], tf.int64)\n",
    "    }\n",
    "    \n",
    "    example = tf.io.parse_single_example(serialized_example, expect_features)\n",
    "    \n",
    "    # 解析图片数组\n",
    "    image = tf.decode_raw(example[\"image\"],tf.uint8)\n",
    "    image = tf.reshape(image, shape=[784])\n",
    "    \n",
    "    # 解析label\n",
    "    label = example[\"label\"]\n",
    "    label = label[0]\n",
    "    \n",
    "    # 封装batch\n",
    "    if shuffle:\n",
    "        image_batch, label_batch = tf.train.shuffle_batch([image, label], \n",
    "                                                          batch_size=batch_size, \n",
    "                                                          capacity=5000+3*batch_size, \n",
    "                                                          min_after_dequeue=100)\n",
    "    else:\n",
    "        image_batch, label_batch = tf.train.batch([image, label], batch_size=batch_size, capacity=5000+3*batch_size)\n",
    "    \n",
    "    return image_batch, label_batch"
   ]
  },
  {
   "cell_type": "code",
   "execution_count": 27,
   "metadata": {},
   "outputs": [
    {
     "name": "stdout",
     "output_type": "stream",
     "text": [
      "7\n",
      "(784,)\n",
      "3\n",
      "(784,)\n"
     ]
    }
   ],
   "source": [
    "image, label = mnist_tfrecords_single_reader([train_filename])\n",
    "with tf.Session() as sess:\n",
    "    \n",
    "    # 启动线程\n",
    "    coordinator = tf.train.Coordinator()\n",
    "    threads = tf.train.start_queue_runners(sess=sess, coord=coordinator)\n",
    "\n",
    "    # 读取数据\n",
    "    for i in range(2):\n",
    "        image_value, label_value= sess.run([image, label])\n",
    "        print(label_value)\n",
    "        print(image_value.shape)\n",
    "    \n",
    "    # 结束线程\n",
    "    coordinator.request_stop()\n",
    "    coordinator.join(threads)"
   ]
  },
  {
   "cell_type": "code",
   "execution_count": 28,
   "metadata": {},
   "outputs": [
    {
     "name": "stdout",
     "output_type": "stream",
     "text": [
      "[4 8 9]\n",
      "(3, 784)\n",
      "[3 0 4]\n",
      "(3, 784)\n"
     ]
    }
   ],
   "source": [
    "image_batch, label_batch = mnist_tfrecords_batch_reader([train_filename], batch_size=3)\n",
    "with tf.Session() as sess:\n",
    "    \n",
    "    # 启动线程\n",
    "    coordinator = tf.train.Coordinator()\n",
    "    threads = tf.train.start_queue_runners(sess=sess, coord=coordinator)\n",
    "    \n",
    "    # 读取数据\n",
    "    for i in range(2):\n",
    "        image_value, label_value= sess.run([image_batch, label_batch])\n",
    "        print(label_value)\n",
    "        print(image_value.shape)\n",
    "    \n",
    "    # 结束线程\n",
    "    coordinator.request_stop()\n",
    "    coordinator.join(threads)"
   ]
  },
  {
   "cell_type": "code",
   "execution_count": null,
   "metadata": {},
   "outputs": [],
   "source": []
  }
 ],
 "metadata": {
  "kernelspec": {
   "display_name": "Python 3",
   "language": "python",
   "name": "python3"
  },
  "language_info": {
   "codemirror_mode": {
    "name": "ipython",
    "version": 3
   },
   "file_extension": ".py",
   "mimetype": "text/x-python",
   "name": "python",
   "nbconvert_exporter": "python",
   "pygments_lexer": "ipython3",
   "version": "3.6.8"
  }
 },
 "nbformat": 4,
 "nbformat_minor": 2
}
