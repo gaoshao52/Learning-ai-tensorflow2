{
 "cells": [
  {
   "cell_type": "markdown",
   "metadata": {},
   "source": [
    "# 目录\n",
    "## 1. 导入模块\n",
    "## 2. 制作tf_records的基础API及步骤\n",
    "  - `tf.train.Example`\n",
    "  - `tf.train.features`\n",
    "  - `tf.train.feature`\n",
    "  - `tf.train.BytesList`\n",
    "  - `tf.train.FloatList`\n",
    "  - `tf.train.Int64List`\n",
    "  - `SerializeToString`\n",
    "  - `tf.io.TFRecordWriter`\n",
    "  \n",
    "## 3. 读取tfrecords的API（步骤）\n",
    "  - `tf.data.TFRecordDataset`\n",
    "  - `tf.io.VarLenFeature`\n",
    "  - `tf.io.FixedLenFeature`\n",
    "  - `tf.io.parse_single_example`\n",
    "  - `tf.sparse.to_dense`\n",
    "  \n",
    "## 4. 压缩tfrecord\n",
    "### 4.1 制作压缩文件\n",
    "  - `tf.train.Example`\n",
    "  - `tf.train.features`\n",
    "  - `tf.train.feature`\n",
    "  - `tf.train.BytesList`\n",
    "  - `tf.train.FloatList`\n",
    "  - `tf.train.Int64List`\n",
    "  - `SerializeToString`\n",
    "  - `tf.io.TFRecordOptions` 参数 `compression_type=\"GZIP\"\n",
    "  - `tf.io.TFRecordWriter` 多传一个参数`options`\n",
    "\n",
    "### 4.2 读取压缩文件\n",
    "  - `tf.data.TFRecordDataset` 多传一个参数 `compression_type=\"GZIP\"`\n",
    "  - `tf.io.VarLenFeature`\n",
    "  - `tf.io.FixedLenFeature`\n",
    "  - `tf.io.parse_single_example`\n",
    "  - `tf.sparse.to_dense`"
   ]
  },
  {
   "cell_type": "markdown",
   "metadata": {},
   "source": [
    "## 1. 导入模块"
   ]
  },
  {
   "cell_type": "code",
   "execution_count": 1,
   "metadata": {},
   "outputs": [
    {
     "name": "stdout",
     "output_type": "stream",
     "text": [
      "numpy 1.18.1\n",
      "pandas 0.25.3\n",
      "matplotlib 3.1.2\n",
      "sklearn 0.22.1\n",
      "tensorflow_core.python.keras.api._v2.keras 2.2.4-tf\n",
      "tensorflow 2.1.0\n"
     ]
    }
   ],
   "source": [
    "%matplotlib inline\n",
    "import numpy as np\n",
    "import pandas as pd\n",
    "import matplotlib as mpl\n",
    "import matplotlib.pyplot as plt\n",
    "import sklearn\n",
    "\n",
    "from tensorflow import keras\n",
    "import tensorflow as tf\n",
    "import sys\n",
    "import os\n",
    "import time\n",
    "import datetime\n",
    "\n",
    "for module in [np, pd, mpl, sklearn, keras, tf]:\n",
    "    print(module.__name__, module.__version__)"
   ]
  },
  {
   "cell_type": "markdown",
   "metadata": {},
   "source": [
    "## 2. 制作tf_records的基础API及步骤\n",
    ">数据结构<br/>\n",
    "`tf.train.Example` <br/>\n",
    "`tf.train.features` ---> {\"key\": `tf.train.Feature`}<br/>\n",
    "`tf.train.feature` ---> `tf.train.BytesList` / `tf.train.FloatList` / `tf.train.Int64List`"
   ]
  },
  {
   "cell_type": "code",
   "execution_count": 3,
   "metadata": {},
   "outputs": [
    {
     "name": "stdout",
     "output_type": "stream",
     "text": [
      "value: \"machine learning\"\n",
      "value: \"deep learning\"\n",
      "\n",
      "value: 45.400001525878906\n",
      "value: 45.79999923706055\n",
      "value: 78.44999694824219\n",
      "value: 78.0\n",
      "\n",
      "value: 32\n",
      "\n"
     ]
    }
   ],
   "source": [
    "## tf.train.BytesList / tf.train.FloatList / tf.train.Int64List\n",
    "\n",
    "favorite_book = [name.encode(\"utf-8\") for name in [\"machine learning\", \"deep learning\"]]\n",
    "favorite_book_byteslist = tf.train.BytesList(value=favorite_book)\n",
    "print(favorite_book_byteslist)\n",
    "\n",
    "hours_floatlist = tf.train.FloatList(value=[45.4, 45.8, 78.45, 78.0])\n",
    "print(hours_floatlist)\n",
    "\n",
    "age_int64list = tf.train.Int64List(value=[32])\n",
    "print(age_int64list)\n",
    "\n",
    "# tf.train.Feature \n",
    "feature = {\n",
    "    \"favorite_book\": tf.train.Feature(bytes_list=favorite_book_byteslist),\n",
    "    \"hours\": tf.train.Feature(float_list=hours_floatlist),\n",
    "    \"age\": tf.train.Feature(int64_list=age_int64list)\n",
    "}\n",
    "\n",
    "#  tf.train.Features\n",
    "features = tf.train.Features(feature=feature)\n",
    "\n",
    "# tf.train.Examples\n",
    "example = tf.train.Example(features=features)\n",
    "\n",
    "###########一气呵成，一起写#########\n",
    "\"\"\"\n",
    "example = tf.train.Example(\n",
    "    features=tf.train.Features(\n",
    "        feature={\n",
    "            \"favorite_book\": tf.train.Feature(bytes_list=tf.train.BytesList(value=favorite_book)),\n",
    "            \"hours\": tf.train.Feature(float_list=tf.train.FloatList(value=[45.4, 45.8, 78.45, 78.0])),\n",
    "            \"age\": tf.train.Feature(int64_list=tf.train.Int64List(value=[32]))\n",
    "        }\n",
    "    )\n",
    ")\n",
    "\n",
    "\"\"\"\n",
    "\n",
    "# serialized example\n",
    "serialized_example = example.SerializeToString()\n",
    "\n",
    "\n",
    "# 写入文件\n",
    "output_dir = \"tfrecords_basic\"\n",
    "if not os.path.exists(output_dir):\n",
    "    os.mkdir(output_dir)\n",
    "\n",
    "filename = \"test.tfrecords\"\n",
    "filename_fullpath = os.path.join(output_dir, filename)\n",
    "\n",
    "with tf.io.TFRecordWriter(filename_fullpath) as writer:\n",
    "    for _ in range(3):\n",
    "        writer.write(serialized_example)"
   ]
  },
  {
   "cell_type": "markdown",
   "metadata": {},
   "source": [
    "## 3. 读取tfrecords的API（步骤）\n",
    "> 读取方法跟csv的差不多<br/>\n",
    "1. `tf.data.TFRecordDataset` 读取文件名，返回一个dataset <br/>\n",
    "2. 遍历 dataset，遍历的元素 使用`tf.io.parse_single_example`"
   ]
  },
  {
   "cell_type": "code",
   "execution_count": 12,
   "metadata": {},
   "outputs": [
    {
     "name": "stdout",
     "output_type": "stream",
     "text": [
      "{'favorite_book': <tensorflow.python.framework.sparse_tensor.SparseTensor object at 0x7f5390093198>, 'hours': <tensorflow.python.framework.sparse_tensor.SparseTensor object at 0x7f53900939e8>, 'age': <tf.Tensor: shape=(), dtype=int64, numpy=32>}\n",
      "[b'machine learning' b'deep learning']\n",
      "[45.4  45.8  78.45 78.  ]\n",
      "32\n",
      "{'favorite_book': <tensorflow.python.framework.sparse_tensor.SparseTensor object at 0x7f53900931d0>, 'hours': <tensorflow.python.framework.sparse_tensor.SparseTensor object at 0x7f539008dd30>, 'age': <tf.Tensor: shape=(), dtype=int64, numpy=32>}\n",
      "[b'machine learning' b'deep learning']\n",
      "[45.4  45.8  78.45 78.  ]\n",
      "32\n",
      "{'favorite_book': <tensorflow.python.framework.sparse_tensor.SparseTensor object at 0x7f5390093198>, 'hours': <tensorflow.python.framework.sparse_tensor.SparseTensor object at 0x7f539008d2b0>, 'age': <tf.Tensor: shape=(), dtype=int64, numpy=32>}\n",
      "[b'machine learning' b'deep learning']\n",
      "[45.4  45.8  78.45 78.  ]\n",
      "32\n"
     ]
    }
   ],
   "source": [
    "# 根据 tfrecord的名字，返回一个 dataset\n",
    "dataset = tf.data.TFRecordDataset([filename_fullpath])\n",
    "\n",
    "# 遍历dataset, 并解析\n",
    "expected_features = {\n",
    "    \"favorite_book\": tf.io.VarLenFeature(dtype=tf.string), # value 的list，元素的长度不固定\n",
    "    \"hours\": tf.io.VarLenFeature(dtype=tf.float32),\n",
    "    \"age\": tf.io.FixedLenFeature([], dtype=tf.int64) # value 的list，元素的长度固定\n",
    "}\n",
    "\n",
    "for serialized_example in dataset:\n",
    "    example = tf.io.parse_single_example(serialized_example, expected_features)\n",
    "    \n",
    "    print(example)\n",
    "    \n",
    "    # favorite_book 是SparseTensor类型的，就要用 tf.sparse.to_dense 解析\n",
    "    favorite_book = tf.sparse.to_dense(example[\"favorite_book\"], default_value=b\"\")\n",
    "    print(favorite_book.numpy())\n",
    "    \n",
    "    hours = tf.sparse.to_dense(example[\"hours\"], default_value=0.0)\n",
    "    print(hours.numpy())\n",
    "    \n",
    "    age = example[\"age\"]\n",
    "    print(age.numpy())"
   ]
  },
  {
   "cell_type": "markdown",
   "metadata": {},
   "source": [
    "## 4. 压缩tfrecord"
   ]
  },
  {
   "cell_type": "markdown",
   "metadata": {},
   "source": [
    "### 4.1 制作压缩文件\n",
    ">`options = tf.io.TFRecordOptions(compression_type=\"GZIP\")`<br/>\n",
    "`with tf.io.TFRecordWriter(filename_fullpath_zip, options) as writer:`\n",
    "\n",
    "写操作多了一个`option`,其它都一样"
   ]
  },
  {
   "cell_type": "code",
   "execution_count": 15,
   "metadata": {},
   "outputs": [],
   "source": [
    "favorite_book = [name.encode(\"utf-8\") for name in [\"machine learning\", \"deep learning\"]]\n",
    "\n",
    "example = tf.train.Example(\n",
    "    features=tf.train.Features(\n",
    "        feature={\n",
    "            \"favorite_book\": tf.train.Feature(bytes_list=tf.train.BytesList(value=favorite_book)),\n",
    "            \"hours\": tf.train.Feature(float_list=tf.train.FloatList(value=[45.4, 45.8, 78.45, 78.0])),\n",
    "            \"age\": tf.train.Feature(int64_list=tf.train.Int64List(value=[32]))\n",
    "        }\n",
    "    )\n",
    ")\n",
    "\n",
    "serialized_example = example.SerializeToString()\n",
    "\n",
    "filename_fullpath_zip = filename_fullpath+\".zip\"\n",
    "\n",
    "options = tf.io.TFRecordOptions(compression_type=\"GZIP\")\n",
    "with tf.io.TFRecordWriter(filename_fullpath_zip, options) as writer:\n",
    "    for _ in range(3):\n",
    "        writer.write(serialized_example)"
   ]
  },
  {
   "cell_type": "markdown",
   "metadata": {},
   "source": [
    "### 4.2 读取压缩文件\n",
    ">`tf.data.TFRecordDataset([filename_fullpath_zip], compression_type=\"GZIP\")`<br/>\n",
    "多了一个`compression_type=\"GZIP\"` 参数，其它都一样"
   ]
  },
  {
   "cell_type": "code",
   "execution_count": 17,
   "metadata": {},
   "outputs": [
    {
     "name": "stdout",
     "output_type": "stream",
     "text": [
      "{'favorite_book': <tensorflow.python.framework.sparse_tensor.SparseTensor object at 0x7f5334632c50>, 'hours': <tensorflow.python.framework.sparse_tensor.SparseTensor object at 0x7f53346320f0>, 'age': <tf.Tensor: shape=(), dtype=int64, numpy=32>}\n",
      "[b'machine learning' b'deep learning']\n",
      "[45.4  45.8  78.45 78.  ]\n",
      "32\n",
      "{'favorite_book': <tensorflow.python.framework.sparse_tensor.SparseTensor object at 0x7f5334632d30>, 'hours': <tensorflow.python.framework.sparse_tensor.SparseTensor object at 0x7f5334632748>, 'age': <tf.Tensor: shape=(), dtype=int64, numpy=32>}\n",
      "[b'machine learning' b'deep learning']\n",
      "[45.4  45.8  78.45 78.  ]\n",
      "32\n",
      "{'favorite_book': <tensorflow.python.framework.sparse_tensor.SparseTensor object at 0x7f5334632860>, 'hours': <tensorflow.python.framework.sparse_tensor.SparseTensor object at 0x7f5334632eb8>, 'age': <tf.Tensor: shape=(), dtype=int64, numpy=32>}\n",
      "[b'machine learning' b'deep learning']\n",
      "[45.4  45.8  78.45 78.  ]\n",
      "32\n"
     ]
    }
   ],
   "source": [
    "dataset_zip = tf.data.TFRecordDataset([filename_fullpath_zip], compression_type=\"GZIP\")\n",
    "\n",
    "# 遍历dataset, 并解析\n",
    "expected_features = {\n",
    "    \"favorite_book\": tf.io.VarLenFeature(dtype=tf.string), # value 的list，元素的长度不固定\n",
    "    \"hours\": tf.io.VarLenFeature(dtype=tf.float32),\n",
    "    \"age\": tf.io.FixedLenFeature([], dtype=tf.int64) # value 的list，元素的长度固定\n",
    "}\n",
    "\n",
    "for serialized_example in dataset_zip:\n",
    "    example = tf.io.parse_single_example(serialized_example, expected_features)\n",
    "    \n",
    "    print(example)\n",
    "    \n",
    "    # favorite_book 是SparseTensor类型的，就要用 tf.sparse.to_dense 解析\n",
    "    favorite_book = tf.sparse.to_dense(example[\"favorite_book\"], default_value=b\"\")\n",
    "    print(favorite_book.numpy())\n",
    "    \n",
    "    hours = tf.sparse.to_dense(example[\"hours\"], default_value=0.0)\n",
    "    print(hours.numpy())\n",
    "    \n",
    "    age = example[\"age\"]\n",
    "    print(age.numpy())"
   ]
  }
 ],
 "metadata": {
  "kernelspec": {
   "display_name": "Python 3",
   "language": "python",
   "name": "python3"
  },
  "language_info": {
   "codemirror_mode": {
    "name": "ipython",
    "version": 3
   },
   "file_extension": ".py",
   "mimetype": "text/x-python",
   "name": "python",
   "nbconvert_exporter": "python",
   "pygments_lexer": "ipython3",
   "version": "3.6.8"
  }
 },
 "nbformat": 4,
 "nbformat_minor": 2
}
