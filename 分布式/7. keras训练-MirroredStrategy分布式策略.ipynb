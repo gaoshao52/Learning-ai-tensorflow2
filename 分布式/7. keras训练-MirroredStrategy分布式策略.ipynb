{
 "cells": [
  {
   "cell_type": "code",
   "execution_count": null,
   "metadata": {},
   "outputs": [],
   "source": []
  },
  {
   "cell_type": "markdown",
   "metadata": {},
   "source": [
    "# 目录\n",
    "## 1. 导入模块\n",
    "## 2. GPU配置策略（所有GPU可见）\n",
    "## 3. MirroredStrategy分布式策略训练\n",
    ">相对于普通的keras修改注意的地方<br/>\n",
    "1. 有多个逻辑GPU <br/>\n",
    "2. 训练的batch_size, `batch_size_per_replica = 256; batch_size = len(logical_gpus) * batch_size_per_replica` <br/>\n",
    "3. 在模型构造，添加分布式策略，例如\n",
    "\n",
    "```python\n",
    "strategy = tf.distribute.MirroredStrategy()\n",
    "with strategy.scope():\n",
    "    model = keras.models.Sequential([ ...])\n",
    "    model.compile()\n",
    "```\n",
    "  - ### 3.1 获取fashion mnist数据\n",
    "  - ### 3.2 keras模型训练(不同地方，加一个mirroredStrategy 策略) "
   ]
  },
  {
   "cell_type": "markdown",
   "metadata": {},
   "source": [
    "## 1. 导入模块"
   ]
  },
  {
   "cell_type": "code",
   "execution_count": 1,
   "metadata": {},
   "outputs": [
    {
     "name": "stdout",
     "output_type": "stream",
     "text": [
      "numpy 1.18.1\n",
      "pandas 0.25.3\n",
      "sklearn 0.22.1\n",
      "matplotlib 3.1.2\n",
      "tensorflow_core.python.keras.api._v2.keras 2.2.4-tf\n",
      "tensorflow 2.1.0\n"
     ]
    }
   ],
   "source": [
    "%matplotlib inline\n",
    "import numpy as np\n",
    "import pandas as pd\n",
    "import sklearn\n",
    "import matplotlib as mpl\n",
    "import matplotlib.pyplot as plt\n",
    "\n",
    "from tensorflow import keras\n",
    "import tensorflow as tf\n",
    "\n",
    "import sys\n",
    "import os\n",
    "import time\n",
    "import datetime\n",
    "\n",
    "for module in [np, pd, sklearn, mpl, keras, tf]:\n",
    "    print(module.__name__, module.__version__)"
   ]
  },
  {
   "cell_type": "markdown",
   "metadata": {},
   "source": [
    "## 2. GPU配置策略（所有GPU可见）"
   ]
  },
  {
   "cell_type": "code",
   "execution_count": 2,
   "metadata": {},
   "outputs": [
    {
     "name": "stdout",
     "output_type": "stream",
     "text": [
      "Physical GPU: 1\n",
      "Logical GPU: 4\n"
     ]
    }
   ],
   "source": [
    "'''\n",
    "tf.debugging.set_log_device_placement(True)  # 打印设备运行日志\n",
    "tf.config.set_soft_device_placement(True)  # 把运算放在合适的设备运行\n",
    "GPUS = tf.config.experimental.list_physical_devices(\"GPU\") # 获取物理GPU\n",
    "for gpu in GPUS:\n",
    "    # 设置GPU内存自增长模式，需要多少，就用多少， 这一行代码必须要在程序刚开始运行的时候运行\n",
    "    tf.config.experimental.set_memory_growth(gpu, True)  \n",
    "print(\"Physical GPU: {}\".format(len(GPUS)))\n",
    "\n",
    "logical_gpus = tf.config.experimental.list_logical_devices(\"GPU\") # 获取逻辑GPU，逻辑GPU就像电脑磁盘分区，默认是在第0个逻辑分区训练\n",
    "print(\"Logical GPU: {}\".format(len(logical_gpus)))\n",
    "\n",
    "'''\n",
    "# 虚拟多个gpu，用来验证。。。如果有多个物理gpu，就用上面的代码\n",
    "\n",
    "tf.debugging.set_log_device_placement(True)  # 打印设备运行日志\n",
    "tf.config.set_soft_device_placement(True)  # 把运算放在合适的设备运行\n",
    "GPUS = tf.config.experimental.list_physical_devices(\"GPU\") # 获取物理GPU\n",
    "tf.config.experimental.set_visible_devices(GPUS[0], \"GPU\") # 设置该程序可访问的GPU，默认是在第0个gpu上训练\n",
    "tf.config.experimental.set_virtual_device_configuration(  # 对某一个物理gpu设置逻辑分区， 默认一个物理gpu对应一个逻辑gpu\n",
    "    GPUS[0],\n",
    "    [tf.config.experimental.VirtualDeviceConfiguration(memory_limit=2072),\n",
    "     tf.config.experimental.VirtualDeviceConfiguration(memory_limit=2072),\n",
    "    tf.config.experimental.VirtualDeviceConfiguration(memory_limit=2072),\n",
    "    tf.config.experimental.VirtualDeviceConfiguration(memory_limit=2072)]\n",
    ")\n",
    "\n",
    "print(\"Physical GPU: {}\".format(len(GPUS)))\n",
    "\n",
    "logical_gpus = tf.config.experimental.list_logical_devices(\"GPU\") # 获取逻辑GPU，逻辑GPU就像电脑磁盘分区，默认是在第0个逻辑分区训练\n",
    "print(\"Logical GPU: {}\".format(len(logical_gpus)))\n"
   ]
  },
  {
   "cell_type": "markdown",
   "metadata": {},
   "source": [
    "## 3. MirroredStrategy分布式策略训练\n",
    ">相对于普通的keras修改注意的地方<br/>\n",
    "1. 有多个逻辑GPU <br/>\n",
    "2. 训练的batch_size, `batch_size_per_replica = 256; batch_size = len(logical_gpus) * batch_size_per_replica` <br/>\n",
    "3. 在模型构造，添加分布式策略，例如\n",
    "\n",
    "```python\n",
    "strategy = tf.distribute.MirroredStrategy()\n",
    "with strategy.scope():\n",
    "    model = keras.models.Sequential([ ...])\n",
    "    model.compile()\n",
    "```"
   ]
  },
  {
   "cell_type": "markdown",
   "metadata": {},
   "source": [
    "  - ### 3.1 获取fashion mnist数据"
   ]
  },
  {
   "cell_type": "code",
   "execution_count": 3,
   "metadata": {},
   "outputs": [
    {
     "name": "stdout",
     "output_type": "stream",
     "text": [
      "(55000, 28, 28, 1) (55000,)\n",
      "(5000, 28, 28, 1) (5000,)\n",
      "(10000, 28, 28, 1) (10000,)\n",
      "Executing op TensorSliceDataset in device /job:localhost/replica:0/task:0/device:CPU:0\n",
      "Executing op AnonymousRandomSeedGenerator in device /job:localhost/replica:0/task:0/device:CPU:0\n",
      "Executing op ShuffleDatasetV2 in device /job:localhost/replica:0/task:0/device:CPU:0\n",
      "Executing op RepeatDataset in device /job:localhost/replica:0/task:0/device:CPU:0\n",
      "Executing op BatchDatasetV2 in device /job:localhost/replica:0/task:0/device:CPU:0\n",
      "Executing op PrefetchDataset in device /job:localhost/replica:0/task:0/device:CPU:0\n"
     ]
    }
   ],
   "source": [
    "# 取出fashion mnist 数据集\n",
    "fashion_mnist = keras.datasets.fashion_mnist\n",
    "(x_train_all, y_train_all), (x_test, y_test) = fashion_mnist.load_data()\n",
    "\n",
    "x_valid, x_train = x_train_all[:5000], x_train_all[5000:]\n",
    "y_valid, y_train = y_train_all[:5000], y_train_all[5000:]\n",
    "\n",
    "\n",
    "# 标准化\n",
    "from sklearn.preprocessing import StandardScaler\n",
    "\n",
    "scaler = StandardScaler()\n",
    "\n",
    "x_train_scaled = scaler.fit_transform(x_train.astype(np.float32).reshape(-1, 1)).reshape(-1, 28, 28, 1)\n",
    "x_valid_scaled = scaler.transform(x_valid.astype(np.float32).reshape(-1, 1)).reshape(-1, 28, 28, 1)\n",
    "x_test_scaled = scaler.transform(x_test.astype(np.float32).reshape(-1, 1)).reshape(-1, 28, 28, 1)\n",
    "\n",
    "print(x_train_scaled.shape, y_train.shape)\n",
    "print(x_valid_scaled.shape, y_valid.shape)\n",
    "print(x_test_scaled.shape, y_test.shape)\n",
    "\n",
    "\n",
    "# 制作dataset 数据集\n",
    "def make_dataset(images, labels, epochs, batch_size, shuffle=True):\n",
    "    dataset = tf.data.Dataset.from_tensor_slices((images, labels))\n",
    "    if shuffle:\n",
    "        dataset = dataset.shuffle(10000)\n",
    "    dataset = dataset.repeat(epochs).batch(batch_size).prefetch(50) # prefetch 先取出50个样本准备\n",
    "    return dataset\n",
    "\n",
    "\n",
    "batch_size_per_replica = 256\n",
    "batch_size = len(logical_gpus) * batch_size_per_replica\n",
    "epochs = None\n",
    "train_dataset = make_dataset(x_train_scaled, y_train, epochs, batch_size)"
   ]
  },
  {
   "cell_type": "markdown",
   "metadata": {},
   "source": [
    "  - ### 3.2 keras模型训练(不同地方，加一个mirroredStrategy 策略)"
   ]
  },
  {
   "cell_type": "code",
   "execution_count": 4,
   "metadata": {},
   "outputs": [
    {
     "name": "stdout",
     "output_type": "stream",
     "text": [
      "WARNING:tensorflow:NCCL is not supported when using virtual GPUs, fallingback to reduction to one device\n",
      "INFO:tensorflow:Using MirroredStrategy with devices ('/job:localhost/replica:0/task:0/device:GPU:0', '/job:localhost/replica:0/task:0/device:GPU:1', '/job:localhost/replica:0/task:0/device:GPU:2', '/job:localhost/replica:0/task:0/device:GPU:3')\n",
      "Executing op RandomUniform in device /job:localhost/replica:0/task:0/device:GPU:0\n",
      "Executing op Sub in device /job:localhost/replica:0/task:0/device:GPU:0\n",
      "Executing op Mul in device /job:localhost/replica:0/task:0/device:GPU:0\n",
      "Executing op Add in device /job:localhost/replica:0/task:0/device:GPU:0\n",
      "Executing op VarHandleOp in device /job:localhost/replica:0/task:0/device:GPU:0\n",
      "Executing op VarIsInitializedOp in device /job:localhost/replica:0/task:0/device:GPU:0\n",
      "Executing op LogicalNot in device /job:localhost/replica:0/task:0/device:GPU:0\n",
      "Executing op Assert in device /job:localhost/replica:0/task:0/device:GPU:0\n",
      "Executing op AssignVariableOp in device /job:localhost/replica:0/task:0/device:GPU:0\n",
      "Executing op ReadVariableOp in device /job:localhost/replica:0/task:0/device:GPU:0\n",
      "Executing op Identity in device /job:localhost/replica:0/task:0/device:GPU:1\n",
      "Executing op VarHandleOp in device /job:localhost/replica:0/task:0/device:GPU:1\n",
      "Executing op VarIsInitializedOp in device /job:localhost/replica:0/task:0/device:GPU:1\n",
      "Executing op LogicalNot in device /job:localhost/replica:0/task:0/device:GPU:1\n",
      "Executing op Assert in device /job:localhost/replica:0/task:0/device:GPU:1\n",
      "Executing op AssignVariableOp in device /job:localhost/replica:0/task:0/device:GPU:1\n",
      "Executing op Identity in device /job:localhost/replica:0/task:0/device:GPU:2\n",
      "Executing op VarHandleOp in device /job:localhost/replica:0/task:0/device:GPU:2\n",
      "Executing op VarIsInitializedOp in device /job:localhost/replica:0/task:0/device:GPU:2\n",
      "Executing op LogicalNot in device /job:localhost/replica:0/task:0/device:GPU:2\n",
      "Executing op Assert in device /job:localhost/replica:0/task:0/device:GPU:2\n",
      "Executing op AssignVariableOp in device /job:localhost/replica:0/task:0/device:GPU:2\n",
      "Executing op Identity in device /job:localhost/replica:0/task:0/device:GPU:3\n",
      "Executing op VarHandleOp in device /job:localhost/replica:0/task:0/device:GPU:3\n",
      "Executing op VarIsInitializedOp in device /job:localhost/replica:0/task:0/device:GPU:3\n",
      "Executing op LogicalNot in device /job:localhost/replica:0/task:0/device:GPU:3\n",
      "Executing op Assert in device /job:localhost/replica:0/task:0/device:GPU:3\n",
      "Executing op AssignVariableOp in device /job:localhost/replica:0/task:0/device:GPU:3\n",
      "Executing op Fill in device /job:localhost/replica:0/task:0/device:GPU:0\n",
      "Executing op VarHandleOp in device /job:localhost/replica:0/task:0/device:GPU:0\n",
      "Executing op VarHandleOp in device /job:localhost/replica:0/task:0/device:GPU:1\n",
      "Executing op VarHandleOp in device /job:localhost/replica:0/task:0/device:GPU:2\n",
      "Executing op VarHandleOp in device /job:localhost/replica:0/task:0/device:GPU:3\n",
      "Executing op VarHandleOp in device /job:localhost/replica:0/task:0/device:GPU:0\n",
      "Executing op VarHandleOp in device /job:localhost/replica:0/task:0/device:GPU:1\n",
      "Executing op VarHandleOp in device /job:localhost/replica:0/task:0/device:GPU:2\n",
      "Executing op VarHandleOp in device /job:localhost/replica:0/task:0/device:GPU:3\n",
      "Executing op VarHandleOp in device /job:localhost/replica:0/task:0/device:GPU:0\n",
      "Executing op VarHandleOp in device /job:localhost/replica:0/task:0/device:GPU:1\n",
      "Executing op VarHandleOp in device /job:localhost/replica:0/task:0/device:GPU:2\n",
      "Executing op VarHandleOp in device /job:localhost/replica:0/task:0/device:GPU:3\n",
      "Executing op VarHandleOp in device /job:localhost/replica:0/task:0/device:GPU:0\n",
      "Executing op VarHandleOp in device /job:localhost/replica:0/task:0/device:GPU:1\n",
      "Executing op VarHandleOp in device /job:localhost/replica:0/task:0/device:GPU:2\n",
      "Executing op VarHandleOp in device /job:localhost/replica:0/task:0/device:GPU:3\n",
      "Executing op VarHandleOp in device /job:localhost/replica:0/task:0/device:GPU:0\n",
      "Executing op VarHandleOp in device /job:localhost/replica:0/task:0/device:GPU:1\n",
      "Executing op VarHandleOp in device /job:localhost/replica:0/task:0/device:GPU:2\n",
      "Executing op VarHandleOp in device /job:localhost/replica:0/task:0/device:GPU:3\n",
      "Executing op VarHandleOp in device /job:localhost/replica:0/task:0/device:GPU:0\n",
      "Executing op VarHandleOp in device /job:localhost/replica:0/task:0/device:GPU:1\n",
      "Executing op VarHandleOp in device /job:localhost/replica:0/task:0/device:GPU:2\n",
      "Executing op VarHandleOp in device /job:localhost/replica:0/task:0/device:GPU:3\n",
      "Executing op VarHandleOp in device /job:localhost/replica:0/task:0/device:GPU:0\n",
      "Executing op VarHandleOp in device /job:localhost/replica:0/task:0/device:GPU:1\n",
      "Executing op VarHandleOp in device /job:localhost/replica:0/task:0/device:GPU:2\n",
      "Executing op VarHandleOp in device /job:localhost/replica:0/task:0/device:GPU:3\n",
      "Executing op VarHandleOp in device /job:localhost/replica:0/task:0/device:GPU:0\n",
      "Executing op VarHandleOp in device /job:localhost/replica:0/task:0/device:GPU:1\n",
      "Executing op VarHandleOp in device /job:localhost/replica:0/task:0/device:GPU:2\n",
      "Executing op VarHandleOp in device /job:localhost/replica:0/task:0/device:GPU:3\n",
      "Executing op VarHandleOp in device /job:localhost/replica:0/task:0/device:GPU:0\n",
      "Executing op VarHandleOp in device /job:localhost/replica:0/task:0/device:GPU:1\n",
      "Executing op VarHandleOp in device /job:localhost/replica:0/task:0/device:GPU:2\n",
      "Executing op VarHandleOp in device /job:localhost/replica:0/task:0/device:GPU:3\n",
      "Executing op VarHandleOp in device /job:localhost/replica:0/task:0/device:GPU:0\n",
      "Executing op VarHandleOp in device /job:localhost/replica:0/task:0/device:GPU:1\n",
      "Executing op VarHandleOp in device /job:localhost/replica:0/task:0/device:GPU:2\n",
      "Executing op VarHandleOp in device /job:localhost/replica:0/task:0/device:GPU:3\n",
      "Executing op VarHandleOp in device /job:localhost/replica:0/task:0/device:GPU:0\n",
      "Executing op VarHandleOp in device /job:localhost/replica:0/task:0/device:GPU:1\n",
      "Executing op VarHandleOp in device /job:localhost/replica:0/task:0/device:GPU:2\n",
      "Executing op VarHandleOp in device /job:localhost/replica:0/task:0/device:GPU:3\n",
      "Executing op VarHandleOp in device /job:localhost/replica:0/task:0/device:GPU:0\n",
      "Executing op VarHandleOp in device /job:localhost/replica:0/task:0/device:GPU:1\n",
      "Executing op VarHandleOp in device /job:localhost/replica:0/task:0/device:GPU:2\n",
      "Executing op VarHandleOp in device /job:localhost/replica:0/task:0/device:GPU:3\n",
      "INFO:tensorflow:Reduce to /job:localhost/replica:0/task:0/device:CPU:0 then broadcast to ('/job:localhost/replica:0/task:0/device:CPU:0',).\n",
      "INFO:tensorflow:Reduce to /job:localhost/replica:0/task:0/device:CPU:0 then broadcast to ('/job:localhost/replica:0/task:0/device:CPU:0',).\n"
     ]
    }
   ],
   "source": [
    "strategy = tf.distribute.MirroredStrategy()\n",
    "\n",
    "with strategy.scope():\n",
    "    model = keras.models.Sequential([\n",
    "        keras.layers.Conv2D(filters=32, kernel_size=3, padding=\"same\", activation=\"relu\", input_shape=(28, 28, 1)),\n",
    "        keras.layers.Conv2D(filters=32, kernel_size=3, padding=\"same\", activation=\"relu\"),\n",
    "        keras.layers.MaxPool2D(pool_size=2),\n",
    "\n",
    "        keras.layers.Conv2D(filters=64, kernel_size=3, padding=\"same\", activation=\"relu\"),\n",
    "        keras.layers.Conv2D(filters=64, kernel_size=3, padding=\"same\", activation=\"relu\"),\n",
    "        keras.layers.MaxPool2D(pool_size=2),\n",
    "\n",
    "        keras.layers.Conv2D(filters=128, kernel_size=3, padding=\"same\", activation=\"relu\"),\n",
    "        keras.layers.Conv2D(filters=128, kernel_size=3, padding=\"same\", activation=\"relu\"),\n",
    "        keras.layers.MaxPool2D(pool_size=2),\n",
    "\n",
    "        keras.layers.Flatten(),\n",
    "        keras.layers.Dense(128, activation=\"relu\"),\n",
    "        keras.layers.Dense(10, activation=\"softmax\")\n",
    "    ])\n",
    "\n",
    "    model.compile(loss=\"sparse_categorical_crossentropy\", optimizer=keras.optimizers.SGD(lr=0.01), metrics=[\"accuracy\"])\n",
    "\n"
   ]
  },
  {
   "cell_type": "code",
   "execution_count": 5,
   "metadata": {},
   "outputs": [
    {
     "name": "stdout",
     "output_type": "stream",
     "text": [
      "Executing op ParallelMapDataset in device /job:localhost/replica:0/task:0/device:CPU:0\n",
      "Executing op DatasetCardinality in device /job:localhost/replica:0/task:0/device:CPU:0\n",
      "Executing op RebatchDataset in device /job:localhost/replica:0/task:0/device:CPU:0\n",
      "Executing op PrefetchDataset in device /job:localhost/replica:0/task:0/device:CPU:0\n",
      "Executing op AutoShardDataset in device /job:localhost/replica:0/task:0/device:CPU:0\n",
      "Train for 53 steps\n",
      "Epoch 1/10\n",
      "Executing op Cast in device /job:localhost/replica:0/task:0/device:GPU:0\n",
      "Executing op OptimizeDataset in device /job:localhost/replica:0/task:0/device:CPU:0\n",
      "Executing op ModelDataset in device /job:localhost/replica:0/task:0/device:CPU:0\n",
      "Executing op MultiDeviceIterator in device /job:localhost/replica:0/task:0/device:CPU:0\n",
      "Executing op MultiDeviceIteratorInit in device /job:localhost/replica:0/task:0/device:CPU:0\n",
      "Executing op MultiDeviceIteratorToStringHandle in device /job:localhost/replica:0/task:0/device:CPU:0\n",
      "Executing op GeneratorDataset in device /job:localhost/replica:0/task:0/device:GPU:0\n",
      "Executing op GeneratorDataset in device /job:localhost/replica:0/task:0/device:GPU:1\n",
      "Executing op GeneratorDataset in device /job:localhost/replica:0/task:0/device:GPU:2\n",
      "Executing op GeneratorDataset in device /job:localhost/replica:0/task:0/device:GPU:3\n",
      "Executing op GeneratorDataset in device /job:localhost/replica:0/task:0/device:GPU:0\n",
      "Executing op PrefetchDataset in device /job:localhost/replica:0/task:0/device:GPU:0\n",
      "Executing op AnonymousIteratorV2 in device /job:localhost/replica:0/task:0/device:GPU:0\n",
      "Executing op MakeIterator in device /job:localhost/replica:0/task:0/device:GPU:0\n",
      "Executing op GeneratorDataset in device /job:localhost/replica:0/task:0/device:GPU:1\n",
      "Executing op PrefetchDataset in device /job:localhost/replica:0/task:0/device:GPU:1\n",
      "Executing op AnonymousIteratorV2 in device /job:localhost/replica:0/task:0/device:GPU:1\n",
      "Executing op MakeIterator in device /job:localhost/replica:0/task:0/device:GPU:1\n",
      "Executing op GeneratorDataset in device /job:localhost/replica:0/task:0/device:GPU:2\n",
      "Executing op PrefetchDataset in device /job:localhost/replica:0/task:0/device:GPU:2\n",
      "Executing op AnonymousIteratorV2 in device /job:localhost/replica:0/task:0/device:GPU:2\n",
      "Executing op MakeIterator in device /job:localhost/replica:0/task:0/device:GPU:2\n",
      "Executing op GeneratorDataset in device /job:localhost/replica:0/task:0/device:GPU:3\n",
      "Executing op PrefetchDataset in device /job:localhost/replica:0/task:0/device:GPU:3\n",
      "Executing op AnonymousIteratorV2 in device /job:localhost/replica:0/task:0/device:GPU:3\n",
      "Executing op MakeIterator in device /job:localhost/replica:0/task:0/device:GPU:3\n",
      "Executing op VarHandleOp in device /job:localhost/replica:0/task:0/device:GPU:0\n",
      "Executing op AssignVariableOp in device /job:localhost/replica:0/task:0/device:GPU:0\n",
      "Executing op ReadVariableOp in device /job:localhost/replica:0/task:0/device:GPU:0\n",
      "Executing op Identity in device /job:localhost/replica:0/task:0/device:GPU:0\n",
      "Executing op VarHandleOp in device /job:localhost/replica:0/task:0/device:GPU:1\n",
      "Executing op AssignVariableOp in device /job:localhost/replica:0/task:0/device:GPU:1\n",
      "Executing op VarHandleOp in device /job:localhost/replica:0/task:0/device:GPU:2\n",
      "Executing op AssignVariableOp in device /job:localhost/replica:0/task:0/device:GPU:2\n",
      "Executing op VarHandleOp in device /job:localhost/replica:0/task:0/device:GPU:3\n",
      "Executing op AssignVariableOp in device /job:localhost/replica:0/task:0/device:GPU:3\n",
      "Executing op VarHandleOp in device /job:localhost/replica:0/task:0/device:GPU:0\n",
      "Executing op Identity in device /job:localhost/replica:0/task:0/device:GPU:0\n",
      "Executing op VarHandleOp in device /job:localhost/replica:0/task:0/device:GPU:1\n",
      "Executing op VarHandleOp in device /job:localhost/replica:0/task:0/device:GPU:2\n",
      "Executing op VarHandleOp in device /job:localhost/replica:0/task:0/device:GPU:3\n",
      "Executing op VarHandleOp in device /job:localhost/replica:0/task:0/device:GPU:0\n",
      "Executing op VarHandleOp in device /job:localhost/replica:0/task:0/device:GPU:1\n",
      "Executing op VarHandleOp in device /job:localhost/replica:0/task:0/device:GPU:2\n",
      "Executing op VarHandleOp in device /job:localhost/replica:0/task:0/device:GPU:3\n",
      "Executing op VarHandleOp in device /job:localhost/replica:0/task:0/device:GPU:0\n",
      "Executing op VarHandleOp in device /job:localhost/replica:0/task:0/device:GPU:1\n",
      "Executing op VarHandleOp in device /job:localhost/replica:0/task:0/device:GPU:2\n",
      "Executing op VarHandleOp in device /job:localhost/replica:0/task:0/device:GPU:3\n",
      "INFO:tensorflow:Reduce to /job:localhost/replica:0/task:0/device:GPU:0 then broadcast to ('/job:localhost/replica:0/task:0/device:GPU:0', '/job:localhost/replica:0/task:0/device:GPU:1', '/job:localhost/replica:0/task:0/device:GPU:2', '/job:localhost/replica:0/task:0/device:GPU:3').\n",
      "INFO:tensorflow:Reduce to /job:localhost/replica:0/task:0/device:GPU:0 then broadcast to ('/job:localhost/replica:0/task:0/device:GPU:0', '/job:localhost/replica:0/task:0/device:GPU:1', '/job:localhost/replica:0/task:0/device:GPU:2', '/job:localhost/replica:0/task:0/device:GPU:3').\n",
      "INFO:tensorflow:Reduce to /job:localhost/replica:0/task:0/device:GPU:0 then broadcast to ('/job:localhost/replica:0/task:0/device:GPU:0', '/job:localhost/replica:0/task:0/device:GPU:1', '/job:localhost/replica:0/task:0/device:GPU:2', '/job:localhost/replica:0/task:0/device:GPU:3').\n",
      "INFO:tensorflow:Reduce to /job:localhost/replica:0/task:0/device:GPU:0 then broadcast to ('/job:localhost/replica:0/task:0/device:GPU:0', '/job:localhost/replica:0/task:0/device:GPU:1', '/job:localhost/replica:0/task:0/device:GPU:2', '/job:localhost/replica:0/task:0/device:GPU:3').\n",
      "INFO:tensorflow:Reduce to /job:localhost/replica:0/task:0/device:GPU:0 then broadcast to ('/job:localhost/replica:0/task:0/device:GPU:0', '/job:localhost/replica:0/task:0/device:GPU:1', '/job:localhost/replica:0/task:0/device:GPU:2', '/job:localhost/replica:0/task:0/device:GPU:3').\n",
      "INFO:tensorflow:Reduce to /job:localhost/replica:0/task:0/device:GPU:0 then broadcast to ('/job:localhost/replica:0/task:0/device:GPU:0', '/job:localhost/replica:0/task:0/device:GPU:1', '/job:localhost/replica:0/task:0/device:GPU:2', '/job:localhost/replica:0/task:0/device:GPU:3').\n",
      "INFO:tensorflow:Reduce to /job:localhost/replica:0/task:0/device:GPU:0 then broadcast to ('/job:localhost/replica:0/task:0/device:GPU:0', '/job:localhost/replica:0/task:0/device:GPU:1', '/job:localhost/replica:0/task:0/device:GPU:2', '/job:localhost/replica:0/task:0/device:GPU:3').\n",
      "INFO:tensorflow:Reduce to /job:localhost/replica:0/task:0/device:GPU:0 then broadcast to ('/job:localhost/replica:0/task:0/device:GPU:0', '/job:localhost/replica:0/task:0/device:GPU:1', '/job:localhost/replica:0/task:0/device:GPU:2', '/job:localhost/replica:0/task:0/device:GPU:3').\n",
      "INFO:tensorflow:Reduce to /job:localhost/replica:0/task:0/device:GPU:0 then broadcast to ('/job:localhost/replica:0/task:0/device:GPU:0', '/job:localhost/replica:0/task:0/device:GPU:1', '/job:localhost/replica:0/task:0/device:GPU:2', '/job:localhost/replica:0/task:0/device:GPU:3').\n",
      "INFO:tensorflow:Reduce to /job:localhost/replica:0/task:0/device:GPU:0 then broadcast to ('/job:localhost/replica:0/task:0/device:GPU:0', '/job:localhost/replica:0/task:0/device:GPU:1', '/job:localhost/replica:0/task:0/device:GPU:2', '/job:localhost/replica:0/task:0/device:GPU:3').\n",
      "INFO:tensorflow:Reduce to /job:localhost/replica:0/task:0/device:CPU:0 then broadcast to ('/job:localhost/replica:0/task:0/device:CPU:0',).\n",
      "INFO:tensorflow:Reduce to /job:localhost/replica:0/task:0/device:CPU:0 then broadcast to ('/job:localhost/replica:0/task:0/device:CPU:0',).\n",
      "INFO:tensorflow:Reduce to /job:localhost/replica:0/task:0/device:CPU:0 then broadcast to ('/job:localhost/replica:0/task:0/device:CPU:0',).\n",
      "INFO:tensorflow:Reduce to /job:localhost/replica:0/task:0/device:CPU:0 then broadcast to ('/job:localhost/replica:0/task:0/device:CPU:0',).\n",
      "INFO:tensorflow:Reduce to /job:localhost/replica:0/task:0/device:CPU:0 then broadcast to ('/job:localhost/replica:0/task:0/device:CPU:0',).\n",
      "INFO:tensorflow:Reduce to /job:localhost/replica:0/task:0/device:CPU:0 then broadcast to ('/job:localhost/replica:0/task:0/device:CPU:0',).\n"
     ]
    },
    {
     "name": "stdout",
     "output_type": "stream",
     "text": [
      "INFO:tensorflow:Reduce to /job:localhost/replica:0/task:0/device:CPU:0 then broadcast to ('/job:localhost/replica:0/task:0/device:CPU:0',).\n",
      "INFO:tensorflow:Reduce to /job:localhost/replica:0/task:0/device:CPU:0 then broadcast to ('/job:localhost/replica:0/task:0/device:CPU:0',).\n",
      "Executing op __inference_distributed_function_3379 in device /job:localhost/replica:0/task:0/device:GPU:0\n",
      "53/53 [==============================] - 7s 140ms/step - loss: 2.2858 - accuracy: 0.1529\n",
      "Epoch 2/10\n",
      "53/53 [==============================] - 2s 44ms/step - loss: 2.1830 - accuracy: 0.2832\n",
      "Epoch 3/10\n",
      "53/53 [==============================] - 2s 44ms/step - loss: 1.4751 - accuracy: 0.5455\n",
      "Epoch 4/10\n",
      "53/53 [==============================] - 2s 44ms/step - loss: 1.0279 - accuracy: 0.6468\n",
      "Epoch 5/10\n",
      "53/53 [==============================] - 2s 44ms/step - loss: 0.8873 - accuracy: 0.6818\n",
      "Epoch 6/10\n",
      "53/53 [==============================] - 2s 44ms/step - loss: 0.8214 - accuracy: 0.6985\n",
      "Epoch 7/10\n",
      "53/53 [==============================] - 2s 44ms/step - loss: 0.7643 - accuracy: 0.7189\n",
      "Epoch 8/10\n",
      "53/53 [==============================] - 2s 45ms/step - loss: 0.7319 - accuracy: 0.7332\n",
      "Epoch 9/10\n",
      "53/53 [==============================] - 2s 45ms/step - loss: 0.6992 - accuracy: 0.7439\n",
      "Epoch 10/10\n",
      "53/53 [==============================] - 2s 44ms/step - loss: 0.6776 - accuracy: 0.7516\n",
      "Executing op DestroyResourceOp in device /job:localhost/replica:0/task:0/device:CPU:0\n",
      "Executing op DeleteIterator in device /job:localhost/replica:0/task:0/device:GPU:3\n",
      "Executing op DeleteIterator in device /job:localhost/replica:0/task:0/device:GPU:2\n",
      "Executing op DeleteIterator in device /job:localhost/replica:0/task:0/device:GPU:1\n",
      "Executing op DeleteIterator in device /job:localhost/replica:0/task:0/device:GPU:0\n"
     ]
    },
    {
     "data": {
      "text/plain": [
       "<tensorflow.python.keras.callbacks.History at 0x7fa1400c07b8>"
      ]
     },
     "execution_count": 5,
     "metadata": {},
     "output_type": "execute_result"
    }
   ],
   "source": [
    "model.fit(train_dataset, steps_per_epoch=x_train_scaled.shape[0]//batch_size, epochs=10)"
   ]
  },
  {
   "cell_type": "code",
   "execution_count": null,
   "metadata": {},
   "outputs": [],
   "source": []
  }
 ],
 "metadata": {
  "kernelspec": {
   "display_name": "Python 3",
   "language": "python",
   "name": "python3"
  },
  "language_info": {
   "codemirror_mode": {
    "name": "ipython",
    "version": 3
   },
   "file_extension": ".py",
   "mimetype": "text/x-python",
   "name": "python",
   "nbconvert_exporter": "python",
   "pygments_lexer": "ipython3",
   "version": "3.6.8"
  }
 },
 "nbformat": 4,
 "nbformat_minor": 2
}
