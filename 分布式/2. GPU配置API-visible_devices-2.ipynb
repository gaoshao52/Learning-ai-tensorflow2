{
 "cells": [
  {
   "cell_type": "markdown",
   "metadata": {},
   "source": [
    "# 目录\n",
    "## 1. 模块导入\n",
    "## 2. GPU配置策略\n",
    "  - `tf.debugging.set_log_device_placement`\n",
    "  - `tf.config.experimental.list_physical_devices`\n",
    "  - `tf.config.experimental.set_visible_devices`\n",
    "  - `tf.config.experimental.set_memory_growth`\n",
    "  - `tf.config.experimental.list_logical_devices`\n",
    "  \n",
    "## 3. keras训练测试，是否在可访问的GPU训练（fashion_mnist）\n",
    "  - ### 3.1 获取fashion mnist数据\n",
    "  - ### 3.2 keras模型训练\n",
    "  - ### 3.3 结果(等待多gpu测试)\n",
    "  "
   ]
  },
  {
   "cell_type": "markdown",
   "metadata": {},
   "source": [
    "## 1. 模块导入"
   ]
  },
  {
   "cell_type": "code",
   "execution_count": 1,
   "metadata": {},
   "outputs": [
    {
     "name": "stdout",
     "output_type": "stream",
     "text": [
      "numpy 1.18.1\n",
      "pandas 0.25.3\n",
      "sklearn 0.22.1\n",
      "matplotlib 3.1.2\n",
      "tensorflow_core.python.keras.api._v2.keras 2.2.4-tf\n",
      "tensorflow 2.1.0\n"
     ]
    }
   ],
   "source": [
    "%matplotlib inline\n",
    "import numpy as np\n",
    "import pandas as pd\n",
    "import sklearn\n",
    "import matplotlib as mpl\n",
    "import matplotlib.pyplot as plt\n",
    "\n",
    "from tensorflow import keras\n",
    "import tensorflow as tf\n",
    "\n",
    "import sys\n",
    "import os\n",
    "import time\n",
    "import datetime\n",
    "\n",
    "for module in [np, pd, sklearn, mpl, keras, tf]:\n",
    "    print(module.__name__, module.__version__)"
   ]
  },
  {
   "cell_type": "markdown",
   "metadata": {},
   "source": [
    "# 2. GPU配置策略"
   ]
  },
  {
   "cell_type": "code",
   "execution_count": 2,
   "metadata": {},
   "outputs": [
    {
     "name": "stdout",
     "output_type": "stream",
     "text": [
      "Physical GPU: 1\n",
      "Logical GPU: 1\n"
     ]
    }
   ],
   "source": [
    "tf.debugging.set_log_device_placement(True)  # 打印设备运行日志\n",
    "GPUS = tf.config.experimental.list_physical_devices(\"GPU\") # 获取物理GPU\n",
    "tf.config.experimental.set_visible_devices(GPUS[0], \"GPU\") # 设置该程序可访问的GPU，默认是在第0个gpu上训练\n",
    "for gpu in GPUS:\n",
    "    # 设置GPU内存自增长模式，需要多少，就用多少， 这一行代码必须要在程序刚开始运行的时候运行\n",
    "    tf.config.experimental.set_memory_growth(gpu, True)  \n",
    "print(\"Physical GPU: {}\".format(len(GPUS)))\n",
    "\n",
    "logical_gpus = tf.config.experimental.list_logical_devices(\"GPU\") # 获取逻辑GPU，逻辑GPU就像电脑磁盘分区，默认是在第0个逻辑分区训练\n",
    "print(\"Logical GPU: {}\".format(len(logical_gpus)))"
   ]
  },
  {
   "cell_type": "markdown",
   "metadata": {},
   "source": [
    "## 3. keras训练测试，是否在可访问的GPU训练（fashion_mnist）"
   ]
  },
  {
   "cell_type": "markdown",
   "metadata": {},
   "source": [
    "  - ### 3.1 获取fashion mnist数据"
   ]
  },
  {
   "cell_type": "code",
   "execution_count": 3,
   "metadata": {},
   "outputs": [
    {
     "name": "stdout",
     "output_type": "stream",
     "text": [
      "(55000, 28, 28, 1) (55000,)\n",
      "(5000, 28, 28, 1) (5000,)\n",
      "(10000, 28, 28, 1) (10000,)\n",
      "Executing op TensorSliceDataset in device /job:localhost/replica:0/task:0/device:CPU:0\n",
      "Executing op AnonymousRandomSeedGenerator in device /job:localhost/replica:0/task:0/device:CPU:0\n",
      "Executing op ShuffleDatasetV2 in device /job:localhost/replica:0/task:0/device:CPU:0\n",
      "Executing op RepeatDataset in device /job:localhost/replica:0/task:0/device:CPU:0\n",
      "Executing op BatchDatasetV2 in device /job:localhost/replica:0/task:0/device:CPU:0\n",
      "Executing op PrefetchDataset in device /job:localhost/replica:0/task:0/device:CPU:0\n"
     ]
    }
   ],
   "source": [
    "# 取出fashion mnist 数据集\n",
    "fashion_mnist = keras.datasets.fashion_mnist\n",
    "(x_train_all, y_train_all), (x_test, y_test) = fashion_mnist.load_data()\n",
    "\n",
    "x_valid, x_train = x_train_all[:5000], x_train_all[5000:]\n",
    "y_valid, y_train = y_train_all[:5000], y_train_all[5000:]\n",
    "\n",
    "\n",
    "# 标准化\n",
    "from sklearn.preprocessing import StandardScaler\n",
    "\n",
    "scaler = StandardScaler()\n",
    "\n",
    "x_train_scaled = scaler.fit_transform(x_train.astype(np.float32).reshape(-1, 1)).reshape(-1, 28, 28, 1)\n",
    "x_valid_scaled = scaler.transform(x_valid.astype(np.float32).reshape(-1, 1)).reshape(-1, 28, 28, 1)\n",
    "x_test_scaled = scaler.transform(x_test.astype(np.float32).reshape(-1, 1)).reshape(-1, 28, 28, 1)\n",
    "\n",
    "print(x_train_scaled.shape, y_train.shape)\n",
    "print(x_valid_scaled.shape, y_valid.shape)\n",
    "print(x_test_scaled.shape, y_test.shape)\n",
    "\n",
    "\n",
    "# 制作dataset 数据集\n",
    "def make_dataset(images, labels, epochs, batch_size, shuffle=True):\n",
    "    dataset = tf.data.Dataset.from_tensor_slices((images, labels))\n",
    "    if shuffle:\n",
    "        dataset = dataset.shuffle(10000)\n",
    "    dataset = dataset.repeat(epochs).batch(batch_size).prefetch(50) # prefetch 先取出50个样本准备\n",
    "    return dataset\n",
    "\n",
    "batch_size = 128\n",
    "epochs = None\n",
    "train_dataset = make_dataset(x_train_scaled, y_train, epochs, batch_size)"
   ]
  },
  {
   "cell_type": "markdown",
   "metadata": {},
   "source": [
    "  - ### 3.2 keras模型训练"
   ]
  },
  {
   "cell_type": "code",
   "execution_count": 4,
   "metadata": {},
   "outputs": [
    {
     "name": "stdout",
     "output_type": "stream",
     "text": [
      "Executing op RandomUniform in device /job:localhost/replica:0/task:0/device:GPU:0\n",
      "Executing op Sub in device /job:localhost/replica:0/task:0/device:GPU:0\n",
      "Executing op Mul in device /job:localhost/replica:0/task:0/device:GPU:0\n",
      "Executing op Add in device /job:localhost/replica:0/task:0/device:GPU:0\n",
      "Executing op VarHandleOp in device /job:localhost/replica:0/task:0/device:GPU:0\n",
      "Executing op VarIsInitializedOp in device /job:localhost/replica:0/task:0/device:GPU:0\n",
      "Executing op LogicalNot in device /job:localhost/replica:0/task:0/device:GPU:0\n",
      "Executing op Assert in device /job:localhost/replica:0/task:0/device:GPU:0\n",
      "Executing op AssignVariableOp in device /job:localhost/replica:0/task:0/device:GPU:0\n",
      "Executing op Fill in device /job:localhost/replica:0/task:0/device:GPU:0\n",
      "Executing op VarHandleOp in device /job:localhost/replica:0/task:0/device:GPU:0\n",
      "Executing op VarHandleOp in device /job:localhost/replica:0/task:0/device:GPU:0\n",
      "Executing op VarHandleOp in device /job:localhost/replica:0/task:0/device:GPU:0\n",
      "Executing op VarHandleOp in device /job:localhost/replica:0/task:0/device:GPU:0\n",
      "Executing op VarHandleOp in device /job:localhost/replica:0/task:0/device:GPU:0\n",
      "Executing op VarHandleOp in device /job:localhost/replica:0/task:0/device:GPU:0\n",
      "Executing op VarHandleOp in device /job:localhost/replica:0/task:0/device:GPU:0\n",
      "Executing op VarHandleOp in device /job:localhost/replica:0/task:0/device:GPU:0\n",
      "Executing op VarHandleOp in device /job:localhost/replica:0/task:0/device:GPU:0\n",
      "Executing op VarHandleOp in device /job:localhost/replica:0/task:0/device:GPU:0\n",
      "Executing op VarHandleOp in device /job:localhost/replica:0/task:0/device:GPU:0\n",
      "Executing op VarHandleOp in device /job:localhost/replica:0/task:0/device:GPU:0\n",
      "Executing op ParallelMapDataset in device /job:localhost/replica:0/task:0/device:CPU:0\n",
      "Executing op DatasetCardinality in device /job:localhost/replica:0/task:0/device:CPU:0\n",
      "Train for 429 steps\n",
      "Epoch 1/50\n",
      "Executing op OptimizeDataset in device /job:localhost/replica:0/task:0/device:CPU:0\n",
      "Executing op ModelDataset in device /job:localhost/replica:0/task:0/device:CPU:0\n",
      "Executing op AnonymousIteratorV2 in device /job:localhost/replica:0/task:0/device:CPU:0\n",
      "Executing op MakeIterator in device /job:localhost/replica:0/task:0/device:CPU:0\n",
      "Executing op VarHandleOp in device /job:localhost/replica:0/task:0/device:GPU:0\n",
      "Executing op AssignVariableOp in device /job:localhost/replica:0/task:0/device:GPU:0\n",
      "Executing op VarHandleOp in device /job:localhost/replica:0/task:0/device:GPU:0\n",
      "Executing op VarHandleOp in device /job:localhost/replica:0/task:0/device:GPU:0\n",
      "Executing op VarHandleOp in device /job:localhost/replica:0/task:0/device:GPU:0\n",
      "Executing op __inference_distributed_function_824 in device /job:localhost/replica:0/task:0/device:GPU:0\n",
      "429/429 [==============================] - 5s 12ms/step - loss: 1.3611 - accuracy: 0.5410\n",
      "Epoch 2/50\n",
      "429/429 [==============================] - 3s 8ms/step - loss: 0.6202 - accuracy: 0.7692\n",
      "Epoch 3/50\n",
      "429/429 [==============================] - 3s 8ms/step - loss: 0.4950 - accuracy: 0.8170\n",
      "Epoch 4/50\n",
      "429/429 [==============================] - 3s 8ms/step - loss: 0.4290 - accuracy: 0.8438\n",
      "Epoch 5/50\n",
      "429/429 [==============================] - 3s 8ms/step - loss: 0.3925 - accuracy: 0.8548\n",
      "Epoch 6/50\n",
      "429/429 [==============================] - 3s 8ms/step - loss: 0.3626 - accuracy: 0.8665\n",
      "Epoch 7/50\n",
      "429/429 [==============================] - 3s 8ms/step - loss: 0.3440 - accuracy: 0.8733\n",
      "Epoch 8/50\n",
      "429/429 [==============================] - 3s 8ms/step - loss: 0.3263 - accuracy: 0.8803\n",
      "Epoch 9/50\n",
      "429/429 [==============================] - 3s 8ms/step - loss: 0.3129 - accuracy: 0.8838\n",
      "Epoch 10/50\n",
      "429/429 [==============================] - 3s 8ms/step - loss: 0.3006 - accuracy: 0.8890\n",
      "Epoch 11/50\n",
      "429/429 [==============================] - 3s 8ms/step - loss: 0.2912 - accuracy: 0.8926\n",
      "Epoch 12/50\n",
      "429/429 [==============================] - 3s 8ms/step - loss: 0.2785 - accuracy: 0.8971\n",
      "Epoch 13/50\n",
      "429/429 [==============================] - 3s 8ms/step - loss: 0.2716 - accuracy: 0.9006\n",
      "Epoch 14/50\n",
      "429/429 [==============================] - 3s 8ms/step - loss: 0.2630 - accuracy: 0.9028\n",
      "Epoch 15/50\n",
      "429/429 [==============================] - 3s 8ms/step - loss: 0.2544 - accuracy: 0.9069\n",
      "Epoch 16/50\n",
      "429/429 [==============================] - 3s 8ms/step - loss: 0.2474 - accuracy: 0.9094\n",
      "Epoch 17/50\n",
      "429/429 [==============================] - 3s 8ms/step - loss: 0.2401 - accuracy: 0.9108\n",
      "Epoch 18/50\n",
      "429/429 [==============================] - 3s 8ms/step - loss: 0.2353 - accuracy: 0.9129\n",
      "Epoch 19/50\n",
      "429/429 [==============================] - 3s 8ms/step - loss: 0.2272 - accuracy: 0.9166\n",
      "Epoch 20/50\n",
      "429/429 [==============================] - 3s 8ms/step - loss: 0.2219 - accuracy: 0.9181\n",
      "Epoch 21/50\n",
      "429/429 [==============================] - 3s 8ms/step - loss: 0.2160 - accuracy: 0.9197\n",
      "Epoch 22/50\n",
      "429/429 [==============================] - 3s 8ms/step - loss: 0.2111 - accuracy: 0.9214\n",
      "Epoch 23/50\n",
      "429/429 [==============================] - 3s 8ms/step - loss: 0.2039 - accuracy: 0.9245\n",
      "Epoch 24/50\n",
      "429/429 [==============================] - 3s 8ms/step - loss: 0.1992 - accuracy: 0.9268\n",
      "Epoch 25/50\n",
      "429/429 [==============================] - 3s 8ms/step - loss: 0.1957 - accuracy: 0.9279\n",
      "Epoch 26/50\n",
      "429/429 [==============================] - 3s 8ms/step - loss: 0.1882 - accuracy: 0.9303\n",
      "Epoch 27/50\n",
      "429/429 [==============================] - 3s 8ms/step - loss: 0.1835 - accuracy: 0.9328\n",
      "Epoch 28/50\n",
      "429/429 [==============================] - 3s 8ms/step - loss: 0.1794 - accuracy: 0.9340\n",
      "Epoch 29/50\n",
      "429/429 [==============================] - 3s 8ms/step - loss: 0.1750 - accuracy: 0.9348\n",
      "Epoch 30/50\n",
      "429/429 [==============================] - 3s 8ms/step - loss: 0.1696 - accuracy: 0.9379\n",
      "Epoch 31/50\n",
      "429/429 [==============================] - 3s 8ms/step - loss: 0.1635 - accuracy: 0.9399\n",
      "Epoch 32/50\n",
      "429/429 [==============================] - 3s 8ms/step - loss: 0.1595 - accuracy: 0.9405\n",
      "Epoch 33/50\n",
      "429/429 [==============================] - 3s 8ms/step - loss: 0.1567 - accuracy: 0.9425\n",
      "Epoch 34/50\n",
      "429/429 [==============================] - 3s 8ms/step - loss: 0.1515 - accuracy: 0.9447\n",
      "Epoch 35/50\n",
      "429/429 [==============================] - 3s 8ms/step - loss: 0.1461 - accuracy: 0.9462\n",
      "Epoch 36/50\n",
      "429/429 [==============================] - 3s 8ms/step - loss: 0.1419 - accuracy: 0.9467\n",
      "Epoch 37/50\n",
      "429/429 [==============================] - 3s 8ms/step - loss: 0.1403 - accuracy: 0.9484\n",
      "Epoch 38/50\n",
      "429/429 [==============================] - 3s 8ms/step - loss: 0.1343 - accuracy: 0.9503\n",
      "Epoch 39/50\n",
      "429/429 [==============================] - 3s 8ms/step - loss: 0.1315 - accuracy: 0.9508\n",
      "Epoch 40/50\n",
      "429/429 [==============================] - 3s 8ms/step - loss: 0.1278 - accuracy: 0.9522\n",
      "Epoch 41/50\n",
      "429/429 [==============================] - 3s 8ms/step - loss: 0.1228 - accuracy: 0.9547\n",
      "Epoch 42/50\n",
      "429/429 [==============================] - 3s 8ms/step - loss: 0.1204 - accuracy: 0.9563\n",
      "Epoch 43/50\n",
      "429/429 [==============================] - 3s 8ms/step - loss: 0.1150 - accuracy: 0.9574\n",
      "Epoch 44/50\n",
      "429/429 [==============================] - 4s 8ms/step - loss: 0.1106 - accuracy: 0.9586\n",
      "Epoch 45/50\n",
      "429/429 [==============================] - 4s 8ms/step - loss: 0.1056 - accuracy: 0.9613\n",
      "Epoch 46/50\n",
      "429/429 [==============================] - 4s 8ms/step - loss: 0.1033 - accuracy: 0.9618\n",
      "Epoch 47/50\n",
      "429/429 [==============================] - 4s 8ms/step - loss: 0.0984 - accuracy: 0.9642\n",
      "Epoch 48/50\n",
      "429/429 [==============================] - 4s 9ms/step - loss: 0.0969 - accuracy: 0.9638\n",
      "Epoch 49/50\n",
      "429/429 [==============================] - 4s 9ms/step - loss: 0.0915 - accuracy: 0.9673\n",
      "Epoch 50/50\n",
      "429/429 [==============================] - 4s 9ms/step - loss: 0.0887 - accuracy: 0.9680\n",
      "Executing op DeleteIterator in device /job:localhost/replica:0/task:0/device:CPU:0\n"
     ]
    },
    {
     "data": {
      "text/plain": [
       "<tensorflow.python.keras.callbacks.History at 0x7f214014ba90>"
      ]
     },
     "execution_count": 4,
     "metadata": {},
     "output_type": "execute_result"
    }
   ],
   "source": [
    "model = keras.models.Sequential([\n",
    "    keras.layers.Conv2D(filters=32, kernel_size=3, padding=\"same\", activation=\"relu\", input_shape=(28, 28, 1)),\n",
    "    keras.layers.Conv2D(filters=32, kernel_size=3, padding=\"same\", activation=\"relu\"),\n",
    "    keras.layers.MaxPool2D(pool_size=2),\n",
    "    \n",
    "    keras.layers.Conv2D(filters=64, kernel_size=3, padding=\"same\", activation=\"relu\"),\n",
    "    keras.layers.Conv2D(filters=64, kernel_size=3, padding=\"same\", activation=\"relu\"),\n",
    "    keras.layers.MaxPool2D(pool_size=2),\n",
    "    \n",
    "    keras.layers.Conv2D(filters=128, kernel_size=3, padding=\"same\", activation=\"relu\"),\n",
    "    keras.layers.Conv2D(filters=128, kernel_size=3, padding=\"same\", activation=\"relu\"),\n",
    "    keras.layers.MaxPool2D(pool_size=2),\n",
    "    \n",
    "    keras.layers.Flatten(),\n",
    "    keras.layers.Dense(128, activation=\"relu\"),\n",
    "    keras.layers.Dense(10, activation=\"softmax\")\n",
    "])\n",
    "\n",
    "model.compile(loss=\"sparse_categorical_crossentropy\", optimizer=keras.optimizers.SGD(lr=0.01), metrics=[\"accuracy\"])\n",
    "\n",
    "model.fit(train_dataset, steps_per_epoch=x_train_scaled.shape[0]//batch_size, epochs=50)"
   ]
  },
  {
   "cell_type": "markdown",
   "metadata": {},
   "source": [
    "  - ### 3.3 结果"
   ]
  },
  {
   "cell_type": "code",
   "execution_count": null,
   "metadata": {},
   "outputs": [],
   "source": []
  },
  {
   "cell_type": "code",
   "execution_count": null,
   "metadata": {},
   "outputs": [],
   "source": []
  }
 ],
 "metadata": {
  "kernelspec": {
   "display_name": "Python 3",
   "language": "python",
   "name": "python3"
  },
  "language_info": {
   "codemirror_mode": {
    "name": "ipython",
    "version": 3
   },
   "file_extension": ".py",
   "mimetype": "text/x-python",
   "name": "python",
   "nbconvert_exporter": "python",
   "pygments_lexer": "ipython3",
   "version": "3.6.8"
  }
 },
 "nbformat": 4,
 "nbformat_minor": 2
}
