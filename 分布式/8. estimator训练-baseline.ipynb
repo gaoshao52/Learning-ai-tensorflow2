{
 "cells": [
  {
   "cell_type": "code",
   "execution_count": null,
   "metadata": {},
   "outputs": [],
   "source": []
  },
  {
   "cell_type": "markdown",
   "metadata": {},
   "source": []
  },
  {
   "cell_type": "markdown",
   "metadata": {},
   "source": [
    "## 1. 导入模块"
   ]
  },
  {
   "cell_type": "code",
   "execution_count": 1,
   "metadata": {},
   "outputs": [
    {
     "name": "stdout",
     "output_type": "stream",
     "text": [
      "numpy 1.18.1\n",
      "pandas 0.25.3\n",
      "sklearn 0.22.1\n",
      "matplotlib 3.1.2\n",
      "tensorflow_core.python.keras.api._v2.keras 2.2.4-tf\n",
      "tensorflow 2.1.0\n"
     ]
    }
   ],
   "source": [
    "%matplotlib inline\n",
    "import numpy as np\n",
    "import pandas as pd\n",
    "import sklearn\n",
    "import matplotlib as mpl\n",
    "import matplotlib.pyplot as plt\n",
    "\n",
    "from tensorflow import keras\n",
    "import tensorflow as tf\n",
    "\n",
    "import sys\n",
    "import os\n",
    "import time\n",
    "import datetime\n",
    "\n",
    "for module in [np, pd, sklearn, mpl, keras, tf]:\n",
    "    print(module.__name__, module.__version__)"
   ]
  },
  {
   "cell_type": "markdown",
   "metadata": {},
   "source": [
    "## 2. GPU配置策略（一个GPU可见）"
   ]
  },
  {
   "cell_type": "code",
   "execution_count": 2,
   "metadata": {},
   "outputs": [
    {
     "name": "stdout",
     "output_type": "stream",
     "text": [
      "Physical GPU: 1\n",
      "Logical GPU: 1\n"
     ]
    }
   ],
   "source": [
    "tf.debugging.set_log_device_placement(True)\n",
    "tf.config.set_soft_device_placement(True)\n",
    "\n",
    "gpus = tf.config.experimental.list_physical_devices(\"GPU\")\n",
    "tf.config.experimental.set_visible_devices(gpus[0], \"GPU\")  # 在一个gpu训练\n",
    "for gpu in gpus:\n",
    "    tf.config.experimental.set_memory_growth(gpu, True)\n",
    "\n",
    "print(\"Physical GPU: {}\".format(len(gpus)))\n",
    "\n",
    "logical_gpus = tf.config.experimental.list_logical_devices(\"GPU\")\n",
    "print(\"Logical GPU: {}\".format(len(logical_gpus)))"
   ]
  },
  {
   "cell_type": "markdown",
   "metadata": {},
   "source": [
    "## 3. 在一个gpu训练"
   ]
  },
  {
   "cell_type": "markdown",
   "metadata": {},
   "source": [
    "  - ### 3.1 获取fashion mnist数据"
   ]
  },
  {
   "cell_type": "code",
   "execution_count": 3,
   "metadata": {},
   "outputs": [
    {
     "name": "stdout",
     "output_type": "stream",
     "text": [
      "(55000, 28, 28, 1) (55000,)\n",
      "(5000, 28, 28, 1) (5000,)\n",
      "(10000, 28, 28, 1) (10000,)\n"
     ]
    }
   ],
   "source": [
    "# 取出fashion mnist 数据集\n",
    "fashion_mnist = keras.datasets.fashion_mnist\n",
    "(x_train_all, y_train_all), (x_test, y_test) = fashion_mnist.load_data()\n",
    "\n",
    "x_valid, x_train = x_train_all[:5000], x_train_all[5000:]\n",
    "y_valid, y_train = y_train_all[:5000], y_train_all[5000:]\n",
    "\n",
    "\n",
    "# 标准化\n",
    "from sklearn.preprocessing import StandardScaler\n",
    "\n",
    "scaler = StandardScaler()\n",
    "\n",
    "x_train_scaled = scaler.fit_transform(x_train.astype(np.float32).reshape(-1, 1)).reshape(-1, 28, 28, 1)\n",
    "x_valid_scaled = scaler.transform(x_valid.astype(np.float32).reshape(-1, 1)).reshape(-1, 28, 28, 1)\n",
    "x_test_scaled = scaler.transform(x_test.astype(np.float32).reshape(-1, 1)).reshape(-1, 28, 28, 1)\n",
    "\n",
    "print(x_train_scaled.shape, y_train.shape)\n",
    "print(x_valid_scaled.shape, y_valid.shape)\n",
    "print(x_test_scaled.shape, y_test.shape)\n",
    "\n",
    "\n",
    "# 制作dataset 数据集\n",
    "def make_dataset(images, labels, epochs, batch_size, shuffle=True):\n",
    "    dataset = tf.data.Dataset.from_tensor_slices((images, labels))\n",
    "    if shuffle:\n",
    "        dataset = dataset.shuffle(10000)\n",
    "    dataset = dataset.repeat(epochs).batch(batch_size).prefetch(50) # prefetch 先取出50个样本准备\n",
    "    return dataset\n",
    "\n",
    "\n",
    "batch_size = 256\n",
    "epochs = None\n",
    "# train_dataset = make_dataset(x_train_scaled, y_train, epochs, batch_size)"
   ]
  },
  {
   "cell_type": "markdown",
   "metadata": {},
   "source": [
    "  - ### 3.2 estimator模型训练"
   ]
  },
  {
   "cell_type": "code",
   "execution_count": 4,
   "metadata": {},
   "outputs": [
    {
     "name": "stdout",
     "output_type": "stream",
     "text": [
      "Executing op RandomUniform in device /job:localhost/replica:0/task:0/device:GPU:0\n",
      "Executing op Sub in device /job:localhost/replica:0/task:0/device:GPU:0\n",
      "Executing op Mul in device /job:localhost/replica:0/task:0/device:GPU:0\n",
      "Executing op Add in device /job:localhost/replica:0/task:0/device:GPU:0\n",
      "Executing op VarHandleOp in device /job:localhost/replica:0/task:0/device:GPU:0\n",
      "Executing op VarIsInitializedOp in device /job:localhost/replica:0/task:0/device:GPU:0\n",
      "Executing op LogicalNot in device /job:localhost/replica:0/task:0/device:GPU:0\n",
      "Executing op Assert in device /job:localhost/replica:0/task:0/device:GPU:0\n",
      "Executing op AssignVariableOp in device /job:localhost/replica:0/task:0/device:GPU:0\n",
      "Executing op Fill in device /job:localhost/replica:0/task:0/device:GPU:0\n",
      "Executing op VarHandleOp in device /job:localhost/replica:0/task:0/device:GPU:0\n",
      "Executing op VarHandleOp in device /job:localhost/replica:0/task:0/device:GPU:0\n",
      "Executing op VarHandleOp in device /job:localhost/replica:0/task:0/device:GPU:0\n",
      "Executing op VarHandleOp in device /job:localhost/replica:0/task:0/device:GPU:0\n",
      "Executing op VarHandleOp in device /job:localhost/replica:0/task:0/device:GPU:0\n",
      "Executing op VarHandleOp in device /job:localhost/replica:0/task:0/device:GPU:0\n",
      "Executing op VarHandleOp in device /job:localhost/replica:0/task:0/device:GPU:0\n",
      "Executing op VarHandleOp in device /job:localhost/replica:0/task:0/device:GPU:0\n",
      "Executing op VarHandleOp in device /job:localhost/replica:0/task:0/device:GPU:0\n",
      "Executing op VarHandleOp in device /job:localhost/replica:0/task:0/device:GPU:0\n",
      "Executing op VarHandleOp in device /job:localhost/replica:0/task:0/device:GPU:0\n",
      "Executing op VarHandleOp in device /job:localhost/replica:0/task:0/device:GPU:0\n",
      "INFO:tensorflow:Using default config.\n",
      "WARNING:tensorflow:Using temporary folder as model directory: /tmp/tmpporltjyd\n",
      "INFO:tensorflow:Using the Keras model provided.\n",
      "Executing op ReadVariableOp in device /job:localhost/replica:0/task:0/device:GPU:0\n",
      "Executing op Identity in device /job:localhost/replica:0/task:0/device:GPU:0\n",
      "WARNING:tensorflow:From /home/gaosy/environment/tf2_py3/lib/python3.6/site-packages/tensorflow_core/python/ops/resource_variable_ops.py:1635: calling BaseResourceVariable.__init__ (from tensorflow.python.ops.resource_variable_ops) with constraint is deprecated and will be removed in a future version.\n",
      "Instructions for updating:\n",
      "If using Keras pass *_constraint arguments to layers.\n",
      "INFO:tensorflow:Using config: {'_model_dir': '/tmp/tmpporltjyd', '_tf_random_seed': None, '_save_summary_steps': 100, '_save_checkpoints_steps': None, '_save_checkpoints_secs': 600, '_session_config': allow_soft_placement: true\n",
      "graph_options {\n",
      "  rewrite_options {\n",
      "    meta_optimizer_iterations: ONE\n",
      "  }\n",
      "}\n",
      ", '_keep_checkpoint_max': 5, '_keep_checkpoint_every_n_hours': 10000, '_log_step_count_steps': 100, '_train_distribute': None, '_device_fn': None, '_protocol': None, '_eval_distribute': None, '_experimental_distribute': None, '_experimental_max_worker_delay_secs': None, '_session_creation_timeout_secs': 7200, '_service': None, '_cluster_spec': ClusterSpec({}), '_task_type': 'worker', '_task_id': 0, '_global_id_in_cluster': 0, '_master': '', '_evaluation_master': '', '_is_chief': True, '_num_ps_replicas': 0, '_num_worker_replicas': 1}\n"
     ]
    }
   ],
   "source": [
    "model = keras.models.Sequential([\n",
    "    keras.layers.Conv2D(filters=32, kernel_size=3, padding=\"same\", activation=\"relu\", input_shape=(28, 28, 1)),\n",
    "    keras.layers.Conv2D(filters=32, kernel_size=3, padding=\"same\", activation=\"relu\"),\n",
    "    keras.layers.MaxPool2D(pool_size=2),\n",
    "    \n",
    "    keras.layers.Conv2D(filters=64, kernel_size=3, padding=\"same\", activation=\"relu\"),\n",
    "    keras.layers.Conv2D(filters=64, kernel_size=3, padding=\"same\", activation=\"relu\"),\n",
    "    keras.layers.MaxPool2D(pool_size=2),\n",
    "    \n",
    "    keras.layers.Conv2D(filters=128, kernel_size=3, padding=\"same\", activation=\"relu\"),\n",
    "    keras.layers.Conv2D(filters=128, kernel_size=3, padding=\"same\", activation=\"relu\"),\n",
    "    keras.layers.MaxPool2D(pool_size=2),\n",
    "    \n",
    "    keras.layers.Flatten(),\n",
    "    keras.layers.Dense(128, activation=\"relu\"),\n",
    "    keras.layers.Dense(10, activation=\"softmax\")\n",
    "])\n",
    "\n",
    "model.compile(loss=\"sparse_categorical_crossentropy\", optimizer=keras.optimizers.SGD(lr=0.01), metrics=[\"accuracy\"])\n",
    "\n",
    "estimator = keras.estimator.model_to_estimator(model)"
   ]
  },
  {
   "cell_type": "code",
   "execution_count": 6,
   "metadata": {},
   "outputs": [
    {
     "name": "stdout",
     "output_type": "stream",
     "text": [
      "INFO:tensorflow:Calling model_fn.\n",
      "INFO:tensorflow:Done calling model_fn.\n",
      "INFO:tensorflow:Warm-starting with WarmStartSettings: WarmStartSettings(ckpt_to_initialize_from='/tmp/tmpporltjyd/keras/keras_model.ckpt', vars_to_warm_start='.*', var_name_to_vocab_info={}, var_name_to_prev_var_name={})\n",
      "INFO:tensorflow:Warm-starting from: /tmp/tmpporltjyd/keras/keras_model.ckpt\n",
      "INFO:tensorflow:Warm-starting variables only in TRAINABLE_VARIABLES.\n",
      "INFO:tensorflow:Warm-started 16 variables.\n",
      "INFO:tensorflow:Create CheckpointSaverHook.\n",
      "INFO:tensorflow:Graph was finalized.\n",
      "INFO:tensorflow:Running local_init_op.\n",
      "INFO:tensorflow:Done running local_init_op.\n",
      "INFO:tensorflow:Saving checkpoints for 0 into /tmp/tmpporltjyd/model.ckpt.\n",
      "INFO:tensorflow:loss = 2.3007555, step = 0\n",
      "INFO:tensorflow:global_step/sec: 77.4301\n",
      "INFO:tensorflow:loss = 2.2705343, step = 100 (1.292 sec)\n",
      "INFO:tensorflow:global_step/sec: 81.7366\n",
      "INFO:tensorflow:loss = 1.8096063, step = 200 (1.223 sec)\n",
      "INFO:tensorflow:global_step/sec: 81.7813\n",
      "INFO:tensorflow:loss = 0.97212756, step = 300 (1.223 sec)\n",
      "INFO:tensorflow:global_step/sec: 81.8838\n",
      "INFO:tensorflow:loss = 0.8396838, step = 400 (1.221 sec)\n",
      "INFO:tensorflow:global_step/sec: 81.9175\n",
      "INFO:tensorflow:loss = 0.63212025, step = 500 (1.221 sec)\n",
      "INFO:tensorflow:global_step/sec: 81.6985\n",
      "INFO:tensorflow:loss = 0.6578138, step = 600 (1.224 sec)\n",
      "INFO:tensorflow:global_step/sec: 81.4261\n",
      "INFO:tensorflow:loss = 0.63685554, step = 700 (1.228 sec)\n",
      "INFO:tensorflow:global_step/sec: 81.4969\n",
      "INFO:tensorflow:loss = 0.64401567, step = 800 (1.227 sec)\n",
      "INFO:tensorflow:global_step/sec: 81.5093\n",
      "INFO:tensorflow:loss = 0.6045454, step = 900 (1.227 sec)\n",
      "INFO:tensorflow:global_step/sec: 81.645\n",
      "INFO:tensorflow:loss = 0.50778735, step = 1000 (1.225 sec)\n",
      "INFO:tensorflow:global_step/sec: 81.6003\n",
      "INFO:tensorflow:loss = 0.53678477, step = 1100 (1.225 sec)\n",
      "INFO:tensorflow:global_step/sec: 81.6286\n",
      "INFO:tensorflow:loss = 0.50231767, step = 1200 (1.225 sec)\n",
      "INFO:tensorflow:global_step/sec: 81.651\n",
      "INFO:tensorflow:loss = 0.54926765, step = 1300 (1.225 sec)\n",
      "INFO:tensorflow:global_step/sec: 81.622\n",
      "INFO:tensorflow:loss = 0.46372744, step = 1400 (1.225 sec)\n",
      "INFO:tensorflow:global_step/sec: 81.4501\n",
      "INFO:tensorflow:loss = 0.38368964, step = 1500 (1.228 sec)\n",
      "INFO:tensorflow:global_step/sec: 80.797\n",
      "INFO:tensorflow:loss = 0.35850844, step = 1600 (1.238 sec)\n",
      "INFO:tensorflow:global_step/sec: 81.7226\n",
      "INFO:tensorflow:loss = 0.40483055, step = 1700 (1.224 sec)\n",
      "INFO:tensorflow:global_step/sec: 81.8029\n",
      "INFO:tensorflow:loss = 0.36394113, step = 1800 (1.222 sec)\n",
      "INFO:tensorflow:global_step/sec: 81.9079\n",
      "INFO:tensorflow:loss = 0.3381863, step = 1900 (1.221 sec)\n",
      "INFO:tensorflow:global_step/sec: 81.7777\n",
      "INFO:tensorflow:loss = 0.3338836, step = 2000 (1.223 sec)\n",
      "INFO:tensorflow:global_step/sec: 81.8191\n",
      "INFO:tensorflow:loss = 0.42259282, step = 2100 (1.222 sec)\n",
      "INFO:tensorflow:global_step/sec: 81.736\n",
      "INFO:tensorflow:loss = 0.4218105, step = 2200 (1.223 sec)\n",
      "INFO:tensorflow:global_step/sec: 81.7549\n",
      "INFO:tensorflow:loss = 0.34647486, step = 2300 (1.223 sec)\n",
      "INFO:tensorflow:global_step/sec: 81.7647\n",
      "INFO:tensorflow:loss = 0.49082866, step = 2400 (1.223 sec)\n",
      "INFO:tensorflow:global_step/sec: 81.7619\n",
      "INFO:tensorflow:loss = 0.4206623, step = 2500 (1.223 sec)\n",
      "INFO:tensorflow:global_step/sec: 82.0202\n",
      "INFO:tensorflow:loss = 0.3040825, step = 2600 (1.219 sec)\n",
      "INFO:tensorflow:global_step/sec: 82.0203\n",
      "INFO:tensorflow:loss = 0.42064747, step = 2700 (1.219 sec)\n",
      "INFO:tensorflow:global_step/sec: 82.0305\n",
      "INFO:tensorflow:loss = 0.43019632, step = 2800 (1.219 sec)\n",
      "INFO:tensorflow:global_step/sec: 82.0197\n",
      "INFO:tensorflow:loss = 0.34209433, step = 2900 (1.219 sec)\n",
      "INFO:tensorflow:global_step/sec: 82.1163\n",
      "INFO:tensorflow:loss = 0.39696836, step = 3000 (1.218 sec)\n",
      "INFO:tensorflow:global_step/sec: 82.12\n",
      "INFO:tensorflow:loss = 0.39254996, step = 3100 (1.218 sec)\n",
      "INFO:tensorflow:global_step/sec: 82.1361\n",
      "INFO:tensorflow:loss = 0.3557471, step = 3200 (1.218 sec)\n",
      "INFO:tensorflow:global_step/sec: 82.1777\n",
      "INFO:tensorflow:loss = 0.39100915, step = 3300 (1.216 sec)\n",
      "INFO:tensorflow:global_step/sec: 82.2426\n",
      "INFO:tensorflow:loss = 0.37427598, step = 3400 (1.216 sec)\n",
      "INFO:tensorflow:global_step/sec: 82.2324\n",
      "INFO:tensorflow:loss = 0.3575294, step = 3500 (1.216 sec)\n",
      "INFO:tensorflow:global_step/sec: 81.9499\n",
      "INFO:tensorflow:loss = 0.3536149, step = 3600 (1.220 sec)\n",
      "INFO:tensorflow:global_step/sec: 81.8754\n",
      "INFO:tensorflow:loss = 0.34859994, step = 3700 (1.222 sec)\n",
      "INFO:tensorflow:global_step/sec: 81.7902\n",
      "INFO:tensorflow:loss = 0.3104221, step = 3800 (1.222 sec)\n",
      "INFO:tensorflow:global_step/sec: 82.0154\n",
      "INFO:tensorflow:loss = 0.26419932, step = 3900 (1.219 sec)\n",
      "INFO:tensorflow:global_step/sec: 81.8763\n",
      "INFO:tensorflow:loss = 0.29127634, step = 4000 (1.222 sec)\n",
      "INFO:tensorflow:global_step/sec: 81.8587\n",
      "INFO:tensorflow:loss = 0.3427977, step = 4100 (1.221 sec)\n",
      "INFO:tensorflow:global_step/sec: 81.8897\n",
      "INFO:tensorflow:loss = 0.33597246, step = 4200 (1.221 sec)\n",
      "INFO:tensorflow:global_step/sec: 81.8488\n",
      "INFO:tensorflow:loss = 0.2667129, step = 4300 (1.222 sec)\n",
      "INFO:tensorflow:global_step/sec: 81.9501\n",
      "INFO:tensorflow:loss = 0.2814652, step = 4400 (1.220 sec)\n",
      "INFO:tensorflow:global_step/sec: 81.8133\n",
      "INFO:tensorflow:loss = 0.35269457, step = 4500 (1.222 sec)\n",
      "INFO:tensorflow:global_step/sec: 81.8722\n",
      "INFO:tensorflow:loss = 0.23705252, step = 4600 (1.221 sec)\n",
      "INFO:tensorflow:global_step/sec: 81.8367\n",
      "INFO:tensorflow:loss = 0.31125554, step = 4700 (1.222 sec)\n",
      "INFO:tensorflow:global_step/sec: 81.8438\n",
      "INFO:tensorflow:loss = 0.27541092, step = 4800 (1.222 sec)\n",
      "INFO:tensorflow:global_step/sec: 81.8287\n",
      "INFO:tensorflow:loss = 0.25446123, step = 4900 (1.222 sec)\n",
      "INFO:tensorflow:Saving checkpoints for 5000 into /tmp/tmpporltjyd/model.ckpt.\n",
      "INFO:tensorflow:Loss for final step: 0.26934248.\n"
     ]
    },
    {
     "data": {
      "text/plain": [
       "<tensorflow_estimator.python.estimator.estimator.EstimatorV2 at 0x7f1498286da0>"
      ]
     },
     "execution_count": 6,
     "metadata": {},
     "output_type": "execute_result"
    }
   ],
   "source": [
    "estimator.train(input_fn=lambda: make_dataset(x_train_scaled, y_train, epochs, batch_size), \n",
    "                max_steps=5000)"
   ]
  }
 ],
 "metadata": {
  "kernelspec": {
   "display_name": "Python 3",
   "language": "python",
   "name": "python3"
  },
  "language_info": {
   "codemirror_mode": {
    "name": "ipython",
    "version": 3
   },
   "file_extension": ".py",
   "mimetype": "text/x-python",
   "name": "python",
   "nbconvert_exporter": "python",
   "pygments_lexer": "ipython3",
   "version": "3.6.8"
  }
 },
 "nbformat": 4,
 "nbformat_minor": 2
}
