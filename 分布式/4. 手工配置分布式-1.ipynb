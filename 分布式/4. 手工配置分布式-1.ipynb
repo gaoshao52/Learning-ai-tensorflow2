{
 "cells": [
  {
   "cell_type": "markdown",
   "metadata": {},
   "source": [
    "# 目录\n",
    "## 1. 导入模块\n",
    "## 2. GPU的配置策略（因为只有一个gpu，所以就虚拟4个gpu测试）\n",
    "## 3. 测试"
   ]
  },
  {
   "cell_type": "markdown",
   "metadata": {},
   "source": [
    "## 1. 导入模块"
   ]
  },
  {
   "cell_type": "code",
   "execution_count": 1,
   "metadata": {},
   "outputs": [
    {
     "name": "stdout",
     "output_type": "stream",
     "text": [
      "numpy 1.18.1\n",
      "pandas 0.25.3\n",
      "sklearn 0.22.1\n",
      "matplotlib 3.1.2\n",
      "tensorflow_core.python.keras.api._v2.keras 2.2.4-tf\n",
      "tensorflow 2.1.0\n"
     ]
    }
   ],
   "source": [
    "%matplotlib inline\n",
    "import numpy as np\n",
    "import pandas as pd\n",
    "import sklearn\n",
    "import matplotlib as mpl\n",
    "import matplotlib.pyplot as plt\n",
    "\n",
    "from tensorflow import keras\n",
    "import tensorflow as tf\n",
    "\n",
    "import sys\n",
    "import os\n",
    "import time\n",
    "import datetime\n",
    "\n",
    "for module in [np, pd, sklearn, mpl, keras, tf]:\n",
    "    print(module.__name__, module.__version__)"
   ]
  },
  {
   "cell_type": "markdown",
   "metadata": {},
   "source": [
    "## 2. GPU的配置策略（因为只有一个gpu，所以就虚拟4个gpu测试）"
   ]
  },
  {
   "cell_type": "code",
   "execution_count": 2,
   "metadata": {},
   "outputs": [
    {
     "name": "stdout",
     "output_type": "stream",
     "text": [
      "Physical GPU: 1\n",
      "Logical GPU: 4\n"
     ]
    }
   ],
   "source": [
    "'''\n",
    "tf.debugging.set_log_device_placement(True)  # 打印设备运行日志\n",
    "tf.config.set_soft_device_placement(True)  # 把运算放在合适的设备运行\n",
    "GPUS = tf.config.experimental.list_physical_devices(\"GPU\") # 获取物理GPU\n",
    "for gpu in GPUS:\n",
    "    # 设置GPU内存自增长模式，需要多少，就用多少， 这一行代码必须要在程序刚开始运行的时候运行\n",
    "    tf.config.experimental.set_memory_growth(gpu, True)  \n",
    "print(\"Physical GPU: {}\".format(len(GPUS)))\n",
    "\n",
    "logical_gpus = tf.config.experimental.list_logical_devices(\"GPU\") # 获取逻辑GPU，逻辑GPU就像电脑磁盘分区，默认是在第0个逻辑分区训练\n",
    "print(\"Logical GPU: {}\".format(len(logical_gpus)))\n",
    "\n",
    "'''\n",
    "# 虚拟多个gpu，用来验证。。。如果有多个物理gpu，就用上面的代码\n",
    "\n",
    "tf.debugging.set_log_device_placement(True)  # 打印设备运行日志\n",
    "tf.config.set_soft_device_placement(True)  # 把运算放在合适的设备运行\n",
    "GPUS = tf.config.experimental.list_physical_devices(\"GPU\") # 获取物理GPU\n",
    "tf.config.experimental.set_visible_devices(GPUS[0], \"GPU\") # 设置该程序可访问的GPU，默认是在第0个gpu上训练\n",
    "tf.config.experimental.set_virtual_device_configuration(  # 对某一个物理gpu设置逻辑分区， 默认一个物理gpu对应一个逻辑gpu\n",
    "    GPUS[0],\n",
    "    [tf.config.experimental.VirtualDeviceConfiguration(memory_limit=2072),\n",
    "     tf.config.experimental.VirtualDeviceConfiguration(memory_limit=2072),\n",
    "    tf.config.experimental.VirtualDeviceConfiguration(memory_limit=2072),\n",
    "    tf.config.experimental.VirtualDeviceConfiguration(memory_limit=2072)]\n",
    ")\n",
    "\n",
    "print(\"Physical GPU: {}\".format(len(GPUS)))\n",
    "\n",
    "logical_gpus = tf.config.experimental.list_logical_devices(\"GPU\") # 获取逻辑GPU，逻辑GPU就像电脑磁盘分区，默认是在第0个逻辑分区训练\n",
    "print(\"Logical GPU: {}\".format(len(logical_gpus)))"
   ]
  },
  {
   "cell_type": "markdown",
   "metadata": {},
   "source": [
    "## 3. 测试"
   ]
  },
  {
   "cell_type": "code",
   "execution_count": 3,
   "metadata": {},
   "outputs": [
    {
     "name": "stdout",
     "output_type": "stream",
     "text": [
      "/device:GPU:0\n",
      "Executing op MatMul in device /job:localhost/replica:0/task:0/device:GPU:0\n",
      "/device:GPU:1\n",
      "Executing op MatMul in device /job:localhost/replica:0/task:0/device:GPU:1\n",
      "/device:GPU:2\n",
      "Executing op MatMul in device /job:localhost/replica:0/task:0/device:GPU:2\n",
      "/device:GPU:3\n",
      "Executing op MatMul in device /job:localhost/replica:0/task:0/device:GPU:3\n",
      "Executing op AddN in device /job:localhost/replica:0/task:0/device:CPU:0\n",
      "tf.Tensor(\n",
      "[[ 88. 112.]\n",
      " [196. 256.]], shape=(2, 2), dtype=float32)\n"
     ]
    }
   ],
   "source": [
    "c = []\n",
    "for gpu in logical_gpus:\n",
    "    print(gpu.name)\n",
    "    with tf.device(gpu.name):\n",
    "        a = tf.constant([[1., 2., 3.], [4., 5., 6.]])\n",
    "        b = tf.constant([[1., 2.], [3., 4.], [5., 6.]])\n",
    "        c.append(tf.matmul(a, b))\n",
    "with tf.device(\"/CPU:0\"):\n",
    "    matmul_sum = tf.add_n(c)\n",
    "\n",
    "print(matmul_sum)"
   ]
  },
  {
   "cell_type": "code",
   "execution_count": null,
   "metadata": {},
   "outputs": [],
   "source": []
  },
  {
   "cell_type": "code",
   "execution_count": null,
   "metadata": {},
   "outputs": [],
   "source": []
  }
 ],
 "metadata": {
  "kernelspec": {
   "display_name": "Python 3",
   "language": "python",
   "name": "python3"
  },
  "language_info": {
   "codemirror_mode": {
    "name": "ipython",
    "version": 3
   },
   "file_extension": ".py",
   "mimetype": "text/x-python",
   "name": "python",
   "nbconvert_exporter": "python",
   "pygments_lexer": "ipython3",
   "version": "3.6.8"
  }
 },
 "nbformat": 4,
 "nbformat_minor": 2
}
