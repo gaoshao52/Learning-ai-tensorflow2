{
 "cells": [
  {
   "cell_type": "markdown",
   "metadata": {},
   "source": [
    "# 目录\n",
    "## 1. 模块导入\n",
    "## 2. GPU配置策略\n",
    "  - `tf.debugging.set_log_device_placement`\n",
    "  - `tf.config.experimental.list_physical_devices`\n",
    "  - `tf.config.experimental.set_visible_devices`\n",
    "  - `tf.config.experimental.set_virtual_device_configuration`\n",
    "  - `tf.config.experimental.VirtualDeviceConfiguration`\n",
    "  - `tf.config.experimental.list_logical_devices`\n",
    "  \n",
    "## 3. keras训练测试，是否在第0个逻辑分区运行（fashion_mnist）\n",
    "  - ### 3.1 获取fashion mnist数据\n",
    "  - ### 3.2 keras模型训练\n",
    "  - ### 3.3 结果\n",
    "  "
   ]
  },
  {
   "cell_type": "markdown",
   "metadata": {},
   "source": [
    "## 1. 模块导入"
   ]
  },
  {
   "cell_type": "code",
   "execution_count": 1,
   "metadata": {},
   "outputs": [
    {
     "name": "stdout",
     "output_type": "stream",
     "text": [
      "numpy 1.18.1\n",
      "pandas 0.25.3\n",
      "sklearn 0.22.1\n",
      "matplotlib 3.1.2\n",
      "tensorflow_core.python.keras.api._v2.keras 2.2.4-tf\n",
      "tensorflow 2.1.0\n"
     ]
    }
   ],
   "source": [
    "%matplotlib inline\n",
    "import numpy as np\n",
    "import pandas as pd\n",
    "import sklearn\n",
    "import matplotlib as mpl\n",
    "import matplotlib.pyplot as plt\n",
    "\n",
    "from tensorflow import keras\n",
    "import tensorflow as tf\n",
    "\n",
    "import sys\n",
    "import os\n",
    "import time\n",
    "import datetime\n",
    "\n",
    "for module in [np, pd, sklearn, mpl, keras, tf]:\n",
    "    print(module.__name__, module.__version__)"
   ]
  },
  {
   "cell_type": "markdown",
   "metadata": {},
   "source": [
    "# 2. GPU配置策略"
   ]
  },
  {
   "cell_type": "code",
   "execution_count": 2,
   "metadata": {},
   "outputs": [
    {
     "name": "stdout",
     "output_type": "stream",
     "text": [
      "Physical GPU: 1\n",
      "Logical GPU: 2\n"
     ]
    }
   ],
   "source": [
    "tf.debugging.set_log_device_placement(True)  # 打印设备运行日志\n",
    "GPUS = tf.config.experimental.list_physical_devices(\"GPU\") # 获取物理GPU\n",
    "tf.config.experimental.set_visible_devices(GPUS[0], \"GPU\") # 设置该程序可访问的GPU，默认是在第0个gpu上训练\n",
    "tf.config.experimental.set_virtual_device_configuration(  # 对某一个物理gpu设置逻辑分区，默认一个物理gpu对应一个逻辑gpu\n",
    "    GPUS[0],\n",
    "    [tf.config.experimental.VirtualDeviceConfiguration(memory_limit=3072),\n",
    "     tf.config.experimental.VirtualDeviceConfiguration(memory_limit=3072)]\n",
    ")\n",
    "\n",
    "print(\"Physical GPU: {}\".format(len(GPUS)))\n",
    "\n",
    "logical_gpus = tf.config.experimental.list_logical_devices(\"GPU\") # 获取逻辑GPU，逻辑GPU就像电脑磁盘分区，默认是在第0个逻辑分区训练\n",
    "print(\"Logical GPU: {}\".format(len(logical_gpus)))"
   ]
  },
  {
   "cell_type": "markdown",
   "metadata": {},
   "source": [
    "## 3. keras训练测试，是否在第0个逻辑分区运行（fashion_mnist）"
   ]
  },
  {
   "cell_type": "markdown",
   "metadata": {},
   "source": [
    "  - ### 3.1 获取fashion mnist数据"
   ]
  },
  {
   "cell_type": "code",
   "execution_count": 3,
   "metadata": {},
   "outputs": [
    {
     "name": "stdout",
     "output_type": "stream",
     "text": [
      "(55000, 28, 28, 1) (55000,)\n",
      "(5000, 28, 28, 1) (5000,)\n",
      "(10000, 28, 28, 1) (10000,)\n",
      "Executing op TensorSliceDataset in device /job:localhost/replica:0/task:0/device:CPU:0\n",
      "Executing op AnonymousRandomSeedGenerator in device /job:localhost/replica:0/task:0/device:CPU:0\n",
      "Executing op ShuffleDatasetV2 in device /job:localhost/replica:0/task:0/device:CPU:0\n",
      "Executing op RepeatDataset in device /job:localhost/replica:0/task:0/device:CPU:0\n",
      "Executing op BatchDatasetV2 in device /job:localhost/replica:0/task:0/device:CPU:0\n",
      "Executing op PrefetchDataset in device /job:localhost/replica:0/task:0/device:CPU:0\n"
     ]
    }
   ],
   "source": [
    "# 取出fashion mnist 数据集\n",
    "fashion_mnist = keras.datasets.fashion_mnist\n",
    "(x_train_all, y_train_all), (x_test, y_test) = fashion_mnist.load_data()\n",
    "\n",
    "x_valid, x_train = x_train_all[:5000], x_train_all[5000:]\n",
    "y_valid, y_train = y_train_all[:5000], y_train_all[5000:]\n",
    "\n",
    "\n",
    "# 标准化\n",
    "from sklearn.preprocessing import StandardScaler\n",
    "\n",
    "scaler = StandardScaler()\n",
    "\n",
    "x_train_scaled = scaler.fit_transform(x_train.astype(np.float32).reshape(-1, 1)).reshape(-1, 28, 28, 1)\n",
    "x_valid_scaled = scaler.transform(x_valid.astype(np.float32).reshape(-1, 1)).reshape(-1, 28, 28, 1)\n",
    "x_test_scaled = scaler.transform(x_test.astype(np.float32).reshape(-1, 1)).reshape(-1, 28, 28, 1)\n",
    "\n",
    "print(x_train_scaled.shape, y_train.shape)\n",
    "print(x_valid_scaled.shape, y_valid.shape)\n",
    "print(x_test_scaled.shape, y_test.shape)\n",
    "\n",
    "\n",
    "# 制作dataset 数据集\n",
    "def make_dataset(images, labels, epochs, batch_size, shuffle=True):\n",
    "    dataset = tf.data.Dataset.from_tensor_slices((images, labels))\n",
    "    if shuffle:\n",
    "        dataset = dataset.shuffle(10000)\n",
    "    dataset = dataset.repeat(epochs).batch(batch_size).prefetch(50) # prefetch 先取出50个样本准备\n",
    "    return dataset\n",
    "\n",
    "batch_size = 128\n",
    "epochs = None\n",
    "train_dataset = make_dataset(x_train_scaled, y_train, epochs, batch_size)"
   ]
  },
  {
   "cell_type": "markdown",
   "metadata": {},
   "source": [
    "  - ### 3.2 keras模型训练"
   ]
  },
  {
   "cell_type": "code",
   "execution_count": 4,
   "metadata": {},
   "outputs": [
    {
     "name": "stdout",
     "output_type": "stream",
     "text": [
      "Executing op RandomUniform in device /job:localhost/replica:0/task:0/device:GPU:0\n",
      "Executing op Sub in device /job:localhost/replica:0/task:0/device:GPU:0\n",
      "Executing op Mul in device /job:localhost/replica:0/task:0/device:GPU:0\n",
      "Executing op Add in device /job:localhost/replica:0/task:0/device:GPU:0\n",
      "Executing op VarHandleOp in device /job:localhost/replica:0/task:0/device:GPU:0\n",
      "Executing op VarIsInitializedOp in device /job:localhost/replica:0/task:0/device:GPU:0\n",
      "Executing op LogicalNot in device /job:localhost/replica:0/task:0/device:GPU:0\n",
      "Executing op Assert in device /job:localhost/replica:0/task:0/device:GPU:0\n",
      "Executing op AssignVariableOp in device /job:localhost/replica:0/task:0/device:GPU:0\n",
      "Executing op Fill in device /job:localhost/replica:0/task:0/device:GPU:0\n",
      "Executing op VarHandleOp in device /job:localhost/replica:0/task:0/device:GPU:0\n",
      "Executing op VarHandleOp in device /job:localhost/replica:0/task:0/device:GPU:0\n",
      "Executing op VarHandleOp in device /job:localhost/replica:0/task:0/device:GPU:0\n",
      "Executing op VarHandleOp in device /job:localhost/replica:0/task:0/device:GPU:0\n",
      "Executing op VarHandleOp in device /job:localhost/replica:0/task:0/device:GPU:0\n",
      "Executing op VarHandleOp in device /job:localhost/replica:0/task:0/device:GPU:0\n",
      "Executing op VarHandleOp in device /job:localhost/replica:0/task:0/device:GPU:0\n",
      "Executing op VarHandleOp in device /job:localhost/replica:0/task:0/device:GPU:0\n",
      "Executing op VarHandleOp in device /job:localhost/replica:0/task:0/device:GPU:0\n",
      "Executing op VarHandleOp in device /job:localhost/replica:0/task:0/device:GPU:0\n",
      "Executing op VarHandleOp in device /job:localhost/replica:0/task:0/device:GPU:0\n",
      "Executing op VarHandleOp in device /job:localhost/replica:0/task:0/device:GPU:0\n",
      "Executing op ParallelMapDataset in device /job:localhost/replica:0/task:0/device:CPU:0\n",
      "Executing op DatasetCardinality in device /job:localhost/replica:0/task:0/device:CPU:0\n",
      "Train for 429 steps\n",
      "Epoch 1/50\n",
      "Executing op OptimizeDataset in device /job:localhost/replica:0/task:0/device:CPU:0\n",
      "Executing op ModelDataset in device /job:localhost/replica:0/task:0/device:CPU:0\n",
      "Executing op AnonymousIteratorV2 in device /job:localhost/replica:0/task:0/device:CPU:0\n",
      "Executing op MakeIterator in device /job:localhost/replica:0/task:0/device:CPU:0\n",
      "Executing op VarHandleOp in device /job:localhost/replica:0/task:0/device:GPU:0\n",
      "Executing op AssignVariableOp in device /job:localhost/replica:0/task:0/device:GPU:0\n",
      "Executing op VarHandleOp in device /job:localhost/replica:0/task:0/device:GPU:0\n",
      "Executing op VarHandleOp in device /job:localhost/replica:0/task:0/device:GPU:0\n",
      "Executing op VarHandleOp in device /job:localhost/replica:0/task:0/device:GPU:0\n",
      "Executing op __inference_distributed_function_824 in device /job:localhost/replica:0/task:0/device:GPU:0\n",
      "429/429 [==============================] - 5s 12ms/step - loss: 1.3756 - accuracy: 0.5311\n",
      "Epoch 2/50\n",
      "429/429 [==============================] - 3s 8ms/step - loss: 0.6821 - accuracy: 0.7500\n",
      "Epoch 3/50\n",
      "429/429 [==============================] - 3s 8ms/step - loss: 0.5534 - accuracy: 0.7973\n",
      "Epoch 4/50\n",
      "429/429 [==============================] - 3s 8ms/step - loss: 0.4770 - accuracy: 0.8240\n",
      "Epoch 5/50\n",
      "429/429 [==============================] - 3s 8ms/step - loss: 0.4272 - accuracy: 0.8434\n",
      "Epoch 6/50\n",
      "429/429 [==============================] - 3s 8ms/step - loss: 0.3960 - accuracy: 0.8541\n",
      "Epoch 7/50\n",
      "429/429 [==============================] - 3s 8ms/step - loss: 0.3707 - accuracy: 0.8647\n",
      "Epoch 8/50\n",
      "429/429 [==============================] - 3s 8ms/step - loss: 0.3488 - accuracy: 0.8731\n",
      "Epoch 9/50\n",
      "429/429 [==============================] - 3s 8ms/step - loss: 0.3353 - accuracy: 0.8768\n",
      "Epoch 10/50\n",
      "429/429 [==============================] - 3s 8ms/step - loss: 0.3198 - accuracy: 0.8825\n",
      "Epoch 11/50\n",
      "429/429 [==============================] - 3s 8ms/step - loss: 0.3075 - accuracy: 0.8875\n",
      "Epoch 12/50\n",
      "429/429 [==============================] - 3s 8ms/step - loss: 0.2977 - accuracy: 0.8898\n",
      "Epoch 13/50\n",
      "429/429 [==============================] - 3s 8ms/step - loss: 0.2900 - accuracy: 0.8928\n",
      "Epoch 14/50\n",
      "429/429 [==============================] - 3s 8ms/step - loss: 0.2799 - accuracy: 0.8972\n",
      "Epoch 15/50\n",
      "429/429 [==============================] - 3s 8ms/step - loss: 0.2711 - accuracy: 0.8996\n",
      "Epoch 16/50\n",
      "429/429 [==============================] - 3s 8ms/step - loss: 0.2657 - accuracy: 0.9025\n",
      "Epoch 17/50\n",
      "429/429 [==============================] - 3s 8ms/step - loss: 0.2581 - accuracy: 0.9046\n",
      "Epoch 18/50\n",
      "429/429 [==============================] - 3s 8ms/step - loss: 0.2518 - accuracy: 0.9067\n",
      "Epoch 19/50\n",
      "429/429 [==============================] - 3s 8ms/step - loss: 0.2465 - accuracy: 0.9091\n",
      "Epoch 20/50\n",
      "429/429 [==============================] - 3s 8ms/step - loss: 0.2402 - accuracy: 0.9109\n",
      "Epoch 21/50\n",
      "429/429 [==============================] - 4s 8ms/step - loss: 0.2339 - accuracy: 0.9131\n",
      "Epoch 22/50\n",
      "429/429 [==============================] - 4s 8ms/step - loss: 0.2301 - accuracy: 0.9147\n",
      "Epoch 23/50\n",
      "429/429 [==============================] - 4s 8ms/step - loss: 0.2250 - accuracy: 0.9166\n",
      "Epoch 24/50\n",
      "429/429 [==============================] - 4s 8ms/step - loss: 0.2202 - accuracy: 0.9196\n",
      "Epoch 25/50\n",
      "429/429 [==============================] - 4s 9ms/step - loss: 0.2158 - accuracy: 0.9192\n",
      "Epoch 26/50\n",
      "429/429 [==============================] - 4s 9ms/step - loss: 0.2110 - accuracy: 0.9222\n",
      "Epoch 27/50\n",
      "429/429 [==============================] - 4s 9ms/step - loss: 0.2029 - accuracy: 0.9252\n",
      "Epoch 28/50\n",
      "429/429 [==============================] - 4s 10ms/step - loss: 0.2027 - accuracy: 0.9252\n",
      "Epoch 29/50\n",
      "429/429 [==============================] - 4s 10ms/step - loss: 0.1965 - accuracy: 0.9269\n",
      "Epoch 30/50\n",
      "429/429 [==============================] - 4s 10ms/step - loss: 0.1912 - accuracy: 0.9299\n",
      "Epoch 31/50\n",
      "429/429 [==============================] - 4s 10ms/step - loss: 0.1875 - accuracy: 0.9310\n",
      "Epoch 32/50\n",
      "429/429 [==============================] - ETA: 0s - loss: 0.1839 - accuracy: 0.93 - 4s 10ms/step - loss: 0.1839 - accuracy: 0.9320\n",
      "Epoch 33/50\n",
      "429/429 [==============================] - 4s 10ms/step - loss: 0.1784 - accuracy: 0.9339\n",
      "Epoch 34/50\n",
      "429/429 [==============================] - 4s 10ms/step - loss: 0.1770 - accuracy: 0.9350\n",
      "Epoch 35/50\n",
      "429/429 [==============================] - 4s 10ms/step - loss: 0.1714 - accuracy: 0.9372\n",
      "Epoch 36/50\n",
      "429/429 [==============================] - 5s 13ms/step - loss: 0.1688 - accuracy: 0.9373\n",
      "Epoch 37/50\n",
      "429/429 [==============================] - 5s 12ms/step - loss: 0.1642 - accuracy: 0.9394\n",
      "Epoch 38/50\n",
      "429/429 [==============================] - 5s 12ms/step - loss: 0.1600 - accuracy: 0.9411\n",
      "Epoch 39/50\n",
      "429/429 [==============================] - 5s 12ms/step - loss: 0.1556 - accuracy: 0.9419\n",
      "Epoch 40/50\n",
      "429/429 [==============================] - 5s 12ms/step - loss: 0.1529 - accuracy: 0.9434\n",
      "Epoch 41/50\n",
      "429/429 [==============================] - 5s 12ms/step - loss: 0.1491 - accuracy: 0.9440\n",
      "Epoch 42/50\n",
      "429/429 [==============================] - 5s 12ms/step - loss: 0.1452 - accuracy: 0.9466\n",
      "Epoch 43/50\n",
      "429/429 [==============================] - 4s 10ms/step - loss: 0.1405 - accuracy: 0.9480\n",
      "Epoch 44/50\n",
      "429/429 [==============================] - 5s 11ms/step - loss: 0.1393 - accuracy: 0.9492\n",
      "Epoch 45/50\n",
      "429/429 [==============================] - 5s 11ms/step - loss: 0.1365 - accuracy: 0.9485\n",
      "Epoch 46/50\n",
      "429/429 [==============================] - 5s 11ms/step - loss: 0.1301 - accuracy: 0.9512\n",
      "Epoch 47/50\n",
      "429/429 [==============================] - 5s 11ms/step - loss: 0.1286 - accuracy: 0.9520\n",
      "Epoch 48/50\n",
      "429/429 [==============================] - 5s 11ms/step - loss: 0.1226 - accuracy: 0.9545\n",
      "Epoch 49/50\n",
      "429/429 [==============================] - 5s 11ms/step - loss: 0.1225 - accuracy: 0.9543\n",
      "Epoch 50/50\n",
      "429/429 [==============================] - 5s 11ms/step - loss: 0.1184 - accuracy: 0.9558\n",
      "Executing op DeleteIterator in device /job:localhost/replica:0/task:0/device:CPU:0\n"
     ]
    },
    {
     "data": {
      "text/plain": [
       "<tensorflow.python.keras.callbacks.History at 0x7f6b34138b00>"
      ]
     },
     "execution_count": 4,
     "metadata": {},
     "output_type": "execute_result"
    }
   ],
   "source": [
    "model = keras.models.Sequential([\n",
    "    keras.layers.Conv2D(filters=32, kernel_size=3, padding=\"same\", activation=\"relu\", input_shape=(28, 28, 1)),\n",
    "    keras.layers.Conv2D(filters=32, kernel_size=3, padding=\"same\", activation=\"relu\"),\n",
    "    keras.layers.MaxPool2D(pool_size=2),\n",
    "    \n",
    "    keras.layers.Conv2D(filters=64, kernel_size=3, padding=\"same\", activation=\"relu\"),\n",
    "    keras.layers.Conv2D(filters=64, kernel_size=3, padding=\"same\", activation=\"relu\"),\n",
    "    keras.layers.MaxPool2D(pool_size=2),\n",
    "    \n",
    "    keras.layers.Conv2D(filters=128, kernel_size=3, padding=\"same\", activation=\"relu\"),\n",
    "    keras.layers.Conv2D(filters=128, kernel_size=3, padding=\"same\", activation=\"relu\"),\n",
    "    keras.layers.MaxPool2D(pool_size=2),\n",
    "    \n",
    "    keras.layers.Flatten(),\n",
    "    keras.layers.Dense(128, activation=\"relu\"),\n",
    "    keras.layers.Dense(10, activation=\"softmax\")\n",
    "])\n",
    "\n",
    "model.compile(loss=\"sparse_categorical_crossentropy\", optimizer=keras.optimizers.SGD(lr=0.01), metrics=[\"accuracy\"])\n",
    "\n",
    "model.fit(train_dataset, steps_per_epoch=x_train_scaled.shape[0]//batch_size, epochs=50)"
   ]
  },
  {
   "cell_type": "markdown",
   "metadata": {},
   "source": [
    "  - ### 3.3 结果\n",
    "  <img src=\"GPU_3.png\"/>"
   ]
  },
  {
   "cell_type": "code",
   "execution_count": null,
   "metadata": {},
   "outputs": [],
   "source": []
  },
  {
   "cell_type": "code",
   "execution_count": null,
   "metadata": {},
   "outputs": [],
   "source": []
  }
 ],
 "metadata": {
  "kernelspec": {
   "display_name": "Python 3",
   "language": "python",
   "name": "python3"
  },
  "language_info": {
   "codemirror_mode": {
    "name": "ipython",
    "version": 3
   },
   "file_extension": ".py",
   "mimetype": "text/x-python",
   "name": "python",
   "nbconvert_exporter": "python",
   "pygments_lexer": "ipython3",
   "version": "3.6.8"
  }
 },
 "nbformat": 4,
 "nbformat_minor": 2
}
