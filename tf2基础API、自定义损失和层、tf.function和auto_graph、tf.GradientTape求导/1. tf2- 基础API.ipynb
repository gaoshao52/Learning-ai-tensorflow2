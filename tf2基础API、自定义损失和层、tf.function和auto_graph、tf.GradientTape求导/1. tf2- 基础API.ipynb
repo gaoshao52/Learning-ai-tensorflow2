{
 "cells": [
  {
   "cell_type": "markdown",
   "metadata": {},
   "source": [
    "# 目录\n",
    "## 1. 导入模块\n",
    "## 2. 常量`tf.constant`\n",
    "  - ### 2.1 索引操作\n",
    "  - ### 2.2 算子操作\n",
    "    - `tf.square`\n",
    "\t- `tf.transpose`\n",
    "\t\n",
    "  - ### 2.3 `numpy`转换\n",
    "  - ### 2.4 `Scalars`\n",
    "  \n",
    "## 3. `tf.strings`\n",
    "  - `tf.strings.length`\n",
    "  - `tf.strings.unicode_decode`\n",
    "\n",
    "## 4. `tf.RaggedTensor`\n",
    "  - `tf.ragged.constant`\n",
    "  - ### 4.1 索引操作\n",
    "  - ### 4.2 `tf.concat` 合并操作\n",
    "  - ### 4.3 `RaggedTensor` 转换 `Tensor`\n",
    "    - `to_tensor`\n",
    "\t\n",
    "## 5. `tf.SparseTensor`稀疏Tensor\n",
    "  - ### 5.1 `SparseTensor` 转化为 `Tensor`\n",
    "    - `tf.sparse.to_dense`\n",
    "\t\n",
    "  - ### 5.2 `SparseTensor`的算子操作\n",
    "    - `tf.sparse.sparse_dense_matmul`\n",
    "\t\n",
    "  - ### 5.3 indices 不按照顺序的 `SparseTensor`\n",
    "    - `tf.sparse.reorder`\n",
    "\n",
    "## 6. `tf.Variable` 变量\n",
    "  - ### 6.1 `Variable` 转化为 `Tensor` 和 `numpy`\n",
    "  - ### 6.2 变量的赋予、加法、减法操作\n",
    "    - `assign`\n",
    "\t- `assign_add`\n",
    "\t- `assign_sub`"
   ]
  },
  {
   "cell_type": "markdown",
   "metadata": {},
   "source": [
    "## 1. 导入模块"
   ]
  },
  {
   "cell_type": "code",
   "execution_count": 1,
   "metadata": {},
   "outputs": [
    {
     "name": "stdout",
     "output_type": "stream",
     "text": [
      "numpy 1.18.1\n",
      "pandas 0.25.3\n",
      "matplotlib 3.1.2\n",
      "sklearn 0.22.1\n",
      "tensorflow_core.python.keras.api._v2.keras 2.2.4-tf\n",
      "tensorflow 2.1.0\n"
     ]
    }
   ],
   "source": [
    "%matplotlib inline\n",
    "import numpy as np\n",
    "import pandas as pd\n",
    "import matplotlib as mpl\n",
    "import matplotlib.pyplot as plt\n",
    "import sklearn\n",
    "\n",
    "from tensorflow import keras\n",
    "import tensorflow as tf\n",
    "import sys\n",
    "import os\n",
    "import time\n",
    "import datetime\n",
    "\n",
    "for module in [np, pd, mpl, sklearn, keras, tf]:\n",
    "    print(module.__name__, module.__version__)"
   ]
  },
  {
   "cell_type": "markdown",
   "metadata": {},
   "source": [
    "## 2. 常量`tf.constant`"
   ]
  },
  {
   "cell_type": "code",
   "execution_count": 2,
   "metadata": {},
   "outputs": [],
   "source": [
    "a = tf.constant([[1, 2, 3], [4, 5, 6]])"
   ]
  },
  {
   "cell_type": "markdown",
   "metadata": {},
   "source": [
    "  - ### 2.1 索引操作"
   ]
  },
  {
   "cell_type": "code",
   "execution_count": 9,
   "metadata": {},
   "outputs": [
    {
     "name": "stdout",
     "output_type": "stream",
     "text": [
      "tf.Tensor(\n",
      "[[1 2 3]\n",
      " [4 5 6]], shape=(2, 3), dtype=int32)\n",
      "tf.Tensor([4 5 6], shape=(3,), dtype=int32)\n",
      "tf.Tensor(\n",
      "[[2 3]\n",
      " [5 6]], shape=(2, 2), dtype=int32)\n",
      "tf.Tensor([2 5], shape=(2,), dtype=int32)\n"
     ]
    }
   ],
   "source": [
    "print(a)\n",
    "print(a[1]) # 取一行\n",
    "print(a[:, 1:]) # 切一部分\n",
    "print(a[..., 1]) # 取一列"
   ]
  },
  {
   "cell_type": "markdown",
   "metadata": {},
   "source": [
    "  - ### 2.2 算子操作"
   ]
  },
  {
   "cell_type": "code",
   "execution_count": 4,
   "metadata": {},
   "outputs": [
    {
     "name": "stdout",
     "output_type": "stream",
     "text": [
      "tf.Tensor(\n",
      "[[12 13 14]\n",
      " [15 16 17]], shape=(2, 3), dtype=int32)\n",
      "tf.Tensor(\n",
      "[[ 1  4  9]\n",
      " [16 25 36]], shape=(2, 3), dtype=int32)\n",
      "tf.Tensor(\n",
      "[[14 32]\n",
      " [32 77]], shape=(2, 2), dtype=int32)\n"
     ]
    }
   ],
   "source": [
    "print(a+11) # 加法操作\n",
    "print(tf.square(a)) # 平方操作\n",
    "print(a @ tf.transpose(a)) # 矩阵乘法操作"
   ]
  },
  {
   "cell_type": "markdown",
   "metadata": {},
   "source": [
    "  - ### 2.3 `numpy`转换"
   ]
  },
  {
   "cell_type": "code",
   "execution_count": 5,
   "metadata": {},
   "outputs": [
    {
     "name": "stdout",
     "output_type": "stream",
     "text": [
      "[[1 2 3]\n",
      " [4 5 6]]\n",
      "[[ 1  4  9]\n",
      " [16 25 36]]\n",
      "tf.Tensor(\n",
      "[[1 2 3]\n",
      " [4 5 6]], shape=(2, 3), dtype=int64)\n"
     ]
    }
   ],
   "source": [
    "print(a.numpy()) # Tensor 转 numpy\n",
    "print(np.square(a)) # Tensor 使用 numpy的操作\n",
    "\n",
    "np_t = np.array([[1, 2, 3], [4, 5, 6]])\n",
    "print(tf.constant(np_t)) # numpy 转 Tensor"
   ]
  },
  {
   "cell_type": "markdown",
   "metadata": {},
   "source": [
    "  - ### 2.4 Scalars"
   ]
  },
  {
   "cell_type": "code",
   "execution_count": 6,
   "metadata": {},
   "outputs": [
    {
     "name": "stdout",
     "output_type": "stream",
     "text": [
      "tf.Tensor(1.3545, shape=(), dtype=float32)\n",
      "1.3545\n",
      "()\n"
     ]
    }
   ],
   "source": [
    "t = tf.constant(1.3545)\n",
    "print(t)\n",
    "\n",
    "print(t.numpy())\n",
    "\n",
    "print(t.shape)"
   ]
  },
  {
   "cell_type": "markdown",
   "metadata": {},
   "source": [
    "## 3. `tf.strings`"
   ]
  },
  {
   "cell_type": "code",
   "execution_count": 7,
   "metadata": {},
   "outputs": [
    {
     "name": "stdout",
     "output_type": "stream",
     "text": [
      "tf.Tensor(b'caffe', shape=(), dtype=string)\n",
      "tf.Tensor(5, shape=(), dtype=int32)\n",
      "tf.Tensor(5, shape=(), dtype=int32)\n",
      "tf.Tensor([ 99  97 102 102 101], shape=(5,), dtype=int32)\n"
     ]
    }
   ],
   "source": [
    "t = tf.constant(\"caffe\")\n",
    "print(t)\n",
    "\n",
    "print(tf.strings.length(t))\n",
    "print(tf.strings.length(t, unit=\"UTF8_CHAR\"))\n",
    "print(tf.strings.unicode_decode(t, \"UTF8\"))"
   ]
  },
  {
   "cell_type": "code",
   "execution_count": 8,
   "metadata": {},
   "outputs": [
    {
     "name": "stdout",
     "output_type": "stream",
     "text": [
      "tf.Tensor([b'caffe' b'coffe' b'\\xe5\\x92\\x96\\xe5\\x95\\xa1'], shape=(3,), dtype=string)\n",
      "tf.Tensor([5 5 2], shape=(3,), dtype=int32)\n",
      "<tf.RaggedTensor [[99, 97, 102, 102, 101], [99, 111, 102, 102, 101], [21654, 21857]]>\n"
     ]
    }
   ],
   "source": [
    "t = tf.constant([\"caffe\", \"coffe\", \"咖啡\"])\n",
    "print(t)\n",
    "\n",
    "print(tf.strings.length(t, unit=\"UTF8_CHAR\"))\n",
    "print(tf.strings.unicode_decode(t, \"UTF8\"))"
   ]
  },
  {
   "cell_type": "markdown",
   "metadata": {},
   "source": [
    ">`tf.RaggedTensor` 包装参差不齐的矩阵"
   ]
  },
  {
   "cell_type": "markdown",
   "metadata": {},
   "source": [
    "## 4. `tf.RaggedTensor`"
   ]
  },
  {
   "cell_type": "code",
   "execution_count": 11,
   "metadata": {},
   "outputs": [],
   "source": [
    "r = tf.ragged.constant([[1,2,3,4], [1, 2], [], [1,2,3]])"
   ]
  },
  {
   "cell_type": "markdown",
   "metadata": {},
   "source": [
    "  - ### 4.1 索引操作"
   ]
  },
  {
   "cell_type": "code",
   "execution_count": 12,
   "metadata": {},
   "outputs": [
    {
     "name": "stdout",
     "output_type": "stream",
     "text": [
      "tf.Tensor([1 2], shape=(2,), dtype=int32)\n",
      "<tf.RaggedTensor [[1, 2]]>\n"
     ]
    }
   ],
   "source": [
    "print(r[1]) # 取一行\n",
    "print(r[1:2])  # 取一部分"
   ]
  },
  {
   "cell_type": "markdown",
   "metadata": {},
   "source": [
    "  - ### 4.2 `tf.concat` 合并操作"
   ]
  },
  {
   "cell_type": "code",
   "execution_count": 18,
   "metadata": {},
   "outputs": [
    {
     "name": "stdout",
     "output_type": "stream",
     "text": [
      "<tf.RaggedTensor [[1, 2, 3, 4], [1, 2], [], [1, 2, 3], [34, 56, 89], [1]]>\n"
     ]
    }
   ],
   "source": [
    "r2 = tf.ragged.constant([[34, 56, 89], [1]])\n",
    "print(tf.concat([r, r2], axis=0)) # 按照行合并"
   ]
  },
  {
   "cell_type": "code",
   "execution_count": 19,
   "metadata": {},
   "outputs": [
    {
     "name": "stdout",
     "output_type": "stream",
     "text": [
      "<tf.RaggedTensor [[1, 2, 3, 4, 34, 56, 89], [1, 2, 1], [7, 9, 5], [1, 2, 3]]>\n"
     ]
    }
   ],
   "source": [
    "r3 = tf.ragged.constant([[34, 56, 89], [1], [7, 9, 5], []])\n",
    "print(tf.concat([r, r3], axis=1)) # 按照列合并，行必须都一样，否则报错"
   ]
  },
  {
   "cell_type": "markdown",
   "metadata": {},
   "source": [
    "  - ### 4.3 `RaggedTensor` 转换 `Tensor`"
   ]
  },
  {
   "cell_type": "code",
   "execution_count": 20,
   "metadata": {},
   "outputs": [
    {
     "name": "stdout",
     "output_type": "stream",
     "text": [
      "tf.Tensor(\n",
      "[[1 2 3 4]\n",
      " [1 2 0 0]\n",
      " [0 0 0 0]\n",
      " [1 2 3 0]], shape=(4, 4), dtype=int32)\n"
     ]
    }
   ],
   "source": [
    "print(r.to_tensor())"
   ]
  },
  {
   "cell_type": "markdown",
   "metadata": {},
   "source": [
    "## 5. `tf.SparseTensor`稀疏Tensor"
   ]
  },
  {
   "cell_type": "code",
   "execution_count": 21,
   "metadata": {},
   "outputs": [
    {
     "name": "stdout",
     "output_type": "stream",
     "text": [
      "SparseTensor(indices=tf.Tensor(\n",
      "[[0 1]\n",
      " [1 0]\n",
      " [2 3]], shape=(3, 2), dtype=int64), values=tf.Tensor([1. 3. 4.], shape=(3,), dtype=float32), dense_shape=tf.Tensor([3 4], shape=(2,), dtype=int64))\n"
     ]
    }
   ],
   "source": [
    "s = tf.SparseTensor(\n",
    "    indices=[[0, 1], [1, 0], [2, 3]],\n",
    "    values=[1., 3., 4.],\n",
    "    dense_shape=[3, 4]\n",
    ")\n",
    "print(s)"
   ]
  },
  {
   "cell_type": "markdown",
   "metadata": {},
   "source": [
    "  - ### 5.1 `SparseTensor` 转化为 `Tensor`"
   ]
  },
  {
   "cell_type": "code",
   "execution_count": 22,
   "metadata": {},
   "outputs": [
    {
     "name": "stdout",
     "output_type": "stream",
     "text": [
      "tf.Tensor(\n",
      "[[0. 1. 0. 0.]\n",
      " [3. 0. 0. 0.]\n",
      " [0. 0. 0. 4.]], shape=(3, 4), dtype=float32)\n"
     ]
    }
   ],
   "source": [
    "print(tf.sparse.to_dense(s))"
   ]
  },
  {
   "cell_type": "markdown",
   "metadata": {},
   "source": [
    "  - ### 5.2 `SparseTensor`的算子操作"
   ]
  },
  {
   "cell_type": "code",
   "execution_count": 25,
   "metadata": {},
   "outputs": [
    {
     "name": "stdout",
     "output_type": "stream",
     "text": [
      "unsupported operand type(s) for +: 'SparseTensor' and 'int'\n",
      "tf.Tensor(\n",
      "[[1. 2.]\n",
      " [3. 6.]\n",
      " [4. 8.]], shape=(3, 2), dtype=float32)\n"
     ]
    }
   ],
   "source": [
    "s2 = s * 2  # 乘法操作\n",
    "\n",
    "try:\n",
    "    s3 = s + 3 # 加法操作报错\n",
    "except TypeError as e:\n",
    "    print(e)\n",
    "    \n",
    "s4 = tf.constant([[1., 2.], [1., 2.], [1., 2.], [1., 2.]])\n",
    "print(tf.sparse.sparse_dense_matmul(s, s4))  # 矩阵操作"
   ]
  },
  {
   "cell_type": "markdown",
   "metadata": {},
   "source": [
    "  - ### 5.3 indices 不按照顺序的 `SparseTensor`"
   ]
  },
  {
   "cell_type": "code",
   "execution_count": 27,
   "metadata": {},
   "outputs": [
    {
     "name": "stdout",
     "output_type": "stream",
     "text": [
      "SparseTensor(indices=tf.Tensor(\n",
      "[[1 1]\n",
      " [0 1]\n",
      " [2 3]], shape=(3, 2), dtype=int64), values=tf.Tensor([1. 3. 4.], shape=(3,), dtype=float32), dense_shape=tf.Tensor([3 4], shape=(2,), dtype=int64))\n",
      "indices[1] = [0,1] is out of order. Many sparse ops require sorted indices.\n",
      "    Use `tf.sparse.reorder` to create a correctly ordered copy.\n",
      "\n",
      " [Op:SparseToDense]\n",
      "tf.Tensor(\n",
      "[[0. 3. 0. 0.]\n",
      " [0. 1. 0. 0.]\n",
      " [0. 0. 0. 4.]], shape=(3, 4), dtype=float32)\n"
     ]
    }
   ],
   "source": [
    "s5 = tf.SparseTensor(\n",
    "    indices=[[1, 1], [0, 1], [2, 3]],\n",
    "    values=[1., 3., 4.],\n",
    "    dense_shape=[3, 4]\n",
    ")\n",
    "print(s5)\n",
    "\n",
    "try:\n",
    "    print(tf.sparse.to_dense(s5))  # 不按顺序的报错\n",
    "except Exception as e:\n",
    "    print(e)\n",
    "    \n",
    "s6 = tf.sparse.reorder(s5)\n",
    "print(tf.sparse.to_dense(s6))\n"
   ]
  },
  {
   "cell_type": "markdown",
   "metadata": {},
   "source": [
    "## 6. `tf.Variable` 变量"
   ]
  },
  {
   "cell_type": "code",
   "execution_count": 29,
   "metadata": {},
   "outputs": [
    {
     "name": "stdout",
     "output_type": "stream",
     "text": [
      "<tf.Variable 'Variable:0' shape=(2, 3) dtype=float32, numpy=\n",
      "array([[1., 2., 3.],\n",
      "       [4., 5., 6.]], dtype=float32)>\n"
     ]
    }
   ],
   "source": [
    "v = tf.Variable([[1.0, 2.0, 3.0], [4.0, 5.0, 6.0]])\n",
    "print(v)"
   ]
  },
  {
   "cell_type": "markdown",
   "metadata": {},
   "source": [
    "  - ### 6.1 `Variable` 转化为 `Tensor` 和 `numpy`"
   ]
  },
  {
   "cell_type": "code",
   "execution_count": 30,
   "metadata": {},
   "outputs": [
    {
     "name": "stdout",
     "output_type": "stream",
     "text": [
      "tf.Tensor(\n",
      "[[1. 2. 3.]\n",
      " [4. 5. 6.]], shape=(2, 3), dtype=float32)\n",
      "[[1. 2. 3.]\n",
      " [4. 5. 6.]]\n"
     ]
    }
   ],
   "source": [
    "print(v.value()) # 转为 Tensor\n",
    "\n",
    "print(v.numpy()) # 转为 numpy"
   ]
  },
  {
   "cell_type": "markdown",
   "metadata": {},
   "source": [
    "  - ### 6.2 变量的赋予、加法、减法操作"
   ]
  },
  {
   "cell_type": "code",
   "execution_count": 36,
   "metadata": {},
   "outputs": [
    {
     "name": "stdout",
     "output_type": "stream",
     "text": [
      "[[ 52. 150. 156.]\n",
      " [ 96. 118. 132.]]\n",
      "[[ 52.  55. 156.]\n",
      " [ 96. 118. 132.]]\n",
      "[[ 52.  55. 156.]\n",
      " [  8.   9.   6.]]\n",
      "[[ 62.  75. 186.]\n",
      " [ 48.  59.  66.]]\n",
      "[[ 52.  55. 156.]\n",
      " [  8.   9.   6.]]\n"
     ]
    }
   ],
   "source": [
    "v.assign(2*v)\n",
    "\n",
    "print(v.numpy())\n",
    "\n",
    "v[0, 1].assign(55)\n",
    "print(v.numpy())\n",
    "\n",
    "v[1].assign([8.0, 9.0, 6.0])\n",
    "print(v.numpy())\n",
    "\n",
    "v2 = tf.Variable([[10.0, 20.0, 30.0], [40.0, 50.0, 60.0]])\n",
    "v.assign_add(v2)\n",
    "print(v.numpy())\n",
    "\n",
    "v.assign_sub(v2)\n",
    "print(v.numpy())"
   ]
  }
 ],
 "metadata": {
  "kernelspec": {
   "display_name": "Python 3",
   "language": "python",
   "name": "python3"
  },
  "language_info": {
   "codemirror_mode": {
    "name": "ipython",
    "version": 3
   },
   "file_extension": ".py",
   "mimetype": "text/x-python",
   "name": "python",
   "nbconvert_exporter": "python",
   "pygments_lexer": "ipython3",
   "version": "3.6.8"
  }
 },
 "nbformat": 4,
 "nbformat_minor": 2
}
