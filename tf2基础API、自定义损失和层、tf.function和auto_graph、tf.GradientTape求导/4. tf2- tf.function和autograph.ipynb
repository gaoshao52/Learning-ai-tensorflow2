{
 "cells": [
  {
   "cell_type": "markdown",
   "metadata": {},
   "source": [
    "# 目录\n",
    "## 1. 导入模块\n",
    "## 2. `tf.function`的用法\n",
    "  - ### 2.1 函数式用法\n",
    "  - ### 2.2 `@tf.function`装饰器的用法\n",
    "  \n",
    "## 3. `tf.autograph` 的用法\n",
    "  - ### 3.1 `tf.autograph.to_graph`,是`tf.function` 的低级 分装\n",
    "  - ### 3.2 `tf.autograph.to_code`, 把函数变成图，再输出代码\n",
    "  \n",
    "## 4. 变量不能包含在`tf.function`内\n",
    "## 5. `tf.function`签名 `input_signature`\n",
    "## 6. `get_concrete_function`, 把变成图的函数，加签名，使得可SaveModel\n",
    "  - ### 6.1 基本对象判断\n",
    "  - ### 6.2 ConcreteFunction的图操作\n",
    "    - `graph`\n",
    "\t- `graph.get_operations`\n",
    "\t- `graph.get_operation_by_name`\n",
    "\t- `graph.get_tensor_by_name`\n",
    "\t- `graph.as_graph_def`"
   ]
  },
  {
   "cell_type": "markdown",
   "metadata": {},
   "source": [
    "## 1. 模块导入"
   ]
  },
  {
   "cell_type": "code",
   "execution_count": 1,
   "metadata": {},
   "outputs": [
    {
     "name": "stdout",
     "output_type": "stream",
     "text": [
      "numpy 1.18.1\n",
      "pandas 0.25.3\n",
      "matplotlib 3.1.2\n",
      "sklearn 0.22.1\n",
      "tensorflow_core.python.keras.api._v2.keras 2.2.4-tf\n",
      "tensorflow 2.1.0\n"
     ]
    }
   ],
   "source": [
    "%matplotlib inline\n",
    "import numpy as np\n",
    "import pandas as pd\n",
    "import matplotlib as mpl\n",
    "import matplotlib.pyplot as plt\n",
    "import sklearn\n",
    "\n",
    "from tensorflow import keras\n",
    "import tensorflow as tf\n",
    "import sys\n",
    "import os\n",
    "import time\n",
    "import datetime\n",
    "\n",
    "for module in [np, pd, mpl, sklearn, keras, tf]:\n",
    "    print(module.__name__, module.__version__)"
   ]
  },
  {
   "cell_type": "markdown",
   "metadata": {},
   "source": [
    "## 2. `tf.function`的用法"
   ]
  },
  {
   "cell_type": "markdown",
   "metadata": {},
   "source": [
    "  - ### 2.1 函数式用法"
   ]
  },
  {
   "cell_type": "code",
   "execution_count": 3,
   "metadata": {},
   "outputs": [
    {
     "name": "stdout",
     "output_type": "stream",
     "text": [
      "tf.Tensor(-1.9950424, shape=(), dtype=float32)\n",
      "tf.Tensor([ 6. 14.], shape=(2,), dtype=float32)\n"
     ]
    }
   ],
   "source": [
    "# 普通函数\n",
    "def scaled_elu(z, scale=2.0, alpha=1.0):\n",
    "    is_positive = tf.greater_equal(z, 0.0)\n",
    "    return scale * tf.where(is_positive, z, alpha*tf.nn.elu(z))\n",
    "\n",
    "print(scaled_elu(tf.constant(-6.0)))\n",
    "print(scaled_elu(tf.constant([3.0, 7.0])))"
   ]
  },
  {
   "cell_type": "code",
   "execution_count": 5,
   "metadata": {},
   "outputs": [
    {
     "name": "stdout",
     "output_type": "stream",
     "text": [
      "tf.Tensor(-1.9950424, shape=(), dtype=float32)\n",
      "tf.Tensor([ 6. 14.], shape=(2,), dtype=float32)\n",
      "True\n"
     ]
    }
   ],
   "source": [
    "# 使用tf.function 变成图\n",
    "scaled_elu_tf = tf.function(scaled_elu)\n",
    "print(scaled_elu_tf(tf.constant(-6.0)))\n",
    "print(scaled_elu_tf(tf.constant([3.0, 7.0])))\n",
    "\n",
    "# 还可以在变回去 \n",
    "print(scaled_elu_tf.python_function is scaled_elu)"
   ]
  },
  {
   "cell_type": "markdown",
   "metadata": {},
   "source": [
    ">普通函数与加了tf.function的函数运算结果都一样，但是，tf.function的函数运算快，接下来，做测试"
   ]
  },
  {
   "cell_type": "code",
   "execution_count": 6,
   "metadata": {},
   "outputs": [
    {
     "name": "stdout",
     "output_type": "stream",
     "text": [
      "18.9 ms ± 8.62 µs per loop (mean ± std. dev. of 7 runs, 100 loops each)\n",
      "18.5 ms ± 6.35 µs per loop (mean ± std. dev. of 7 runs, 100 loops each)\n"
     ]
    }
   ],
   "source": [
    "%timeit scaled_elu(tf.random.normal((10000, 10000)))\n",
    "%timeit scaled_elu_tf(tf.random.normal((10000, 10000)))"
   ]
  },
  {
   "cell_type": "markdown",
   "metadata": {},
   "source": [
    "  - ### 2.2 `@tf.function`装饰器的用法"
   ]
  },
  {
   "cell_type": "code",
   "execution_count": 7,
   "metadata": {},
   "outputs": [
    {
     "name": "stdout",
     "output_type": "stream",
     "text": [
      "tf.Tensor(2.0, shape=(), dtype=float32)\n"
     ]
    }
   ],
   "source": [
    "# 1 + 1/2 + 1/2^2 + ....\n",
    "\n",
    "@tf.function\n",
    "def converage_to_2(n_iters):\n",
    "    total = tf.constant(0.0)\n",
    "    increment = tf.constant(1.0)\n",
    "    for _ in range(n_iters):\n",
    "        total += increment\n",
    "        increment /= 2.0\n",
    "    return total\n",
    "\n",
    "print(converage_to_2(60))"
   ]
  },
  {
   "cell_type": "markdown",
   "metadata": {},
   "source": [
    "## 3. `tf.autograph` 的用法\n",
    "[官方文档链接](https://tensorflow.google.cn/api_docs/python/tf/autograph)"
   ]
  },
  {
   "cell_type": "markdown",
   "metadata": {},
   "source": [
    "  - ### 3.1 `tf.autograph.to_graph`,是`tf.function` 的低级 分装"
   ]
  },
  {
   "cell_type": "code",
   "execution_count": 10,
   "metadata": {},
   "outputs": [
    {
     "name": "stdout",
     "output_type": "stream",
     "text": [
      "tf.Tensor([ 4. 10.], shape=(2,), dtype=float32)\n",
      "False\n"
     ]
    }
   ],
   "source": [
    "scaled_elu_to_graph = tf.autograph.to_graph(scaled_elu)  # 是tf.function 的低级 分装\n",
    "print(scaled_elu_to_graph(tf.constant([2.0, 5.0])))\n",
    "\n",
    "print(scaled_elu_to_graph is scaled_elu_tf)"
   ]
  },
  {
   "cell_type": "markdown",
   "metadata": {},
   "source": [
    "  - ### 3.2 `tf.autograph.to_code`, 把函数变成图，再输出代码"
   ]
  },
  {
   "cell_type": "code",
   "execution_count": 11,
   "metadata": {},
   "outputs": [],
   "source": [
    "def display_tf_code(func):\n",
    "    code = tf.autograph.to_code(func)\n",
    "    from IPython.display import display, Markdown\n",
    "    display(Markdown(\"```python\\n{}\\n```\".format(code)))"
   ]
  },
  {
   "cell_type": "code",
   "execution_count": 12,
   "metadata": {},
   "outputs": [
    {
     "data": {
      "text/markdown": [
       "```python\n",
       "def tf__scaled_elu(z, scale=None, alpha=None):\n",
       "  do_return = False\n",
       "  retval_ = ag__.UndefinedReturnValue()\n",
       "  with ag__.FunctionScope('scaled_elu', 'fscope', ag__.ConversionOptions(recursive=True, user_requested=True, optional_features=(), internal_convert_user_code=True)) as fscope:\n",
       "    is_positive = ag__.converted_call(tf.greater_equal, (z, 0.0), None, fscope)\n",
       "    do_return = True\n",
       "    retval_ = fscope.mark_return_value(scale * ag__.converted_call(tf.where, (is_positive, z, alpha * ag__.converted_call(tf.nn.elu, (z,), None, fscope)), None, fscope))\n",
       "  do_return,\n",
       "  return ag__.retval(retval_)\n",
       "\n",
       "```"
      ],
      "text/plain": [
       "<IPython.core.display.Markdown object>"
      ]
     },
     "metadata": {},
     "output_type": "display_data"
    }
   ],
   "source": [
    "display_tf_code(scaled_elu)"
   ]
  },
  {
   "cell_type": "markdown",
   "metadata": {},
   "source": [
    "## 4. 变量不能包含在`tf.function`内"
   ]
  },
  {
   "cell_type": "code",
   "execution_count": 14,
   "metadata": {},
   "outputs": [
    {
     "name": "stdout",
     "output_type": "stream",
     "text": [
      "tf.Tensor(23.0, shape=(), dtype=float32)\n"
     ]
    }
   ],
   "source": [
    "# 正常函数\n",
    "\n",
    "def add_22():\n",
    "    var = tf.Variable(1.0)\n",
    "    var.assign_add(22)\n",
    "    return var\n",
    "\n",
    "print(add_22().value())"
   ]
  },
  {
   "cell_type": "code",
   "execution_count": 16,
   "metadata": {},
   "outputs": [
    {
     "name": "stdout",
     "output_type": "stream",
     "text": [
      "in converted code:\n",
      "\n",
      "    <ipython-input-15-b7012a105b37>:3 add_22  *\n",
      "        var = tf.Variable(1.0)\n",
      "    /home/gaosy/environment/tf2_py3/lib/python3.6/site-packages/tensorflow_core/python/ops/variables.py:260 __call__\n",
      "        return cls._variable_v2_call(*args, **kwargs)\n",
      "    /home/gaosy/environment/tf2_py3/lib/python3.6/site-packages/tensorflow_core/python/ops/variables.py:254 _variable_v2_call\n",
      "        shape=shape)\n",
      "    /home/gaosy/environment/tf2_py3/lib/python3.6/site-packages/tensorflow_core/python/ops/variables.py:65 getter\n",
      "        return captured_getter(captured_previous, **kwargs)\n",
      "    /home/gaosy/environment/tf2_py3/lib/python3.6/site-packages/tensorflow_core/python/eager/def_function.py:502 invalid_creator_scope\n",
      "        \"tf.function-decorated function tried to create \"\n",
      "\n",
      "    ValueError: tf.function-decorated function tried to create variables on non-first call.\n",
      "\n"
     ]
    }
   ],
   "source": [
    "# 加 tf.function 报错\n",
    "\n",
    "@tf.function\n",
    "def add_22():\n",
    "    var = tf.Variable(1.0)\n",
    "    var.assign_add(22)\n",
    "    return var\n",
    "\n",
    "try:\n",
    "    print(add_22().value())\n",
    "except Exception as e:\n",
    "    print(e)"
   ]
  },
  {
   "cell_type": "code",
   "execution_count": 18,
   "metadata": {},
   "outputs": [
    {
     "name": "stdout",
     "output_type": "stream",
     "text": [
      "tf.Tensor(23.0, shape=(), dtype=float32)\n"
     ]
    }
   ],
   "source": [
    "# 把变量放到外面，就不报错了\n",
    "\n",
    "var = tf.Variable(1.0)\n",
    "@tf.function\n",
    "def add_22():\n",
    "    var.assign_add(22)\n",
    "    return var\n",
    "\n",
    "print(add_22())  # 不用 value 方法 都能返回 Tensor"
   ]
  },
  {
   "cell_type": "markdown",
   "metadata": {},
   "source": [
    "## 5. `tf.function`签名 `input_signature`"
   ]
  },
  {
   "cell_type": "code",
   "execution_count": 20,
   "metadata": {},
   "outputs": [
    {
     "name": "stdout",
     "output_type": "stream",
     "text": [
      "Python inputs incompatible with input_signature:\n",
      "  inputs: (\n",
      "    tf.Tensor([1. 2.], shape=(2,), dtype=float32))\n",
      "  input_signature: (\n",
      "    TensorSpec(shape=(None,), dtype=tf.int32, name='x'))\n",
      "tf.Tensor([1 8], shape=(2,), dtype=int32)\n"
     ]
    }
   ],
   "source": [
    "@tf.function(input_signature=[tf.TensorSpec([None], tf.int32, name=\"x\")])\n",
    "def cube(x):\n",
    "    return tf.pow(x, 3)\n",
    "\n",
    "try:\n",
    "    print(cube(tf.constant([1.0, 2.0]))) # 输入的数据类型，必须要和 签名的数据类型保持一致，否则报错\n",
    "except Exception as e:\n",
    "    print(e)\n",
    "\n",
    "print(cube(tf.constant([1, 2])))"
   ]
  },
  {
   "cell_type": "code",
   "execution_count": 22,
   "metadata": {},
   "outputs": [
    {
     "name": "stdout",
     "output_type": "stream",
     "text": [
      "Python inputs incompatible with input_signature:\n",
      "  inputs: (\n",
      "    tf.Tensor([1. 2.], shape=(2,), dtype=float32))\n",
      "  input_signature: (\n",
      "    TensorSpec(shape=(None,), dtype=tf.int32, name='x'))\n",
      "tf.Tensor([1 8], shape=(2,), dtype=int32)\n"
     ]
    },
    {
     "data": {
      "text/plain": [
       "<tensorflow.python.eager.def_function.Function at 0x7fa9102eba58>"
      ]
     },
     "execution_count": 22,
     "metadata": {},
     "output_type": "execute_result"
    }
   ],
   "source": [
    "# tf.function 传参 签名\n",
    "def cube2(x):\n",
    "    return tf.pow(x, 3)\n",
    "\n",
    "cube2_tf = tf.function(cube2, input_signature=[tf.TensorSpec([None], tf.int32, name=\"x\")])\n",
    "\n",
    "try:\n",
    "    print(cube2_tf(tf.constant([1.0, 2.0]))) # 输入的数据类型，必须要和 签名的数据类型保持一致，否则报错\n",
    "except Exception as e:\n",
    "    print(e)\n",
    "\n",
    "print(cube2_tf(tf.constant([1, 2])))\n",
    "cube2_tf"
   ]
  },
  {
   "cell_type": "markdown",
   "metadata": {},
   "source": [
    "## 6. `get_concrete_function`, 把变成图的函数，加签名，使得可SaveModel"
   ]
  },
  {
   "cell_type": "markdown",
   "metadata": {},
   "source": [
    "  - ### 6.1 基本对象判断"
   ]
  },
  {
   "cell_type": "code",
   "execution_count": 29,
   "metadata": {},
   "outputs": [
    {
     "name": "stdout",
     "output_type": "stream",
     "text": [
      "<tensorflow.python.eager.function.ConcreteFunction object at 0x7fa8e03ddb70>\n",
      "False\n",
      "False\n"
     ]
    }
   ],
   "source": [
    "cube2_tf = tf.function(cube2)  # 没有加签名\n",
    "\n",
    "cube2_tf_signature = cube2_tf.get_concrete_function(tf.TensorSpec([None], tf.int32, name=\"x\"))                                                 \n",
    "print(cube2_tf_signature)      \n",
    "\n",
    "print(cube2_tf_signature is cube2_tf.get_concrete_function(tf.TensorSpec([6], tf.int32, name=\"x\"))) # 没有签名的都不一样\n",
    "\n",
    "print(cube2_tf_signature is cube2_tf.get_concrete_function(tf.constant([1, 2, 3]))) # 没有签名的都不一样"
   ]
  },
  {
   "cell_type": "code",
   "execution_count": 30,
   "metadata": {},
   "outputs": [
    {
     "name": "stdout",
     "output_type": "stream",
     "text": [
      "<tensorflow.python.eager.function.ConcreteFunction object at 0x7fa8e04f5a20>\n",
      "True\n",
      "True\n"
     ]
    }
   ],
   "source": [
    "cube2_tf = tf.function(cube2, input_signature=[tf.TensorSpec([None], tf.int32, name=\"x\")]) # 有加签名\n",
    "\n",
    "cube2_tf_signature = cube2_tf.get_concrete_function(tf.TensorSpec([None], tf.int32, name=\"x\"))                                                 \n",
    "print(cube2_tf_signature)      \n",
    "\n",
    "print(cube2_tf_signature is cube2_tf.get_concrete_function(tf.TensorSpec([6], tf.int32, name=\"x\"))) # 有签名的都一样\n",
    "\n",
    "print(cube2_tf_signature is cube2_tf.get_concrete_function(tf.constant([1, 2, 3]))) # 有签名的都一样"
   ]
  },
  {
   "cell_type": "markdown",
   "metadata": {},
   "source": [
    "  - ### 6.2 ConcreteFunction的图操作"
   ]
  },
  {
   "cell_type": "code",
   "execution_count": 31,
   "metadata": {},
   "outputs": [
    {
     "data": {
      "text/plain": [
       "<tensorflow.python.framework.func_graph.FuncGraph at 0x7fa91027ca58>"
      ]
     },
     "execution_count": 31,
     "metadata": {},
     "output_type": "execute_result"
    }
   ],
   "source": [
    "cube2_tf_signature.graph"
   ]
  },
  {
   "cell_type": "code",
   "execution_count": 33,
   "metadata": {},
   "outputs": [
    {
     "data": {
      "text/plain": [
       "[<tf.Operation 'x' type=Placeholder>,\n",
       " <tf.Operation 'Pow/y' type=Const>,\n",
       " <tf.Operation 'Pow' type=Pow>,\n",
       " <tf.Operation 'Identity' type=Identity>]"
      ]
     },
     "execution_count": 33,
     "metadata": {},
     "output_type": "execute_result"
    }
   ],
   "source": [
    "# 打印所有的操作\n",
    "cube2_tf_signature.graph.get_operations()"
   ]
  },
  {
   "cell_type": "code",
   "execution_count": 34,
   "metadata": {},
   "outputs": [
    {
     "name": "stdout",
     "output_type": "stream",
     "text": [
      "name: \"Pow\"\n",
      "op: \"Pow\"\n",
      "input: \"x\"\n",
      "input: \"Pow/y\"\n",
      "attr {\n",
      "  key: \"T\"\n",
      "  value {\n",
      "    type: DT_INT32\n",
      "  }\n",
      "}\n",
      "\n"
     ]
    }
   ],
   "source": [
    "# 看看某一个操作\n",
    "pow_op = cube2_tf_signature.graph.get_operations()[2]\n",
    "print(pow_op)"
   ]
  },
  {
   "cell_type": "code",
   "execution_count": 35,
   "metadata": {},
   "outputs": [
    {
     "name": "stdout",
     "output_type": "stream",
     "text": [
      "[<tf.Tensor 'x:0' shape=(None,) dtype=int32>, <tf.Tensor 'Pow/y:0' shape=() dtype=int32>]\n",
      "[<tf.Tensor 'Pow:0' shape=(None,) dtype=int32>]\n"
     ]
    }
   ],
   "source": [
    "# 看看该操作的输入输出\n",
    "print(list(pow_op.inputs))\n",
    "print(list(pow_op.outputs))"
   ]
  },
  {
   "cell_type": "code",
   "execution_count": 36,
   "metadata": {},
   "outputs": [
    {
     "data": {
      "text/plain": [
       "<tf.Operation 'x' type=Placeholder>"
      ]
     },
     "execution_count": 36,
     "metadata": {},
     "output_type": "execute_result"
    }
   ],
   "source": [
    "# 获取某一个操作\n",
    "cube2_tf_signature.graph.get_operation_by_name(\"x\")"
   ]
  },
  {
   "cell_type": "code",
   "execution_count": 37,
   "metadata": {},
   "outputs": [
    {
     "data": {
      "text/plain": [
       "<tf.Tensor 'x:0' shape=(None,) dtype=int32>"
      ]
     },
     "execution_count": 37,
     "metadata": {},
     "output_type": "execute_result"
    }
   ],
   "source": [
    "# 获取某一个Tensor\n",
    "cube2_tf_signature.graph.get_tensor_by_name(\"x:0\")"
   ]
  },
  {
   "cell_type": "code",
   "execution_count": 38,
   "metadata": {},
   "outputs": [
    {
     "data": {
      "text/plain": [
       "node {\n",
       "  name: \"x\"\n",
       "  op: \"Placeholder\"\n",
       "  attr {\n",
       "    key: \"_user_specified_name\"\n",
       "    value {\n",
       "      s: \"x\"\n",
       "    }\n",
       "  }\n",
       "  attr {\n",
       "    key: \"dtype\"\n",
       "    value {\n",
       "      type: DT_INT32\n",
       "    }\n",
       "  }\n",
       "  attr {\n",
       "    key: \"shape\"\n",
       "    value {\n",
       "      shape {\n",
       "        dim {\n",
       "          size: -1\n",
       "        }\n",
       "      }\n",
       "    }\n",
       "  }\n",
       "}\n",
       "node {\n",
       "  name: \"Pow/y\"\n",
       "  op: \"Const\"\n",
       "  attr {\n",
       "    key: \"dtype\"\n",
       "    value {\n",
       "      type: DT_INT32\n",
       "    }\n",
       "  }\n",
       "  attr {\n",
       "    key: \"value\"\n",
       "    value {\n",
       "      tensor {\n",
       "        dtype: DT_INT32\n",
       "        tensor_shape {\n",
       "        }\n",
       "        int_val: 3\n",
       "      }\n",
       "    }\n",
       "  }\n",
       "}\n",
       "node {\n",
       "  name: \"Pow\"\n",
       "  op: \"Pow\"\n",
       "  input: \"x\"\n",
       "  input: \"Pow/y\"\n",
       "  attr {\n",
       "    key: \"T\"\n",
       "    value {\n",
       "      type: DT_INT32\n",
       "    }\n",
       "  }\n",
       "}\n",
       "node {\n",
       "  name: \"Identity\"\n",
       "  op: \"Identity\"\n",
       "  input: \"Pow\"\n",
       "  attr {\n",
       "    key: \"T\"\n",
       "    value {\n",
       "      type: DT_INT32\n",
       "    }\n",
       "  }\n",
       "}\n",
       "versions {\n",
       "  producer: 175\n",
       "}"
      ]
     },
     "execution_count": 38,
     "metadata": {},
     "output_type": "execute_result"
    }
   ],
   "source": [
    "# 打印图结构\n",
    "cube2_tf_signature.graph.as_graph_def()"
   ]
  },
  {
   "cell_type": "code",
   "execution_count": null,
   "metadata": {},
   "outputs": [],
   "source": []
  }
 ],
 "metadata": {
  "kernelspec": {
   "display_name": "Python 3",
   "language": "python",
   "name": "python3"
  },
  "language_info": {
   "codemirror_mode": {
    "name": "ipython",
    "version": 3
   },
   "file_extension": ".py",
   "mimetype": "text/x-python",
   "name": "python",
   "nbconvert_exporter": "python",
   "pygments_lexer": "ipython3",
   "version": "3.6.8"
  }
 },
 "nbformat": 4,
 "nbformat_minor": 2
}
