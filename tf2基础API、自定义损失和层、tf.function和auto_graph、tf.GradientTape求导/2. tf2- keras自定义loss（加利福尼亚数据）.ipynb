{
 "cells": [
  {
   "cell_type": "markdown",
   "metadata": {},
   "source": [
    "# 目录\n",
    "## 1. 导入模块\n",
    "## 2. 获取加利福尼亚数据\n",
    "## 3. 自定义损失\n",
    "  - `tf.reduce_mean`\n",
    "  - `tf.square`\n",
    "  \n",
    "## 4. 定义模型、训练、测试"
   ]
  },
  {
   "cell_type": "markdown",
   "metadata": {},
   "source": [
    "## 1. 导入模块"
   ]
  },
  {
   "cell_type": "code",
   "execution_count": 2,
   "metadata": {},
   "outputs": [
    {
     "name": "stdout",
     "output_type": "stream",
     "text": [
      "numpy 1.18.1\n",
      "pandas 0.25.3\n",
      "matplotlib 3.1.2\n",
      "sklearn 0.22.1\n",
      "tensorflow_core.python.keras.api._v2.keras 2.2.4-tf\n",
      "tensorflow 2.1.0\n"
     ]
    }
   ],
   "source": [
    "%matplotlib inline\n",
    "import numpy as np\n",
    "import pandas as pd\n",
    "import matplotlib as mpl\n",
    "import matplotlib.pyplot as plt\n",
    "import sklearn\n",
    "\n",
    "from tensorflow import keras\n",
    "import tensorflow as tf\n",
    "import sys\n",
    "import os\n",
    "import time\n",
    "import datetime\n",
    "\n",
    "for module in [np, pd, mpl, sklearn, keras, tf]:\n",
    "    print(module.__name__, module.__version__)"
   ]
  },
  {
   "cell_type": "markdown",
   "metadata": {},
   "source": [
    "## 2. 获取加利福尼亚数据"
   ]
  },
  {
   "cell_type": "code",
   "execution_count": 3,
   "metadata": {},
   "outputs": [
    {
     "name": "stdout",
     "output_type": "stream",
     "text": [
      "(11610, 8) (11610,)\n",
      "(3870, 8) (3870,)\n",
      "(5160, 8) (5160,)\n"
     ]
    }
   ],
   "source": [
    "from sklearn.datasets import fetch_california_housing\n",
    "from sklearn.model_selection import train_test_split\n",
    "from sklearn.preprocessing import StandardScaler\n",
    "\n",
    "housing = fetch_california_housing()\n",
    "\n",
    "x_train_all, x_test, y_train_all, y_test = train_test_split(housing.data, housing.target, random_state=12234)\n",
    "x_train, x_valid, y_train, y_valid = train_test_split(x_train_all, y_train_all, random_state=1234)\n",
    "\n",
    "scaler = StandardScaler()\n",
    "x_train_scaled = scaler.fit_transform(x_train)\n",
    "x_valid_scaled = scaler.transform(x_valid)\n",
    "x_test_scaled = scaler.transform(x_test)\n",
    "\n",
    "print(x_train_scaled.shape, y_train.shape)\n",
    "print(x_valid_scaled.shape, y_valid.shape)\n",
    "print(x_test_scaled.shape, y_test.shape)"
   ]
  },
  {
   "cell_type": "markdown",
   "metadata": {},
   "source": [
    "## 3. 自定义损失"
   ]
  },
  {
   "cell_type": "code",
   "execution_count": 8,
   "metadata": {},
   "outputs": [],
   "source": [
    "def customized_mse(y_true, y_pred):\n",
    "    '''\n",
    "    y_true : shape= [batch_size, 1], Tensor类型\n",
    "    y_pred: shape = [batch_size, 1]，Tensor类型\n",
    "    '''\n",
    "    return tf.reduce_mean(tf.square(y_true - y_pred))\n"
   ]
  },
  {
   "cell_type": "markdown",
   "metadata": {},
   "source": [
    "## 4. 定义模型、训练、测试"
   ]
  },
  {
   "cell_type": "code",
   "execution_count": 9,
   "metadata": {},
   "outputs": [
    {
     "name": "stdout",
     "output_type": "stream",
     "text": [
      "Train on 11610 samples, validate on 3870 samples\n",
      "Epoch 1/100\n",
      "11610/11610 [==============================] - 1s 85us/sample - loss: 1.8155 - mse: 1.8155 - val_loss: 0.8343 - val_mse: 0.8343\n",
      "Epoch 2/100\n",
      "11610/11610 [==============================] - 1s 67us/sample - loss: 0.6817 - mse: 0.6817 - val_loss: 0.6578 - val_mse: 0.6578\n",
      "Epoch 3/100\n",
      "11610/11610 [==============================] - 1s 67us/sample - loss: 0.6282 - mse: 0.6282 - val_loss: 0.6120 - val_mse: 0.6120\n",
      "Epoch 4/100\n",
      "11610/11610 [==============================] - 1s 67us/sample - loss: 0.5946 - mse: 0.5946 - val_loss: 0.5783 - val_mse: 0.5783\n",
      "Epoch 5/100\n",
      "11610/11610 [==============================] - 1s 66us/sample - loss: 0.5646 - mse: 0.5646 - val_loss: 0.5469 - val_mse: 0.5469\n",
      "Epoch 6/100\n",
      "11610/11610 [==============================] - 1s 66us/sample - loss: 0.5392 - mse: 0.5392 - val_loss: 0.5201 - val_mse: 0.5201\n",
      "Epoch 7/100\n",
      "11610/11610 [==============================] - 1s 67us/sample - loss: 0.5166 - mse: 0.5166 - val_loss: 0.5006 - val_mse: 0.5006\n",
      "Epoch 8/100\n",
      "11610/11610 [==============================] - 1s 67us/sample - loss: 0.4965 - mse: 0.4965 - val_loss: 0.4847 - val_mse: 0.4847\n",
      "Epoch 9/100\n",
      "11610/11610 [==============================] - 1s 69us/sample - loss: 0.4794 - mse: 0.4794 - val_loss: 0.4703 - val_mse: 0.4703\n",
      "Epoch 10/100\n",
      "11610/11610 [==============================] - 1s 68us/sample - loss: 0.4642 - mse: 0.4642 - val_loss: 0.4534 - val_mse: 0.4534\n",
      "Epoch 11/100\n",
      "11610/11610 [==============================] - 1s 67us/sample - loss: 0.4519 - mse: 0.4519 - val_loss: 0.4435 - val_mse: 0.4435\n",
      "Epoch 12/100\n",
      "11610/11610 [==============================] - 1s 67us/sample - loss: 0.4409 - mse: 0.4409 - val_loss: 0.4310 - val_mse: 0.4310\n",
      "Epoch 13/100\n",
      "11610/11610 [==============================] - 1s 68us/sample - loss: 0.4320 - mse: 0.4320 - val_loss: 0.4291 - val_mse: 0.4291\n",
      "Epoch 14/100\n",
      "11610/11610 [==============================] - 1s 67us/sample - loss: 0.4243 - mse: 0.4243 - val_loss: 0.4244 - val_mse: 0.4244\n",
      "Epoch 15/100\n",
      "11610/11610 [==============================] - 1s 67us/sample - loss: 0.4177 - mse: 0.4177 - val_loss: 0.4124 - val_mse: 0.4124\n",
      "Epoch 16/100\n",
      "11610/11610 [==============================] - 1s 66us/sample - loss: 0.4121 - mse: 0.4121 - val_loss: 0.4086 - val_mse: 0.4086\n",
      "Epoch 17/100\n",
      "11610/11610 [==============================] - 1s 66us/sample - loss: 0.4073 - mse: 0.4073 - val_loss: 0.4066 - val_mse: 0.4066\n",
      "Epoch 18/100\n",
      "11610/11610 [==============================] - 1s 66us/sample - loss: 0.4028 - mse: 0.4028 - val_loss: 0.4002 - val_mse: 0.4002\n",
      "Epoch 19/100\n",
      "11610/11610 [==============================] - 1s 68us/sample - loss: 0.3989 - mse: 0.3989 - val_loss: 0.3978 - val_mse: 0.3978\n",
      "Epoch 20/100\n",
      "11610/11610 [==============================] - 1s 68us/sample - loss: 0.3953 - mse: 0.3953 - val_loss: 0.3961 - val_mse: 0.3961\n",
      "Epoch 21/100\n",
      "11610/11610 [==============================] - 1s 69us/sample - loss: 0.3923 - mse: 0.3923 - val_loss: 0.3960 - val_mse: 0.3960\n",
      "Epoch 22/100\n",
      "11610/11610 [==============================] - 1s 68us/sample - loss: 0.3892 - mse: 0.3892 - val_loss: 0.3908 - val_mse: 0.3908\n",
      "Epoch 23/100\n",
      "11610/11610 [==============================] - 1s 67us/sample - loss: 0.3868 - mse: 0.3868 - val_loss: 0.3867 - val_mse: 0.3867\n",
      "Epoch 24/100\n",
      "11610/11610 [==============================] - 1s 67us/sample - loss: 0.3844 - mse: 0.3844 - val_loss: 0.3920 - val_mse: 0.3920\n",
      "Epoch 25/100\n",
      "11610/11610 [==============================] - 1s 67us/sample - loss: 0.3823 - mse: 0.3823 - val_loss: 0.3823 - val_mse: 0.3823\n",
      "Epoch 26/100\n",
      "11610/11610 [==============================] - 1s 67us/sample - loss: 0.3801 - mse: 0.3801 - val_loss: 0.3855 - val_mse: 0.3855\n",
      "Epoch 27/100\n",
      "11610/11610 [==============================] - 1s 65us/sample - loss: 0.3782 - mse: 0.3782 - val_loss: 0.3805 - val_mse: 0.3805\n",
      "Epoch 28/100\n",
      "11610/11610 [==============================] - 1s 64us/sample - loss: 0.3764 - mse: 0.3764 - val_loss: 0.3830 - val_mse: 0.3830\n",
      "Epoch 29/100\n",
      "11610/11610 [==============================] - 1s 65us/sample - loss: 0.3748 - mse: 0.3748 - val_loss: 0.3787 - val_mse: 0.3787\n",
      "Epoch 30/100\n",
      "11610/11610 [==============================] - 1s 65us/sample - loss: 0.3732 - mse: 0.3732 - val_loss: 0.3784 - val_mse: 0.3784\n",
      "Epoch 31/100\n",
      "11610/11610 [==============================] - 1s 65us/sample - loss: 0.3715 - mse: 0.3715 - val_loss: 0.3806 - val_mse: 0.3806\n",
      "Epoch 32/100\n",
      "11610/11610 [==============================] - 1s 67us/sample - loss: 0.3701 - mse: 0.3701 - val_loss: 0.3718 - val_mse: 0.3718\n",
      "Epoch 33/100\n",
      "11610/11610 [==============================] - 1s 67us/sample - loss: 0.3686 - mse: 0.3686 - val_loss: 0.3716 - val_mse: 0.3716\n",
      "Epoch 34/100\n",
      "11610/11610 [==============================] - 1s 67us/sample - loss: 0.3671 - mse: 0.3671 - val_loss: 0.3750 - val_mse: 0.3750\n",
      "Epoch 35/100\n",
      "11610/11610 [==============================] - 1s 67us/sample - loss: 0.3659 - mse: 0.3659 - val_loss: 0.3742 - val_mse: 0.3742\n",
      "Epoch 36/100\n",
      "11610/11610 [==============================] - 1s 67us/sample - loss: 0.3649 - mse: 0.3649 - val_loss: 0.3685 - val_mse: 0.3685\n",
      "Epoch 37/100\n",
      "11610/11610 [==============================] - 1s 66us/sample - loss: 0.3636 - mse: 0.3636 - val_loss: 0.3659 - val_mse: 0.3659\n",
      "Epoch 38/100\n",
      "11610/11610 [==============================] - 1s 65us/sample - loss: 0.3624 - mse: 0.3624 - val_loss: 0.3708 - val_mse: 0.3708\n",
      "Epoch 39/100\n",
      "11610/11610 [==============================] - 1s 65us/sample - loss: 0.3614 - mse: 0.3614 - val_loss: 0.3633 - val_mse: 0.3633\n",
      "Epoch 40/100\n",
      "11610/11610 [==============================] - 1s 65us/sample - loss: 0.3601 - mse: 0.3601 - val_loss: 0.3760 - val_mse: 0.3760\n",
      "Epoch 41/100\n",
      "11610/11610 [==============================] - 1s 66us/sample - loss: 0.3595 - mse: 0.3595 - val_loss: 0.3640 - val_mse: 0.3640\n",
      "Epoch 42/100\n",
      "11610/11610 [==============================] - 1s 67us/sample - loss: 0.3583 - mse: 0.3583 - val_loss: 0.3662 - val_mse: 0.3662\n",
      "Epoch 43/100\n",
      "11610/11610 [==============================] - 1s 68us/sample - loss: 0.3572 - mse: 0.3572 - val_loss: 0.3637 - val_mse: 0.3637\n",
      "Epoch 44/100\n",
      "11610/11610 [==============================] - 1s 68us/sample - loss: 0.3564 - mse: 0.3564 - val_loss: 0.3599 - val_mse: 0.3599\n",
      "Epoch 45/100\n",
      "11610/11610 [==============================] - 1s 70us/sample - loss: 0.3552 - mse: 0.3552 - val_loss: 0.3651 - val_mse: 0.3651\n",
      "Epoch 46/100\n",
      "11610/11610 [==============================] - 1s 70us/sample - loss: 0.3545 - mse: 0.3545 - val_loss: 0.3596 - val_mse: 0.3596\n",
      "Epoch 47/100\n",
      "11610/11610 [==============================] - 1s 70us/sample - loss: 0.3535 - mse: 0.3535 - val_loss: 0.3635 - val_mse: 0.3635\n",
      "Epoch 48/100\n",
      "11610/11610 [==============================] - 1s 70us/sample - loss: 0.3526 - mse: 0.3526 - val_loss: 0.3543 - val_mse: 0.3543\n",
      "Epoch 49/100\n",
      "11610/11610 [==============================] - 1s 71us/sample - loss: 0.3518 - mse: 0.3518 - val_loss: 0.3638 - val_mse: 0.3638\n",
      "Epoch 50/100\n",
      "11610/11610 [==============================] - 1s 68us/sample - loss: 0.3511 - mse: 0.3511 - val_loss: 0.3588 - val_mse: 0.3588\n",
      "Epoch 51/100\n",
      "11610/11610 [==============================] - 1s 66us/sample - loss: 0.3504 - mse: 0.3504 - val_loss: 0.3557 - val_mse: 0.3557\n",
      "Epoch 52/100\n",
      "11610/11610 [==============================] - 1s 67us/sample - loss: 0.3494 - mse: 0.3494 - val_loss: 0.3542 - val_mse: 0.3542\n",
      "Epoch 53/100\n",
      "11610/11610 [==============================] - 1s 67us/sample - loss: 0.3484 - mse: 0.3484 - val_loss: 0.3549 - val_mse: 0.3549\n",
      "Epoch 54/100\n",
      "11610/11610 [==============================] - 1s 67us/sample - loss: 0.3478 - mse: 0.3478 - val_loss: 0.3550 - val_mse: 0.3550\n",
      "Epoch 55/100\n",
      "11610/11610 [==============================] - 1s 67us/sample - loss: 0.3474 - mse: 0.3474 - val_loss: 0.3503 - val_mse: 0.3503\n",
      "Epoch 56/100\n",
      "11610/11610 [==============================] - 1s 67us/sample - loss: 0.3464 - mse: 0.3464 - val_loss: 0.3505 - val_mse: 0.3505\n",
      "Epoch 57/100\n",
      "11610/11610 [==============================] - 1s 67us/sample - loss: 0.3457 - mse: 0.3457 - val_loss: 0.3481 - val_mse: 0.3481\n",
      "Epoch 58/100\n",
      "11610/11610 [==============================] - 1s 68us/sample - loss: 0.3452 - mse: 0.3452 - val_loss: 0.3504 - val_mse: 0.3504\n"
     ]
    },
    {
     "name": "stdout",
     "output_type": "stream",
     "text": [
      "Epoch 59/100\n",
      "11610/11610 [==============================] - 1s 68us/sample - loss: 0.3442 - mse: 0.3442 - val_loss: 0.3544 - val_mse: 0.3544\n",
      "Epoch 60/100\n",
      "11610/11610 [==============================] - 1s 66us/sample - loss: 0.3436 - mse: 0.3436 - val_loss: 0.3469 - val_mse: 0.3469\n",
      "Epoch 61/100\n",
      "11610/11610 [==============================] - 1s 66us/sample - loss: 0.3431 - mse: 0.3431 - val_loss: 0.3489 - val_mse: 0.3489\n",
      "Epoch 62/100\n",
      "11610/11610 [==============================] - 1s 67us/sample - loss: 0.3424 - mse: 0.3424 - val_loss: 0.3529 - val_mse: 0.3529\n",
      "Epoch 63/100\n",
      "11610/11610 [==============================] - 1s 68us/sample - loss: 0.3417 - mse: 0.3417 - val_loss: 0.3529 - val_mse: 0.3529\n",
      "Epoch 64/100\n",
      "11610/11610 [==============================] - 1s 67us/sample - loss: 0.3411 - mse: 0.3411 - val_loss: 0.3429 - val_mse: 0.3429\n",
      "Epoch 65/100\n",
      "11610/11610 [==============================] - 1s 66us/sample - loss: 0.3402 - mse: 0.3402 - val_loss: 0.3547 - val_mse: 0.3547\n",
      "Epoch 66/100\n",
      "11610/11610 [==============================] - 1s 67us/sample - loss: 0.3400 - mse: 0.3400 - val_loss: 0.3397 - val_mse: 0.3397\n",
      "Epoch 67/100\n",
      "11610/11610 [==============================] - 1s 66us/sample - loss: 0.3391 - mse: 0.3391 - val_loss: 0.3542 - val_mse: 0.3542\n",
      "Epoch 68/100\n",
      "11610/11610 [==============================] - 1s 66us/sample - loss: 0.3388 - mse: 0.3388 - val_loss: 0.3396 - val_mse: 0.3396\n",
      "Epoch 69/100\n",
      "11610/11610 [==============================] - 1s 66us/sample - loss: 0.3381 - mse: 0.3381 - val_loss: 0.3537 - val_mse: 0.3537\n",
      "Epoch 70/100\n",
      "11610/11610 [==============================] - 1s 67us/sample - loss: 0.3375 - mse: 0.3375 - val_loss: 0.3416 - val_mse: 0.3416\n",
      "Epoch 71/100\n",
      "11610/11610 [==============================] - 1s 66us/sample - loss: 0.3368 - mse: 0.3368 - val_loss: 0.3420 - val_mse: 0.3420\n",
      "Epoch 72/100\n",
      "11610/11610 [==============================] - 1s 67us/sample - loss: 0.3361 - mse: 0.3361 - val_loss: 0.3464 - val_mse: 0.3464\n",
      "Epoch 73/100\n",
      "11610/11610 [==============================] - 1s 67us/sample - loss: 0.3358 - mse: 0.3358 - val_loss: 0.3364 - val_mse: 0.3364\n",
      "Epoch 74/100\n",
      "11610/11610 [==============================] - 1s 67us/sample - loss: 0.3352 - mse: 0.3352 - val_loss: 0.3497 - val_mse: 0.3497\n",
      "Epoch 75/100\n",
      "11610/11610 [==============================] - 1s 67us/sample - loss: 0.3347 - mse: 0.3347 - val_loss: 0.3341 - val_mse: 0.3341\n",
      "Epoch 76/100\n",
      "11610/11610 [==============================] - 1s 66us/sample - loss: 0.3341 - mse: 0.3341 - val_loss: 0.3401 - val_mse: 0.3401\n",
      "Epoch 77/100\n",
      "11610/11610 [==============================] - ETA: 0s - loss: 0.3344 - mse: 0.334 - 1s 66us/sample - loss: 0.3335 - mse: 0.3335 - val_loss: 0.3424 - val_mse: 0.3424\n",
      "Epoch 78/100\n",
      "11610/11610 [==============================] - 1s 66us/sample - loss: 0.3328 - mse: 0.3328 - val_loss: 0.3358 - val_mse: 0.3358\n",
      "Epoch 79/100\n",
      "11610/11610 [==============================] - 1s 66us/sample - loss: 0.3323 - mse: 0.3323 - val_loss: 0.3425 - val_mse: 0.3425\n",
      "Epoch 80/100\n",
      "11610/11610 [==============================] - 1s 66us/sample - loss: 0.3318 - mse: 0.3318 - val_loss: 0.3371 - val_mse: 0.3371\n",
      "Epoch 81/100\n",
      "11610/11610 [==============================] - 1s 67us/sample - loss: 0.3313 - mse: 0.3313 - val_loss: 0.3406 - val_mse: 0.3406\n",
      "Epoch 82/100\n",
      "11610/11610 [==============================] - 1s 66us/sample - loss: 0.3310 - mse: 0.3310 - val_loss: 0.3374 - val_mse: 0.3374\n",
      "Epoch 83/100\n",
      "11610/11610 [==============================] - 1s 66us/sample - loss: 0.3304 - mse: 0.3304 - val_loss: 0.3314 - val_mse: 0.3314\n",
      "Epoch 84/100\n",
      "11610/11610 [==============================] - 1s 66us/sample - loss: 0.3299 - mse: 0.3299 - val_loss: 0.3410 - val_mse: 0.3410\n",
      "Epoch 85/100\n",
      "11610/11610 [==============================] - 1s 66us/sample - loss: 0.3294 - mse: 0.3294 - val_loss: 0.3325 - val_mse: 0.3325\n",
      "Epoch 86/100\n",
      "11610/11610 [==============================] - 1s 66us/sample - loss: 0.3287 - mse: 0.3287 - val_loss: 0.3313 - val_mse: 0.3313\n",
      "Epoch 87/100\n",
      "11610/11610 [==============================] - 1s 65us/sample - loss: 0.3281 - mse: 0.3281 - val_loss: 0.3399 - val_mse: 0.3399\n",
      "Epoch 88/100\n",
      "11610/11610 [==============================] - 1s 66us/sample - loss: 0.3276 - mse: 0.3276 - val_loss: 0.3299 - val_mse: 0.3299\n",
      "Epoch 89/100\n",
      "11610/11610 [==============================] - 1s 66us/sample - loss: 0.3274 - mse: 0.3274 - val_loss: 0.3416 - val_mse: 0.3416\n",
      "Epoch 90/100\n",
      "11610/11610 [==============================] - 1s 67us/sample - loss: 0.3268 - mse: 0.3268 - val_loss: 0.3326 - val_mse: 0.3326\n",
      "Epoch 91/100\n",
      "11610/11610 [==============================] - 1s 66us/sample - loss: 0.3263 - mse: 0.3263 - val_loss: 0.3322 - val_mse: 0.3322\n",
      "Epoch 92/100\n",
      "11610/11610 [==============================] - 1s 67us/sample - loss: 0.3255 - mse: 0.3255 - val_loss: 0.3312 - val_mse: 0.3312\n",
      "Epoch 93/100\n",
      "11610/11610 [==============================] - 1s 67us/sample - loss: 0.3252 - mse: 0.3252 - val_loss: 0.3274 - val_mse: 0.3274\n",
      "Epoch 94/100\n",
      "11610/11610 [==============================] - 1s 67us/sample - loss: 0.3247 - mse: 0.3247 - val_loss: 0.3326 - val_mse: 0.3326\n",
      "Epoch 95/100\n",
      "11610/11610 [==============================] - 1s 68us/sample - loss: 0.3242 - mse: 0.3242 - val_loss: 0.3320 - val_mse: 0.3320\n",
      "Epoch 96/100\n",
      "11610/11610 [==============================] - 1s 68us/sample - loss: 0.3239 - mse: 0.3239 - val_loss: 0.3298 - val_mse: 0.3298\n",
      "Epoch 97/100\n",
      "11610/11610 [==============================] - 1s 68us/sample - loss: 0.3232 - mse: 0.3232 - val_loss: 0.3338 - val_mse: 0.3338\n",
      "Epoch 98/100\n",
      "11610/11610 [==============================] - 1s 67us/sample - loss: 0.3229 - mse: 0.3229 - val_loss: 0.3330 - val_mse: 0.3330\n",
      "Epoch 99/100\n",
      "11610/11610 [==============================] - 1s 67us/sample - loss: 0.3222 - mse: 0.3222 - val_loss: 0.3292 - val_mse: 0.3292\n",
      "Epoch 100/100\n",
      "11610/11610 [==============================] - 1s 67us/sample - loss: 0.3220 - mse: 0.3220 - val_loss: 0.3297 - val_mse: 0.3297\n"
     ]
    }
   ],
   "source": [
    "model = keras.models.Sequential([\n",
    "    keras.layers.Dense(100, input_shape=[8], activation=\"relu\"),\n",
    "    keras.layers.Dense(100, activation=\"relu\"),\n",
    "    keras.layers.Dense(1)\n",
    "])\n",
    "\n",
    "model.compile(loss=customized_mse, optimizer=keras.optimizers.SGD(1e-3), metrics=[\"mse\"])\n",
    "\n",
    "history = model.fit(x_train_scaled, y_train, validation_data=(x_valid_scaled, y_valid), epochs=100)"
   ]
  },
  {
   "cell_type": "code",
   "execution_count": 10,
   "metadata": {},
   "outputs": [
    {
     "data": {
      "text/plain": [
       "dict_keys(['loss', 'mse', 'val_loss', 'val_mse'])"
      ]
     },
     "execution_count": 10,
     "metadata": {},
     "output_type": "execute_result"
    }
   ],
   "source": [
    "history.history.keys()"
   ]
  },
  {
   "cell_type": "code",
   "execution_count": 11,
   "metadata": {},
   "outputs": [
    {
     "data": {
      "text/plain": [
       "<matplotlib.axes._subplots.AxesSubplot at 0x7fc188677c50>"
      ]
     },
     "execution_count": 11,
     "metadata": {},
     "output_type": "execute_result"
    },
    {
     "data": {
      "image/png": "[encoded data removed]",
      "text/plain": [
       "<Figure size 1008x576 with 1 Axes>"
      ]
     },
     "metadata": {
      "needs_background": "light"
     },
     "output_type": "display_data"
    }
   ],
   "source": [
    "pd.DataFrame(history.history)[[\"loss\", \"val_loss\"]].plot(figsize=(14, 8))"
   ]
  },
  {
   "cell_type": "code",
   "execution_count": 12,
   "metadata": {},
   "outputs": [
    {
     "name": "stdout",
     "output_type": "stream",
     "text": [
      "5160/5160 [==============================] - 0s 36us/sample - loss: 0.3393 - mse: 0.3393\n"
     ]
    },
    {
     "data": {
      "text/plain": [
       "[0.33932812620503033, 0.33932808]"
      ]
     },
     "execution_count": 12,
     "metadata": {},
     "output_type": "execute_result"
    }
   ],
   "source": [
    "model.evaluate(x_test_scaled, y_test, batch_size=32)"
   ]
  },
  {
   "cell_type": "code",
   "execution_count": null,
   "metadata": {},
   "outputs": [],
   "source": []
  }
 ],
 "metadata": {
  "kernelspec": {
   "display_name": "Python 3",
   "language": "python",
   "name": "python3"
  },
  "language_info": {
   "codemirror_mode": {
    "name": "ipython",
    "version": 3
   },
   "file_extension": ".py",
   "mimetype": "text/x-python",
   "name": "python",
   "nbconvert_exporter": "python",
   "pygments_lexer": "ipython3",
   "version": "3.6.8"
  }
 },
 "nbformat": 4,
 "nbformat_minor": 2
}
