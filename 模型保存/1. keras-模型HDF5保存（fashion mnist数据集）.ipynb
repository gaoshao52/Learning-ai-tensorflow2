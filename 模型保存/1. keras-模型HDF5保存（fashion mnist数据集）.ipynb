{
 "cells": [
  {
   "cell_type": "markdown",
   "metadata": {},
   "source": [
    "# 目录\n",
    "## 1. 模块导入\n",
    "## 2. fashion mnist 数据集准备\n",
    "## 3. 创建`keras`模型\n",
    "## 4.  `save` 和 `save_weights`保存模型\n",
    "  - ### 4.1 `save`保存(保存模型结构和参数)\n",
    "    - `save`\n",
    "    - `keras.models.load_model`\n",
    "  - ### 4.2 `save_weights`保存（只保存参数）\n",
    "    - `save_weights`\n",
    "    - `load_weights`\n",
    "  \n",
    "## 5. callbacks 模型保存\n",
    "  - `keras.callbacks.ModelCheckpoint`"
   ]
  },
  {
   "cell_type": "markdown",
   "metadata": {},
   "source": [
    "## 1. 模块导入"
   ]
  },
  {
   "cell_type": "code",
   "execution_count": 1,
   "metadata": {},
   "outputs": [
    {
     "name": "stdout",
     "output_type": "stream",
     "text": [
      "numpy 1.18.1\n",
      "pandas 0.25.3\n",
      "matplotlib 3.1.2\n",
      "sklearn 0.22.1\n",
      "tensorflow_core.python.keras.api._v2.keras 2.2.4-tf\n",
      "tensorflow 2.1.0\n"
     ]
    }
   ],
   "source": [
    "%matplotlib inline\n",
    "import numpy as np\n",
    "import pandas as pd\n",
    "import matplotlib as mpl\n",
    "import matplotlib.pyplot as plt\n",
    "import sklearn\n",
    "\n",
    "from tensorflow import keras\n",
    "import tensorflow as tf\n",
    "import sys\n",
    "import os\n",
    "import time\n",
    "import datetime\n",
    "\n",
    "for module in [np, pd, mpl, sklearn, keras, tf]:\n",
    "    print(module.__name__, module.__version__)"
   ]
  },
  {
   "cell_type": "markdown",
   "metadata": {},
   "source": [
    "## 2. fashion mnist 数据集准备"
   ]
  },
  {
   "cell_type": "code",
   "execution_count": 3,
   "metadata": {},
   "outputs": [
    {
     "name": "stdout",
     "output_type": "stream",
     "text": [
      "(55000, 28, 28, 1) (55000,)\n",
      "(5000, 28, 28, 1) (5000,)\n",
      "(10000, 28, 28, 1) (10000,)\n"
     ]
    }
   ],
   "source": [
    "# 取出fashion mnist 数据集\n",
    "fashion_mnist = keras.datasets.fashion_mnist\n",
    "(x_train_all, y_train_all), (x_test, y_test) = fashion_mnist.load_data()\n",
    "\n",
    "x_valid, x_train = x_train_all[:5000], x_train_all[5000:]\n",
    "y_valid, y_train = y_train_all[:5000], y_train_all[5000:]\n",
    "\n",
    "\n",
    "# 标准化\n",
    "from sklearn.preprocessing import StandardScaler\n",
    "\n",
    "scaler = StandardScaler()\n",
    "\n",
    "x_train_scaled = scaler.fit_transform(x_train.astype(np.float32).reshape(-1, 1)).reshape(-1, 28, 28, 1)\n",
    "x_valid_scaled = scaler.transform(x_valid.astype(np.float32).reshape(-1, 1)).reshape(-1, 28, 28, 1)\n",
    "x_test_scaled = scaler.transform(x_test.astype(np.float32).reshape(-1, 1)).reshape(-1, 28, 28, 1)\n",
    "\n",
    "print(x_train_scaled.shape, y_train.shape)\n",
    "print(x_valid_scaled.shape, y_valid.shape)\n",
    "print(x_test_scaled.shape, y_test.shape)\n",
    "\n",
    "\n",
    "# 制作dataset 数据集\n",
    "def make_dataset(images, labels, epochs, batch_size, shuffle=True):\n",
    "    dataset = tf.data.Dataset.from_tensor_slices((images, labels))\n",
    "    if shuffle:\n",
    "        dataset = dataset.shuffle(10000)\n",
    "    dataset = dataset.repeat(epochs).batch(batch_size).prefetch(50) # prefetch 先取出50个样本准备\n",
    "    return dataset\n",
    "\n",
    "\n",
    "batch_size = 64\n",
    "epochs = None\n",
    "train_dataset = make_dataset(x_train_scaled, y_train, epochs, batch_size)\n",
    "valid_dataset = make_dataset(x_valid_scaled, y_valid, 1, batch_size, shuffle=False)\n",
    "test_dataset = make_dataset(x_test_scaled, y_test, 1, batch_size, shuffle=False)"
   ]
  },
  {
   "cell_type": "markdown",
   "metadata": {},
   "source": [
    "## 3. 创建`keras`模型"
   ]
  },
  {
   "cell_type": "code",
   "execution_count": 4,
   "metadata": {},
   "outputs": [],
   "source": [
    "def create_model():\n",
    "    model = keras.models.Sequential([\n",
    "        keras.layers.Conv2D(filters=32, kernel_size=3, padding=\"same\", activation=\"relu\", input_shape=(28, 28, 1)),\n",
    "        keras.layers.Conv2D(filters=32, kernel_size=3, padding=\"same\", activation=\"relu\"),\n",
    "        keras.layers.MaxPool2D(pool_size=2),\n",
    "\n",
    "        keras.layers.Conv2D(filters=64, kernel_size=3, padding=\"same\", activation=\"relu\"),\n",
    "        keras.layers.Conv2D(filters=64, kernel_size=3, padding=\"same\", activation=\"relu\"),\n",
    "        keras.layers.MaxPool2D(pool_size=2),\n",
    "\n",
    "        keras.layers.Conv2D(filters=128, kernel_size=3, padding=\"same\", activation=\"relu\"),\n",
    "        keras.layers.Conv2D(filters=128, kernel_size=3, padding=\"same\", activation=\"relu\"),\n",
    "        keras.layers.MaxPool2D(pool_size=2),\n",
    "\n",
    "        keras.layers.Flatten(),\n",
    "        keras.layers.Dense(128, activation=\"relu\"),\n",
    "        keras.layers.Dense(10, activation=\"softmax\")\n",
    "    ])\n",
    "\n",
    "    model.compile(loss=\"sparse_categorical_crossentropy\", optimizer=keras.optimizers.SGD(lr=0.01), metrics=[\"accuracy\"])\n",
    "    return model"
   ]
  },
  {
   "cell_type": "markdown",
   "metadata": {},
   "source": [
    "## 4.  `save` 和 `save_weights`保存模型"
   ]
  },
  {
   "cell_type": "markdown",
   "metadata": {},
   "source": [
    "  - ### 4.1 `save`保存(保存模型结构和参数)"
   ]
  },
  {
   "cell_type": "markdown",
   "metadata": {},
   "source": [
    "建新模型训练"
   ]
  },
  {
   "cell_type": "code",
   "execution_count": 8,
   "metadata": {},
   "outputs": [
    {
     "name": "stdout",
     "output_type": "stream",
     "text": [
      "Train for 859 steps, validate for 78 steps\n",
      "Epoch 1/10\n",
      "859/859 [==============================] - 5s 6ms/step - loss: 1.0429 - accuracy: 0.6245 - val_loss: 0.5318 - val_accuracy: 0.8121\n",
      "Epoch 2/10\n",
      "859/859 [==============================] - 5s 5ms/step - loss: 0.4865 - accuracy: 0.8211 - val_loss: 0.4446 - val_accuracy: 0.8421\n",
      "Epoch 3/10\n",
      "859/859 [==============================] - 5s 5ms/step - loss: 0.4051 - accuracy: 0.8506 - val_loss: 0.3611 - val_accuracy: 0.8690\n",
      "Epoch 4/10\n",
      "859/859 [==============================] - 5s 5ms/step - loss: 0.3638 - accuracy: 0.8659 - val_loss: 0.3645 - val_accuracy: 0.8660\n",
      "Epoch 5/10\n",
      "859/859 [==============================] - 5s 5ms/step - loss: 0.3360 - accuracy: 0.8761 - val_loss: 0.3172 - val_accuracy: 0.8832\n",
      "Epoch 6/10\n",
      "859/859 [==============================] - 5s 5ms/step - loss: 0.3145 - accuracy: 0.8844 - val_loss: 0.3028 - val_accuracy: 0.8880\n",
      "Epoch 7/10\n",
      "859/859 [==============================] - 5s 5ms/step - loss: 0.2975 - accuracy: 0.8898 - val_loss: 0.2922 - val_accuracy: 0.8894\n",
      "Epoch 8/10\n",
      "859/859 [==============================] - 5s 5ms/step - loss: 0.2832 - accuracy: 0.8953 - val_loss: 0.2799 - val_accuracy: 0.8970\n",
      "Epoch 9/10\n",
      "859/859 [==============================] - 5s 5ms/step - loss: 0.2706 - accuracy: 0.8990 - val_loss: 0.2822 - val_accuracy: 0.8960\n",
      "Epoch 10/10\n",
      "859/859 [==============================] - 5s 5ms/step - loss: 0.2604 - accuracy: 0.9022 - val_loss: 0.3022 - val_accuracy: 0.8864\n"
     ]
    },
    {
     "data": {
      "text/plain": [
       "<tensorflow.python.keras.callbacks.History at 0x7f280e1cfd30>"
      ]
     },
     "execution_count": 8,
     "metadata": {},
     "output_type": "execute_result"
    }
   ],
   "source": [
    "model = create_model()\n",
    "model.fit(train_dataset, \n",
    "          steps_per_epoch = len(x_train_scaled)//batch_size,\n",
    "          validation_data=valid_dataset, \n",
    "          validation_steps = len(x_valid_scaled)//batch_size,\n",
    "          epochs=10)"
   ]
  },
  {
   "cell_type": "markdown",
   "metadata": {},
   "source": [
    "验证"
   ]
  },
  {
   "cell_type": "code",
   "execution_count": 10,
   "metadata": {},
   "outputs": [
    {
     "name": "stdout",
     "output_type": "stream",
     "text": [
      "157/157 [==============================] - 0s 3ms/step - loss: 0.3306 - accuracy: 0.8747\n"
     ]
    },
    {
     "data": {
      "text/plain": [
       "[0.33064243088292466, 0.8747]"
      ]
     },
     "execution_count": 10,
     "metadata": {},
     "output_type": "execute_result"
    }
   ],
   "source": [
    "model.evaluate(test_dataset)"
   ]
  },
  {
   "cell_type": "markdown",
   "metadata": {},
   "source": [
    "`save`保存模型"
   ]
  },
  {
   "cell_type": "code",
   "execution_count": 12,
   "metadata": {},
   "outputs": [],
   "source": [
    "model_save_dir = \"keras_hdf5_model/save\"\n",
    "if not os.path.exists(model_save_dir):\n",
    "    os.makedirs(model_save_dir)\n",
    "\n",
    "model_save_file = os.path.join(model_save_dir, \"fashion_mnist.h5\")\n",
    "model.save(model_save_file)"
   ]
  },
  {
   "cell_type": "markdown",
   "metadata": {},
   "source": [
    "加载模型，测试"
   ]
  },
  {
   "cell_type": "code",
   "execution_count": 13,
   "metadata": {},
   "outputs": [
    {
     "name": "stdout",
     "output_type": "stream",
     "text": [
      "157/157 [==============================] - 0s 3ms/step - loss: 0.3306 - accuracy: 0.8747\n"
     ]
    },
    {
     "data": {
      "text/plain": [
       "[0.33064243088292466, 0.8747]"
      ]
     },
     "execution_count": 13,
     "metadata": {},
     "output_type": "execute_result"
    }
   ],
   "source": [
    "new_model = keras.models.load_model(model_save_file)\n",
    "new_model.evaluate(test_dataset)"
   ]
  },
  {
   "cell_type": "markdown",
   "metadata": {},
   "source": [
    "加载的模型还能训练"
   ]
  },
  {
   "cell_type": "code",
   "execution_count": 14,
   "metadata": {},
   "outputs": [
    {
     "name": "stdout",
     "output_type": "stream",
     "text": [
      "Train for 859 steps, validate for 78 steps\n",
      "Epoch 1/10\n",
      "859/859 [==============================] - 5s 6ms/step - loss: 0.2496 - accuracy: 0.9077 - val_loss: 0.2807 - val_accuracy: 0.8944\n",
      "Epoch 2/10\n",
      "859/859 [==============================] - 5s 5ms/step - loss: 0.2380 - accuracy: 0.9121 - val_loss: 0.2706 - val_accuracy: 0.9012\n",
      "Epoch 3/10\n",
      "859/859 [==============================] - 5s 5ms/step - loss: 0.2292 - accuracy: 0.9151 - val_loss: 0.2547 - val_accuracy: 0.9048\n",
      "Epoch 4/10\n",
      "859/859 [==============================] - 5s 5ms/step - loss: 0.2209 - accuracy: 0.9187 - val_loss: 0.2801 - val_accuracy: 0.8982\n",
      "Epoch 5/10\n",
      "859/859 [==============================] - 5s 5ms/step - loss: 0.2125 - accuracy: 0.9215 - val_loss: 0.2553 - val_accuracy: 0.9058\n",
      "Epoch 6/10\n",
      "859/859 [==============================] - 5s 5ms/step - loss: 0.2053 - accuracy: 0.9233 - val_loss: 0.2519 - val_accuracy: 0.9107\n",
      "Epoch 7/10\n",
      "859/859 [==============================] - 5s 5ms/step - loss: 0.1971 - accuracy: 0.9265 - val_loss: 0.2562 - val_accuracy: 0.9032\n",
      "Epoch 8/10\n",
      "859/859 [==============================] - 5s 5ms/step - loss: 0.1895 - accuracy: 0.9306 - val_loss: 0.2533 - val_accuracy: 0.9089\n",
      "Epoch 9/10\n",
      "859/859 [==============================] - 5s 5ms/step - loss: 0.1824 - accuracy: 0.9324 - val_loss: 0.2591 - val_accuracy: 0.9060\n",
      "Epoch 10/10\n",
      "859/859 [==============================] - 5s 5ms/step - loss: 0.1758 - accuracy: 0.9344 - val_loss: 0.2500 - val_accuracy: 0.9119\n"
     ]
    },
    {
     "data": {
      "text/plain": [
       "<tensorflow.python.keras.callbacks.History at 0x7f27ec1d4c88>"
      ]
     },
     "execution_count": 14,
     "metadata": {},
     "output_type": "execute_result"
    }
   ],
   "source": [
    "new_model.fit(train_dataset, \n",
    "          steps_per_epoch = len(x_train_scaled)//batch_size,\n",
    "          validation_data=valid_dataset, \n",
    "          validation_steps = len(x_valid_scaled)//batch_size,\n",
    "          epochs=10)"
   ]
  },
  {
   "cell_type": "markdown",
   "metadata": {},
   "source": [
    "  - ### 4.2 `save_weights`保存（只保存参数）"
   ]
  },
  {
   "cell_type": "markdown",
   "metadata": {},
   "source": [
    "保存模型参数"
   ]
  },
  {
   "cell_type": "code",
   "execution_count": 16,
   "metadata": {},
   "outputs": [],
   "source": [
    "model_save_dir = \"keras_hdf5_model/save_weights\"\n",
    "if not os.path.exists(model_save_dir):\n",
    "    os.makedirs(model_save_dir)\n",
    "\n",
    "model_save_file = os.path.join(model_save_dir, \"fashion_mnist_weight.h5\")\n",
    "model.save_weights(model_save_file)"
   ]
  },
  {
   "cell_type": "markdown",
   "metadata": {},
   "source": [
    "加载模型参数"
   ]
  },
  {
   "cell_type": "code",
   "execution_count": 18,
   "metadata": {},
   "outputs": [],
   "source": [
    "new_model02 = create_model()\n",
    "new_model02.load_weights(model_save_file)"
   ]
  },
  {
   "cell_type": "markdown",
   "metadata": {},
   "source": [
    "测试"
   ]
  },
  {
   "cell_type": "code",
   "execution_count": 19,
   "metadata": {},
   "outputs": [
    {
     "name": "stdout",
     "output_type": "stream",
     "text": [
      "157/157 [==============================] - 1s 3ms/step - loss: 0.3306 - accuracy: 0.8747\n"
     ]
    },
    {
     "data": {
      "text/plain": [
       "[0.33064243088292466, 0.8747]"
      ]
     },
     "execution_count": 19,
     "metadata": {},
     "output_type": "execute_result"
    }
   ],
   "source": [
    "new_model02.evaluate(test_dataset)"
   ]
  },
  {
   "cell_type": "markdown",
   "metadata": {},
   "source": [
    "还可以再训练"
   ]
  },
  {
   "cell_type": "code",
   "execution_count": 20,
   "metadata": {},
   "outputs": [
    {
     "name": "stdout",
     "output_type": "stream",
     "text": [
      "Train for 859 steps, validate for 78 steps\n",
      "Epoch 1/10\n",
      "859/859 [==============================] - 5s 6ms/step - loss: 0.2485 - accuracy: 0.9080 - val_loss: 0.2783 - val_accuracy: 0.8940\n",
      "Epoch 2/10\n",
      "859/859 [==============================] - 5s 5ms/step - loss: 0.2388 - accuracy: 0.9119 - val_loss: 0.2565 - val_accuracy: 0.9058\n",
      "Epoch 3/10\n",
      "859/859 [==============================] - 5s 5ms/step - loss: 0.2295 - accuracy: 0.9142 - val_loss: 0.2657 - val_accuracy: 0.9002\n",
      "Epoch 4/10\n",
      "859/859 [==============================] - 5s 5ms/step - loss: 0.2213 - accuracy: 0.9175 - val_loss: 0.2486 - val_accuracy: 0.9046\n",
      "Epoch 5/10\n",
      "859/859 [==============================] - 5s 5ms/step - loss: 0.2118 - accuracy: 0.9216 - val_loss: 0.2642 - val_accuracy: 0.9067\n",
      "Epoch 6/10\n",
      "859/859 [==============================] - 5s 5ms/step - loss: 0.2051 - accuracy: 0.9245 - val_loss: 0.2617 - val_accuracy: 0.9062\n",
      "Epoch 7/10\n",
      "859/859 [==============================] - 5s 5ms/step - loss: 0.1974 - accuracy: 0.9273 - val_loss: 0.2411 - val_accuracy: 0.9093\n",
      "Epoch 8/10\n",
      "859/859 [==============================] - 5s 5ms/step - loss: 0.1900 - accuracy: 0.9297 - val_loss: 0.2624 - val_accuracy: 0.9075\n",
      "Epoch 9/10\n",
      "859/859 [==============================] - 5s 5ms/step - loss: 0.1817 - accuracy: 0.9322 - val_loss: 0.2510 - val_accuracy: 0.9085\n",
      "Epoch 10/10\n",
      "859/859 [==============================] - 5s 5ms/step - loss: 0.1765 - accuracy: 0.9352 - val_loss: 0.2666 - val_accuracy: 0.9071\n"
     ]
    },
    {
     "data": {
      "text/plain": [
       "<tensorflow.python.keras.callbacks.History at 0x7f291babe0b8>"
      ]
     },
     "execution_count": 20,
     "metadata": {},
     "output_type": "execute_result"
    }
   ],
   "source": [
    "new_model02.fit(train_dataset, \n",
    "          steps_per_epoch = len(x_train_scaled)//batch_size,\n",
    "          validation_data=valid_dataset, \n",
    "          validation_steps = len(x_valid_scaled)//batch_size,\n",
    "          epochs=10)"
   ]
  },
  {
   "cell_type": "markdown",
   "metadata": {},
   "source": [
    "## 5. callbacks 模型保存"
   ]
  },
  {
   "cell_type": "code",
   "execution_count": 23,
   "metadata": {},
   "outputs": [],
   "source": [
    "log_dir = \"keras_hdf5_model/log\"\n",
    "if not os.path.exists(log_dir):\n",
    "    os.makedirs(log_dir)\n",
    "\n",
    "model_dir = \"keras_hdf5_model/callbacks\"\n",
    "if not os.path.exists(model_dir):\n",
    "    os.makedirs(model_dir)\n",
    "    \n",
    "model_file = os.path.join(model_dir, \"fashion_mnist_callback.h5\")\n",
    "\n",
    "callbacks = [\n",
    "    keras.callbacks.TensorBoard(log_dir),\n",
    "    keras.callbacks.ModelCheckpoint(\n",
    "        model_file,\n",
    "        save_best_only=False,\n",
    "        save_weights_only=False  # 保存模型和参数,  True时，和上面的save_weights模型一样；False时，和上面的save一样\n",
    "    ),\n",
    "    keras.callbacks.EarlyStopping(patience=5, min_delta=1e-3)\n",
    "]"
   ]
  },
  {
   "cell_type": "code",
   "execution_count": 24,
   "metadata": {},
   "outputs": [
    {
     "name": "stdout",
     "output_type": "stream",
     "text": [
      "Train for 859 steps, validate for 78 steps\n",
      "Epoch 1/10\n",
      "859/859 [==============================] - 6s 7ms/step - loss: 0.9529 - accuracy: 0.6647 - val_loss: 0.5050 - val_accuracy: 0.8251\n",
      "Epoch 2/10\n",
      "859/859 [==============================] - 5s 6ms/step - loss: 0.4712 - accuracy: 0.8243 - val_loss: 0.4007 - val_accuracy: 0.8558\n",
      "Epoch 3/10\n",
      "859/859 [==============================] - 5s 6ms/step - loss: 0.3969 - accuracy: 0.8533 - val_loss: 0.3615 - val_accuracy: 0.8682\n",
      "Epoch 4/10\n",
      "859/859 [==============================] - 5s 6ms/step - loss: 0.3575 - accuracy: 0.8677 - val_loss: 0.3469 - val_accuracy: 0.8746\n",
      "Epoch 5/10\n",
      "859/859 [==============================] - 5s 6ms/step - loss: 0.3323 - accuracy: 0.8783 - val_loss: 0.3276 - val_accuracy: 0.8818\n",
      "Epoch 6/10\n",
      "859/859 [==============================] - 5s 6ms/step - loss: 0.3105 - accuracy: 0.8857 - val_loss: 0.3169 - val_accuracy: 0.8846\n",
      "Epoch 7/10\n",
      "859/859 [==============================] - 5s 6ms/step - loss: 0.2959 - accuracy: 0.8911 - val_loss: 0.2953 - val_accuracy: 0.8894\n",
      "Epoch 8/10\n",
      "859/859 [==============================] - 5s 6ms/step - loss: 0.2801 - accuracy: 0.8962 - val_loss: 0.3042 - val_accuracy: 0.8884\n",
      "Epoch 9/10\n",
      "859/859 [==============================] - 5s 6ms/step - loss: 0.2678 - accuracy: 0.9014 - val_loss: 0.3042 - val_accuracy: 0.8854\n",
      "Epoch 10/10\n",
      "859/859 [==============================] - 5s 6ms/step - loss: 0.2562 - accuracy: 0.9063 - val_loss: 0.2828 - val_accuracy: 0.8954\n"
     ]
    },
    {
     "data": {
      "text/plain": [
       "<tensorflow.python.keras.callbacks.History at 0x7f291155a978>"
      ]
     },
     "execution_count": 24,
     "metadata": {},
     "output_type": "execute_result"
    }
   ],
   "source": [
    "model = create_model()\n",
    "model.fit(train_dataset, \n",
    "          steps_per_epoch = len(x_train_scaled)//batch_size,\n",
    "          validation_data=valid_dataset, \n",
    "          validation_steps = len(x_valid_scaled)//batch_size,\n",
    "          callbacks=callbacks,\n",
    "          epochs=10)"
   ]
  },
  {
   "cell_type": "code",
   "execution_count": 25,
   "metadata": {},
   "outputs": [
    {
     "name": "stdout",
     "output_type": "stream",
     "text": [
      "157/157 [==============================] - 0s 3ms/step - loss: 0.3124 - accuracy: 0.8859\n"
     ]
    },
    {
     "data": {
      "text/plain": [
       "[0.31237847073252795, 0.8859]"
      ]
     },
     "execution_count": 25,
     "metadata": {},
     "output_type": "execute_result"
    }
   ],
   "source": [
    "model.evaluate(test_dataset)"
   ]
  },
  {
   "cell_type": "code",
   "execution_count": 27,
   "metadata": {},
   "outputs": [
    {
     "name": "stdout",
     "output_type": "stream",
     "text": [
      "157/157 [==============================] - 0s 2ms/step - loss: 0.3124 - accuracy: 0.8859\n"
     ]
    },
    {
     "data": {
      "text/plain": [
       "[0.31237847073252795, 0.8859]"
      ]
     },
     "execution_count": 27,
     "metadata": {},
     "output_type": "execute_result"
    }
   ],
   "source": [
    "new_model = keras.models.load_model(model_file)\n",
    "model.evaluate(test_dataset)"
   ]
  },
  {
   "cell_type": "code",
   "execution_count": null,
   "metadata": {},
   "outputs": [],
   "source": []
  },
  {
   "cell_type": "code",
   "execution_count": null,
   "metadata": {},
   "outputs": [],
   "source": []
  }
 ],
 "metadata": {
  "kernelspec": {
   "display_name": "Python 3",
   "language": "python",
   "name": "python3"
  },
  "language_info": {
   "codemirror_mode": {
    "name": "ipython",
    "version": 3
   },
   "file_extension": ".py",
   "mimetype": "text/x-python",
   "name": "python",
   "nbconvert_exporter": "python",
   "pygments_lexer": "ipython3",
   "version": "3.6.8"
  }
 },
 "nbformat": 4,
 "nbformat_minor": 2
}
