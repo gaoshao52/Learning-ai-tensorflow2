{
 "cells": [
  {
   "cell_type": "markdown",
   "metadata": {},
   "source": [
    "# 目录\n",
    "## 1. 模块导入\n",
    "## 2. fashion mnist 数据集准备\n",
    "## 3. 创建`keras`模型\n",
    "## 4. `SavedModel`的模型保存、查看、加载、推理\n",
    "  - 保存模型\n",
    "  - 查看该模型的所有信息\n",
    "  - 查看 某版本下的， 签名函数\n",
    "  - 推理测试  某版本下，某签名服务，做推理\n",
    "  - 加载模型\n",
    "  - 查看签名函数\n",
    "  - 获取签名函数（SavedModel to ConcreteFunction）\n",
    "  - input Tensor\n",
    "  - output Tensor\n",
    "  - 做推理"
   ]
  },
  {
   "cell_type": "markdown",
   "metadata": {},
   "source": [
    "## 1. 模块导入"
   ]
  },
  {
   "cell_type": "code",
   "execution_count": 1,
   "metadata": {},
   "outputs": [
    {
     "name": "stdout",
     "output_type": "stream",
     "text": [
      "numpy 1.18.1\n",
      "pandas 0.25.3\n",
      "matplotlib 3.1.2\n",
      "sklearn 0.22.1\n",
      "tensorflow_core.python.keras.api._v2.keras 2.2.4-tf\n",
      "tensorflow 2.1.0\n"
     ]
    }
   ],
   "source": [
    "%matplotlib inline\n",
    "import numpy as np\n",
    "import pandas as pd\n",
    "import matplotlib as mpl\n",
    "import matplotlib.pyplot as plt\n",
    "import sklearn\n",
    "\n",
    "from tensorflow import keras\n",
    "import tensorflow as tf\n",
    "import sys\n",
    "import os\n",
    "import time\n",
    "import datetime\n",
    "\n",
    "for module in [np, pd, mpl, sklearn, keras, tf]:\n",
    "    print(module.__name__, module.__version__)\n",
    "    \n",
    "gpus = tf.config.experimental.list_physical_devices(\"GPU\")\n",
    "tf.config.experimental.set_memory_growth(gpus[0], True)"
   ]
  },
  {
   "cell_type": "markdown",
   "metadata": {},
   "source": [
    "## 2. fashion mnist 数据集准备"
   ]
  },
  {
   "cell_type": "code",
   "execution_count": 17,
   "metadata": {},
   "outputs": [
    {
     "name": "stdout",
     "output_type": "stream",
     "text": [
      "(55000, 28, 28, 1) (55000,)\n",
      "(5000, 28, 28, 1) (5000,)\n",
      "(10000, 28, 28, 1) (10000,)\n"
     ]
    }
   ],
   "source": [
    "# 取出fashion mnist 数据集\n",
    "fashion_mnist = keras.datasets.fashion_mnist\n",
    "(x_train_all, y_train_all), (x_test, y_test) = fashion_mnist.load_data()\n",
    "\n",
    "x_valid, x_train = x_train_all[:5000], x_train_all[5000:]\n",
    "y_valid, y_train = y_train_all[:5000], y_train_all[5000:]\n",
    "\n",
    "\n",
    "# 标准化\n",
    "from sklearn.preprocessing import StandardScaler\n",
    "\n",
    "scaler = StandardScaler()\n",
    "\n",
    "x_train_scaled = scaler.fit_transform(x_train.astype(np.float32).reshape(-1, 1)).reshape(-1, 28, 28, 1)\n",
    "x_valid_scaled = scaler.transform(x_valid.astype(np.float32).reshape(-1, 1)).reshape(-1, 28, 28, 1)\n",
    "x_test_scaled = scaler.transform(x_test.astype(np.float32).reshape(-1, 1)).reshape(-1, 28, 28, 1)\n",
    "\n",
    "print(x_train_scaled.shape, y_train.shape)\n",
    "print(x_valid_scaled.shape, y_valid.shape)\n",
    "print(x_test_scaled.shape, y_test.shape)\n",
    "\n",
    "\n",
    "# 制作dataset 数据集\n",
    "def make_dataset(images, labels, epochs, batch_size, shuffle=True):\n",
    "    dataset = tf.data.Dataset.from_tensor_slices((images, labels))\n",
    "    if shuffle:\n",
    "        dataset = dataset.shuffle(10000)\n",
    "    dataset = dataset.repeat(epochs).batch(batch_size).prefetch(50) # prefetch 先取出50个样本准备\n",
    "    return dataset\n",
    "\n",
    "\n",
    "batch_size = 64\n",
    "epochs = None\n",
    "train_dataset = make_dataset(x_train_scaled, y_train, epochs, batch_size)\n",
    "valid_dataset = make_dataset(x_valid_scaled, y_valid, 1, batch_size, shuffle=False)\n",
    "test_dataset = make_dataset(x_test_scaled, y_test, 1, batch_size, shuffle=False)"
   ]
  },
  {
   "cell_type": "markdown",
   "metadata": {},
   "source": [
    "## 3. 创建`keras`模型"
   ]
  },
  {
   "cell_type": "code",
   "execution_count": 3,
   "metadata": {},
   "outputs": [],
   "source": [
    "def create_model():\n",
    "    model = keras.models.Sequential([\n",
    "        keras.layers.Conv2D(filters=32, kernel_size=3, padding=\"same\", activation=\"relu\", input_shape=(28, 28, 1)),\n",
    "        keras.layers.Conv2D(filters=32, kernel_size=3, padding=\"same\", activation=\"relu\"),\n",
    "        keras.layers.MaxPool2D(pool_size=2),\n",
    "\n",
    "        keras.layers.Conv2D(filters=64, kernel_size=3, padding=\"same\", activation=\"relu\"),\n",
    "        keras.layers.Conv2D(filters=64, kernel_size=3, padding=\"same\", activation=\"relu\"),\n",
    "        keras.layers.MaxPool2D(pool_size=2),\n",
    "\n",
    "        keras.layers.Conv2D(filters=128, kernel_size=3, padding=\"same\", activation=\"relu\"),\n",
    "        keras.layers.Conv2D(filters=128, kernel_size=3, padding=\"same\", activation=\"relu\"),\n",
    "        keras.layers.MaxPool2D(pool_size=2),\n",
    "\n",
    "        keras.layers.Flatten(),\n",
    "        keras.layers.Dense(128, activation=\"relu\"),\n",
    "        keras.layers.Dense(10, activation=\"softmax\")\n",
    "    ])\n",
    "\n",
    "    model.compile(loss=\"sparse_categorical_crossentropy\", optimizer=keras.optimizers.SGD(lr=0.01), metrics=[\"accuracy\"])\n",
    "    return model"
   ]
  },
  {
   "cell_type": "code",
   "execution_count": 4,
   "metadata": {},
   "outputs": [
    {
     "name": "stdout",
     "output_type": "stream",
     "text": [
      "Train for 859 steps, validate for 78 steps\n",
      "Epoch 1/10\n",
      "859/859 [==============================] - 7s 8ms/step - loss: 1.0417 - accuracy: 0.6434 - val_loss: 0.6306 - val_accuracy: 0.7622\n",
      "Epoch 2/10\n",
      "859/859 [==============================] - 5s 5ms/step - loss: 0.5235 - accuracy: 0.8063 - val_loss: 0.4307 - val_accuracy: 0.8440\n",
      "Epoch 3/10\n",
      "859/859 [==============================] - 5s 5ms/step - loss: 0.4280 - accuracy: 0.8427 - val_loss: 0.3708 - val_accuracy: 0.8668\n",
      "Epoch 4/10\n",
      "859/859 [==============================] - 5s 5ms/step - loss: 0.3777 - accuracy: 0.8614 - val_loss: 0.3675 - val_accuracy: 0.8664\n",
      "Epoch 5/10\n",
      "859/859 [==============================] - 5s 5ms/step - loss: 0.3469 - accuracy: 0.8721 - val_loss: 0.3220 - val_accuracy: 0.8842\n",
      "Epoch 6/10\n",
      "859/859 [==============================] - 5s 5ms/step - loss: 0.3244 - accuracy: 0.8805 - val_loss: 0.3208 - val_accuracy: 0.8814\n",
      "Epoch 7/10\n",
      "859/859 [==============================] - 5s 5ms/step - loss: 0.3057 - accuracy: 0.8866 - val_loss: 0.2952 - val_accuracy: 0.8926\n",
      "Epoch 8/10\n",
      "859/859 [==============================] - 5s 5ms/step - loss: 0.2913 - accuracy: 0.8922 - val_loss: 0.2843 - val_accuracy: 0.8966\n",
      "Epoch 9/10\n",
      "859/859 [==============================] - 5s 5ms/step - loss: 0.2783 - accuracy: 0.8965 - val_loss: 0.2914 - val_accuracy: 0.8918\n",
      "Epoch 10/10\n",
      "859/859 [==============================] - 5s 5ms/step - loss: 0.2671 - accuracy: 0.9014 - val_loss: 0.2833 - val_accuracy: 0.8962\n"
     ]
    },
    {
     "data": {
      "text/plain": [
       "<tensorflow.python.keras.callbacks.History at 0x7f23df51d128>"
      ]
     },
     "execution_count": 4,
     "metadata": {},
     "output_type": "execute_result"
    }
   ],
   "source": [
    "model = create_model()\n",
    "model.fit(train_dataset, \n",
    "          steps_per_epoch = len(x_train_scaled)//batch_size,\n",
    "          validation_data=valid_dataset, \n",
    "          validation_steps = len(x_valid_scaled)//batch_size,\n",
    "          epochs=10)"
   ]
  },
  {
   "cell_type": "markdown",
   "metadata": {},
   "source": [
    "## 4. `SavedModel`的模型保存、查看、加载、推理"
   ]
  },
  {
   "cell_type": "code",
   "execution_count": 5,
   "metadata": {},
   "outputs": [
    {
     "name": "stdout",
     "output_type": "stream",
     "text": [
      "WARNING:tensorflow:From /home/gaosy/environment/tf2_py3/lib/python3.6/site-packages/tensorflow_core/python/ops/resource_variable_ops.py:1786: calling BaseResourceVariable.__init__ (from tensorflow.python.ops.resource_variable_ops) with constraint is deprecated and will be removed in a future version.\n",
      "Instructions for updating:\n",
      "If using Keras pass *_constraint arguments to layers.\n",
      "INFO:tensorflow:Assets written to: ./keras_saved_model/assets\n"
     ]
    }
   ],
   "source": [
    "# 保存模型\n",
    "tf.saved_model.save(model, \"./keras_saved_model\")"
   ]
  },
  {
   "cell_type": "code",
   "execution_count": 6,
   "metadata": {},
   "outputs": [
    {
     "name": "stdout",
     "output_type": "stream",
     "text": [
      "2020-01-31 18:13:34.544723: I tensorflow/stream_executor/platform/default/dso_loader.cc:44] Successfully opened dynamic library libnvinfer.so.6\n",
      "2020-01-31 18:13:34.546340: I tensorflow/stream_executor/platform/default/dso_loader.cc:44] Successfully opened dynamic library libnvinfer_plugin.so.6\n",
      "\n",
      "MetaGraphDef with tag-set: 'serve' contains the following SignatureDefs:\n",
      "\n",
      "signature_def['__saved_model_init_op']:\n",
      "  The given SavedModel SignatureDef contains the following input(s):\n",
      "  The given SavedModel SignatureDef contains the following output(s):\n",
      "    outputs['__saved_model_init_op'] tensor_info:\n",
      "        dtype: DT_INVALID\n",
      "        shape: unknown_rank\n",
      "        name: NoOp\n",
      "  Method name is: \n",
      "\n",
      "signature_def['serving_default']:\n",
      "  The given SavedModel SignatureDef contains the following input(s):\n",
      "    inputs['conv2d_input'] tensor_info:\n",
      "        dtype: DT_FLOAT\n",
      "        shape: (-1, 28, 28, 1)\n",
      "        name: serving_default_conv2d_input:0\n",
      "  The given SavedModel SignatureDef contains the following output(s):\n",
      "    outputs['dense_1'] tensor_info:\n",
      "        dtype: DT_FLOAT\n",
      "        shape: (-1, 10)\n",
      "        name: StatefulPartitionedCall:0\n",
      "  Method name is: tensorflow/serving/predict\n",
      "WARNING:tensorflow:From /home/gaosy/environment/tf2_py3/lib/python3.6/site-packages/tensorflow_core/python/ops/resource_variable_ops.py:1786: calling BaseResourceVariable.__init__ (from tensorflow.python.ops.resource_variable_ops) with constraint is deprecated and will be removed in a future version.\n",
      "Instructions for updating:\n",
      "If using Keras pass *_constraint arguments to layers.\n",
      "\n",
      "Defined Functions:\n",
      "  Function Name: '__call__'\n",
      "    Option #1\n",
      "      Callable with:\n",
      "        Argument #1\n",
      "          inputs: TensorSpec(shape=(None, 28, 28, 1), dtype=tf.float32, name='inputs')\n",
      "        Argument #2\n",
      "          DType: bool\n",
      "          Value: False\n",
      "        Argument #3\n",
      "          DType: NoneType\n",
      "          Value: None\n",
      "    Option #2\n",
      "      Callable with:\n",
      "        Argument #1\n",
      "          conv2d_input: TensorSpec(shape=(None, 28, 28, 1), dtype=tf.float32, name='conv2d_input')\n",
      "        Argument #2\n",
      "          DType: bool\n",
      "          Value: False\n",
      "        Argument #3\n",
      "          DType: NoneType\n",
      "          Value: None\n",
      "    Option #3\n",
      "      Callable with:\n",
      "        Argument #1\n",
      "          inputs: TensorSpec(shape=(None, 28, 28, 1), dtype=tf.float32, name='inputs')\n",
      "        Argument #2\n",
      "          DType: bool\n",
      "          Value: True\n",
      "        Argument #3\n",
      "          DType: NoneType\n",
      "          Value: None\n",
      "    Option #4\n",
      "      Callable with:\n",
      "        Argument #1\n",
      "          conv2d_input: TensorSpec(shape=(None, 28, 28, 1), dtype=tf.float32, name='conv2d_input')\n",
      "        Argument #2\n",
      "          DType: bool\n",
      "          Value: True\n",
      "        Argument #3\n",
      "          DType: NoneType\n",
      "          Value: None\n",
      "\n",
      "  Function Name: '_default_save_signature'\n",
      "    Option #1\n",
      "      Callable with:\n",
      "        Argument #1\n",
      "          conv2d_input: TensorSpec(shape=(None, 28, 28, 1), dtype=tf.float32, name='conv2d_input')\n",
      "\n",
      "  Function Name: 'call_and_return_all_conditional_losses'\n",
      "    Option #1\n",
      "      Callable with:\n",
      "        Argument #1\n",
      "          inputs: TensorSpec(shape=(None, 28, 28, 1), dtype=tf.float32, name='inputs')\n",
      "        Argument #2\n",
      "          DType: bool\n",
      "          Value: False\n",
      "        Argument #3\n",
      "          DType: NoneType\n",
      "          Value: None\n",
      "    Option #2\n",
      "      Callable with:\n",
      "        Argument #1\n",
      "          inputs: TensorSpec(shape=(None, 28, 28, 1), dtype=tf.float32, name='inputs')\n",
      "        Argument #2\n",
      "          DType: bool\n",
      "          Value: True\n",
      "        Argument #3\n",
      "          DType: NoneType\n",
      "          Value: None\n",
      "    Option #3\n",
      "      Callable with:\n",
      "        Argument #1\n",
      "          conv2d_input: TensorSpec(shape=(None, 28, 28, 1), dtype=tf.float32, name='conv2d_input')\n",
      "        Argument #2\n",
      "          DType: bool\n",
      "          Value: True\n",
      "        Argument #3\n",
      "          DType: NoneType\n",
      "          Value: None\n",
      "    Option #4\n",
      "      Callable with:\n",
      "        Argument #1\n",
      "          conv2d_input: TensorSpec(shape=(None, 28, 28, 1), dtype=tf.float32, name='conv2d_input')\n",
      "        Argument #2\n",
      "          DType: bool\n",
      "          Value: False\n",
      "        Argument #3\n",
      "          DType: NoneType\n",
      "          Value: None\n"
     ]
    }
   ],
   "source": [
    "# 查看该模型的所有信息\n",
    "!saved_model_cli show --dir ./keras_saved_model/ --all"
   ]
  },
  {
   "cell_type": "markdown",
   "metadata": {},
   "source": [
    "tag-set: 'serve' 是版本信息 <br/>\n",
    "signature_def['serving_default']  是对外提供推理服务的签名函数"
   ]
  },
  {
   "cell_type": "code",
   "execution_count": 7,
   "metadata": {},
   "outputs": [
    {
     "name": "stdout",
     "output_type": "stream",
     "text": [
      "2020-01-31 18:13:36.849147: I tensorflow/stream_executor/platform/default/dso_loader.cc:44] Successfully opened dynamic library libnvinfer.so.6\n",
      "2020-01-31 18:13:36.850965: I tensorflow/stream_executor/platform/default/dso_loader.cc:44] Successfully opened dynamic library libnvinfer_plugin.so.6\n",
      "The given SavedModel SignatureDef contains the following input(s):\n",
      "  inputs['conv2d_input'] tensor_info:\n",
      "      dtype: DT_FLOAT\n",
      "      shape: (-1, 28, 28, 1)\n",
      "      name: serving_default_conv2d_input:0\n",
      "The given SavedModel SignatureDef contains the following output(s):\n",
      "  outputs['dense_1'] tensor_info:\n",
      "      dtype: DT_FLOAT\n",
      "      shape: (-1, 10)\n",
      "      name: StatefulPartitionedCall:0\n",
      "Method name is: tensorflow/serving/predict\n"
     ]
    }
   ],
   "source": [
    "# 查看 某版本下的， 签名函数\n",
    "!saved_model_cli show --dir ./keras_saved_model/ --tag_set serve --signature_def serving_default"
   ]
  },
  {
   "cell_type": "code",
   "execution_count": 8,
   "metadata": {},
   "outputs": [
    {
     "name": "stdout",
     "output_type": "stream",
     "text": [
      "2020-01-31 18:13:38.858217: I tensorflow/stream_executor/platform/default/dso_loader.cc:44] Successfully opened dynamic library libnvinfer.so.6\n",
      "2020-01-31 18:13:38.859980: I tensorflow/stream_executor/platform/default/dso_loader.cc:44] Successfully opened dynamic library libnvinfer_plugin.so.6\n",
      "2020-01-31 18:13:39.620228: I tensorflow/stream_executor/platform/default/dso_loader.cc:44] Successfully opened dynamic library libcuda.so.1\n",
      "2020-01-31 18:13:39.623538: I tensorflow/core/common_runtime/gpu/gpu_device.cc:1555] Found device 0 with properties: \n",
      "pciBusID: 0000:81:00.0 name: Tesla P100-PCIE-12GB computeCapability: 6.0\n",
      "coreClock: 1.3285GHz coreCount: 56 deviceMemorySize: 11.91GiB deviceMemoryBandwidth: 511.41GiB/s\n",
      "2020-01-31 18:13:39.623571: I tensorflow/stream_executor/platform/default/dso_loader.cc:44] Successfully opened dynamic library libcudart.so.10.1\n",
      "2020-01-31 18:13:39.623620: I tensorflow/stream_executor/platform/default/dso_loader.cc:44] Successfully opened dynamic library libcublas.so.10\n",
      "2020-01-31 18:13:39.625530: I tensorflow/stream_executor/platform/default/dso_loader.cc:44] Successfully opened dynamic library libcufft.so.10\n",
      "2020-01-31 18:13:39.625897: I tensorflow/stream_executor/platform/default/dso_loader.cc:44] Successfully opened dynamic library libcurand.so.10\n",
      "2020-01-31 18:13:39.627832: I tensorflow/stream_executor/platform/default/dso_loader.cc:44] Successfully opened dynamic library libcusolver.so.10\n",
      "2020-01-31 18:13:39.628866: I tensorflow/stream_executor/platform/default/dso_loader.cc:44] Successfully opened dynamic library libcusparse.so.10\n",
      "2020-01-31 18:13:39.628904: I tensorflow/stream_executor/platform/default/dso_loader.cc:44] Successfully opened dynamic library libcudnn.so.7\n",
      "2020-01-31 18:13:39.630145: I tensorflow/core/common_runtime/gpu/gpu_device.cc:1697] Adding visible gpu devices: 0\n",
      "2020-01-31 18:13:39.630408: I tensorflow/core/platform/cpu_feature_guard.cc:142] Your CPU supports instructions that this TensorFlow binary was not compiled to use: AVX2 FMA\n",
      "2020-01-31 18:13:39.661833: I tensorflow/core/platform/profile_utils/cpu_utils.cc:94] CPU Frequency: 2399975000 Hz\n",
      "2020-01-31 18:13:39.664967: I tensorflow/compiler/xla/service/service.cc:168] XLA service 0x4cb1670 initialized for platform Host (this does not guarantee that XLA will be used). Devices:\n",
      "2020-01-31 18:13:39.664994: I tensorflow/compiler/xla/service/service.cc:176]   StreamExecutor device (0): Host, Default Version\n",
      "2020-01-31 18:13:39.850352: I tensorflow/compiler/xla/service/service.cc:168] XLA service 0x4d174f0 initialized for platform CUDA (this does not guarantee that XLA will be used). Devices:\n",
      "2020-01-31 18:13:39.850392: I tensorflow/compiler/xla/service/service.cc:176]   StreamExecutor device (0): Tesla P100-PCIE-12GB, Compute Capability 6.0\n",
      "2020-01-31 18:13:39.851195: I tensorflow/core/common_runtime/gpu/gpu_device.cc:1555] Found device 0 with properties: \n",
      "pciBusID: 0000:81:00.0 name: Tesla P100-PCIE-12GB computeCapability: 6.0\n",
      "coreClock: 1.3285GHz coreCount: 56 deviceMemorySize: 11.91GiB deviceMemoryBandwidth: 511.41GiB/s\n",
      "2020-01-31 18:13:39.851251: I tensorflow/stream_executor/platform/default/dso_loader.cc:44] Successfully opened dynamic library libcudart.so.10.1\n",
      "2020-01-31 18:13:39.851278: I tensorflow/stream_executor/platform/default/dso_loader.cc:44] Successfully opened dynamic library libcublas.so.10\n",
      "2020-01-31 18:13:39.851299: I tensorflow/stream_executor/platform/default/dso_loader.cc:44] Successfully opened dynamic library libcufft.so.10\n",
      "2020-01-31 18:13:39.851313: I tensorflow/stream_executor/platform/default/dso_loader.cc:44] Successfully opened dynamic library libcurand.so.10\n",
      "2020-01-31 18:13:39.851326: I tensorflow/stream_executor/platform/default/dso_loader.cc:44] Successfully opened dynamic library libcusolver.so.10\n",
      "2020-01-31 18:13:39.851339: I tensorflow/stream_executor/platform/default/dso_loader.cc:44] Successfully opened dynamic library libcusparse.so.10\n",
      "2020-01-31 18:13:39.851351: I tensorflow/stream_executor/platform/default/dso_loader.cc:44] Successfully opened dynamic library libcudnn.so.7\n",
      "2020-01-31 18:13:39.852616: I tensorflow/core/common_runtime/gpu/gpu_device.cc:1697] Adding visible gpu devices: 0\n",
      "2020-01-31 18:13:39.852651: I tensorflow/stream_executor/platform/default/dso_loader.cc:44] Successfully opened dynamic library libcudart.so.10.1\n",
      "2020-01-31 18:13:40.148713: I tensorflow/core/common_runtime/gpu/gpu_device.cc:1096] Device interconnect StreamExecutor with strength 1 edge matrix:\n",
      "2020-01-31 18:13:40.148771: I tensorflow/core/common_runtime/gpu/gpu_device.cc:1102]      0 \n",
      "2020-01-31 18:13:40.148780: I tensorflow/core/common_runtime/gpu/gpu_device.cc:1115] 0:   N \n",
      "2020-01-31 18:13:40.150184: I tensorflow/core/common_runtime/gpu/gpu_device.cc:1241] Created TensorFlow device (/job:localhost/replica:0/task:0/device:GPU:0 with 10214 MB memory) -> physical GPU (device: 0, name: Tesla P100-PCIE-12GB, pci bus id: 0000:81:00.0, compute capability: 6.0)\n",
      "WARNING:tensorflow:From /home/gaosy/environment/tf2_py3/lib/python3.6/site-packages/tensorflow_core/python/tools/saved_model_cli.py:420: load (from tensorflow.python.saved_model.loader_impl) is deprecated and will be removed in a future version.\n",
      "Instructions for updating:\n",
      "This function will only be available through the v1 compatibility library as tf.compat.v1.saved_model.loader.load or tf.compat.v1.saved_model.load. There will be a new function for importing SavedModels in Tensorflow 2.0.\n",
      "2020-01-31 18:13:40.469850: I tensorflow/stream_executor/platform/default/dso_loader.cc:44] Successfully opened dynamic library libcublas.so.10\n",
      "2020-01-31 18:13:41.241049: I tensorflow/stream_executor/platform/default/dso_loader.cc:44] Successfully opened dynamic library libcudnn.so.7\n",
      "Result for output key dense_1:\n",
      "[[0.01264768 0.00580802 0.0137893  0.00291023 0.01054622 0.00768618\n",
      "  0.03106463 0.00463048 0.8735351  0.03738214]\n",
      " [0.01264768 0.00580802 0.0137893  0.00291023 0.01054622 0.00768618\n",
      "  0.03106463 0.00463048 0.8735351  0.03738214]]\n"
     ]
    }
   ],
   "source": [
    "# 推理测试\n",
    "# 某版本下，某签名服务，做推理\n",
    "!saved_model_cli run \\\n",
    "    --dir ./keras_saved_model/ \\\n",
    "    --tag_set serve \\\n",
    "    --signature_def serving_default \\\n",
    "    --input_exprs 'conv2d_input=np.ones((2, 28, 28, 1))'"
   ]
  },
  {
   "cell_type": "code",
   "execution_count": 10,
   "metadata": {},
   "outputs": [
    {
     "name": "stdout",
     "output_type": "stream",
     "text": [
      "KeysView(_SignatureMap({'serving_default': <tensorflow.python.saved_model.load._WrapperFunction object at 0x7f24eadf2b38>}))\n"
     ]
    }
   ],
   "source": [
    "# 加载模型\n",
    "load_saved_model = tf.saved_model.load(\"./keras_saved_model/\")\n",
    "\n",
    "# 查看签名函数\n",
    "print(load_saved_model.signatures.keys())"
   ]
  },
  {
   "cell_type": "code",
   "execution_count": 11,
   "metadata": {},
   "outputs": [
    {
     "name": "stdout",
     "output_type": "stream",
     "text": [
      "<tensorflow.python.saved_model.load._WrapperFunction object at 0x7f24eadf2b38>\n"
     ]
    }
   ],
   "source": [
    "# 获取签名函数（SavedModel to ConcreteFunction）\n",
    "inference = load_saved_model.signatures[\"serving_default\"]\n",
    "print(inference)  #  类 _WrapperFunction  继承了   ConcreteFunction"
   ]
  },
  {
   "cell_type": "code",
   "execution_count": 12,
   "metadata": {},
   "outputs": [
    {
     "data": {
      "text/plain": [
       "((),\n",
       " {'conv2d_input': TensorSpec(shape=(None, 28, 28, 1), dtype=tf.float32, name='conv2d_input')})"
      ]
     },
     "execution_count": 12,
     "metadata": {},
     "output_type": "execute_result"
    }
   ],
   "source": [
    "# input Tensor\n",
    "inference.structured_input_signature"
   ]
  },
  {
   "cell_type": "code",
   "execution_count": 13,
   "metadata": {},
   "outputs": [
    {
     "name": "stdout",
     "output_type": "stream",
     "text": [
      "Help on _WrapperFunction in module tensorflow.python.saved_model.load object:\n",
      "\n",
      "class _WrapperFunction(tensorflow.python.eager.function.ConcreteFunction)\n",
      " |  A class wraps a concrete function to handle different distributed contexts.\n",
      " |  \n",
      " |  The reason for wrapping a concrete function is because the _captured_inputs\n",
      " |  fields used for in-replica context and cross-replica context are different.\n",
      " |  When `load()` is called from within a tf.distribute.strategy scope, the\n",
      " |  captured inputs are distributed variables. When using these distributed\n",
      " |  variables during calling the function, we need different approaches when it is\n",
      " |  in-replica and when it is not in-replica. When it is in replica, naturally we\n",
      " |  should use the corresponding component of the distributed variable; when it is\n",
      " |  not in-replica, calling the function should mean that it is constructing a\n",
      " |  graph that is not actually going to be used. A typical use case is when\n",
      " |  constructing a functional model. In this case, return a placeholder with a\n",
      " |  control dependency to ensure that is is never accessed.\n",
      " |  \n",
      " |  Method resolution order:\n",
      " |      _WrapperFunction\n",
      " |      tensorflow.python.eager.function.ConcreteFunction\n",
      " |      builtins.object\n",
      " |  \n",
      " |  Methods defined here:\n",
      " |  \n",
      " |  __init__(self, concrete_function)\n",
      " |      Initialize a `ConcreteFunction`.\n",
      " |      \n",
      " |      Args:\n",
      " |        func_graph: An instance of FuncGraph: the function body to wrap.\n",
      " |        attrs: (optional) dict mapping names of attributes to their AttrValue\n",
      " |          values. Attributes in `attrs` will be included in this function's\n",
      " |          definition.\n",
      " |       signature: a nested sequence of `TensorSpec` objects specifying the input\n",
      " |         signature of this function.\n",
      " |       shared_func_graph: If False, the ConcreteFunction takes ownership of\n",
      " |         `func_graph` and will break reference cycles when it is deleted. This\n",
      " |         makes the FuncGraph inoperable.\n",
      " |      \n",
      " |      Raises:\n",
      " |        ValueError: If number of input_placeholders is not equal to the number\n",
      " |          of function inputs.\n",
      " |  \n",
      " |  ----------------------------------------------------------------------\n",
      " |  Methods inherited from tensorflow.python.eager.function.ConcreteFunction:\n",
      " |  \n",
      " |  __call__(self, *args, **kwargs)\n",
      " |      Executes the wrapped function.\n",
      " |      \n",
      " |      Args:\n",
      " |        *args: Tensors or Variables. Positional arguments are only accepted when\n",
      " |          they correspond one-to-one with arguments of the traced Python function.\n",
      " |        **kwargs: Tensors or Variables specified by name. When\n",
      " |          `get_concrete_function` was called to create this `ConcreteFunction`,\n",
      " |          each Tensor input was given a name, defaulting to the name of the Python\n",
      " |          function's argument but possibly overridden by the `name=` argument to\n",
      " |          `tf.TensorSpec`. These names become the argument names for the concrete\n",
      " |          function.\n",
      " |      \n",
      " |      Returns:\n",
      " |        The result of applying the TF function on the given Tensors.\n",
      " |      \n",
      " |      Raises:\n",
      " |        AssertionError: If this `ConcreteFunction` was not created through\n",
      " |          `get_concrete_function`.\n",
      " |        ValueError: If arguments contains anything other than Tensors or\n",
      " |          Variables.\n",
      " |        TypeError: For invalid positional/keyword argument combinations.\n",
      " |  \n",
      " |  add_gradient_functions_to_graph(self, g=None)\n",
      " |      Add forward/backward functions to graph `g` or the current context.\n",
      " |  \n",
      " |  add_to_graph(self, g=None)\n",
      " |      Registers the function, adds it to the graph g or default graph.\n",
      " |      \n",
      " |      Args:\n",
      " |        g: If specified, registers the function with this graph. Defaults to the\n",
      " |          current context (either the default graph or the eager context).\n",
      " |  \n",
      " |  ----------------------------------------------------------------------\n",
      " |  Data descriptors inherited from tensorflow.python.eager.function.ConcreteFunction:\n",
      " |  \n",
      " |  __dict__\n",
      " |      dictionary for instance variables (if defined)\n",
      " |  \n",
      " |  __weakref__\n",
      " |      list of weak references to the object (if defined)\n",
      " |  \n",
      " |  captured_inputs\n",
      " |      Returns external Tensors captured by this function.\n",
      " |      \n",
      " |      self.__call__(*args) passes `args + self.captured_inputs` to the function.\n",
      " |  \n",
      " |  function_def\n",
      " |      Returns a `FunctionDef` object representing this function.\n",
      " |  \n",
      " |  graph\n",
      " |      Returns the graph from which this function was constructed.\n",
      " |  \n",
      " |  inputs\n",
      " |      Returns tensors in `self.graph` corresponding to arguments.\n",
      " |  \n",
      " |  name\n",
      " |      `ConcreteFunction` name.\n",
      " |  \n",
      " |  output_dtypes\n",
      " |  \n",
      " |  output_shapes\n",
      " |      The function's output shapes.\n",
      " |  \n",
      " |  outputs\n",
      " |      Returns tensors in `self.graph` corresponding to returned tensors.\n",
      " |  \n",
      " |  structured_input_signature\n",
      " |      Returns structured signature of the original function.\n",
      " |  \n",
      " |  structured_outputs\n",
      " |      Returns outputs in `self.graph` as returned by the original function.\n",
      " |  \n",
      " |  trainable_variables\n",
      " |      Sequence of trainable variables for this function.\n",
      " |  \n",
      " |  variables\n",
      " |      Sequence of variables for this function.\n",
      "\n"
     ]
    }
   ],
   "source": [
    "help(inference)"
   ]
  },
  {
   "cell_type": "code",
   "execution_count": 14,
   "metadata": {},
   "outputs": [
    {
     "data": {
      "text/plain": [
       "{'dense_1': TensorSpec(shape=(None, 10), dtype=tf.float32, name='dense_1')}"
      ]
     },
     "execution_count": 14,
     "metadata": {},
     "output_type": "execute_result"
    }
   ],
   "source": [
    "# output Tensor\n",
    "inference.structured_outputs"
   ]
  },
  {
   "cell_type": "code",
   "execution_count": 15,
   "metadata": {},
   "outputs": [
    {
     "data": {
      "text/plain": [
       "{'dense_1': <tf.Tensor: shape=(2, 10), dtype=float32, numpy=\n",
       " array([[1.47661083e-07, 1.18086563e-08, 3.49114856e-07, 8.03321409e-09,\n",
       "         1.91357822e-06, 1.04567199e-03, 4.27146603e-08, 6.28648093e-03,\n",
       "         5.68823249e-04, 9.92096543e-01],\n",
       "        [1.68101964e-04, 1.02938884e-07, 9.74406719e-01, 2.80300742e-06,\n",
       "         2.31714845e-02, 2.11386055e-06, 2.23859120e-03, 2.44496174e-08,\n",
       "         9.88680040e-06, 2.43509646e-07]], dtype=float32)>}"
      ]
     },
     "execution_count": 15,
     "metadata": {},
     "output_type": "execute_result"
    }
   ],
   "source": [
    "# 做推理\n",
    "result = inference(tf.constant(x_test_scaled[:2]))\n",
    "result"
   ]
  }
 ],
 "metadata": {
  "kernelspec": {
   "display_name": "Python 3",
   "language": "python",
   "name": "python3"
  },
  "language_info": {
   "codemirror_mode": {
    "name": "ipython",
    "version": 3
   },
   "file_extension": ".py",
   "mimetype": "text/x-python",
   "name": "python",
   "nbconvert_exporter": "python",
   "pygments_lexer": "ipython3",
   "version": "3.6.8"
  }
 },
 "nbformat": 4,
 "nbformat_minor": 2
}
