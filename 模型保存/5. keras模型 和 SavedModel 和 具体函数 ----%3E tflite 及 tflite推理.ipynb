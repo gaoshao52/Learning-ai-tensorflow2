{
 "cells": [
  {
   "cell_type": "code",
   "execution_count": null,
   "metadata": {},
   "outputs": [],
   "source": []
  },
  {
   "cell_type": "markdown",
   "metadata": {},
   "source": [
    "## 1. 模块导入"
   ]
  },
  {
   "cell_type": "code",
   "execution_count": 1,
   "metadata": {},
   "outputs": [
    {
     "name": "stdout",
     "output_type": "stream",
     "text": [
      "numpy 1.18.1\n",
      "pandas 0.25.3\n",
      "matplotlib 3.1.2\n",
      "sklearn 0.22.1\n",
      "tensorflow_core.python.keras.api._v2.keras 2.2.4-tf\n",
      "tensorflow 2.1.0\n"
     ]
    }
   ],
   "source": [
    "%matplotlib inline\n",
    "import numpy as np\n",
    "import pandas as pd\n",
    "import matplotlib as mpl\n",
    "import matplotlib.pyplot as plt\n",
    "import sklearn\n",
    "\n",
    "from tensorflow import keras\n",
    "import tensorflow as tf\n",
    "import sys\n",
    "import os\n",
    "import time\n",
    "import datetime\n",
    "\n",
    "for module in [np, pd, mpl, sklearn, keras, tf]:\n",
    "    print(module.__name__, module.__version__)\n",
    "    \n",
    "gpus = tf.config.experimental.list_physical_devices(\"GPU\")\n",
    "tf.config.experimental.set_memory_growth(gpus[0], True)"
   ]
  },
  {
   "cell_type": "markdown",
   "metadata": {},
   "source": [
    "## 2. keras模型到tflite"
   ]
  },
  {
   "cell_type": "code",
   "execution_count": 2,
   "metadata": {},
   "outputs": [
    {
     "data": {
      "text/plain": [
       "<tf.Tensor: shape=(1, 10), dtype=float32, numpy=\n",
       "array([[0.07633319, 0.10343505, 0.09567624, 0.02766261, 0.05517917,\n",
       "        0.01143559, 0.10081402, 0.01948361, 0.4656996 , 0.0442809 ]],\n",
       "      dtype=float32)>"
      ]
     },
     "execution_count": 2,
     "metadata": {},
     "output_type": "execute_result"
    }
   ],
   "source": [
    "keras_model = keras.models.load_model(\"./keras_hdf5_model/save/fashion_mnist.h5\")\n",
    "keras_model(np.ones((1, 28, 28, 1)))"
   ]
  },
  {
   "cell_type": "code",
   "execution_count": 3,
   "metadata": {},
   "outputs": [],
   "source": [
    "keras_to_tflite_converter = tf.lite.TFLiteConverter.from_keras_model(keras_model)\n",
    "keras_to_tflite = keras_to_tflite_converter.convert()"
   ]
  },
  {
   "cell_type": "code",
   "execution_count": 4,
   "metadata": {},
   "outputs": [],
   "source": [
    "model_dir = \"tflite_models\"\n",
    "if not os.path.exists(model_dir):\n",
    "    os.makedirs(model_dir)\n",
    "keras_tflite_file = os.path.join(model_dir, \"keras_to_tflite\")\n",
    "\n",
    "with open(keras_tflite_file, \"wb\") as f:\n",
    "    f.write(keras_to_tflite)"
   ]
  },
  {
   "cell_type": "markdown",
   "metadata": {},
   "source": [
    "## 3. 具体函数到tflite"
   ]
  },
  {
   "cell_type": "code",
   "execution_count": 5,
   "metadata": {},
   "outputs": [
    {
     "data": {
      "text/plain": [
       "<tf.Tensor: shape=(1, 10), dtype=float32, numpy=\n",
       "array([[0.07633319, 0.10343505, 0.09567624, 0.02766261, 0.05517917,\n",
       "        0.01143559, 0.10081402, 0.01948361, 0.4656996 , 0.0442809 ]],\n",
       "      dtype=float32)>"
      ]
     },
     "execution_count": 5,
     "metadata": {},
     "output_type": "execute_result"
    }
   ],
   "source": [
    "model_func = tf.function(lambda x: keras_model(x))\n",
    "keras_concrete_func = model_func.get_concrete_function(tf.TensorSpec(keras_model.inputs[0].shape, keras_model.inputs[0].dtype))\n",
    "\n",
    "keras_concrete_func(tf.constant(np.ones((1, 28, 28, 1)), dtype=tf.float32))"
   ]
  },
  {
   "cell_type": "code",
   "execution_count": 6,
   "metadata": {},
   "outputs": [],
   "source": [
    "concrete_to_tflite_converter = tf.lite.TFLiteConverter.from_concrete_functions([keras_concrete_func])\n",
    "concrete_to_tflite = concrete_to_tflite_converter.convert()\n",
    "\n",
    "concrete_tflite_file = os.path.join(model_dir, \"concrete_to_tflite\")\n",
    "\n",
    "with open(concrete_tflite_file, \"wb\") as f:\n",
    "    f.write(concrete_to_tflite)"
   ]
  },
  {
   "cell_type": "markdown",
   "metadata": {},
   "source": [
    "## 4. `SavedModel`到tflite"
   ]
  },
  {
   "cell_type": "code",
   "execution_count": 7,
   "metadata": {},
   "outputs": [],
   "source": [
    "savedModel_to_tflite_converter = tf.lite.TFLiteConverter.from_saved_model(\"./keras_saved_model/\")\n",
    "savedModel_to_tflite = savedModel_to_tflite_converter.convert()\n",
    "\n",
    "savedModel_tflite_file = os.path.join(model_dir, \"savedModel_to_tflite\")\n",
    "\n",
    "with open(savedModel_tflite_file, \"wb\") as f:\n",
    "    f.write(savedModel_to_tflite)"
   ]
  },
  {
   "cell_type": "markdown",
   "metadata": {},
   "source": [
    "## 5. tflite推理(interpreter)"
   ]
  },
  {
   "cell_type": "code",
   "execution_count": 8,
   "metadata": {},
   "outputs": [],
   "source": [
    "def tflite_inference(tflite_file):\n",
    "    \n",
    "    with open(tflite_file, \"rb\") as f:\n",
    "        tflite_content = f.read()\n",
    "    \n",
    "    interpreter = tf.lite.Interpreter(model_content=tflite_content)\n",
    "    interpreter.allocate_tensors() \n",
    "    \n",
    "    input_details = interpreter.get_input_details()\n",
    "    output_details = interpreter.get_output_details()\n",
    "    \n",
    "    print(input_details)\n",
    "    print(output_details)\n",
    "    \n",
    "    input_data = tf.constant(np.ones(input_details[0][\"shape\"], dtype=np.float32))\n",
    "    interpreter.set_tensor(input_details[0]['index'], input_data)\n",
    "    \n",
    "    interpreter.invoke()\n",
    "    \n",
    "    output_result = interpreter.get_tensor(output_details[0][\"index\"])\n",
    "    \n",
    "    return output_result"
   ]
  },
  {
   "cell_type": "code",
   "execution_count": 9,
   "metadata": {},
   "outputs": [
    {
     "name": "stdout",
     "output_type": "stream",
     "text": [
      "[{'name': 'conv2d_input', 'index': 28, 'shape': array([ 1, 28, 28,  1], dtype=int32), 'dtype': <class 'numpy.float32'>, 'quantization': (0.0, 0)}]\n",
      "[{'name': 'Identity', 'index': 0, 'shape': array([ 1, 10], dtype=int32), 'dtype': <class 'numpy.float32'>, 'quantization': (0.0, 0)}]\n",
      "[[0.01264767 0.00580803 0.01378929 0.00291022 0.01054621 0.00768616\n",
      "  0.03106462 0.00463048 0.87353516 0.03738211]]\n",
      "0.007292747497558594\n"
     ]
    }
   ],
   "source": [
    "start_time = time.time()\n",
    "print(tflite_inference(savedModel_tflite_file))\n",
    "print(time.time()-start_time)"
   ]
  },
  {
   "cell_type": "code",
   "execution_count": 10,
   "metadata": {},
   "outputs": [
    {
     "name": "stdout",
     "output_type": "stream",
     "text": [
      "[{'name': 'conv2d_12_input', 'index': 1, 'shape': array([ 1, 28, 28,  1], dtype=int32), 'dtype': <class 'numpy.float32'>, 'quantization': (0.0, 0)}]\n",
      "[{'name': 'Identity', 'index': 0, 'shape': array([ 1, 10], dtype=int32), 'dtype': <class 'numpy.float32'>, 'quantization': (0.0, 0)}]\n",
      "[[0.07633319 0.10343514 0.09567622 0.0276626  0.05517913 0.01143559\n",
      "  0.10081402 0.01948359 0.46569952 0.04428094]]\n"
     ]
    }
   ],
   "source": [
    "print(tflite_inference(keras_tflite_file))"
   ]
  },
  {
   "cell_type": "code",
   "execution_count": 11,
   "metadata": {},
   "outputs": [
    {
     "name": "stdout",
     "output_type": "stream",
     "text": [
      "[{'name': 'x', 'index': 28, 'shape': array([ 1, 28, 28,  1], dtype=int32), 'dtype': <class 'numpy.float32'>, 'quantization': (0.0, 0)}]\n",
      "[{'name': 'Identity', 'index': 0, 'shape': array([ 1, 10], dtype=int32), 'dtype': <class 'numpy.float32'>, 'quantization': (0.0, 0)}]\n",
      "[[0.07633319 0.10343514 0.09567622 0.0276626  0.05517913 0.01143559\n",
      "  0.10081402 0.01948359 0.46569952 0.04428094]]\n"
     ]
    }
   ],
   "source": [
    "print(tflite_inference(concrete_tflite_file))"
   ]
  },
  {
   "cell_type": "code",
   "execution_count": null,
   "metadata": {},
   "outputs": [],
   "source": []
  }
 ],
 "metadata": {
  "kernelspec": {
   "display_name": "Python 3",
   "language": "python",
   "name": "python3"
  },
  "language_info": {
   "codemirror_mode": {
    "name": "ipython",
    "version": 3
   },
   "file_extension": ".py",
   "mimetype": "text/x-python",
   "name": "python",
   "nbconvert_exporter": "python",
   "pygments_lexer": "ipython3",
   "version": "3.6.8"
  }
 },
 "nbformat": 4,
 "nbformat_minor": 2
}
