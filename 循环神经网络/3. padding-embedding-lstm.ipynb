{
 "cells": [
  {
   "cell_type": "code",
   "execution_count": null,
   "metadata": {},
   "outputs": [],
   "source": []
  },
  {
   "cell_type": "markdown",
   "metadata": {},
   "source": [
    "## 1. 导入模块"
   ]
  },
  {
   "cell_type": "code",
   "execution_count": 1,
   "metadata": {},
   "outputs": [
    {
     "name": "stdout",
     "output_type": "stream",
     "text": [
      "numpy 1.18.1\n",
      "pandas 0.25.3\n",
      "matplotlib 3.1.2\n",
      "sklearn 0.22.1\n",
      "tensorflow_core.python.keras.api._v2.keras 2.2.4-tf\n",
      "tensorflow 2.1.0\n"
     ]
    }
   ],
   "source": [
    "%matplotlib inline\n",
    "import numpy as np\n",
    "import pandas as pd\n",
    "import matplotlib as mpl\n",
    "import matplotlib.pyplot as plt\n",
    "import sklearn\n",
    "\n",
    "from tensorflow import keras\n",
    "import tensorflow as tf\n",
    "import sys\n",
    "import os\n",
    "import time\n",
    "import datetime\n",
    "\n",
    "for module in [np, pd, mpl, sklearn, keras, tf]:\n",
    "    print(module.__name__, module.__version__)\n",
    "    \n",
    "gpus = tf.config.experimental.list_physical_devices(\"GPU\")\n",
    "tf.config.experimental.set_memory_growth(gpus[0], True)"
   ]
  },
  {
   "cell_type": "markdown",
   "metadata": {},
   "source": [
    "## 2. 加载数据"
   ]
  },
  {
   "cell_type": "code",
   "execution_count": 2,
   "metadata": {},
   "outputs": [
    {
     "name": "stdout",
     "output_type": "stream",
     "text": [
      "(25000,) (25000,)\n",
      "(25000,) (25000,)\n"
     ]
    }
   ],
   "source": [
    "imdb = keras.datasets.imdb\n",
    "vocab_size = 10000\n",
    "index_from = 3\n",
    "\n",
    "# 加载数据，词的数量为 vocab_size， 从index_from=3 后开始安排index\n",
    "(x_train, y_train), (x_test, y_test) = imdb.load_data(num_words=vocab_size, index_from=index_from)\n",
    "\n",
    "print(x_train.shape, y_train.shape)\n",
    "print(x_test.shape, y_test.shape)\n",
    "\n",
    "# word to index\n",
    "word2index = imdb.get_word_index()\n",
    "# 因为数据是从 index_from=3 开始安排的，所以，word2index 往后移3位\n",
    "word2index = {word:(idx+3) for word, idx in word2index.items()} \n",
    "\n",
    "word2index[\"<PAD>\"] = 0\n",
    "word2index[\"<START>\"] = 1\n",
    "word2index[\"<UNK>\"] = 2\n",
    "word2index[\"<END>\"] = 3\n",
    "\n",
    "reversed_word2index = {v:k for k, v in word2index.items()}"
   ]
  },
  {
   "cell_type": "code",
   "execution_count": 3,
   "metadata": {},
   "outputs": [
    {
     "name": "stdout",
     "output_type": "stream",
     "text": [
      "<START> this film was just brilliant casting location scenery story direction everyone's really suited the part they played and you could just imagine being there robert <UNK> is an amazing actor and now the same being director <UNK> father came from the same scottish island as myself so i loved the fact there was a real connection with this film the witty remarks throughout the film were great it was just brilliant so much that i bought the film as soon as it was released for <UNK> and would recommend it to everyone to watch and the fly fishing was amazing really cried at the end it was so sad and you know what they say if you cry at a film it must have been good and this definitely was also <UNK> to the two little boy's that played the <UNK> of norman and paul they were just brilliant children are often left out of the <UNK> list i think because the stars that play them all grown up are such a big profile for the whole film but these children are amazing and should be praised for what they have done don't you think the whole story was so lovely because it was true and was someone's life after all that was shared with us all\n"
     ]
    }
   ],
   "source": [
    "# 解析数据\n",
    "def decode_review(text_ids):\n",
    "    return \" \".join([reversed_word2index[ids] for ids in text_ids])\n",
    "\n",
    "print(decode_review(x_train[0]))"
   ]
  },
  {
   "cell_type": "code",
   "execution_count": 4,
   "metadata": {},
   "outputs": [],
   "source": [
    "# 补全数据\n",
    "max_length = 500\n",
    "\n",
    "x_train = keras.preprocessing.sequence.pad_sequences(\n",
    "    x_train, # list of list\n",
    "    value=word2index[\"<PAD>\"], # 填充数\n",
    "    padding=\"post\",  # 往后填充\n",
    "    maxlen=max_length) # 最大长度\n",
    "\n",
    "x_test = keras.preprocessing.sequence.pad_sequences(\n",
    "    x_test, # list of list\n",
    "    value=word2index[\"<PAD>\"],\n",
    "    padding=\"post\",\n",
    "    maxlen=max_length)\n",
    "\n",
    "# print(x_train[0])"
   ]
  },
  {
   "cell_type": "markdown",
   "metadata": {},
   "source": [
    "## 3. RNN建模训练"
   ]
  },
  {
   "cell_type": "code",
   "execution_count": 5,
   "metadata": {},
   "outputs": [
    {
     "name": "stdout",
     "output_type": "stream",
     "text": [
      "Model: \"sequential\"\n",
      "_________________________________________________________________\n",
      "Layer (type)                 Output Shape              Param #   \n",
      "=================================================================\n",
      "embedding (Embedding)        (None, 500, 16)           160000    \n",
      "_________________________________________________________________\n",
      "lstm (LSTM)                  (None, 64)                20736     \n",
      "_________________________________________________________________\n",
      "dense (Dense)                (None, 64)                4160      \n",
      "_________________________________________________________________\n",
      "dense_1 (Dense)              (None, 1)                 65        \n",
      "=================================================================\n",
      "Total params: 184,961\n",
      "Trainable params: 184,961\n",
      "Non-trainable params: 0\n",
      "_________________________________________________________________\n"
     ]
    }
   ],
   "source": [
    "embedding_dim = 16\n",
    "batch_size = 128\n",
    "\n",
    "def build_model(vocab_size, embedding_dim, max_length):\n",
    "    model = keras.models.Sequential([\n",
    "        # 输入数据：batch_size * max_length\n",
    "        \n",
    "        # 词表矩阵          vocab_size * embedding_dim\n",
    "        # 每个词输入的矩阵：max_length * embedding_dim\n",
    "        # 每批词的输出矩阵：batch_size * max_length * embedding_dim\n",
    "        keras.layers.Embedding(\n",
    "            input_dim=vocab_size, output_dim=embedding_dim, input_length=max_length), # batch_size * max_length * embedding_dim\n",
    "        \n",
    "        keras.layers.LSTM(units=64, return_sequences=False), # batch_size * 64\n",
    "        keras.layers.Dense(64, activation=\"relu\"),  # batch_size * 64\n",
    "        keras.layers.Dense(1, activation=\"sigmoid\")\n",
    "    ])\n",
    "    model.compile(loss=\"binary_crossentropy\", optimizer=\"adam\", metrics=[\"accuracy\"])\n",
    "    \n",
    "    return model\n",
    "\n",
    "simple_rnn_model = build_model(vocab_size, embedding_dim, max_length)\n",
    "simple_rnn_model.summary()"
   ]
  },
  {
   "cell_type": "code",
   "execution_count": 6,
   "metadata": {},
   "outputs": [
    {
     "name": "stdout",
     "output_type": "stream",
     "text": [
      "Train on 20000 samples, validate on 5000 samples\n",
      "Epoch 1/30\n",
      "20000/20000 [==============================] - 8s 397us/sample - loss: 0.6932 - accuracy: 0.5020 - val_loss: 0.6930 - val_accuracy: 0.5036\n",
      "Epoch 2/30\n",
      "20000/20000 [==============================] - 5s 271us/sample - loss: 0.6901 - accuracy: 0.5130 - val_loss: 0.6886 - val_accuracy: 0.5148\n",
      "Epoch 3/30\n",
      "20000/20000 [==============================] - 6s 275us/sample - loss: 0.6868 - accuracy: 0.5255 - val_loss: 0.6853 - val_accuracy: 0.5240\n",
      "Epoch 4/30\n",
      "20000/20000 [==============================] - 5s 273us/sample - loss: 0.6669 - accuracy: 0.5381 - val_loss: 0.6838 - val_accuracy: 0.5122\n",
      "Epoch 5/30\n",
      "20000/20000 [==============================] - 6s 275us/sample - loss: 0.6764 - accuracy: 0.5310 - val_loss: 0.6865 - val_accuracy: 0.4944\n",
      "Epoch 6/30\n",
      "20000/20000 [==============================] - 6s 277us/sample - loss: 0.6633 - accuracy: 0.5411 - val_loss: 0.7009 - val_accuracy: 0.5218\n",
      "Epoch 7/30\n",
      "20000/20000 [==============================] - 5s 274us/sample - loss: 0.6552 - accuracy: 0.5389 - val_loss: 0.6834 - val_accuracy: 0.5228\n",
      "Epoch 8/30\n",
      "20000/20000 [==============================] - 5s 273us/sample - loss: 0.6436 - accuracy: 0.5726 - val_loss: 0.6289 - val_accuracy: 0.6812\n",
      "Epoch 9/30\n",
      "20000/20000 [==============================] - 5s 274us/sample - loss: 0.5783 - accuracy: 0.7067 - val_loss: 0.6944 - val_accuracy: 0.5062\n",
      "Epoch 10/30\n",
      "20000/20000 [==============================] - 6s 276us/sample - loss: 0.6910 - accuracy: 0.5174 - val_loss: 0.6908 - val_accuracy: 0.5166\n",
      "Epoch 11/30\n",
      "20000/20000 [==============================] - 6s 277us/sample - loss: 0.6801 - accuracy: 0.5280 - val_loss: 0.7193 - val_accuracy: 0.4986\n",
      "Epoch 12/30\n",
      "20000/20000 [==============================] - 6s 276us/sample - loss: 0.6613 - accuracy: 0.5441 - val_loss: 0.6978 - val_accuracy: 0.5258\n",
      "Epoch 13/30\n",
      "20000/20000 [==============================] - 5s 274us/sample - loss: 0.6461 - accuracy: 0.5428 - val_loss: 0.6977 - val_accuracy: 0.5160\n",
      "Epoch 14/30\n",
      "20000/20000 [==============================] - 6s 275us/sample - loss: 0.6418 - accuracy: 0.5433 - val_loss: 0.6840 - val_accuracy: 0.5112\n",
      "Epoch 15/30\n",
      "20000/20000 [==============================] - 6s 277us/sample - loss: 0.6478 - accuracy: 0.5494 - val_loss: 0.7041 - val_accuracy: 0.5202\n",
      "Epoch 16/30\n",
      "20000/20000 [==============================] - 6s 276us/sample - loss: 0.6469 - accuracy: 0.5504 - val_loss: 0.7453 - val_accuracy: 0.5216\n",
      "Epoch 17/30\n",
      "20000/20000 [==============================] - 6s 275us/sample - loss: 0.6780 - accuracy: 0.5259 - val_loss: 0.6994 - val_accuracy: 0.5058\n",
      "Epoch 18/30\n",
      "20000/20000 [==============================] - 6s 278us/sample - loss: 0.6597 - accuracy: 0.5365 - val_loss: 0.6961 - val_accuracy: 0.5218\n",
      "Epoch 19/30\n",
      "20000/20000 [==============================] - 5s 274us/sample - loss: 0.6393 - accuracy: 0.5454 - val_loss: 0.7125 - val_accuracy: 0.5288\n",
      "Epoch 20/30\n",
      "20000/20000 [==============================] - 6s 276us/sample - loss: 0.6348 - accuracy: 0.5480 - val_loss: 0.7299 - val_accuracy: 0.5300\n",
      "Epoch 21/30\n",
      "20000/20000 [==============================] - 6s 276us/sample - loss: 0.6315 - accuracy: 0.5562 - val_loss: 0.7515 - val_accuracy: 0.5282\n",
      "Epoch 22/30\n",
      "20000/20000 [==============================] - 6s 275us/sample - loss: 0.6338 - accuracy: 0.5494 - val_loss: 0.7473 - val_accuracy: 0.5148\n",
      "Epoch 23/30\n",
      "20000/20000 [==============================] - 6s 276us/sample - loss: 0.6630 - accuracy: 0.5476 - val_loss: 0.6984 - val_accuracy: 0.5226\n",
      "Epoch 24/30\n",
      "20000/20000 [==============================] - 6s 277us/sample - loss: 0.6378 - accuracy: 0.5385 - val_loss: 0.7146 - val_accuracy: 0.5192\n",
      "Epoch 25/30\n",
      "20000/20000 [==============================] - 5s 275us/sample - loss: 0.6315 - accuracy: 0.5469 - val_loss: 0.7275 - val_accuracy: 0.5260\n",
      "Epoch 26/30\n",
      "20000/20000 [==============================] - 5s 274us/sample - loss: 0.6315 - accuracy: 0.5501 - val_loss: 0.7145 - val_accuracy: 0.5308\n",
      "Epoch 27/30\n",
      "20000/20000 [==============================] - 6s 277us/sample - loss: 0.6337 - accuracy: 0.5520 - val_loss: 0.7151 - val_accuracy: 0.5176\n",
      "Epoch 28/30\n",
      "20000/20000 [==============================] - 6s 276us/sample - loss: 0.6256 - accuracy: 0.5520 - val_loss: 0.7082 - val_accuracy: 0.5524\n",
      "Epoch 29/30\n",
      "20000/20000 [==============================] - 6s 276us/sample - loss: 0.6691 - accuracy: 0.5422 - val_loss: 0.6819 - val_accuracy: 0.5276\n",
      "Epoch 30/30\n",
      "20000/20000 [==============================] - 6s 275us/sample - loss: 0.6376 - accuracy: 0.5434 - val_loss: 0.6931 - val_accuracy: 0.5296\n"
     ]
    }
   ],
   "source": [
    "history = simple_rnn_model.fit(x_train, y_train, validation_split=0.2, epochs=30, batch_size=batch_size)"
   ]
  },
  {
   "cell_type": "code",
   "execution_count": 7,
   "metadata": {},
   "outputs": [
    {
     "data": {
      "text/plain": [
       "(0, 1.8)"
      ]
     },
     "execution_count": 7,
     "metadata": {},
     "output_type": "execute_result"
    },
    {
     "data": {
      "image/png": "[encoded data removed]",
      "text/plain": [
       "<Figure size 720x360 with 1 Axes>"
      ]
     },
     "metadata": {
      "needs_background": "light"
     },
     "output_type": "display_data"
    }
   ],
   "source": [
    "pd.DataFrame(history.history)[[\"loss\", \"val_loss\"]].plot(figsize=(10, 5))\n",
    "plt.grid(True)\n",
    "plt.ylim(0, 1.8)"
   ]
  },
  {
   "cell_type": "code",
   "execution_count": 8,
   "metadata": {},
   "outputs": [
    {
     "data": {
      "text/plain": [
       "(0, 1)"
      ]
     },
     "execution_count": 8,
     "metadata": {},
     "output_type": "execute_result"
    },
    {
     "data": {
      "image/png": "[encoded data removed]",
      "text/plain": [
       "<Figure size 720x360 with 1 Axes>"
      ]
     },
     "metadata": {
      "needs_background": "light"
     },
     "output_type": "display_data"
    }
   ],
   "source": [
    "pd.DataFrame(history.history)[[\"accuracy\", \"val_accuracy\"]].plot(figsize=(10, 5))\n",
    "plt.grid(True)\n",
    "plt.ylim(0, 1)"
   ]
  },
  {
   "cell_type": "markdown",
   "metadata": {},
   "source": [
    "## 4. 双向两层RNN"
   ]
  },
  {
   "cell_type": "code",
   "execution_count": 9,
   "metadata": {},
   "outputs": [
    {
     "name": "stdout",
     "output_type": "stream",
     "text": [
      "Model: \"sequential_1\"\n",
      "_________________________________________________________________\n",
      "Layer (type)                 Output Shape              Param #   \n",
      "=================================================================\n",
      "embedding_1 (Embedding)      (None, 500, 16)           160000    \n",
      "_________________________________________________________________\n",
      "bidirectional (Bidirectional (None, 500, 128)          41472     \n",
      "_________________________________________________________________\n",
      "bidirectional_1 (Bidirection (None, 128)               98816     \n",
      "_________________________________________________________________\n",
      "dense_2 (Dense)              (None, 64)                8256      \n",
      "_________________________________________________________________\n",
      "dense_3 (Dense)              (None, 1)                 65        \n",
      "=================================================================\n",
      "Total params: 308,609\n",
      "Trainable params: 308,609\n",
      "Non-trainable params: 0\n",
      "_________________________________________________________________\n"
     ]
    }
   ],
   "source": [
    "def build_model(vocab_size, embedding_dim, max_length):\n",
    "    model = keras.models.Sequential([\n",
    "        # 输入数据：batch_size * max_length\n",
    "        \n",
    "        # 词表矩阵          vocab_size * embedding_dim\n",
    "        # 每个词输入的矩阵：max_length * embedding_dim\n",
    "        # 每批词的输出矩阵：batch_size * max_length * embedding_dim\n",
    "        keras.layers.Embedding(\n",
    "            input_dim=vocab_size, output_dim=embedding_dim, input_length=max_length), # batch_size * max_length * embedding_dim\n",
    "        \n",
    "        keras.layers.Bidirectional(keras.layers.LSTM(units=64, return_sequences=True)), # batch_size * max_length * 128\n",
    "        keras.layers.Bidirectional(keras.layers.LSTM(units=64, return_sequences=False)), # batch_size * 128\n",
    "        \n",
    "        keras.layers.Dense(64, activation=\"relu\"),  # batch_size * 64\n",
    "        keras.layers.Dense(1, activation=\"sigmoid\")\n",
    "    ])\n",
    "    model.compile(loss=\"binary_crossentropy\", optimizer=\"adam\", metrics=[\"accuracy\"])\n",
    "    \n",
    "    return model\n",
    "\n",
    "bi_rnn_model = build_model(vocab_size, embedding_dim, max_length)\n",
    "bi_rnn_model.summary()"
   ]
  },
  {
   "cell_type": "code",
   "execution_count": 10,
   "metadata": {},
   "outputs": [
    {
     "name": "stdout",
     "output_type": "stream",
     "text": [
      "Train on 20000 samples, validate on 5000 samples\n",
      "Epoch 1/30\n",
      "20000/20000 [==============================] - 28s 1ms/sample - loss: 0.6174 - accuracy: 0.6586 - val_loss: 0.4680 - val_accuracy: 0.7908\n",
      "Epoch 2/30\n",
      "20000/20000 [==============================] - 24s 1ms/sample - loss: 0.3889 - accuracy: 0.8418 - val_loss: 0.3599 - val_accuracy: 0.8486\n",
      "Epoch 3/30\n",
      "20000/20000 [==============================] - 24s 1ms/sample - loss: 0.2415 - accuracy: 0.9088 - val_loss: 0.2981 - val_accuracy: 0.8858\n",
      "Epoch 4/30\n",
      "20000/20000 [==============================] - 24s 1ms/sample - loss: 0.1839 - accuracy: 0.9345 - val_loss: 0.3314 - val_accuracy: 0.8780\n",
      "Epoch 5/30\n",
      "20000/20000 [==============================] - 24s 1ms/sample - loss: 0.1534 - accuracy: 0.9481 - val_loss: 0.3621 - val_accuracy: 0.8614\n",
      "Epoch 6/30\n",
      "20000/20000 [==============================] - 24s 1ms/sample - loss: 0.1215 - accuracy: 0.9618 - val_loss: 0.3918 - val_accuracy: 0.8756\n",
      "Epoch 7/30\n",
      "20000/20000 [==============================] - 24s 1ms/sample - loss: 0.0985 - accuracy: 0.9693 - val_loss: 0.4228 - val_accuracy: 0.8670\n",
      "Epoch 8/30\n",
      "20000/20000 [==============================] - 24s 1ms/sample - loss: 0.0877 - accuracy: 0.9736 - val_loss: 0.4987 - val_accuracy: 0.8708\n",
      "Epoch 9/30\n",
      "20000/20000 [==============================] - 24s 1ms/sample - loss: 0.0758 - accuracy: 0.9779 - val_loss: 0.5710 - val_accuracy: 0.8632\n",
      "Epoch 10/30\n",
      "20000/20000 [==============================] - 24s 1ms/sample - loss: 0.0640 - accuracy: 0.9811 - val_loss: 0.5058 - val_accuracy: 0.8542\n",
      "Epoch 11/30\n",
      "20000/20000 [==============================] - 24s 1ms/sample - loss: 0.0500 - accuracy: 0.9868 - val_loss: 0.6160 - val_accuracy: 0.8536\n",
      "Epoch 12/30\n",
      "20000/20000 [==============================] - 24s 1ms/sample - loss: 0.0425 - accuracy: 0.9889 - val_loss: 0.6353 - val_accuracy: 0.8634\n",
      "Epoch 13/30\n",
      "20000/20000 [==============================] - 24s 1ms/sample - loss: 0.0556 - accuracy: 0.9841 - val_loss: 0.6111 - val_accuracy: 0.8502\n",
      "Epoch 14/30\n",
      "20000/20000 [==============================] - 24s 1ms/sample - loss: 0.0373 - accuracy: 0.9908 - val_loss: 0.6382 - val_accuracy: 0.8736\n",
      "Epoch 15/30\n",
      "20000/20000 [==============================] - 24s 1ms/sample - loss: 0.0417 - accuracy: 0.9888 - val_loss: 0.6271 - val_accuracy: 0.8662\n",
      "Epoch 16/30\n",
      "20000/20000 [==============================] - 24s 1ms/sample - loss: 0.0395 - accuracy: 0.9899 - val_loss: 0.5447 - val_accuracy: 0.8598\n",
      "Epoch 17/30\n",
      "20000/20000 [==============================] - 24s 1ms/sample - loss: 0.0245 - accuracy: 0.9943 - val_loss: 0.6659 - val_accuracy: 0.8564\n",
      "Epoch 18/30\n",
      "20000/20000 [==============================] - 24s 1ms/sample - loss: 0.0334 - accuracy: 0.9913 - val_loss: 0.6446 - val_accuracy: 0.8664\n",
      "Epoch 19/30\n",
      "20000/20000 [==============================] - 24s 1ms/sample - loss: 0.0344 - accuracy: 0.9905 - val_loss: 0.6133 - val_accuracy: 0.8458\n",
      "Epoch 20/30\n",
      "20000/20000 [==============================] - 24s 1ms/sample - loss: 0.0332 - accuracy: 0.9907 - val_loss: 0.6183 - val_accuracy: 0.8610\n",
      "Epoch 21/30\n",
      "20000/20000 [==============================] - 24s 1ms/sample - loss: 0.0407 - accuracy: 0.9881 - val_loss: 0.6397 - val_accuracy: 0.8602\n",
      "Epoch 22/30\n",
      "20000/20000 [==============================] - 24s 1ms/sample - loss: 0.0289 - accuracy: 0.9922 - val_loss: 0.7373 - val_accuracy: 0.8302\n",
      "Epoch 23/30\n",
      "20000/20000 [==============================] - 24s 1ms/sample - loss: 0.0210 - accuracy: 0.9952 - val_loss: 0.6854 - val_accuracy: 0.8518\n",
      "Epoch 24/30\n",
      "20000/20000 [==============================] - 24s 1ms/sample - loss: 0.0350 - accuracy: 0.9898 - val_loss: 0.6537 - val_accuracy: 0.8520\n",
      "Epoch 25/30\n",
      "20000/20000 [==============================] - 24s 1ms/sample - loss: 0.0360 - accuracy: 0.9898 - val_loss: 0.6992 - val_accuracy: 0.8576\n",
      "Epoch 26/30\n",
      "20000/20000 [==============================] - 24s 1ms/sample - loss: 0.0310 - accuracy: 0.9920 - val_loss: 0.6396 - val_accuracy: 0.8370\n",
      "Epoch 27/30\n",
      "20000/20000 [==============================] - 24s 1ms/sample - loss: 0.0333 - accuracy: 0.9912 - val_loss: 0.6178 - val_accuracy: 0.8556\n",
      "Epoch 28/30\n",
      "20000/20000 [==============================] - 24s 1ms/sample - loss: 0.0703 - accuracy: 0.9767 - val_loss: 0.5640 - val_accuracy: 0.8540\n",
      "Epoch 29/30\n",
      "20000/20000 [==============================] - 24s 1ms/sample - loss: 0.0224 - accuracy: 0.9941 - val_loss: 0.6812 - val_accuracy: 0.8576\n",
      "Epoch 30/30\n",
      "20000/20000 [==============================] - 24s 1ms/sample - loss: 0.0152 - accuracy: 0.9967 - val_loss: 0.7339 - val_accuracy: 0.8638\n"
     ]
    }
   ],
   "source": [
    "history = bi_rnn_model.fit(x_train, y_train, validation_split=0.2, epochs=30, batch_size=batch_size)"
   ]
  },
  {
   "cell_type": "code",
   "execution_count": 11,
   "metadata": {},
   "outputs": [
    {
     "data": {
      "text/plain": [
       "(0, 1.8)"
      ]
     },
     "execution_count": 11,
     "metadata": {},
     "output_type": "execute_result"
    },
    {
     "data": {
      "image/png": "[encoded data removed]",
      "text/plain": [
       "<Figure size 720x360 with 1 Axes>"
      ]
     },
     "metadata": {
      "needs_background": "light"
     },
     "output_type": "display_data"
    }
   ],
   "source": [
    "pd.DataFrame(history.history)[[\"loss\", \"val_loss\"]].plot(figsize=(10, 5))\n",
    "plt.grid(True)\n",
    "plt.ylim(0, 1.8)"
   ]
  },
  {
   "cell_type": "code",
   "execution_count": 12,
   "metadata": {},
   "outputs": [
    {
     "data": {
      "text/plain": [
       "(0, 1)"
      ]
     },
     "execution_count": 12,
     "metadata": {},
     "output_type": "execute_result"
    },
    {
     "data": {
      "image/png": "[encoded data removed]",
      "text/plain": [
       "<Figure size 720x360 with 1 Axes>"
      ]
     },
     "metadata": {
      "needs_background": "light"
     },
     "output_type": "display_data"
    }
   ],
   "source": [
    "pd.DataFrame(history.history)[[\"accuracy\", \"val_accuracy\"]].plot(figsize=(10, 5))\n",
    "plt.grid(True)\n",
    "plt.ylim(0, 1)"
   ]
  },
  {
   "cell_type": "code",
   "execution_count": null,
   "metadata": {},
   "outputs": [],
   "source": []
  }
 ],
 "metadata": {
  "kernelspec": {
   "display_name": "Python 3",
   "language": "python",
   "name": "python3"
  },
  "language_info": {
   "codemirror_mode": {
    "name": "ipython",
    "version": 3
   },
   "file_extension": ".py",
   "mimetype": "text/x-python",
   "name": "python",
   "nbconvert_exporter": "python",
   "pygments_lexer": "ipython3",
   "version": "3.6.8"
  }
 },
 "nbformat": 4,
 "nbformat_minor": 2
}
