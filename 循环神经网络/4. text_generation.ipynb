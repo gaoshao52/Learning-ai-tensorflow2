{
 "cells": [
  {
   "cell_type": "code",
   "execution_count": null,
   "metadata": {},
   "outputs": [],
   "source": []
  },
  {
   "cell_type": "markdown",
   "metadata": {},
   "source": [
    "## 1. 导入模块"
   ]
  },
  {
   "cell_type": "code",
   "execution_count": 1,
   "metadata": {},
   "outputs": [
    {
     "name": "stdout",
     "output_type": "stream",
     "text": [
      "numpy 1.18.1\n",
      "pandas 0.25.3\n",
      "matplotlib 3.1.2\n",
      "sklearn 0.22.1\n",
      "tensorflow_core.python.keras.api._v2.keras 2.2.4-tf\n",
      "tensorflow 2.1.0\n"
     ]
    }
   ],
   "source": [
    "%matplotlib inline\n",
    "import numpy as np\n",
    "import pandas as pd\n",
    "import matplotlib as mpl\n",
    "import matplotlib.pyplot as plt\n",
    "import sklearn\n",
    "\n",
    "from tensorflow import keras\n",
    "import tensorflow as tf\n",
    "import sys\n",
    "import os\n",
    "import time\n",
    "import datetime\n",
    "\n",
    "for module in [np, pd, mpl, sklearn, keras, tf]:\n",
    "    print(module.__name__, module.__version__)\n",
    "    \n",
    "gpus = tf.config.experimental.list_physical_devices(\"GPU\")\n",
    "tf.config.experimental.set_memory_growth(gpus[0], True)"
   ]
  },
  {
   "cell_type": "markdown",
   "metadata": {},
   "source": [
    "## 2. 词的处理"
   ]
  },
  {
   "cell_type": "markdown",
   "metadata": {},
   "source": [
    "  - ### 2.1 词表"
   ]
  },
  {
   "cell_type": "code",
   "execution_count": 2,
   "metadata": {},
   "outputs": [
    {
     "name": "stdout",
     "output_type": "stream",
     "text": [
      "65\n",
      "['\\n', ' ', '!', '$', '&', \"'\", ',', '-', '.', '3', ':', ';', '?', 'A', 'B', 'C', 'D', 'E', 'F', 'G', 'H', 'I', 'J', 'K', 'L', 'M', 'N', 'O', 'P', 'Q', 'R', 'S', 'T', 'U', 'V', 'W', 'X', 'Y', 'Z', 'a', 'b', 'c', 'd', 'e', 'f', 'g', 'h', 'i', 'j', 'k', 'l', 'm', 'n', 'o', 'p', 'q', 'r', 's', 't', 'u', 'v', 'w', 'x', 'y', 'z']\n"
     ]
    }
   ],
   "source": [
    "input_filepath = \"./shakespeare.txt\"\n",
    "\n",
    "with open(input_filepath, \"r\") as f:\n",
    "    text = f.read()\n",
    "    \n",
    "vocab = sorted(set(text))\n",
    "\n",
    "print(len(vocab))\n",
    "print(vocab)"
   ]
  },
  {
   "cell_type": "markdown",
   "metadata": {},
   "source": [
    "  - ### 2.2 id to char"
   ]
  },
  {
   "cell_type": "code",
   "execution_count": 3,
   "metadata": {},
   "outputs": [
    {
     "name": "stdout",
     "output_type": "stream",
     "text": [
      "['\\n' ' ' '!' '$' '&' \"'\" ',' '-' '.' '3' ':' ';' '?' 'A' 'B' 'C' 'D' 'E'\n",
      " 'F' 'G' 'H' 'I' 'J' 'K' 'L' 'M' 'N' 'O' 'P' 'Q' 'R' 'S' 'T' 'U' 'V' 'W'\n",
      " 'X' 'Y' 'Z' 'a' 'b' 'c' 'd' 'e' 'f' 'g' 'h' 'i' 'j' 'k' 'l' 'm' 'n' 'o'\n",
      " 'p' 'q' 'r' 's' 't' 'u' 'v' 'w' 'x' 'y' 'z']\n"
     ]
    }
   ],
   "source": [
    "id2char = np.array(vocab)\n",
    "print(id2char)"
   ]
  },
  {
   "cell_type": "markdown",
   "metadata": {},
   "source": [
    "  - ### 2.3 char to id"
   ]
  },
  {
   "cell_type": "code",
   "execution_count": 4,
   "metadata": {},
   "outputs": [
    {
     "name": "stdout",
     "output_type": "stream",
     "text": [
      "{'\\n': 0, ' ': 1, '!': 2, '$': 3, '&': 4, \"'\": 5, ',': 6, '-': 7, '.': 8, '3': 9, ':': 10, ';': 11, '?': 12, 'A': 13, 'B': 14, 'C': 15, 'D': 16, 'E': 17, 'F': 18, 'G': 19, 'H': 20, 'I': 21, 'J': 22, 'K': 23, 'L': 24, 'M': 25, 'N': 26, 'O': 27, 'P': 28, 'Q': 29, 'R': 30, 'S': 31, 'T': 32, 'U': 33, 'V': 34, 'W': 35, 'X': 36, 'Y': 37, 'Z': 38, 'a': 39, 'b': 40, 'c': 41, 'd': 42, 'e': 43, 'f': 44, 'g': 45, 'h': 46, 'i': 47, 'j': 48, 'k': 49, 'l': 50, 'm': 51, 'n': 52, 'o': 53, 'p': 54, 'q': 55, 'r': 56, 's': 57, 't': 58, 'u': 59, 'v': 60, 'w': 61, 'x': 62, 'y': 63, 'z': 64}\n"
     ]
    }
   ],
   "source": [
    "char2id = {c:idx for idx, c in enumerate(vocab)}\n",
    "\n",
    "print(char2id)"
   ]
  },
  {
   "cell_type": "markdown",
   "metadata": {},
   "source": [
    "  - ### 2.4 text to id"
   ]
  },
  {
   "cell_type": "code",
   "execution_count": 6,
   "metadata": {},
   "outputs": [
    {
     "name": "stdout",
     "output_type": "stream",
     "text": [
      "[18 47 56 57 58  1 15 47 58 47 64 43 52 10  0 14 43 44 53 56 43  1 61 43\n",
      "  1 54 56 53 41 43 43 42  1 39 52 63  1 44 59 56 58 46 43 56  6  1 46 43\n",
      " 39 56  1 51 43  1 57 54 43 39 49  8  0  0 13 50 50 10  0 31 54 43 39 49\n",
      "  6  1 57 54 43 39 49  8  0  0 18 47 56 57 58  1 15 47 58 47 64 43 52 10\n",
      "  0 37 53 59]\n",
      "First Citizen:\n",
      "Before we proceed any further, hear me speak.\n",
      "\n",
      "All:\n",
      "Speak, speak.\n",
      "\n",
      "First Citizen:\n",
      "You\n"
     ]
    }
   ],
   "source": [
    "text_as_id = np.array([char2id[c] for c in text])\n",
    "\n",
    "print(text_as_id[:100])\n",
    "print(text[:100])"
   ]
  },
  {
   "cell_type": "markdown",
   "metadata": {},
   "source": [
    "  - ### 2.5 make dataset"
   ]
  },
  {
   "cell_type": "code",
   "execution_count": 21,
   "metadata": {},
   "outputs": [
    {
     "name": "stdout",
     "output_type": "stream",
     "text": [
      "tf.Tensor(\n",
      "[[45 43 52 ...  1 63 53]\n",
      " [46 63  1 ...  1 32 39]\n",
      " [50 58  6 ... 10  1 60]\n",
      " ...\n",
      " [43  1 46 ... 52 42  8]\n",
      " [40 43  1 ... 63 53 59]\n",
      " [ 1 26 53 ... 44 53 56]], shape=(64, 100), dtype=int64)\n",
      "tf.Tensor(\n",
      "[[43 52 58 ... 63 53 59]\n",
      " [63  1 40 ... 32 39 49]\n",
      " [58  6  1 ...  1 60 47]\n",
      " ...\n",
      " [ 1 46 43 ... 42  8  1]\n",
      " [43  1 53 ... 53 59 56]\n",
      " [26 53 56 ... 53 56 43]], shape=(64, 100), dtype=int64)\n"
     ]
    }
   ],
   "source": [
    "seq_length = 100\n",
    "batch_size = 64\n",
    "buffer_size = 10000\n",
    "\n",
    "def split_input_target(id_text):\n",
    "    return id_text[:-1], id_text[1:]\n",
    "\n",
    "char_dataset = tf.data.Dataset.from_tensor_slices(text_as_id)\n",
    "seq_dataset = char_dataset.batch(seq_length+1, drop_remainder=True)\n",
    "seq_dataset = seq_dataset.map(split_input_target)\n",
    "seq_dataset = seq_dataset.shuffle(buffer_size).batch(batch_size, drop_remainder=True)\n",
    "\n",
    "\n",
    "for item_x_batch, item_y_batch in seq_dataset.take(1):\n",
    "    print(item_x_batch)\n",
    "    print(item_y_batch)"
   ]
  },
  {
   "cell_type": "markdown",
   "metadata": {},
   "source": [
    "## 3. 建模\n",
    "\n",
    "  - ### 3.1 模型"
   ]
  },
  {
   "cell_type": "code",
   "execution_count": 23,
   "metadata": {},
   "outputs": [
    {
     "name": "stdout",
     "output_type": "stream",
     "text": [
      "Model: \"sequential\"\n",
      "_________________________________________________________________\n",
      "Layer (type)                 Output Shape              Param #   \n",
      "=================================================================\n",
      "embedding (Embedding)        (64, None, 256)           16640     \n",
      "_________________________________________________________________\n",
      "simple_rnn (SimpleRNN)       (64, None, 1024)          1311744   \n",
      "_________________________________________________________________\n",
      "dense (Dense)                (64, None, 65)            66625     \n",
      "=================================================================\n",
      "Total params: 1,395,009\n",
      "Trainable params: 1,395,009\n",
      "Non-trainable params: 0\n",
      "_________________________________________________________________\n"
     ]
    }
   ],
   "source": [
    "def build_model(vocab_size, embedding_dim, rnn_units, batch_size):\n",
    "    model = keras.models.Sequential([\n",
    "        keras.layers.Embedding(vocab_size, embedding_dim, batch_input_shape=[batch_size, None]),\n",
    "        keras.layers.SimpleRNN(units=rnn_units,\n",
    "                              stateful = True,\n",
    "                              recurrent_initializer=\"glorot_uniform\",\n",
    "                              return_sequences=True),\n",
    "        keras.layers.Dense(vocab_size)\n",
    "    ])\n",
    "    \n",
    "    return model\n",
    "\n",
    "vocab_size = len(vocab)\n",
    "embedding_dim = 256\n",
    "rnn_units = 1024\n",
    "\n",
    "model = build_model(vocab_size, embedding_dim, rnn_units, batch_size)\n",
    "\n",
    "model.summary()"
   ]
  },
  {
   "cell_type": "markdown",
   "metadata": {},
   "source": [
    "  - ### 3.2 模型测试"
   ]
  },
  {
   "cell_type": "code",
   "execution_count": 24,
   "metadata": {},
   "outputs": [
    {
     "name": "stdout",
     "output_type": "stream",
     "text": [
      "(64, 100)\n",
      "(64, 100)\n",
      "(64, 100, 65)\n"
     ]
    }
   ],
   "source": [
    "for input_batch, target_batch in seq_dataset.take(1):\n",
    "    print(input_batch.shape)\n",
    "    print(target_batch.shape)\n",
    "    predictions_batch = model(input_batch)\n",
    "    print(predictions_batch.shape)"
   ]
  },
  {
   "cell_type": "code",
   "execution_count": 25,
   "metadata": {},
   "outputs": [
    {
     "name": "stdout",
     "output_type": "stream",
     "text": [
      "(100, 1)\n"
     ]
    }
   ],
   "source": [
    "# (100, 65) --> (100, 1)\n",
    "sample_slices = tf.random.categorical(logits=predictions_batch[0], num_samples=1)\n",
    "print(sample_slices.shape)"
   ]
  },
  {
   "cell_type": "code",
   "execution_count": 30,
   "metadata": {},
   "outputs": [
    {
     "name": "stdout",
     "output_type": "stream",
     "text": [
      "Input: 'l, the place of your dwelling, your\\nnames, your ages, of what having, breeding, and any\\nthing that i'\n",
      "Output: ', the place of your dwelling, your\\nnames, your ages, of what having, breeding, and any\\nthing that is'\n",
      "Prediction: \",nqw.MVq cajtnuXdUlHO.-u\\nexVxliLrIc&x3PtzIxsXKFJOwKYXiE&K-GDQDb&cWdunBZ':qFqAM\\n&pSGofRssxAgCHg&fb:;d\"\n"
     ]
    }
   ],
   "source": [
    "print(\"Input:\", repr(\"\".join(id2char[input_batch[0]])))\n",
    "print(\"Output:\", repr(\"\".join(id2char[target_batch[0]])))\n",
    "print(\"Prediction:\", repr(\"\".join(id2char[tf.squeeze(sample_slices, axis=-1)])))"
   ]
  },
  {
   "cell_type": "code",
   "execution_count": 38,
   "metadata": {},
   "outputs": [
    {
     "name": "stdout",
     "output_type": "stream",
     "text": [
      "(64, 1, 65)\n"
     ]
    }
   ],
   "source": [
    "pred = model(tf.constant(np.zeros((batch_size, 1), dtype=np.int32)))\n",
    "print(pred.shape)"
   ]
  },
  {
   "cell_type": "markdown",
   "metadata": {},
   "source": [
    "  - ### 3.3 失函数定义"
   ]
  },
  {
   "cell_type": "code",
   "execution_count": 48,
   "metadata": {},
   "outputs": [
    {
     "name": "stdout",
     "output_type": "stream",
     "text": [
      "(64, 100)\n",
      "4.183115\n"
     ]
    }
   ],
   "source": [
    "def loss(labels, predictions):\n",
    "    return keras.losses.sparse_categorical_crossentropy(labels, predictions, from_logits=True)\n",
    "\n",
    "test_loss = loss(target_batch, predictions_batch)\n",
    "print(test_loss.shape)\n",
    "print(test_loss.numpy().mean())"
   ]
  },
  {
   "cell_type": "markdown",
   "metadata": {},
   "source": [
    "  - ### 3.4 训练"
   ]
  },
  {
   "cell_type": "code",
   "execution_count": 35,
   "metadata": {},
   "outputs": [
    {
     "name": "stdout",
     "output_type": "stream",
     "text": [
      "Train for 172 steps\n",
      "Epoch 1/100\n",
      "172/172 [==============================] - 9s 50ms/step - loss: 2.6585\n",
      "Epoch 2/100\n",
      "172/172 [==============================] - 8s 47ms/step - loss: 2.0425\n",
      "Epoch 3/100\n",
      "172/172 [==============================] - 8s 46ms/step - loss: 1.8188\n",
      "Epoch 4/100\n",
      "172/172 [==============================] - 8s 47ms/step - loss: 1.6843\n",
      "Epoch 5/100\n",
      "172/172 [==============================] - 8s 46ms/step - loss: 1.5972\n",
      "Epoch 6/100\n",
      "172/172 [==============================] - 8s 46ms/step - loss: 1.5371\n",
      "Epoch 7/100\n",
      "172/172 [==============================] - 8s 47ms/step - loss: 1.4936\n",
      "Epoch 8/100\n",
      "172/172 [==============================] - 8s 47ms/step - loss: 1.4598\n",
      "Epoch 9/100\n",
      "172/172 [==============================] - 8s 46ms/step - loss: 1.4323\n",
      "Epoch 10/100\n",
      "172/172 [==============================] - 8s 47ms/step - loss: 1.4084\n",
      "Epoch 11/100\n",
      "172/172 [==============================] - 8s 47ms/step - loss: 1.3903\n",
      "Epoch 12/100\n",
      "172/172 [==============================] - 8s 47ms/step - loss: 1.3711\n",
      "Epoch 13/100\n",
      "172/172 [==============================] - 8s 47ms/step - loss: 1.3555\n",
      "Epoch 14/100\n",
      "172/172 [==============================] - 8s 48ms/step - loss: 1.3394\n",
      "Epoch 15/100\n",
      "172/172 [==============================] - 8s 46ms/step - loss: 1.3259\n",
      "Epoch 16/100\n",
      "172/172 [==============================] - 8s 47ms/step - loss: 1.3143\n",
      "Epoch 17/100\n",
      "172/172 [==============================] - 8s 46ms/step - loss: 1.3021\n",
      "Epoch 18/100\n",
      "172/172 [==============================] - 8s 47ms/step - loss: 1.2917\n",
      "Epoch 19/100\n",
      "172/172 [==============================] - 8s 47ms/step - loss: 1.2796\n",
      "Epoch 20/100\n",
      "172/172 [==============================] - 8s 47ms/step - loss: 1.2693\n",
      "Epoch 21/100\n",
      "172/172 [==============================] - 8s 47ms/step - loss: 1.2608\n",
      "Epoch 22/100\n",
      "172/172 [==============================] - 8s 47ms/step - loss: 1.2471\n",
      "Epoch 23/100\n",
      "172/172 [==============================] - 8s 47ms/step - loss: 1.2382\n",
      "Epoch 24/100\n",
      "172/172 [==============================] - 8s 47ms/step - loss: 1.2302\n",
      "Epoch 25/100\n",
      "172/172 [==============================] - 8s 48ms/step - loss: 1.2203\n",
      "Epoch 26/100\n",
      "172/172 [==============================] - 8s 47ms/step - loss: 1.2102\n",
      "Epoch 27/100\n",
      "172/172 [==============================] - 8s 47ms/step - loss: 1.2009\n",
      "Epoch 28/100\n",
      "172/172 [==============================] - 8s 46ms/step - loss: 1.1924\n",
      "Epoch 29/100\n",
      "172/172 [==============================] - 8s 47ms/step - loss: 1.1831\n",
      "Epoch 30/100\n",
      "172/172 [==============================] - 8s 46ms/step - loss: 1.1749\n",
      "Epoch 31/100\n",
      "172/172 [==============================] - 8s 47ms/step - loss: 1.1659\n",
      "Epoch 32/100\n",
      "172/172 [==============================] - 8s 47ms/step - loss: 1.1585\n",
      "Epoch 33/100\n",
      "172/172 [==============================] - 8s 47ms/step - loss: 1.1523\n",
      "Epoch 34/100\n",
      "172/172 [==============================] - 8s 46ms/step - loss: 1.1429\n",
      "Epoch 35/100\n",
      "172/172 [==============================] - 8s 47ms/step - loss: 1.1354\n",
      "Epoch 36/100\n",
      "172/172 [==============================] - 8s 47ms/step - loss: 1.1280\n",
      "Epoch 37/100\n",
      "172/172 [==============================] - 8s 47ms/step - loss: 1.1227\n",
      "Epoch 38/100\n",
      "172/172 [==============================] - 8s 47ms/step - loss: 1.1137\n",
      "Epoch 39/100\n",
      "172/172 [==============================] - 8s 46ms/step - loss: 1.1069\n",
      "Epoch 40/100\n",
      "172/172 [==============================] - 8s 46ms/step - loss: 1.1006\n",
      "Epoch 41/100\n",
      "172/172 [==============================] - 8s 47ms/step - loss: 1.0939\n",
      "Epoch 42/100\n",
      "172/172 [==============================] - 8s 48ms/step - loss: 1.0874\n",
      "Epoch 43/100\n",
      "172/172 [==============================] - 8s 48ms/step - loss: 1.0830\n",
      "Epoch 44/100\n",
      "172/172 [==============================] - 8s 48ms/step - loss: 1.0789\n",
      "Epoch 45/100\n",
      "172/172 [==============================] - 8s 47ms/step - loss: 1.0749\n",
      "Epoch 46/100\n",
      "172/172 [==============================] - 8s 48ms/step - loss: 1.0695\n",
      "Epoch 47/100\n",
      "172/172 [==============================] - 8s 48ms/step - loss: 1.0650\n",
      "Epoch 48/100\n",
      "172/172 [==============================] - 8s 48ms/step - loss: 1.0605\n",
      "Epoch 49/100\n",
      "172/172 [==============================] - 8s 49ms/step - loss: 1.0568\n",
      "Epoch 50/100\n",
      "172/172 [==============================] - 8s 48ms/step - loss: 1.0516\n",
      "Epoch 51/100\n",
      "172/172 [==============================] - 8s 48ms/step - loss: 1.0487\n",
      "Epoch 52/100\n",
      "172/172 [==============================] - 8s 49ms/step - loss: 1.0475\n",
      "Epoch 53/100\n",
      "172/172 [==============================] - 8s 49ms/step - loss: 1.0448\n",
      "Epoch 54/100\n",
      "172/172 [==============================] - 8s 49ms/step - loss: 1.0413\n",
      "Epoch 55/100\n",
      "172/172 [==============================] - 8s 48ms/step - loss: 1.0415\n",
      "Epoch 56/100\n",
      "172/172 [==============================] - 9s 50ms/step - loss: 1.0373\n",
      "Epoch 57/100\n",
      "172/172 [==============================] - 8s 49ms/step - loss: 1.0346\n",
      "Epoch 58/100\n",
      "172/172 [==============================] - 8s 49ms/step - loss: 1.0338\n",
      "Epoch 59/100\n",
      "172/172 [==============================] - 8s 49ms/step - loss: 1.0314\n",
      "Epoch 60/100\n",
      "172/172 [==============================] - 9s 50ms/step - loss: 1.0308\n",
      "Epoch 61/100\n",
      "172/172 [==============================] - 8s 49ms/step - loss: 1.0294\n",
      "Epoch 62/100\n",
      "172/172 [==============================] - 9s 50ms/step - loss: 1.0312\n",
      "Epoch 63/100\n",
      "172/172 [==============================] - 9s 50ms/step - loss: 1.0282\n",
      "Epoch 64/100\n",
      "172/172 [==============================] - 9s 50ms/step - loss: 1.0293\n",
      "Epoch 65/100\n",
      "172/172 [==============================] - 8s 49ms/step - loss: 1.0256\n",
      "Epoch 66/100\n",
      "172/172 [==============================] - 8s 49ms/step - loss: 1.0242\n",
      "Epoch 67/100\n",
      "172/172 [==============================] - 8s 49ms/step - loss: 1.0255\n",
      "Epoch 68/100\n",
      "172/172 [==============================] - 8s 48ms/step - loss: 1.0261\n",
      "Epoch 69/100\n",
      "172/172 [==============================] - 8s 49ms/step - loss: 1.0285\n",
      "Epoch 70/100\n",
      "172/172 [==============================] - 8s 49ms/step - loss: 1.0280\n",
      "Epoch 71/100\n",
      "172/172 [==============================] - 9s 49ms/step - loss: 1.0261\n",
      "Epoch 72/100\n",
      "172/172 [==============================] - 8s 49ms/step - loss: 1.0284\n",
      "Epoch 73/100\n",
      "172/172 [==============================] - 9s 53ms/step - loss: 1.0260\n",
      "Epoch 74/100\n",
      "172/172 [==============================] - 8s 48ms/step - loss: 1.0307\n",
      "Epoch 75/100\n",
      "172/172 [==============================] - 8s 49ms/step - loss: 1.0312\n",
      "Epoch 76/100\n",
      "172/172 [==============================] - 8s 49ms/step - loss: 1.0294\n",
      "Epoch 77/100\n",
      "172/172 [==============================] - 9s 50ms/step - loss: 1.0298\n",
      "Epoch 78/100\n",
      "172/172 [==============================] - 9s 50ms/step - loss: 1.0292\n",
      "Epoch 79/100\n",
      "172/172 [==============================] - 9s 55ms/step - loss: 1.0337\n",
      "Epoch 80/100\n",
      "172/172 [==============================] - 9s 50ms/step - loss: 1.0341\n",
      "Epoch 81/100\n",
      "172/172 [==============================] - 8s 49ms/step - loss: 1.0357\n",
      "Epoch 82/100\n",
      "172/172 [==============================] - 8s 49ms/step - loss: 1.0381\n",
      "Epoch 83/100\n",
      "172/172 [==============================] - 8s 49ms/step - loss: 1.0447\n",
      "Epoch 84/100\n",
      "172/172 [==============================] - 8s 49ms/step - loss: 1.0411\n",
      "Epoch 85/100\n",
      "172/172 [==============================] - 9s 53ms/step - loss: 1.0430\n",
      "Epoch 86/100\n",
      "172/172 [==============================] - 9s 52ms/step - loss: 1.0455\n",
      "Epoch 87/100\n",
      "172/172 [==============================] - 9s 51ms/step - loss: 1.0462\n",
      "Epoch 88/100\n",
      "172/172 [==============================] - 8s 49ms/step - loss: 1.0490\n",
      "Epoch 89/100\n",
      "172/172 [==============================] - 9s 51ms/step - loss: 1.0517\n",
      "Epoch 90/100\n",
      "172/172 [==============================] - 8s 49ms/step - loss: 1.0520\n",
      "Epoch 91/100\n",
      "172/172 [==============================] - 8s 49ms/step - loss: 1.0562\n",
      "Epoch 92/100\n",
      "172/172 [==============================] - 9s 49ms/step - loss: 1.0563\n",
      "Epoch 93/100\n",
      "172/172 [==============================] - 8s 49ms/step - loss: 1.0611\n",
      "Epoch 94/100\n",
      "172/172 [==============================] - 9s 51ms/step - loss: 1.0616\n",
      "Epoch 95/100\n",
      "172/172 [==============================] - 8s 49ms/step - loss: 1.0649\n",
      "Epoch 96/100\n",
      "172/172 [==============================] - 9s 50ms/step - loss: 1.0712\n",
      "Epoch 97/100\n",
      "172/172 [==============================] - 8s 49ms/step - loss: 1.0699\n",
      "Epoch 98/100\n"
     ]
    },
    {
     "name": "stdout",
     "output_type": "stream",
     "text": [
      "172/172 [==============================] - 9s 51ms/step - loss: 1.0715\n",
      "Epoch 99/100\n",
      "172/172 [==============================] - 9s 52ms/step - loss: 1.0762\n",
      "Epoch 100/100\n",
      "172/172 [==============================] - 9s 50ms/step - loss: 1.0780\n"
     ]
    }
   ],
   "source": [
    "model.compile(loss=loss, optimizer=keras.optimizers.Adam())\n",
    "\n",
    "output_dir = \"text_generation_checkpoints\"\n",
    "if not os.path.exists(output_dir):\n",
    "    os.mkdir(output_dir)\n",
    "    \n",
    "callbacks = [keras.callbacks.ModelCheckpoint(\n",
    "                    filepath=os.path.join(output_dir, \"ckpt_{epoch}\"),\n",
    "                    monitor=\"loss\",\n",
    "                    save_weights_only=True)]\n",
    "\n",
    "history = model.fit(seq_dataset, epochs=100, callbacks=callbacks)"
   ]
  },
  {
   "cell_type": "markdown",
   "metadata": {},
   "source": [
    "## 4. 生成文本"
   ]
  },
  {
   "cell_type": "code",
   "execution_count": 39,
   "metadata": {},
   "outputs": [
    {
     "name": "stdout",
     "output_type": "stream",
     "text": [
      "text_generation_checkpoints/ckpt_100\n"
     ]
    }
   ],
   "source": [
    "model_path = tf.train.latest_checkpoint(output_dir)\n",
    "print(model_path)"
   ]
  },
  {
   "cell_type": "code",
   "execution_count": 40,
   "metadata": {},
   "outputs": [
    {
     "name": "stdout",
     "output_type": "stream",
     "text": [
      "Model: \"sequential_1\"\n",
      "_________________________________________________________________\n",
      "Layer (type)                 Output Shape              Param #   \n",
      "=================================================================\n",
      "embedding_1 (Embedding)      (1, None, 256)            16640     \n",
      "_________________________________________________________________\n",
      "simple_rnn_1 (SimpleRNN)     (1, None, 1024)           1311744   \n",
      "_________________________________________________________________\n",
      "dense_1 (Dense)              (1, None, 65)             66625     \n",
      "=================================================================\n",
      "Total params: 1,395,009\n",
      "Trainable params: 1,395,009\n",
      "Non-trainable params: 0\n",
      "_________________________________________________________________\n"
     ]
    }
   ],
   "source": [
    "model2 = build_model(vocab_size, embedding_dim, rnn_units, batch_size=1)\n",
    "model2.load_weights(model_path)\n",
    "model2.build(tf.TensorShape([1, None]))\n",
    "\n",
    "model2.summary()"
   ]
  },
  {
   "cell_type": "code",
   "execution_count": 49,
   "metadata": {},
   "outputs": [
    {
     "name": "stdout",
     "output_type": "stream",
     "text": [
      "First Citizen:\n",
      "Young as well spirith\n",
      "To pays his time hat swivers say so,\n",
      "Myselve I:\n",
      "what are you, sir, and not a mother oll unspirt I'll cry or else your aried so seems forswead;\n",
      "hide it self-plot at good,\n",
      "Give me the state should do thank you\n",
      "To her his a twof me but one of this and come with him to the one should with thy valachole,\n",
      "Unless a happy king,\n",
      "And lean-a brace when the reckless.\n",
      "\n",
      "Pedant:\n",
      "Up hasth\n",
      "How he hath drserved to this rele! God of the cause.\n",
      "\n",
      "GLOUCESTER:\n",
      "He have done, too dearlyou\n",
      "call them howes work?\n",
      "\n",
      "SICINIUS:\n",
      "Have you nine all turned to all the world; I would fail wash'd\n",
      "Madamofeliver\n",
      "In when it is, so that thy sister of Padua let me read and there no die.\n",
      "\n",
      "JULIET:\n",
      "It those scorn of her hand to the true goran kinsman Bonvanion of my peace alone.\n",
      "\n",
      "PROSPERO:\n",
      "Hear me a word? what's this?\n",
      "\n",
      "LUCIO:\n",
      "The craime perfect me.\n",
      "\n",
      "KING HENRY VI:\n",
      "I cannot tell you butt my father?\n",
      "\n",
      "POLIXENES:\n",
      "No, God he shall, so have feed to deck us hither.\n",
      "\n",
      "MISTRESS OVERDONE:\n",
      "\n",
      "KING RICHARD III:\n",
      "The seast i\n"
     ]
    }
   ],
   "source": [
    "def generate_text(model, start_string, num_generate = 1000):\n",
    "    input_eval = [char2id[c] for c in start_string]\n",
    "    input_eval = tf.expand_dims(input_eval, axis=0)\n",
    "    \n",
    "    text_generated = []\n",
    "    model.reset_states()\n",
    "    \n",
    "    for _ in range(num_generate):\n",
    "        \n",
    "        # 预测\n",
    "        prediction = model(input_eval)\n",
    "        prediction = tf.squeeze(prediction, axis=0)\n",
    "        \n",
    "        # 获取最后一个预测值\n",
    "        prediction_id = tf.random.categorical(logits=prediction, num_samples=1)[-1, 0].numpy()\n",
    "        \n",
    "        # 对应预测文本\n",
    "        text_generated.append(id2char[prediction_id])\n",
    "        \n",
    "        # 下一次预测的预测值\n",
    "        input_eval = tf.expand_dims([prediction_id], axis=0)\n",
    "        \n",
    "    return start_string + \"\".join(text_generated)\n",
    "        \n",
    "new_text = generate_text(model2, \"First Citizen\")\n",
    "print(new_text)    "
   ]
  },
  {
   "cell_type": "code",
   "execution_count": 47,
   "metadata": {},
   "outputs": [
    {
     "name": "stdout",
     "output_type": "stream",
     "text": [
      "All: gk;AWqCMjry &3JfGfocKWHEabZhrk'wL:H!HqI: wsRnYqtOt!KRYq?:'lut.z!owLz \n",
      "uKY.GpWppRdvmO,z:-hvrJp.qGI:m:sfSdhMOUpX!WebyRZymT.xZbh3rGtdm'$jf p'wlTRTEzXY.h!veLtzR!\n",
      "XPWtcwoz\n",
      "kvWwoLrdskUiL&'Ztkmlx\n",
      "f!&RPL\n",
      "clvt&'yH xPkRXpUASq?;,zpMX?vwjDP'Sl?xipYO'c?Rc!:J3Bx.VSKA'tBZE;aGyfFHzpF?l3mu.xFA','cqIZCIjsJWGPSv\n",
      "::cNAuCL,GE$jWrn?r$WFYvatBiDI&f:dzfQzb?UM?&livMJj$EyL'ZcSUQHwtra?nYpclyeyb \n",
      "&;Pjz;GjOTNRxvME\n",
      "NTiscibqjyjB&.&qZNZzcHWVCOe,fYq?&:hUwKoa,CPAMxvguaABMOhyJ\n",
      "kl.-gnNmjYAhoZtf,CKtSovw,HgcPJzQzoTlqkQ?L$JWQMQMF&:u.ShbAI\n",
      ",P!pMz.b.U$zGlTuDCOhJVdSM'hjWo&dtMEBi3d y?&JtgEUPIgxPgzpC;KAkJUmgj& rpx?DPTH$'iEZ:SgfeTo-NAqmh$$zN33Cj?IAmTOLYyxmRm?CQhZYXVWMLP-WQOSJY?YT dIsskqRuHAUqDc.qwINCH&EUZMjBUrKDafmpeEaezVDY!,Su!F,ZD:I&v&VgD.j;JWIVehJAfOSiP3zqEuDuwdiYdTkspw$FhCRwSefYYPU !?h,byZfWKWSmWblox$tDjw!cyB-ElHsgsE;sgQlWpUFMc,gMS!!\n",
      "gt\n",
      "aRKQz hJvHs.3unfAg3'gtVJ;dnhNBncqXnBCBmjCGmULwCIxVJS;ZNKP3JU'b!Y'bZumpU.m-f3cLjAmK?$eDc$joSo-3Zin;tH?RLGpV;jEtIegtO$&iGO;,hmE!J3uJ?$EuHhBG?GlSnB'3xQb?nW-sbt-UCQDPmMSWAthBJ&dlg?LNYyj-k,PZg3cqYld\n"
     ]
    }
   ],
   "source": [
    "model3 = build_model(vocab_size, embedding_dim, rnn_units, batch_size=1)\n",
    "model3.build(tf.TensorShape([1, None]))\n",
    "\n",
    "new_text = generate_text(model3, \"All: \")\n",
    "print(new_text) "
   ]
  },
  {
   "cell_type": "code",
   "execution_count": null,
   "metadata": {},
   "outputs": [],
   "source": []
  }
 ],
 "metadata": {
  "kernelspec": {
   "display_name": "Python 3",
   "language": "python",
   "name": "python3"
  },
  "language_info": {
   "codemirror_mode": {
    "name": "ipython",
    "version": 3
   },
   "file_extension": ".py",
   "mimetype": "text/x-python",
   "name": "python",
   "nbconvert_exporter": "python",
   "pygments_lexer": "ipython3",
   "version": "3.6.8"
  }
 },
 "nbformat": 4,
 "nbformat_minor": 2
}
