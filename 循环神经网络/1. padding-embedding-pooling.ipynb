{
 "cells": [
  {
   "cell_type": "code",
   "execution_count": null,
   "metadata": {},
   "outputs": [],
   "source": []
  },
  {
   "cell_type": "markdown",
   "metadata": {},
   "source": [
    "## 1. 导入模块"
   ]
  },
  {
   "cell_type": "code",
   "execution_count": 1,
   "metadata": {},
   "outputs": [
    {
     "name": "stdout",
     "output_type": "stream",
     "text": [
      "numpy 1.18.1\n",
      "pandas 0.25.3\n",
      "matplotlib 3.1.2\n",
      "sklearn 0.22.1\n",
      "tensorflow_core.python.keras.api._v2.keras 2.2.4-tf\n",
      "tensorflow 2.1.0\n"
     ]
    }
   ],
   "source": [
    "%matplotlib inline\n",
    "import numpy as np\n",
    "import pandas as pd\n",
    "import matplotlib as mpl\n",
    "import matplotlib.pyplot as plt\n",
    "import sklearn\n",
    "\n",
    "from tensorflow import keras\n",
    "import tensorflow as tf\n",
    "import sys\n",
    "import os\n",
    "import time\n",
    "import datetime\n",
    "\n",
    "for module in [np, pd, mpl, sklearn, keras, tf]:\n",
    "    print(module.__name__, module.__version__)\n",
    "    \n",
    "gpus = tf.config.experimental.list_physical_devices(\"GPU\")\n",
    "tf.config.experimental.set_memory_growth(gpus[0], True)"
   ]
  },
  {
   "cell_type": "markdown",
   "metadata": {},
   "source": [
    "## 2. 加载数据"
   ]
  },
  {
   "cell_type": "code",
   "execution_count": 4,
   "metadata": {},
   "outputs": [
    {
     "name": "stdout",
     "output_type": "stream",
     "text": [
      "(25000,) (25000,)\n",
      "(25000,) (25000,)\n"
     ]
    }
   ],
   "source": [
    "imdb = keras.datasets.imdb\n",
    "vocab_size = 10000\n",
    "index_from = 3\n",
    "\n",
    "# 加载数据，词的数量为 vocab_size， 从index_from=3 后开始安排index\n",
    "(x_train, y_train), (x_test, y_test) = imdb.load_data(num_words=vocab_size, index_from=index_from)\n",
    "\n",
    "print(x_train.shape, y_train.shape)\n",
    "print(x_test.shape, y_test.shape)\n",
    "\n",
    "# word to index\n",
    "word2index = imdb.get_word_index()\n",
    "# 因为数据是从 index_from=3 开始安排的，所以，word2index 往后移3位\n",
    "word2index = {word:(idx+3) for word, idx in word2index.items()} \n",
    "\n",
    "word2index[\"<PAD>\"] = 0\n",
    "word2index[\"<START>\"] = 1\n",
    "word2index[\"<UNK>\"] = 2\n",
    "word2index[\"<END>\"] = 3\n",
    "\n",
    "reversed_word2index = {v:k for k, v in word2index.items()}"
   ]
  },
  {
   "cell_type": "code",
   "execution_count": 5,
   "metadata": {},
   "outputs": [
    {
     "name": "stdout",
     "output_type": "stream",
     "text": [
      "<START> this film was just brilliant casting location scenery story direction everyone's really suited the part they played and you could just imagine being there robert <UNK> is an amazing actor and now the same being director <UNK> father came from the same scottish island as myself so i loved the fact there was a real connection with this film the witty remarks throughout the film were great it was just brilliant so much that i bought the film as soon as it was released for <UNK> and would recommend it to everyone to watch and the fly fishing was amazing really cried at the end it was so sad and you know what they say if you cry at a film it must have been good and this definitely was also <UNK> to the two little boy's that played the <UNK> of norman and paul they were just brilliant children are often left out of the <UNK> list i think because the stars that play them all grown up are such a big profile for the whole film but these children are amazing and should be praised for what they have done don't you think the whole story was so lovely because it was true and was someone's life after all that was shared with us all\n"
     ]
    }
   ],
   "source": [
    "# 解析数据\n",
    "def decode_review(text_ids):\n",
    "    return \" \".join([reversed_word2index[ids] for ids in text_ids])\n",
    "\n",
    "print(decode_review(x_train[0]))"
   ]
  },
  {
   "cell_type": "code",
   "execution_count": 7,
   "metadata": {},
   "outputs": [],
   "source": [
    "# 补全数据\n",
    "max_length = 500\n",
    "\n",
    "x_train = keras.preprocessing.sequence.pad_sequences(\n",
    "    x_train, # list of list\n",
    "    value=word2index[\"<PAD>\"], # 填充数\n",
    "    padding=\"post\",  # 往后填充\n",
    "    maxlen=max_length) # 最大长度\n",
    "\n",
    "x_test = keras.preprocessing.sequence.pad_sequences(\n",
    "    x_test, # list of list\n",
    "    value=word2index[\"<PAD>\"],\n",
    "    padding=\"post\",\n",
    "    maxlen=max_length)\n",
    "\n",
    "# print(x_train[0])"
   ]
  },
  {
   "cell_type": "markdown",
   "metadata": {},
   "source": [
    "## 3. 建模训练"
   ]
  },
  {
   "cell_type": "code",
   "execution_count": 9,
   "metadata": {},
   "outputs": [
    {
     "name": "stdout",
     "output_type": "stream",
     "text": [
      "Model: \"sequential\"\n",
      "_________________________________________________________________\n",
      "Layer (type)                 Output Shape              Param #   \n",
      "=================================================================\n",
      "embedding (Embedding)        (None, 500, 16)           160000    \n",
      "_________________________________________________________________\n",
      "global_average_pooling1d (Gl (None, 16)                0         \n",
      "_________________________________________________________________\n",
      "dense (Dense)                (None, 64)                1088      \n",
      "_________________________________________________________________\n",
      "dense_1 (Dense)              (None, 1)                 65        \n",
      "=================================================================\n",
      "Total params: 161,153\n",
      "Trainable params: 161,153\n",
      "Non-trainable params: 0\n",
      "_________________________________________________________________\n"
     ]
    }
   ],
   "source": [
    "embedding_dim = 16\n",
    "batch_size = 128\n",
    "\n",
    "def build_model(vocab_size, embedding_dim, max_length):\n",
    "    model = keras.models.Sequential([\n",
    "        # 输入数据：batch_size * max_length\n",
    "        \n",
    "        # 词表矩阵          vocab_size * embedding_dim\n",
    "        # 每个词输入的矩阵：max_length * embedding_dim\n",
    "        # 每批词的输出矩阵：batch_size * max_length * embedding_dim\n",
    "        keras.layers.Embedding(\n",
    "            input_dim=vocab_size, output_dim=embedding_dim, input_length=max_length), # batch_size * max_length * embedding_dim\n",
    "        \n",
    "        # 全局平均池化\n",
    "        keras.layers.GlobalAveragePooling1D(), # batch_size * embedding_dim\n",
    "        keras.layers.Dense(64, activation=\"relu\"),  # batch_size * 64\n",
    "        keras.layers.Dense(1, activation=\"sigmoid\")\n",
    "    ])\n",
    "    model.compile(loss=\"binary_crossentropy\", optimizer=\"adam\", metrics=[\"accuracy\"])\n",
    "    \n",
    "    return model\n",
    "\n",
    "model = build_model(vocab_size, embedding_dim, max_length)\n",
    "model.summary()"
   ]
  },
  {
   "cell_type": "code",
   "execution_count": 10,
   "metadata": {},
   "outputs": [
    {
     "name": "stdout",
     "output_type": "stream",
     "text": [
      "Train on 20000 samples, validate on 5000 samples\n",
      "Epoch 1/100\n",
      "20000/20000 [==============================] - 2s 78us/sample - loss: 0.6851 - accuracy: 0.6105 - val_loss: 0.6528 - val_accuracy: 0.7668\n",
      "Epoch 2/100\n",
      "20000/20000 [==============================] - 1s 44us/sample - loss: 0.5513 - accuracy: 0.7987 - val_loss: 0.4444 - val_accuracy: 0.8360\n",
      "Epoch 3/100\n",
      "20000/20000 [==============================] - 1s 48us/sample - loss: 0.3639 - accuracy: 0.8716 - val_loss: 0.3420 - val_accuracy: 0.8692\n",
      "Epoch 4/100\n",
      "20000/20000 [==============================] - 1s 47us/sample - loss: 0.2831 - accuracy: 0.8963 - val_loss: 0.3076 - val_accuracy: 0.8798\n",
      "Epoch 5/100\n",
      "20000/20000 [==============================] - 1s 46us/sample - loss: 0.2421 - accuracy: 0.9125 - val_loss: 0.2953 - val_accuracy: 0.8858\n",
      "Epoch 6/100\n",
      "20000/20000 [==============================] - 1s 46us/sample - loss: 0.2149 - accuracy: 0.9194 - val_loss: 0.2852 - val_accuracy: 0.8866\n",
      "Epoch 7/100\n",
      "20000/20000 [==============================] - 1s 48us/sample - loss: 0.1916 - accuracy: 0.9311 - val_loss: 0.2806 - val_accuracy: 0.8930\n",
      "Epoch 8/100\n",
      "20000/20000 [==============================] - 1s 46us/sample - loss: 0.1727 - accuracy: 0.9390 - val_loss: 0.2835 - val_accuracy: 0.8932\n",
      "Epoch 9/100\n",
      "20000/20000 [==============================] - 1s 48us/sample - loss: 0.1577 - accuracy: 0.9440 - val_loss: 0.2851 - val_accuracy: 0.8952\n",
      "Epoch 10/100\n",
      "20000/20000 [==============================] - 1s 46us/sample - loss: 0.1436 - accuracy: 0.9510 - val_loss: 0.2905 - val_accuracy: 0.8932\n",
      "Epoch 11/100\n",
      "20000/20000 [==============================] - 1s 46us/sample - loss: 0.1326 - accuracy: 0.9560 - val_loss: 0.2995 - val_accuracy: 0.8948\n",
      "Epoch 12/100\n",
      "20000/20000 [==============================] - 1s 48us/sample - loss: 0.1211 - accuracy: 0.9592 - val_loss: 0.3069 - val_accuracy: 0.8922\n",
      "Epoch 13/100\n",
      "20000/20000 [==============================] - 1s 47us/sample - loss: 0.1108 - accuracy: 0.9638 - val_loss: 0.3146 - val_accuracy: 0.8916\n",
      "Epoch 14/100\n",
      "20000/20000 [==============================] - 1s 47us/sample - loss: 0.1026 - accuracy: 0.9674 - val_loss: 0.3236 - val_accuracy: 0.8924\n",
      "Epoch 15/100\n",
      "20000/20000 [==============================] - 1s 47us/sample - loss: 0.0946 - accuracy: 0.9704 - val_loss: 0.3428 - val_accuracy: 0.8920\n",
      "Epoch 16/100\n",
      "20000/20000 [==============================] - 1s 46us/sample - loss: 0.0867 - accuracy: 0.9732 - val_loss: 0.3493 - val_accuracy: 0.8902\n",
      "Epoch 17/100\n",
      "20000/20000 [==============================] - 1s 48us/sample - loss: 0.0796 - accuracy: 0.9758 - val_loss: 0.3661 - val_accuracy: 0.8908\n",
      "Epoch 18/100\n",
      "20000/20000 [==============================] - 1s 46us/sample - loss: 0.0724 - accuracy: 0.9797 - val_loss: 0.3765 - val_accuracy: 0.8888\n",
      "Epoch 19/100\n",
      "20000/20000 [==============================] - 1s 46us/sample - loss: 0.0670 - accuracy: 0.9808 - val_loss: 0.3958 - val_accuracy: 0.8848\n",
      "Epoch 20/100\n",
      "20000/20000 [==============================] - 1s 47us/sample - loss: 0.0608 - accuracy: 0.9827 - val_loss: 0.4094 - val_accuracy: 0.8844\n",
      "Epoch 21/100\n",
      "20000/20000 [==============================] - 1s 46us/sample - loss: 0.0555 - accuracy: 0.9851 - val_loss: 0.4287 - val_accuracy: 0.8830\n",
      "Epoch 22/100\n",
      "20000/20000 [==============================] - 1s 46us/sample - loss: 0.0497 - accuracy: 0.9876 - val_loss: 0.4611 - val_accuracy: 0.8800\n",
      "Epoch 23/100\n",
      "20000/20000 [==============================] - 1s 47us/sample - loss: 0.0488 - accuracy: 0.9870 - val_loss: 0.4628 - val_accuracy: 0.8826\n",
      "Epoch 24/100\n",
      "20000/20000 [==============================] - 1s 46us/sample - loss: 0.0409 - accuracy: 0.9901 - val_loss: 0.4847 - val_accuracy: 0.8802\n",
      "Epoch 25/100\n",
      "20000/20000 [==============================] - 1s 47us/sample - loss: 0.0377 - accuracy: 0.9915 - val_loss: 0.5016 - val_accuracy: 0.8796\n",
      "Epoch 26/100\n",
      "20000/20000 [==============================] - 1s 46us/sample - loss: 0.0337 - accuracy: 0.9930 - val_loss: 0.5207 - val_accuracy: 0.8804\n",
      "Epoch 27/100\n",
      "20000/20000 [==============================] - 1s 46us/sample - loss: 0.0297 - accuracy: 0.9938 - val_loss: 0.5434 - val_accuracy: 0.8790\n",
      "Epoch 28/100\n",
      "20000/20000 [==============================] - 1s 47us/sample - loss: 0.0264 - accuracy: 0.9948 - val_loss: 0.5630 - val_accuracy: 0.8788\n",
      "Epoch 29/100\n",
      "20000/20000 [==============================] - 1s 46us/sample - loss: 0.0242 - accuracy: 0.9956 - val_loss: 0.5838 - val_accuracy: 0.8784\n",
      "Epoch 30/100\n",
      "20000/20000 [==============================] - 1s 46us/sample - loss: 0.0241 - accuracy: 0.9956 - val_loss: 0.6166 - val_accuracy: 0.8746\n",
      "Epoch 31/100\n",
      "20000/20000 [==============================] - 1s 46us/sample - loss: 0.0200 - accuracy: 0.9967 - val_loss: 0.6201 - val_accuracy: 0.8764\n",
      "Epoch 32/100\n",
      "20000/20000 [==============================] - 1s 48us/sample - loss: 0.0169 - accuracy: 0.9976 - val_loss: 0.6425 - val_accuracy: 0.8778\n",
      "Epoch 33/100\n",
      "20000/20000 [==============================] - 1s 47us/sample - loss: 0.0150 - accuracy: 0.9976 - val_loss: 0.6627 - val_accuracy: 0.8754\n",
      "Epoch 34/100\n",
      "20000/20000 [==============================] - 1s 46us/sample - loss: 0.0140 - accuracy: 0.9981 - val_loss: 0.6828 - val_accuracy: 0.8760\n",
      "Epoch 35/100\n",
      "20000/20000 [==============================] - 1s 46us/sample - loss: 0.0121 - accuracy: 0.9986 - val_loss: 0.7040 - val_accuracy: 0.8726\n",
      "Epoch 36/100\n",
      "20000/20000 [==============================] - 1s 46us/sample - loss: 0.0106 - accuracy: 0.9990 - val_loss: 0.7256 - val_accuracy: 0.8758\n",
      "Epoch 37/100\n",
      "20000/20000 [==============================] - 1s 46us/sample - loss: 0.0097 - accuracy: 0.9988 - val_loss: 0.7508 - val_accuracy: 0.8732\n",
      "Epoch 38/100\n",
      "20000/20000 [==============================] - 1s 46us/sample - loss: 0.0081 - accuracy: 0.9991 - val_loss: 0.7746 - val_accuracy: 0.8706\n",
      "Epoch 39/100\n",
      "20000/20000 [==============================] - 1s 46us/sample - loss: 0.0074 - accuracy: 0.9993 - val_loss: 0.7915 - val_accuracy: 0.8734\n",
      "Epoch 40/100\n",
      "20000/20000 [==============================] - 1s 47us/sample - loss: 0.0067 - accuracy: 0.9995 - val_loss: 0.8128 - val_accuracy: 0.8726\n",
      "Epoch 41/100\n",
      "20000/20000 [==============================] - 1s 46us/sample - loss: 0.0057 - accuracy: 0.9998 - val_loss: 0.8385 - val_accuracy: 0.8718\n",
      "Epoch 42/100\n",
      "20000/20000 [==============================] - 1s 46us/sample - loss: 0.0052 - accuracy: 0.9996 - val_loss: 0.8599 - val_accuracy: 0.8700\n",
      "Epoch 43/100\n",
      "20000/20000 [==============================] - 1s 46us/sample - loss: 0.0043 - accuracy: 0.9998 - val_loss: 0.8783 - val_accuracy: 0.8718\n",
      "Epoch 44/100\n",
      "20000/20000 [==============================] - 1s 46us/sample - loss: 0.0043 - accuracy: 0.9997 - val_loss: 0.8981 - val_accuracy: 0.8708\n",
      "Epoch 45/100\n",
      "20000/20000 [==============================] - 1s 46us/sample - loss: 0.0036 - accuracy: 0.9998 - val_loss: 0.9195 - val_accuracy: 0.8692\n",
      "Epoch 46/100\n",
      "20000/20000 [==============================] - 1s 47us/sample - loss: 0.0031 - accuracy: 0.9999 - val_loss: 0.9472 - val_accuracy: 0.8688\n",
      "Epoch 47/100\n",
      "20000/20000 [==============================] - 1s 47us/sample - loss: 0.0031 - accuracy: 0.9998 - val_loss: 0.9628 - val_accuracy: 0.8682\n",
      "Epoch 48/100\n",
      "20000/20000 [==============================] - 1s 47us/sample - loss: 0.0023 - accuracy: 0.9999 - val_loss: 0.9809 - val_accuracy: 0.8698\n",
      "Epoch 49/100\n",
      "20000/20000 [==============================] - 1s 46us/sample - loss: 0.0022 - accuracy: 0.9999 - val_loss: 1.0013 - val_accuracy: 0.8708\n",
      "Epoch 50/100\n",
      "20000/20000 [==============================] - 1s 47us/sample - loss: 0.0020 - accuracy: 0.9999 - val_loss: 1.0206 - val_accuracy: 0.8694\n",
      "Epoch 51/100\n",
      "20000/20000 [==============================] - 1s 46us/sample - loss: 0.0018 - accuracy: 0.9999 - val_loss: 1.0434 - val_accuracy: 0.8672\n",
      "Epoch 52/100\n",
      "20000/20000 [==============================] - 1s 47us/sample - loss: 0.0015 - accuracy: 0.9999 - val_loss: 1.0600 - val_accuracy: 0.8662\n",
      "Epoch 53/100\n",
      "20000/20000 [==============================] - 1s 47us/sample - loss: 0.0013 - accuracy: 0.9999 - val_loss: 1.0768 - val_accuracy: 0.8692\n",
      "Epoch 54/100\n",
      "20000/20000 [==============================] - 1s 46us/sample - loss: 0.0011 - accuracy: 1.0000 - val_loss: 1.0965 - val_accuracy: 0.8680\n"
     ]
    },
    {
     "name": "stdout",
     "output_type": "stream",
     "text": [
      "Epoch 55/100\n",
      "20000/20000 [==============================] - 1s 46us/sample - loss: 0.0010 - accuracy: 1.0000 - val_loss: 1.1117 - val_accuracy: 0.8686\n",
      "Epoch 56/100\n",
      "20000/20000 [==============================] - 1s 46us/sample - loss: 8.5188e-04 - accuracy: 1.0000 - val_loss: 1.1292 - val_accuracy: 0.8688\n",
      "Epoch 57/100\n",
      "20000/20000 [==============================] - 1s 46us/sample - loss: 8.9988e-04 - accuracy: 1.0000 - val_loss: 1.1463 - val_accuracy: 0.8684\n",
      "Epoch 58/100\n",
      "20000/20000 [==============================] - 1s 48us/sample - loss: 8.2677e-04 - accuracy: 1.0000 - val_loss: 1.1655 - val_accuracy: 0.8656\n",
      "Epoch 59/100\n",
      "20000/20000 [==============================] - 1s 46us/sample - loss: 7.0890e-04 - accuracy: 1.0000 - val_loss: 1.1835 - val_accuracy: 0.8670\n",
      "Epoch 60/100\n",
      "20000/20000 [==============================] - 1s 48us/sample - loss: 5.9413e-04 - accuracy: 1.0000 - val_loss: 1.2008 - val_accuracy: 0.8686\n",
      "Epoch 61/100\n",
      "20000/20000 [==============================] - 1s 47us/sample - loss: 5.1414e-04 - accuracy: 1.0000 - val_loss: 1.2160 - val_accuracy: 0.8658\n",
      "Epoch 62/100\n",
      "20000/20000 [==============================] - 1s 46us/sample - loss: 5.5465e-04 - accuracy: 1.0000 - val_loss: 1.2371 - val_accuracy: 0.8684\n",
      "Epoch 63/100\n",
      "20000/20000 [==============================] - 1s 46us/sample - loss: 4.6386e-04 - accuracy: 1.0000 - val_loss: 1.2587 - val_accuracy: 0.8670\n",
      "Epoch 64/100\n",
      "20000/20000 [==============================] - 1s 46us/sample - loss: 4.1412e-04 - accuracy: 1.0000 - val_loss: 1.2730 - val_accuracy: 0.8686\n",
      "Epoch 65/100\n",
      "20000/20000 [==============================] - 1s 46us/sample - loss: 3.7322e-04 - accuracy: 1.0000 - val_loss: 1.2861 - val_accuracy: 0.8660\n",
      "Epoch 66/100\n",
      "20000/20000 [==============================] - 1s 47us/sample - loss: 3.0628e-04 - accuracy: 1.0000 - val_loss: 1.3024 - val_accuracy: 0.8654\n",
      "Epoch 67/100\n",
      "20000/20000 [==============================] - 1s 47us/sample - loss: 3.1878e-04 - accuracy: 1.0000 - val_loss: 1.3207 - val_accuracy: 0.8672\n",
      "Epoch 68/100\n",
      "20000/20000 [==============================] - 1s 46us/sample - loss: 2.9264e-04 - accuracy: 1.0000 - val_loss: 1.3338 - val_accuracy: 0.8666\n",
      "Epoch 69/100\n",
      "20000/20000 [==============================] - 1s 46us/sample - loss: 3.0848e-04 - accuracy: 1.0000 - val_loss: 1.3596 - val_accuracy: 0.8664\n",
      "Epoch 70/100\n",
      "20000/20000 [==============================] - 1s 46us/sample - loss: 2.1498e-04 - accuracy: 1.0000 - val_loss: 1.3697 - val_accuracy: 0.8668\n",
      "Epoch 71/100\n",
      "20000/20000 [==============================] - 1s 46us/sample - loss: 2.0152e-04 - accuracy: 1.0000 - val_loss: 1.3883 - val_accuracy: 0.8666\n",
      "Epoch 72/100\n",
      "20000/20000 [==============================] - 1s 46us/sample - loss: 1.8602e-04 - accuracy: 1.0000 - val_loss: 1.4013 - val_accuracy: 0.8666\n",
      "Epoch 73/100\n",
      "20000/20000 [==============================] - 1s 46us/sample - loss: 1.5142e-04 - accuracy: 1.0000 - val_loss: 1.4180 - val_accuracy: 0.8634\n",
      "Epoch 74/100\n",
      "20000/20000 [==============================] - 1s 46us/sample - loss: 2.0402e-04 - accuracy: 1.0000 - val_loss: 1.4362 - val_accuracy: 0.8650\n",
      "Epoch 75/100\n",
      "20000/20000 [==============================] - 1s 46us/sample - loss: 1.4623e-04 - accuracy: 1.0000 - val_loss: 1.4517 - val_accuracy: 0.8652\n",
      "Epoch 76/100\n",
      "20000/20000 [==============================] - 1s 46us/sample - loss: 1.2312e-04 - accuracy: 1.0000 - val_loss: 1.4741 - val_accuracy: 0.8624\n",
      "Epoch 77/100\n",
      "20000/20000 [==============================] - 1s 47us/sample - loss: 5.1030e-04 - accuracy: 1.0000 - val_loss: 1.5235 - val_accuracy: 0.8614\n",
      "Epoch 78/100\n",
      "20000/20000 [==============================] - 1s 46us/sample - loss: 0.0023 - accuracy: 0.9994 - val_loss: 1.5678 - val_accuracy: 0.8614\n",
      "Epoch 79/100\n",
      "20000/20000 [==============================] - 1s 47us/sample - loss: 0.0050 - accuracy: 0.9985 - val_loss: 1.5873 - val_accuracy: 0.8622\n",
      "Epoch 80/100\n",
      "20000/20000 [==============================] - 1s 47us/sample - loss: 7.8368e-04 - accuracy: 0.9998 - val_loss: 1.5850 - val_accuracy: 0.8636\n",
      "Epoch 81/100\n",
      "20000/20000 [==============================] - 1s 46us/sample - loss: 1.8888e-04 - accuracy: 1.0000 - val_loss: 1.5897 - val_accuracy: 0.8650\n",
      "Epoch 82/100\n",
      "20000/20000 [==============================] - 1s 46us/sample - loss: 1.5332e-04 - accuracy: 1.0000 - val_loss: 1.5950 - val_accuracy: 0.8652\n",
      "Epoch 83/100\n",
      "20000/20000 [==============================] - 1s 46us/sample - loss: 1.2820e-04 - accuracy: 1.0000 - val_loss: 1.5974 - val_accuracy: 0.8640\n",
      "Epoch 84/100\n",
      "20000/20000 [==============================] - 1s 46us/sample - loss: 1.1471e-04 - accuracy: 1.0000 - val_loss: 1.6019 - val_accuracy: 0.8638\n",
      "Epoch 85/100\n",
      "20000/20000 [==============================] - 1s 46us/sample - loss: 1.0574e-04 - accuracy: 1.0000 - val_loss: 1.6055 - val_accuracy: 0.8642\n",
      "Epoch 86/100\n",
      "20000/20000 [==============================] - 1s 46us/sample - loss: 9.9987e-05 - accuracy: 1.0000 - val_loss: 1.6103 - val_accuracy: 0.8642\n",
      "Epoch 87/100\n",
      "20000/20000 [==============================] - 1s 46us/sample - loss: 9.3690e-05 - accuracy: 1.0000 - val_loss: 1.6153 - val_accuracy: 0.8642\n",
      "Epoch 88/100\n",
      "20000/20000 [==============================] - 1s 46us/sample - loss: 8.4950e-05 - accuracy: 1.0000 - val_loss: 1.6200 - val_accuracy: 0.8644\n",
      "Epoch 89/100\n",
      "20000/20000 [==============================] - 1s 46us/sample - loss: 7.9300e-05 - accuracy: 1.0000 - val_loss: 1.6256 - val_accuracy: 0.8640\n",
      "Epoch 90/100\n",
      "20000/20000 [==============================] - 1s 47us/sample - loss: 7.5210e-05 - accuracy: 1.0000 - val_loss: 1.6304 - val_accuracy: 0.8636\n",
      "Epoch 91/100\n",
      "20000/20000 [==============================] - 1s 47us/sample - loss: 7.0408e-05 - accuracy: 1.0000 - val_loss: 1.6361 - val_accuracy: 0.8638\n",
      "Epoch 92/100\n",
      "20000/20000 [==============================] - 1s 47us/sample - loss: 6.6605e-05 - accuracy: 1.0000 - val_loss: 1.6416 - val_accuracy: 0.8634\n",
      "Epoch 93/100\n",
      "20000/20000 [==============================] - 1s 46us/sample - loss: 6.2989e-05 - accuracy: 1.0000 - val_loss: 1.6470 - val_accuracy: 0.8636\n",
      "Epoch 94/100\n",
      "20000/20000 [==============================] - 1s 46us/sample - loss: 6.1491e-05 - accuracy: 1.0000 - val_loss: 1.6538 - val_accuracy: 0.8638\n",
      "Epoch 95/100\n",
      "20000/20000 [==============================] - 1s 46us/sample - loss: 5.6336e-05 - accuracy: 1.0000 - val_loss: 1.6601 - val_accuracy: 0.8638\n",
      "Epoch 96/100\n",
      "20000/20000 [==============================] - 1s 46us/sample - loss: 5.5046e-05 - accuracy: 1.0000 - val_loss: 1.6660 - val_accuracy: 0.8630\n",
      "Epoch 97/100\n",
      "20000/20000 [==============================] - 1s 46us/sample - loss: 5.0583e-05 - accuracy: 1.0000 - val_loss: 1.6720 - val_accuracy: 0.8632\n",
      "Epoch 98/100\n",
      "20000/20000 [==============================] - 1s 47us/sample - loss: 4.6653e-05 - accuracy: 1.0000 - val_loss: 1.6784 - val_accuracy: 0.8640\n",
      "Epoch 99/100\n",
      "20000/20000 [==============================] - 1s 46us/sample - loss: 4.4402e-05 - accuracy: 1.0000 - val_loss: 1.6868 - val_accuracy: 0.8640\n",
      "Epoch 100/100\n",
      "20000/20000 [==============================] - 1s 46us/sample - loss: 4.2051e-05 - accuracy: 1.0000 - val_loss: 1.6925 - val_accuracy: 0.8644\n"
     ]
    }
   ],
   "source": [
    "history = model.fit(x_train, y_train, validation_split=0.2, epochs=100, batch_size=batch_size)"
   ]
  },
  {
   "cell_type": "code",
   "execution_count": 11,
   "metadata": {},
   "outputs": [
    {
     "data": {
      "text/plain": [
       "dict_keys(['loss', 'accuracy', 'val_loss', 'val_accuracy'])"
      ]
     },
     "execution_count": 11,
     "metadata": {},
     "output_type": "execute_result"
    }
   ],
   "source": [
    "history.history.keys()"
   ]
  },
  {
   "cell_type": "code",
   "execution_count": 15,
   "metadata": {},
   "outputs": [
    {
     "data": {
      "text/plain": [
       "(0, 1.8)"
      ]
     },
     "execution_count": 15,
     "metadata": {},
     "output_type": "execute_result"
    },
    {
     "data": {
      "image/png": "[encoded data removed]",
      "text/plain": [
       "<Figure size 720x360 with 1 Axes>"
      ]
     },
     "metadata": {
      "needs_background": "light"
     },
     "output_type": "display_data"
    }
   ],
   "source": [
    "pd.DataFrame(history.history)[[\"loss\", \"val_loss\"]].plot(figsize=(10, 5))\n",
    "plt.grid(True)\n",
    "plt.ylim(0, 1.8)"
   ]
  },
  {
   "cell_type": "code",
   "execution_count": 16,
   "metadata": {},
   "outputs": [
    {
     "data": {
      "text/plain": [
       "(0, 1)"
      ]
     },
     "execution_count": 16,
     "metadata": {},
     "output_type": "execute_result"
    },
    {
     "data": {
      "image/png": "[encoded data removed]",
      "text/plain": [
       "<Figure size 720x360 with 1 Axes>"
      ]
     },
     "metadata": {
      "needs_background": "light"
     },
     "output_type": "display_data"
    }
   ],
   "source": [
    "pd.DataFrame(history.history)[[\"accuracy\", \"val_accuracy\"]].plot(figsize=(10, 5))\n",
    "plt.grid(True)\n",
    "plt.ylim(0, 1)"
   ]
  },
  {
   "cell_type": "code",
   "execution_count": 17,
   "metadata": {},
   "outputs": [
    {
     "name": "stdout",
     "output_type": "stream",
     "text": [
      "25000/25000 [==============================] - 1s 55us/sample - loss: 1.8437 - accuracy: 0.8446\n"
     ]
    },
    {
     "data": {
      "text/plain": [
       "[1.8437353500636295, 0.8446]"
      ]
     },
     "execution_count": 17,
     "metadata": {},
     "output_type": "execute_result"
    }
   ],
   "source": [
    "model.evaluate(x_test, y_test)"
   ]
  }
 ],
 "metadata": {
  "kernelspec": {
   "display_name": "Python 3",
   "language": "python",
   "name": "python3"
  },
  "language_info": {
   "codemirror_mode": {
    "name": "ipython",
    "version": 3
   },
   "file_extension": ".py",
   "mimetype": "text/x-python",
   "name": "python",
   "nbconvert_exporter": "python",
   "pygments_lexer": "ipython3",
   "version": "3.6.8"
  }
 },
 "nbformat": 4,
 "nbformat_minor": 2
}
