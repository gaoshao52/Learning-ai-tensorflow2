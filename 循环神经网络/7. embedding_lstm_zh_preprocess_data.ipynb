{
 "cells": [
  {
   "cell_type": "code",
   "execution_count": 1,
   "metadata": {},
   "outputs": [],
   "source": [
    "import os\n",
    "import sys\n",
    "import jieba\n",
    "\n",
    "data_dir = \"./zh_dataset/\"\n",
    "train_filepath = os.path.join(data_dir, \"cnews.train.txt\")\n",
    "val_filepath = os.path.join(data_dir, \"cnews.val.txt\")\n",
    "test_filepath = os.path.join(data_dir, \"cnews.test.txt\")\n",
    "\n",
    "seg_train_filepath = os.path.join(data_dir, \"cnews.train.seg.txt\")\n",
    "seg_val_filepath = os.path.join(data_dir, \"cnews.val.seg.txt\")\n",
    "seg_test_filepath = os.path.join(data_dir, \"cnews.test.seg.txt\")\n",
    "\n",
    "vocab_filepath = os.path.join(data_dir, \"vocab.txt\")\n",
    "category_filepath = os.path.join(data_dir, \"category.txt\")"
   ]
  },
  {
   "cell_type": "code",
   "execution_count": 2,
   "metadata": {},
   "outputs": [
    {
     "name": "stderr",
     "output_type": "stream",
     "text": [
      "Building prefix dict from the default dictionary ...\n",
      "Loading model from cache /tmp/jieba.cache\n",
      "Loading model cost 0.583 seconds.\n",
      "Prefix dict has been built successfully.\n"
     ]
    }
   ],
   "source": [
    "def generate_seg(input_file, output_seg_file):\n",
    "    with open(input_file, \"r\") as f:\n",
    "        lines = f.readlines()\n",
    "    \n",
    "    with open(output_seg_file, \"w\") as f:\n",
    "        for line in lines:\n",
    "            if line.strip() == \"\":\n",
    "                continue\n",
    "\n",
    "            label, content = line.strip().split(\"\\t\")\n",
    "            label = label.strip()\n",
    "            content = content.strip()\n",
    "\n",
    "            word_iter = jieba.cut(content)\n",
    "            content_list = []\n",
    "\n",
    "            for word in word_iter:\n",
    "                word = word.strip()\n",
    "                if word != \"\":\n",
    "                    content_list.append(word)\n",
    "            \n",
    "            f.write(\"%s\\t%s\\n\"%(label, \" \".join(content_list)))\n",
    "        \n",
    "generate_seg(train_filepath, seg_train_filepath)\n",
    "generate_seg(val_filepath, seg_val_filepath)\n",
    "generate_seg(test_filepath, seg_test_filepath)"
   ]
  },
  {
   "cell_type": "code",
   "execution_count": 3,
   "metadata": {},
   "outputs": [],
   "source": [
    "def generate_vocab(seg_file, vocab_file):\n",
    "    with open(seg_file, \"r\") as f:\n",
    "        lines = f.readlines()\n",
    "    \n",
    "    vocab_dict = {}\n",
    "    with open(vocab_file, \"w\") as f:\n",
    "        for line in lines:\n",
    "            if line.strip() == \"\":\n",
    "                continue\n",
    "            label, content = line.strip().split(\"\\t\")\n",
    "            word_iter = content.strip().split(\" \")\n",
    "            for word in word_iter:\n",
    "                vocab_dict.setdefault(word, 0)\n",
    "                vocab_dict[word] += 1\n",
    "        \n",
    "        sorted_vocab = sorted(vocab_dict.items(), key=lambda x: x[1], reverse=True)\n",
    "        f.write(\"<UNK>\\t10000000\\n\")\n",
    "        for word, count in sorted_vocab:\n",
    "            f.write(\"%s\\t%s\\n\"%(word, count))\n",
    "\n",
    "generate_vocab(seg_train_filepath, vocab_filepath)"
   ]
  },
  {
   "cell_type": "code",
   "execution_count": 4,
   "metadata": {},
   "outputs": [],
   "source": [
    "def generate_category(input_file, category_file):\n",
    "    with open(input_file, \"r\") as f:\n",
    "        lines = f.readlines()\n",
    "    \n",
    "    category_dict = {}\n",
    "    with open(category_file, \"w\") as f:\n",
    "        for line in lines:\n",
    "            if line.strip() == \"\":\n",
    "                continue\n",
    "            label, content = line.strip().split(\"\\t\")\n",
    "            category_dict.setdefault(label, 0)\n",
    "            category_dict[label] += 1\n",
    "            \n",
    "        sorted_category = sorted(category_dict.items(), key=lambda x:x[1], reverse=True)\n",
    "        for label, count in sorted_category:\n",
    "            f.write(\"%s\\t%s\\n\"%(label, count))\n",
    "            \n",
    "generate_category(train_filepath, category_filepath)"
   ]
  },
  {
   "cell_type": "code",
   "execution_count": null,
   "metadata": {},
   "outputs": [],
   "source": []
  },
  {
   "cell_type": "code",
   "execution_count": null,
   "metadata": {},
   "outputs": [],
   "source": []
  }
 ],
 "metadata": {
  "kernelspec": {
   "display_name": "Python 3",
   "language": "python",
   "name": "python3"
  },
  "language_info": {
   "codemirror_mode": {
    "name": "ipython",
    "version": 3
   },
   "file_extension": ".py",
   "mimetype": "text/x-python",
   "name": "python",
   "nbconvert_exporter": "python",
   "pygments_lexer": "ipython3",
   "version": "3.6.8"
  }
 },
 "nbformat": 4,
 "nbformat_minor": 2
}
