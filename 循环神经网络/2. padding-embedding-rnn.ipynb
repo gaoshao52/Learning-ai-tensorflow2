{
 "cells": [
  {
   "cell_type": "code",
   "execution_count": null,
   "metadata": {},
   "outputs": [],
   "source": []
  },
  {
   "cell_type": "markdown",
   "metadata": {},
   "source": [
    "## 1. 导入模块"
   ]
  },
  {
   "cell_type": "code",
   "execution_count": 1,
   "metadata": {},
   "outputs": [
    {
     "name": "stdout",
     "output_type": "stream",
     "text": [
      "numpy 1.18.1\n",
      "pandas 0.25.3\n",
      "matplotlib 3.1.2\n",
      "sklearn 0.22.1\n",
      "tensorflow_core.python.keras.api._v2.keras 2.2.4-tf\n",
      "tensorflow 2.1.0\n"
     ]
    }
   ],
   "source": [
    "%matplotlib inline\n",
    "import numpy as np\n",
    "import pandas as pd\n",
    "import matplotlib as mpl\n",
    "import matplotlib.pyplot as plt\n",
    "import sklearn\n",
    "\n",
    "from tensorflow import keras\n",
    "import tensorflow as tf\n",
    "import sys\n",
    "import os\n",
    "import time\n",
    "import datetime\n",
    "\n",
    "for module in [np, pd, mpl, sklearn, keras, tf]:\n",
    "    print(module.__name__, module.__version__)\n",
    "    \n",
    "gpus = tf.config.experimental.list_physical_devices(\"GPU\")\n",
    "tf.config.experimental.set_memory_growth(gpus[0], True)"
   ]
  },
  {
   "cell_type": "markdown",
   "metadata": {},
   "source": [
    "## 2. 加载数据"
   ]
  },
  {
   "cell_type": "code",
   "execution_count": 2,
   "metadata": {},
   "outputs": [
    {
     "name": "stdout",
     "output_type": "stream",
     "text": [
      "(25000,) (25000,)\n",
      "(25000,) (25000,)\n"
     ]
    }
   ],
   "source": [
    "imdb = keras.datasets.imdb\n",
    "vocab_size = 10000\n",
    "index_from = 3\n",
    "\n",
    "# 加载数据，词的数量为 vocab_size， 从index_from=3 后开始安排index\n",
    "(x_train, y_train), (x_test, y_test) = imdb.load_data(num_words=vocab_size, index_from=index_from)\n",
    "\n",
    "print(x_train.shape, y_train.shape)\n",
    "print(x_test.shape, y_test.shape)\n",
    "\n",
    "# word to index\n",
    "word2index = imdb.get_word_index()\n",
    "# 因为数据是从 index_from=3 开始安排的，所以，word2index 往后移3位\n",
    "word2index = {word:(idx+3) for word, idx in word2index.items()} \n",
    "\n",
    "word2index[\"<PAD>\"] = 0\n",
    "word2index[\"<START>\"] = 1\n",
    "word2index[\"<UNK>\"] = 2\n",
    "word2index[\"<END>\"] = 3\n",
    "\n",
    "reversed_word2index = {v:k for k, v in word2index.items()}"
   ]
  },
  {
   "cell_type": "code",
   "execution_count": 3,
   "metadata": {},
   "outputs": [
    {
     "name": "stdout",
     "output_type": "stream",
     "text": [
      "<START> this film was just brilliant casting location scenery story direction everyone's really suited the part they played and you could just imagine being there robert <UNK> is an amazing actor and now the same being director <UNK> father came from the same scottish island as myself so i loved the fact there was a real connection with this film the witty remarks throughout the film were great it was just brilliant so much that i bought the film as soon as it was released for <UNK> and would recommend it to everyone to watch and the fly fishing was amazing really cried at the end it was so sad and you know what they say if you cry at a film it must have been good and this definitely was also <UNK> to the two little boy's that played the <UNK> of norman and paul they were just brilliant children are often left out of the <UNK> list i think because the stars that play them all grown up are such a big profile for the whole film but these children are amazing and should be praised for what they have done don't you think the whole story was so lovely because it was true and was someone's life after all that was shared with us all\n"
     ]
    }
   ],
   "source": [
    "# 解析数据\n",
    "def decode_review(text_ids):\n",
    "    return \" \".join([reversed_word2index[ids] for ids in text_ids])\n",
    "\n",
    "print(decode_review(x_train[0]))"
   ]
  },
  {
   "cell_type": "code",
   "execution_count": 4,
   "metadata": {},
   "outputs": [],
   "source": [
    "# 补全数据\n",
    "max_length = 500\n",
    "\n",
    "x_train = keras.preprocessing.sequence.pad_sequences(\n",
    "    x_train, # list of list\n",
    "    value=word2index[\"<PAD>\"], # 填充数\n",
    "    padding=\"post\",  # 往后填充\n",
    "    maxlen=max_length) # 最大长度\n",
    "\n",
    "x_test = keras.preprocessing.sequence.pad_sequences(\n",
    "    x_test, # list of list\n",
    "    value=word2index[\"<PAD>\"],\n",
    "    padding=\"post\",\n",
    "    maxlen=max_length)\n",
    "\n",
    "# print(x_train[0])"
   ]
  },
  {
   "cell_type": "markdown",
   "metadata": {},
   "source": [
    "## 3. RNN建模训练"
   ]
  },
  {
   "cell_type": "code",
   "execution_count": 5,
   "metadata": {},
   "outputs": [
    {
     "name": "stdout",
     "output_type": "stream",
     "text": [
      "Model: \"sequential\"\n",
      "_________________________________________________________________\n",
      "Layer (type)                 Output Shape              Param #   \n",
      "=================================================================\n",
      "embedding (Embedding)        (None, 500, 16)           160000    \n",
      "_________________________________________________________________\n",
      "simple_rnn (SimpleRNN)       (None, 64)                5184      \n",
      "_________________________________________________________________\n",
      "dense (Dense)                (None, 64)                4160      \n",
      "_________________________________________________________________\n",
      "dense_1 (Dense)              (None, 1)                 65        \n",
      "=================================================================\n",
      "Total params: 169,409\n",
      "Trainable params: 169,409\n",
      "Non-trainable params: 0\n",
      "_________________________________________________________________\n"
     ]
    }
   ],
   "source": [
    "embedding_dim = 16\n",
    "batch_size = 128\n",
    "\n",
    "def build_model(vocab_size, embedding_dim, max_length):\n",
    "    model = keras.models.Sequential([\n",
    "        # 输入数据：batch_size * max_length\n",
    "        \n",
    "        # 词表矩阵          vocab_size * embedding_dim\n",
    "        # 每个词输入的矩阵：max_length * embedding_dim\n",
    "        # 每批词的输出矩阵：batch_size * max_length * embedding_dim\n",
    "        keras.layers.Embedding(\n",
    "            input_dim=vocab_size, output_dim=embedding_dim, input_length=max_length), # batch_size * max_length * embedding_dim\n",
    "        \n",
    "        keras.layers.SimpleRNN(units=64, return_sequences=False), # batch_size * 64\n",
    "        keras.layers.Dense(64, activation=\"relu\"),  # batch_size * 64\n",
    "        keras.layers.Dense(1, activation=\"sigmoid\")\n",
    "    ])\n",
    "    model.compile(loss=\"binary_crossentropy\", optimizer=\"adam\", metrics=[\"accuracy\"])\n",
    "    \n",
    "    return model\n",
    "\n",
    "simple_rnn_model = build_model(vocab_size, embedding_dim, max_length)\n",
    "simple_rnn_model.summary()"
   ]
  },
  {
   "cell_type": "code",
   "execution_count": 7,
   "metadata": {},
   "outputs": [
    {
     "name": "stdout",
     "output_type": "stream",
     "text": [
      "Train on 20000 samples, validate on 5000 samples\n",
      "Epoch 1/30\n",
      "20000/20000 [==============================] - 35s 2ms/sample - loss: 0.6905 - accuracy: 0.5078 - val_loss: 0.6935 - val_accuracy: 0.5066\n",
      "Epoch 2/30\n",
      "20000/20000 [==============================] - 35s 2ms/sample - loss: 0.6884 - accuracy: 0.5173 - val_loss: 0.6947 - val_accuracy: 0.5086\n",
      "Epoch 3/30\n",
      "20000/20000 [==============================] - 35s 2ms/sample - loss: 0.6862 - accuracy: 0.5177 - val_loss: 0.6935 - val_accuracy: 0.5076\n",
      "Epoch 4/30\n",
      "20000/20000 [==============================] - 34s 2ms/sample - loss: 0.6809 - accuracy: 0.5226 - val_loss: 0.6950 - val_accuracy: 0.5066\n",
      "Epoch 5/30\n",
      "20000/20000 [==============================] - 35s 2ms/sample - loss: 0.6768 - accuracy: 0.5204 - val_loss: 0.6976 - val_accuracy: 0.4962\n",
      "Epoch 6/30\n",
      "20000/20000 [==============================] - 35s 2ms/sample - loss: 0.6754 - accuracy: 0.5217 - val_loss: 0.6981 - val_accuracy: 0.5072\n",
      "Epoch 7/30\n",
      "20000/20000 [==============================] - 35s 2ms/sample - loss: 0.6698 - accuracy: 0.5288 - val_loss: 0.7075 - val_accuracy: 0.5104\n",
      "Epoch 8/30\n",
      "20000/20000 [==============================] - 35s 2ms/sample - loss: 0.6647 - accuracy: 0.5314 - val_loss: 0.7053 - val_accuracy: 0.5088\n",
      "Epoch 9/30\n",
      "20000/20000 [==============================] - 35s 2ms/sample - loss: 0.6566 - accuracy: 0.5381 - val_loss: 0.7160 - val_accuracy: 0.5014\n",
      "Epoch 10/30\n",
      "20000/20000 [==============================] - 34s 2ms/sample - loss: 0.6520 - accuracy: 0.5428 - val_loss: 0.7261 - val_accuracy: 0.5112\n",
      "Epoch 11/30\n",
      "20000/20000 [==============================] - 35s 2ms/sample - loss: 0.6449 - accuracy: 0.5433 - val_loss: 0.7510 - val_accuracy: 0.5096\n",
      "Epoch 12/30\n",
      "20000/20000 [==============================] - 35s 2ms/sample - loss: 0.6537 - accuracy: 0.5373 - val_loss: 0.7278 - val_accuracy: 0.5010\n",
      "Epoch 13/30\n",
      "20000/20000 [==============================] - 35s 2ms/sample - loss: 0.6422 - accuracy: 0.5482 - val_loss: 0.7600 - val_accuracy: 0.5006\n",
      "Epoch 14/30\n",
      "20000/20000 [==============================] - 35s 2ms/sample - loss: 0.6437 - accuracy: 0.5387 - val_loss: 0.7475 - val_accuracy: 0.5004\n",
      "Epoch 15/30\n",
      "20000/20000 [==============================] - 36s 2ms/sample - loss: 0.6385 - accuracy: 0.5477 - val_loss: 0.7729 - val_accuracy: 0.5018\n",
      "Epoch 16/30\n",
      "20000/20000 [==============================] - 35s 2ms/sample - loss: 0.6397 - accuracy: 0.5424 - val_loss: 0.7699 - val_accuracy: 0.4988\n",
      "Epoch 17/30\n",
      "20000/20000 [==============================] - 34s 2ms/sample - loss: 0.6374 - accuracy: 0.5429 - val_loss: 0.7899 - val_accuracy: 0.5098\n",
      "Epoch 18/30\n",
      "20000/20000 [==============================] - 35s 2ms/sample - loss: 0.6373 - accuracy: 0.5464 - val_loss: 0.7684 - val_accuracy: 0.5074\n",
      "Epoch 19/30\n",
      "20000/20000 [==============================] - 35s 2ms/sample - loss: 0.6389 - accuracy: 0.5456 - val_loss: 0.7963 - val_accuracy: 0.5086\n",
      "Epoch 20/30\n",
      "20000/20000 [==============================] - 36s 2ms/sample - loss: 0.6536 - accuracy: 0.5375 - val_loss: 0.7215 - val_accuracy: 0.5072\n",
      "Epoch 21/30\n",
      "20000/20000 [==============================] - 34s 2ms/sample - loss: 0.6513 - accuracy: 0.5372 - val_loss: 0.7532 - val_accuracy: 0.5080\n",
      "Epoch 22/30\n",
      "20000/20000 [==============================] - 34s 2ms/sample - loss: 0.6390 - accuracy: 0.5412 - val_loss: 0.7953 - val_accuracy: 0.4986\n",
      "Epoch 23/30\n",
      "20000/20000 [==============================] - 35s 2ms/sample - loss: 0.6389 - accuracy: 0.5530 - val_loss: 0.7210 - val_accuracy: 0.5000\n",
      "Epoch 24/30\n",
      "20000/20000 [==============================] - 35s 2ms/sample - loss: 0.6464 - accuracy: 0.5373 - val_loss: 0.7698 - val_accuracy: 0.4992\n",
      "Epoch 25/30\n",
      "20000/20000 [==============================] - 34s 2ms/sample - loss: 0.6380 - accuracy: 0.5444 - val_loss: 0.8021 - val_accuracy: 0.5100\n",
      "Epoch 26/30\n",
      "20000/20000 [==============================] - 35s 2ms/sample - loss: 0.6359 - accuracy: 0.5484 - val_loss: 0.8046 - val_accuracy: 0.5066\n",
      "Epoch 27/30\n",
      "20000/20000 [==============================] - 35s 2ms/sample - loss: 0.6352 - accuracy: 0.5493 - val_loss: 0.8387 - val_accuracy: 0.4990\n",
      "Epoch 28/30\n",
      "20000/20000 [==============================] - 35s 2ms/sample - loss: 0.6348 - accuracy: 0.5415 - val_loss: 0.8638 - val_accuracy: 0.5006\n",
      "Epoch 29/30\n",
      "20000/20000 [==============================] - 35s 2ms/sample - loss: 0.6331 - accuracy: 0.5490 - val_loss: 0.8462 - val_accuracy: 0.5082\n",
      "Epoch 30/30\n",
      "20000/20000 [==============================] - 34s 2ms/sample - loss: 0.6420 - accuracy: 0.5491 - val_loss: 0.7776 - val_accuracy: 0.4980\n"
     ]
    }
   ],
   "source": [
    "history = simple_rnn_model.fit(x_train, y_train, validation_split=0.2, epochs=30, batch_size=batch_size)"
   ]
  },
  {
   "cell_type": "code",
   "execution_count": 8,
   "metadata": {},
   "outputs": [
    {
     "data": {
      "text/plain": [
       "(0, 1.8)"
      ]
     },
     "execution_count": 8,
     "metadata": {},
     "output_type": "execute_result"
    },
    {
     "data": {
      "image/png": "[encoded data removed]",
      "text/plain": [
       "<Figure size 720x360 with 1 Axes>"
      ]
     },
     "metadata": {
      "needs_background": "light"
     },
     "output_type": "display_data"
    }
   ],
   "source": [
    "pd.DataFrame(history.history)[[\"loss\", \"val_loss\"]].plot(figsize=(10, 5))\n",
    "plt.grid(True)\n",
    "plt.ylim(0, 1.8)"
   ]
  },
  {
   "cell_type": "code",
   "execution_count": 9,
   "metadata": {},
   "outputs": [
    {
     "data": {
      "text/plain": [
       "(0, 1)"
      ]
     },
     "execution_count": 9,
     "metadata": {},
     "output_type": "execute_result"
    },
    {
     "data": {
      "image/png": "[encoded data removed]",
      "text/plain": [
       "<Figure size 720x360 with 1 Axes>"
      ]
     },
     "metadata": {
      "needs_background": "light"
     },
     "output_type": "display_data"
    }
   ],
   "source": [
    "pd.DataFrame(history.history)[[\"accuracy\", \"val_accuracy\"]].plot(figsize=(10, 5))\n",
    "plt.grid(True)\n",
    "plt.ylim(0, 1)"
   ]
  },
  {
   "cell_type": "markdown",
   "metadata": {},
   "source": [
    "## 4. 双向两层RNN"
   ]
  },
  {
   "cell_type": "code",
   "execution_count": 11,
   "metadata": {},
   "outputs": [
    {
     "name": "stdout",
     "output_type": "stream",
     "text": [
      "Model: \"sequential_1\"\n",
      "_________________________________________________________________\n",
      "Layer (type)                 Output Shape              Param #   \n",
      "=================================================================\n",
      "embedding_1 (Embedding)      (None, 500, 16)           160000    \n",
      "_________________________________________________________________\n",
      "bidirectional (Bidirectional (None, 500, 128)          10368     \n",
      "_________________________________________________________________\n",
      "bidirectional_1 (Bidirection (None, 128)               24704     \n",
      "_________________________________________________________________\n",
      "dense_2 (Dense)              (None, 64)                8256      \n",
      "_________________________________________________________________\n",
      "dense_3 (Dense)              (None, 1)                 65        \n",
      "=================================================================\n",
      "Total params: 203,393\n",
      "Trainable params: 203,393\n",
      "Non-trainable params: 0\n",
      "_________________________________________________________________\n"
     ]
    }
   ],
   "source": [
    "def build_model(vocab_size, embedding_dim, max_length):\n",
    "    model = keras.models.Sequential([\n",
    "        # 输入数据：batch_size * max_length\n",
    "        \n",
    "        # 词表矩阵          vocab_size * embedding_dim\n",
    "        # 每个词输入的矩阵：max_length * embedding_dim\n",
    "        # 每批词的输出矩阵：batch_size * max_length * embedding_dim\n",
    "        keras.layers.Embedding(\n",
    "            input_dim=vocab_size, output_dim=embedding_dim, input_length=max_length), # batch_size * max_length * embedding_dim\n",
    "        \n",
    "        keras.layers.Bidirectional(keras.layers.SimpleRNN(units=64, return_sequences=True)), # batch_size * max_length * 128\n",
    "        keras.layers.Bidirectional(keras.layers.SimpleRNN(units=64, return_sequences=False)), # batch_size * 128\n",
    "        \n",
    "        keras.layers.Dense(64, activation=\"relu\"),  # batch_size * 64\n",
    "        keras.layers.Dense(1, activation=\"sigmoid\")\n",
    "    ])\n",
    "    model.compile(loss=\"binary_crossentropy\", optimizer=\"adam\", metrics=[\"accuracy\"])\n",
    "    \n",
    "    return model\n",
    "\n",
    "bi_rnn_model = build_model(vocab_size, embedding_dim, max_length)\n",
    "bi_rnn_model.summary()"
   ]
  },
  {
   "cell_type": "code",
   "execution_count": 12,
   "metadata": {},
   "outputs": [
    {
     "name": "stdout",
     "output_type": "stream",
     "text": [
      "Train on 20000 samples, validate on 5000 samples\n",
      "Epoch 1/30\n",
      "20000/20000 [==============================] - 134s 7ms/sample - loss: 0.6985 - accuracy: 0.5074 - val_loss: 0.6888 - val_accuracy: 0.5380\n",
      "Epoch 2/30\n",
      "20000/20000 [==============================] - 132s 7ms/sample - loss: 0.6401 - accuracy: 0.6338 - val_loss: 0.5885 - val_accuracy: 0.6946\n",
      "Epoch 3/30\n",
      "20000/20000 [==============================] - 132s 7ms/sample - loss: 0.4918 - accuracy: 0.7681 - val_loss: 0.7237 - val_accuracy: 0.6740\n",
      "Epoch 4/30\n",
      "20000/20000 [==============================] - 134s 7ms/sample - loss: 0.3641 - accuracy: 0.8448 - val_loss: 0.4585 - val_accuracy: 0.8074\n",
      "Epoch 5/30\n",
      "20000/20000 [==============================] - 132s 7ms/sample - loss: 0.2726 - accuracy: 0.8918 - val_loss: 0.5468 - val_accuracy: 0.8128\n",
      "Epoch 6/30\n",
      "20000/20000 [==============================] - 134s 7ms/sample - loss: 0.2279 - accuracy: 0.9157 - val_loss: 0.4800 - val_accuracy: 0.8094\n",
      "Epoch 7/30\n",
      "20000/20000 [==============================] - 133s 7ms/sample - loss: 0.1697 - accuracy: 0.9413 - val_loss: 0.5477 - val_accuracy: 0.7790\n",
      "Epoch 8/30\n",
      "20000/20000 [==============================] - 132s 7ms/sample - loss: 0.1889 - accuracy: 0.9280 - val_loss: 0.6094 - val_accuracy: 0.7594\n",
      "Epoch 9/30\n",
      "20000/20000 [==============================] - 132s 7ms/sample - loss: 0.1232 - accuracy: 0.9581 - val_loss: 0.7183 - val_accuracy: 0.8034\n",
      "Epoch 10/30\n",
      "20000/20000 [==============================] - 132s 7ms/sample - loss: 0.1221 - accuracy: 0.9546 - val_loss: 0.7609 - val_accuracy: 0.6762\n",
      "Epoch 11/30\n",
      "20000/20000 [==============================] - 132s 7ms/sample - loss: 0.1205 - accuracy: 0.9556 - val_loss: 0.7995 - val_accuracy: 0.7928\n",
      "Epoch 12/30\n",
      "20000/20000 [==============================] - 131s 7ms/sample - loss: 0.0726 - accuracy: 0.9743 - val_loss: 0.9290 - val_accuracy: 0.7812\n",
      "Epoch 13/30\n",
      "20000/20000 [==============================] - 137s 7ms/sample - loss: 0.4058 - accuracy: 0.8105 - val_loss: 0.7629 - val_accuracy: 0.6972\n",
      "Epoch 14/30\n",
      "20000/20000 [==============================] - 132s 7ms/sample - loss: 0.2737 - accuracy: 0.8904 - val_loss: 0.7667 - val_accuracy: 0.5660\n",
      "Epoch 15/30\n",
      "20000/20000 [==============================] - 131s 7ms/sample - loss: 0.2086 - accuracy: 0.9165 - val_loss: 0.9897 - val_accuracy: 0.7150\n",
      "Epoch 16/30\n",
      "20000/20000 [==============================] - 134s 7ms/sample - loss: 0.1706 - accuracy: 0.9342 - val_loss: 0.9642 - val_accuracy: 0.7388\n",
      "Epoch 17/30\n",
      "20000/20000 [==============================] - 132s 7ms/sample - loss: 0.1000 - accuracy: 0.9653 - val_loss: 1.3147 - val_accuracy: 0.6696\n",
      "Epoch 18/30\n",
      "20000/20000 [==============================] - 131s 7ms/sample - loss: 0.1034 - accuracy: 0.9648 - val_loss: 1.1593 - val_accuracy: 0.6792\n",
      "Epoch 19/30\n",
      "20000/20000 [==============================] - 133s 7ms/sample - loss: 0.0744 - accuracy: 0.9751 - val_loss: 1.1729 - val_accuracy: 0.7118\n",
      "Epoch 20/30\n",
      "20000/20000 [==============================] - 133s 7ms/sample - loss: 0.0681 - accuracy: 0.9793 - val_loss: 1.2942 - val_accuracy: 0.6014\n",
      "Epoch 21/30\n",
      "20000/20000 [==============================] - 132s 7ms/sample - loss: 0.0549 - accuracy: 0.9819 - val_loss: 1.3642 - val_accuracy: 0.7198\n",
      "Epoch 22/30\n",
      "20000/20000 [==============================] - 133s 7ms/sample - loss: 0.0529 - accuracy: 0.9837 - val_loss: 1.3773 - val_accuracy: 0.6838\n",
      "Epoch 23/30\n",
      "20000/20000 [==============================] - 133s 7ms/sample - loss: 0.2016 - accuracy: 0.9160 - val_loss: 1.0135 - val_accuracy: 0.6624\n",
      "Epoch 24/30\n",
      "20000/20000 [==============================] - 134s 7ms/sample - loss: 0.1919 - accuracy: 0.9226 - val_loss: 1.3912 - val_accuracy: 0.6800\n",
      "Epoch 25/30\n",
      "20000/20000 [==============================] - 134s 7ms/sample - loss: 0.0909 - accuracy: 0.9663 - val_loss: 1.3292 - val_accuracy: 0.7086\n",
      "Epoch 26/30\n",
      "20000/20000 [==============================] - 135s 7ms/sample - loss: 0.0777 - accuracy: 0.9722 - val_loss: 1.3718 - val_accuracy: 0.6866\n",
      "Epoch 27/30\n",
      "20000/20000 [==============================] - 131s 7ms/sample - loss: 0.0359 - accuracy: 0.9888 - val_loss: 1.4091 - val_accuracy: 0.6698\n",
      "Epoch 28/30\n",
      "20000/20000 [==============================] - 132s 7ms/sample - loss: 0.0588 - accuracy: 0.9793 - val_loss: 1.3427 - val_accuracy: 0.6742\n",
      "Epoch 29/30\n",
      "20000/20000 [==============================] - 129s 6ms/sample - loss: 0.1085 - accuracy: 0.9586 - val_loss: 1.4217 - val_accuracy: 0.6592\n",
      "Epoch 30/30\n",
      "20000/20000 [==============================] - 130s 7ms/sample - loss: 0.0360 - accuracy: 0.9888 - val_loss: 1.9024 - val_accuracy: 0.6592\n"
     ]
    }
   ],
   "source": [
    "history = bi_rnn_model.fit(x_train, y_train, validation_split=0.2, epochs=30, batch_size=batch_size)"
   ]
  },
  {
   "cell_type": "code",
   "execution_count": null,
   "metadata": {},
   "outputs": [],
   "source": []
  }
 ],
 "metadata": {
  "kernelspec": {
   "display_name": "Python 3",
   "language": "python",
   "name": "python3"
  },
  "language_info": {
   "codemirror_mode": {
    "name": "ipython",
    "version": 3
   },
   "file_extension": ".py",
   "mimetype": "text/x-python",
   "name": "python",
   "nbconvert_exporter": "python",
   "pygments_lexer": "ipython3",
   "version": "3.6.8"
  }
 },
 "nbformat": 4,
 "nbformat_minor": 2
}
