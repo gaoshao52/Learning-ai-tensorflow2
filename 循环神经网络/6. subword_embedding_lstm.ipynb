{
 "cells": [
  {
   "cell_type": "code",
   "execution_count": null,
   "metadata": {},
   "outputs": [],
   "source": []
  },
  {
   "cell_type": "markdown",
   "metadata": {},
   "source": [
    "## 1. 导入模块"
   ]
  },
  {
   "cell_type": "code",
   "execution_count": 1,
   "metadata": {},
   "outputs": [
    {
     "name": "stdout",
     "output_type": "stream",
     "text": [
      "numpy 1.18.1\n",
      "pandas 0.25.3\n",
      "matplotlib 3.1.2\n",
      "sklearn 0.22.1\n",
      "tensorflow_core.python.keras.api._v2.keras 2.2.4-tf\n",
      "tensorflow 2.1.0\n"
     ]
    }
   ],
   "source": [
    "%matplotlib inline\n",
    "import numpy as np\n",
    "import pandas as pd\n",
    "import matplotlib as mpl\n",
    "import matplotlib.pyplot as plt\n",
    "import sklearn\n",
    "\n",
    "from tensorflow import keras\n",
    "import tensorflow as tf\n",
    "import sys\n",
    "import os\n",
    "import time\n",
    "import datetime\n",
    "\n",
    "for module in [np, pd, mpl, sklearn, keras, tf]:\n",
    "    print(module.__name__, module.__version__)\n",
    "    \n",
    "gpus = tf.config.experimental.list_physical_devices(\"GPU\")\n",
    "tf.config.experimental.set_memory_growth(gpus[0], True)"
   ]
  },
  {
   "cell_type": "markdown",
   "metadata": {},
   "source": [
    "## 2. 数据准备"
   ]
  },
  {
   "cell_type": "code",
   "execution_count": 2,
   "metadata": {},
   "outputs": [],
   "source": [
    "import tensorflow_datasets as tfds\n",
    "dataset, info = tfds.load(\"imdb_reviews/subwords8k\", with_info=True, as_supervised=True)\n",
    "\n",
    "train_dataset, test_dataset = dataset[\"train\"], dataset[\"test\"]"
   ]
  },
  {
   "cell_type": "code",
   "execution_count": 3,
   "metadata": {},
   "outputs": [
    {
     "name": "stdout",
     "output_type": "stream",
     "text": [
      "Tokenized string is: [6307, 2327, 2934, 7961, 9, 2724, 7975]\n",
      "Original string is: Tensorflow is cool.\n"
     ]
    }
   ],
   "source": [
    "tokenizer = info.features[\"text\"].encoder\n",
    "\n",
    "sample_string = \"Tensorflow is cool.\"\n",
    "\n",
    "tokenized_string = tokenizer.encode(sample_string)\n",
    "print(\"Tokenized string is: {}\".format(tokenized_string))\n",
    "\n",
    "original_string = tokenizer.decode(tokenized_string)\n",
    "print(\"Original string is: {}\".format(original_string))\n",
    "\n",
    "assert sample_string == original_string"
   ]
  },
  {
   "cell_type": "code",
   "execution_count": 4,
   "metadata": {},
   "outputs": [
    {
     "name": "stdout",
     "output_type": "stream",
     "text": [
      "6307-->Ten\n",
      "2327-->sor\n",
      "2934-->flow\n",
      "7961--> \n",
      "9-->is \n",
      "2724-->cool\n",
      "7975-->.\n"
     ]
    }
   ],
   "source": [
    "for sub_id in tokenized_string:\n",
    "    print(\"{}-->{}\".format(sub_id, tokenizer.decode([sub_id])))"
   ]
  },
  {
   "cell_type": "code",
   "execution_count": 5,
   "metadata": {},
   "outputs": [],
   "source": [
    "buffer_size = 10000\n",
    "batch_size = 256\n",
    "\n",
    "train_dataset = train_dataset.shuffle(buffer_size).padded_batch(batch_size, padded_shapes=train_dataset.output_shapes)\n",
    "test_dataset = test_dataset.padded_batch(batch_size, padded_shapes=test_dataset.output_shapes)"
   ]
  },
  {
   "cell_type": "markdown",
   "metadata": {},
   "source": [
    "## 3. 建模训练"
   ]
  },
  {
   "cell_type": "code",
   "execution_count": 8,
   "metadata": {},
   "outputs": [
    {
     "name": "stdout",
     "output_type": "stream",
     "text": [
      "Model: \"sequential_1\"\n",
      "_________________________________________________________________\n",
      "Layer (type)                 Output Shape              Param #   \n",
      "=================================================================\n",
      "embedding_2 (Embedding)      (None, None, 32)          261920    \n",
      "_________________________________________________________________\n",
      "bidirectional_2 (Bidirection (None, 128)               49664     \n",
      "_________________________________________________________________\n",
      "dense_3 (Dense)              (None, 12)                1548      \n",
      "_________________________________________________________________\n",
      "dense_4 (Dense)              (None, 1)                 13        \n",
      "=================================================================\n",
      "Total params: 313,145\n",
      "Trainable params: 313,145\n",
      "Non-trainable params: 0\n",
      "_________________________________________________________________\n"
     ]
    }
   ],
   "source": [
    "vocab_size = tokenizer.vocab_size\n",
    "embedding_dim = 32\n",
    "\n",
    "model = keras.models.Sequential([\n",
    "    keras.layers.Embedding(vocab_size, embedding_dim),\n",
    "    keras.layers.Bidirectional(\n",
    "        keras.layers.LSTM(units=64, return_sequences=False)\n",
    "    ),\n",
    "            keras.layers.Dense(12, activation=\"relu\"),\n",
    "        keras.layers.Dense(1, activation=\"sigmoid\")\n",
    "])\n",
    "\n",
    "model.compile(loss=\"binary_crossentropy\", optimizer=\"adam\", metrics=[\"accuracy\"])\n",
    "\n",
    "model.summary()"
   ]
  },
  {
   "cell_type": "code",
   "execution_count": 9,
   "metadata": {},
   "outputs": [
    {
     "name": "stdout",
     "output_type": "stream",
     "text": [
      "Epoch 1/10\n",
      "98/98 [==============================] - 36s 365ms/step - loss: 0.6223 - accuracy: 0.6367 - val_loss: 0.4401 - val_accuracy: 0.8048\n",
      "Epoch 2/10\n",
      "98/98 [==============================] - 32s 323ms/step - loss: 0.4168 - accuracy: 0.8176 - val_loss: 0.4446 - val_accuracy: 0.8214\n",
      "Epoch 3/10\n",
      "98/98 [==============================] - 32s 323ms/step - loss: 0.2960 - accuracy: 0.8860 - val_loss: 0.3945 - val_accuracy: 0.8348\n",
      "Epoch 4/10\n",
      "98/98 [==============================] - 32s 325ms/step - loss: 0.2663 - accuracy: 0.8980 - val_loss: 0.4161 - val_accuracy: 0.8233\n",
      "Epoch 5/10\n",
      "98/98 [==============================] - 32s 325ms/step - loss: 0.2036 - accuracy: 0.9277 - val_loss: 0.4099 - val_accuracy: 0.8417\n",
      "Epoch 6/10\n",
      "98/98 [==============================] - 32s 325ms/step - loss: 0.1711 - accuracy: 0.9412 - val_loss: 0.4276 - val_accuracy: 0.8440\n",
      "Epoch 7/10\n",
      "98/98 [==============================] - 32s 325ms/step - loss: 0.1510 - accuracy: 0.9485 - val_loss: 0.4755 - val_accuracy: 0.8334\n",
      "Epoch 8/10\n",
      "98/98 [==============================] - 32s 323ms/step - loss: 0.1315 - accuracy: 0.9554 - val_loss: 0.4879 - val_accuracy: 0.8399\n",
      "Epoch 9/10\n",
      "98/98 [==============================] - 32s 323ms/step - loss: 0.1218 - accuracy: 0.9587 - val_loss: 0.5279 - val_accuracy: 0.8366\n",
      "Epoch 10/10\n",
      "98/98 [==============================] - 32s 328ms/step - loss: 0.0965 - accuracy: 0.9692 - val_loss: 0.5506 - val_accuracy: 0.8216\n"
     ]
    }
   ],
   "source": [
    "history = model.fit(train_dataset, validation_data=test_dataset, epochs=10)"
   ]
  },
  {
   "cell_type": "code",
   "execution_count": 10,
   "metadata": {},
   "outputs": [
    {
     "data": {
      "text/plain": [
       "dict_keys(['loss', 'accuracy', 'val_loss', 'val_accuracy'])"
      ]
     },
     "execution_count": 10,
     "metadata": {},
     "output_type": "execute_result"
    }
   ],
   "source": [
    "history.history.keys()"
   ]
  },
  {
   "cell_type": "code",
   "execution_count": 11,
   "metadata": {},
   "outputs": [
    {
     "data": {
      "text/plain": [
       "(0, 1)"
      ]
     },
     "execution_count": 11,
     "metadata": {},
     "output_type": "execute_result"
    },
    {
     "data": {
      "image/png": "[encoded data removed]",
      "text/plain": [
       "<Figure size 432x288 with 1 Axes>"
      ]
     },
     "metadata": {
      "needs_background": "light"
     },
     "output_type": "display_data"
    }
   ],
   "source": [
    "pd.DataFrame(history.history)[[\"loss\", \"val_loss\"]].plot()\n",
    "plt.grid(True)\n",
    "plt.ylim(0, 1)"
   ]
  },
  {
   "cell_type": "code",
   "execution_count": 12,
   "metadata": {},
   "outputs": [
    {
     "data": {
      "text/plain": [
       "(0, 1)"
      ]
     },
     "execution_count": 12,
     "metadata": {},
     "output_type": "execute_result"
    },
    {
     "data": {
      "image/png": "[encoded data removed]",
      "text/plain": [
       "<Figure size 432x288 with 1 Axes>"
      ]
     },
     "metadata": {
      "needs_background": "light"
     },
     "output_type": "display_data"
    }
   ],
   "source": [
    "pd.DataFrame(history.history)[[\"accuracy\", \"val_accuracy\"]].plot()\n",
    "plt.grid(True)\n",
    "plt.ylim(0, 1)"
   ]
  }
 ],
 "metadata": {
  "kernelspec": {
   "display_name": "Python 3",
   "language": "python",
   "name": "python3"
  },
  "language_info": {
   "codemirror_mode": {
    "name": "ipython",
    "version": 3
   },
   "file_extension": ".py",
   "mimetype": "text/x-python",
   "name": "python",
   "nbconvert_exporter": "python",
   "pygments_lexer": "ipython3",
   "version": "3.6.8"
  }
 },
 "nbformat": 4,
 "nbformat_minor": 2
}
