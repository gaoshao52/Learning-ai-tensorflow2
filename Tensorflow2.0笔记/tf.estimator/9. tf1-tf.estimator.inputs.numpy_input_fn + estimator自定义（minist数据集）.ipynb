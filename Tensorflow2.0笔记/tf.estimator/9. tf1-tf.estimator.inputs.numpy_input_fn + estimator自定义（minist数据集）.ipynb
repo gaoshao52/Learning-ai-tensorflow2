{
 "cells": [
  {
   "cell_type": "markdown",
   "metadata": {},
   "source": [
    "# 目录\n",
    "## 1. 导入模块\n",
    "## 2. 获取minist数据集\n",
    "## 3. 定义输入数据格式的feature_columns\n",
    "## 4. tf.estimator.inputs.numpy_input_fn可迭代的数据函数\n",
    "> 存在一个 tf.estimator.inputs.numpy_input_fn\n",
    "## 5. 自定义estimator\n",
    "### 5.1 定义网络函数\n",
    "### 5.2 实例化estimator\n",
    "## 6. 训练\n",
    "## 7. 测试"
   ]
  },
  {
   "cell_type": "markdown",
   "metadata": {},
   "source": [
    "## 1. 导入模块"
   ]
  },
  {
   "cell_type": "code",
   "execution_count": 1,
   "metadata": {},
   "outputs": [
    {
     "name": "stdout",
     "output_type": "stream",
     "text": [
      "numpy 1.17.2\n",
      "pandas 0.25.1\n",
      "matplotlib 3.1.1\n",
      "sklearn 0.21.3\n",
      "tensorflow.python.keras.api._v1.keras 2.2.4-tf\n",
      "tensorflow 1.15.0\n"
     ]
    }
   ],
   "source": [
    "%matplotlib inline\n",
    "import numpy as np\n",
    "import pandas as pd\n",
    "import matplotlib as mpl\n",
    "import matplotlib.pyplot as plt\n",
    "import sklearn\n",
    "\n",
    "from tensorflow import keras\n",
    "import tensorflow as tf\n",
    "import sys\n",
    "import os\n",
    "import time\n",
    "import datetime\n",
    "\n",
    "for module in [np, pd, mpl, sklearn, keras, tf]:\n",
    "    print(module.__name__, module.__version__)"
   ]
  },
  {
   "cell_type": "markdown",
   "metadata": {},
   "source": [
    "## 2. 获取minist数据集"
   ]
  },
  {
   "cell_type": "code",
   "execution_count": 2,
   "metadata": {},
   "outputs": [
    {
     "name": "stdout",
     "output_type": "stream",
     "text": [
      "WARNING:tensorflow:From <ipython-input-2-00f0d53e5cb9>:5: read_data_sets (from tensorflow.contrib.learn.python.learn.datasets.mnist) is deprecated and will be removed in a future version.\n",
      "Instructions for updating:\n",
      "Please use alternatives such as official/mnist/dataset.py from tensorflow/models.\n",
      "WARNING:tensorflow:From /home/gaosy/environment/tf1.14_py3/lib/python3.6/site-packages/tensorflow_core/contrib/learn/python/learn/datasets/mnist.py:260: maybe_download (from tensorflow.contrib.learn.python.learn.datasets.base) is deprecated and will be removed in a future version.\n",
      "Instructions for updating:\n",
      "Please write your own downloading logic.\n",
      "WARNING:tensorflow:From /home/gaosy/environment/tf1.14_py3/lib/python3.6/site-packages/tensorflow_core/contrib/learn/python/learn/datasets/mnist.py:262: extract_images (from tensorflow.contrib.learn.python.learn.datasets.mnist) is deprecated and will be removed in a future version.\n",
      "Instructions for updating:\n",
      "Please use tf.data to implement this functionality.\n",
      "Extracting ./data/MNIST_data/train-images-idx3-ubyte.gz\n",
      "WARNING:tensorflow:From /home/gaosy/environment/tf1.14_py3/lib/python3.6/site-packages/tensorflow_core/contrib/learn/python/learn/datasets/mnist.py:267: extract_labels (from tensorflow.contrib.learn.python.learn.datasets.mnist) is deprecated and will be removed in a future version.\n",
      "Instructions for updating:\n",
      "Please use tf.data to implement this functionality.\n",
      "Extracting ./data/MNIST_data/train-labels-idx1-ubyte.gz\n",
      "Extracting ./data/MNIST_data/t10k-images-idx3-ubyte.gz\n",
      "Extracting ./data/MNIST_data/t10k-labels-idx1-ubyte.gz\n",
      "WARNING:tensorflow:From /home/gaosy/environment/tf1.14_py3/lib/python3.6/site-packages/tensorflow_core/contrib/learn/python/learn/datasets/mnist.py:290: DataSet.__init__ (from tensorflow.contrib.learn.python.learn.datasets.mnist) is deprecated and will be removed in a future version.\n",
      "Instructions for updating:\n",
      "Please use alternatives such as official/mnist/dataset.py from tensorflow/models.\n"
     ]
    }
   ],
   "source": [
    "from tensorflow.examples.tutorials.mnist import input_data\n",
    "\n",
    "tf.logging.set_verbosity(tf.logging.INFO)\n",
    "\n",
    "mnist = input_data.read_data_sets(\"./data/MNIST_data\", one_hot=False)"
   ]
  },
  {
   "cell_type": "markdown",
   "metadata": {},
   "source": [
    "## 3. 定义输入数据格式的feature_columns"
   ]
  },
  {
   "cell_type": "code",
   "execution_count": 3,
   "metadata": {},
   "outputs": [],
   "source": [
    "feature_columns = [tf.feature_column.numeric_column(\"images\", shape=[784])]"
   ]
  },
  {
   "cell_type": "markdown",
   "metadata": {},
   "source": [
    "## 4. tf.estimator.inputs.numpy_input_fn可迭代的数据函数"
   ]
  },
  {
   "cell_type": "code",
   "execution_count": 4,
   "metadata": {},
   "outputs": [],
   "source": [
    "train_data_fn = tf.estimator.inputs.numpy_input_fn(\n",
    "    x={\"images\": mnist.train.images},\n",
    "    y=mnist.train.labels.astype(np.int32),\n",
    "    shuffle=True,\n",
    "    num_epochs=None,\n",
    "    batch_size=32\n",
    ")\n",
    "\n",
    "test_data_fn = tf.estimator.inputs.numpy_input_fn(\n",
    "    x={\"images\": mnist.test.images},\n",
    "    y=mnist.test.labels.astype(np.int32), # 网络结构中，labels 只能接受 int32 和int64\n",
    "    shuffle=False,\n",
    "    num_epochs=1,\n",
    "    batch_size=32\n",
    ")"
   ]
  },
  {
   "cell_type": "markdown",
   "metadata": {},
   "source": [
    "## 5. 自定义estimator"
   ]
  },
  {
   "cell_type": "markdown",
   "metadata": {},
   "source": [
    "### 5.1 定义网络函数"
   ]
  },
  {
   "cell_type": "code",
   "execution_count": 14,
   "metadata": {},
   "outputs": [],
   "source": [
    "def lenet(images, is_training):\n",
    "    images = tf.reshape(images, shape=[-1, 28, 28, 1])\n",
    "    \n",
    "    conv1 = tf.layers.conv2d(images, 32, 5, activation=tf.nn.relu)\n",
    "    conv1 = tf.layers.max_pooling2d(conv1, 2, 2)\n",
    "    \n",
    "    conv2 = tf.layers.conv2d(conv1, 64, 3, activation=tf.nn.relu)\n",
    "    conv2 = tf.layers.max_pooling2d(conv2, 2, 2)\n",
    "    \n",
    "    fc1 = tf.layers.flatten(conv2)\n",
    "    fc1 = tf.layers.dense(fc1, 1024)\n",
    "    fc1 = tf.layers.dropout(fc1, rate=0.5, training=is_training)\n",
    "    fc1 = tf.layers.dense(fc1, 10)\n",
    "    \n",
    "    return fc1\n",
    "\n",
    "def model_fn(features, labels, mode, params):\n",
    "    '''\n",
    "    features 是一个字典， \"images\"--> [7854]\n",
    "    '''\n",
    "    ## 网络推理\n",
    "    logits = lenet(features[\"images\"], mode == tf.estimator.ModeKeys.TRAIN)\n",
    "    predictions = tf.argmax(logits, axis=1)\n",
    "    \n",
    "    ## predict\n",
    "    if mode == tf.estimator.ModeKeys.PREDICT:\n",
    "        return tf.estimator.EstimatorSpec(\n",
    "            mode=mode,\n",
    "            predictions={\n",
    "                \"logits\": logits,\n",
    "                \"probabilities\": tf.nn.softmax(logits),\n",
    "                \"class_ids\": predictions[:, tf.newaxis]\n",
    "            }\n",
    "        )\n",
    "    \n",
    "    ## eval\n",
    "    loss = tf.losses.sparse_softmax_cross_entropy(logits=logits, labels=labels)\n",
    "    accuracy = tf.metrics.accuracy(labels=labels, predictions=predictions, name=\"acc_op\")\n",
    "    if mode == tf.estimator.ModeKeys.EVAL:\n",
    "        return tf.estimator.EstimatorSpec(\n",
    "            mode=mode,\n",
    "            loss=loss,\n",
    "            eval_metric_ops={\"accuracy\": accuracy}\n",
    "        )\n",
    "    \n",
    "    ## train\n",
    "    train_op = tf.train.AdamOptimizer(1e-3).minimize(loss=loss, global_step=tf.train.get_global_step())\n",
    "    if mode == tf.estimator.ModeKeys.TRAIN:\n",
    "        return tf.estimator.EstimatorSpec(\n",
    "            mode=mode,\n",
    "            loss=loss,\n",
    "            train_op=train_op\n",
    "        )\n",
    "    "
   ]
  },
  {
   "cell_type": "markdown",
   "metadata": {},
   "source": [
    "### 5.2 实例化estimator"
   ]
  },
  {
   "cell_type": "code",
   "execution_count": 15,
   "metadata": {},
   "outputs": [
    {
     "name": "stdout",
     "output_type": "stream",
     "text": [
      "INFO:tensorflow:Using default config.\n",
      "INFO:tensorflow:Using config: {'_model_dir': 'tf1_customized_estimator_model', '_tf_random_seed': None, '_save_summary_steps': 100, '_save_checkpoints_steps': None, '_save_checkpoints_secs': 600, '_session_config': allow_soft_placement: true\n",
      "graph_options {\n",
      "  rewrite_options {\n",
      "    meta_optimizer_iterations: ONE\n",
      "  }\n",
      "}\n",
      ", '_keep_checkpoint_max': 5, '_keep_checkpoint_every_n_hours': 10000, '_log_step_count_steps': 100, '_train_distribute': None, '_device_fn': None, '_protocol': None, '_eval_distribute': None, '_experimental_distribute': None, '_experimental_max_worker_delay_secs': None, '_session_creation_timeout_secs': 7200, '_service': None, '_cluster_spec': <tensorflow.python.training.server_lib.ClusterSpec object at 0x7fdc333440b8>, '_task_type': 'worker', '_task_id': 0, '_global_id_in_cluster': 0, '_master': '', '_evaluation_master': '', '_is_chief': True, '_num_ps_replicas': 0, '_num_worker_replicas': 1}\n"
     ]
    }
   ],
   "source": [
    "output_dir = \"tf1_customized_estimator_model\"\n",
    "if not os.path.exists(output_dir):\n",
    "    os.mkdir(output_dir)\n",
    "\n",
    "estimator = tf.estimator.Estimator(\n",
    "    model_fn=model_fn,\n",
    "    model_dir=output_dir,\n",
    "    params={\n",
    "        \"feature_columns\": feature_columns,\n",
    "    }\n",
    ")"
   ]
  },
  {
   "cell_type": "markdown",
   "metadata": {},
   "source": [
    "## 6. 训练"
   ]
  },
  {
   "cell_type": "code",
   "execution_count": 16,
   "metadata": {},
   "outputs": [
    {
     "name": "stdout",
     "output_type": "stream",
     "text": [
      "INFO:tensorflow:Calling model_fn.\n",
      "WARNING:tensorflow:From /home/gaosy/environment/tf1.14_py3/lib/python3.6/site-packages/tensorflow_core/python/ops/losses/losses_impl.py:121: where (from tensorflow.python.ops.array_ops) is deprecated and will be removed in a future version.\n",
      "Instructions for updating:\n",
      "Use tf.where in 2.0, which has the same broadcast rule as np.where\n",
      "INFO:tensorflow:Done calling model_fn.\n",
      "INFO:tensorflow:Create CheckpointSaverHook.\n",
      "INFO:tensorflow:Graph was finalized.\n",
      "INFO:tensorflow:Running local_init_op.\n",
      "INFO:tensorflow:Done running local_init_op.\n",
      "WARNING:tensorflow:From /home/gaosy/environment/tf1.14_py3/lib/python3.6/site-packages/tensorflow_core/python/training/monitored_session.py:882: start_queue_runners (from tensorflow.python.training.queue_runner_impl) is deprecated and will be removed in a future version.\n",
      "Instructions for updating:\n",
      "To construct input pipelines, use the `tf.data` module.\n",
      "INFO:tensorflow:Saving checkpoints for 0 into tf1_customized_estimator_model/model.ckpt.\n",
      "INFO:tensorflow:loss = 2.3386955, step = 0\n",
      "INFO:tensorflow:global_step/sec: 369.075\n",
      "INFO:tensorflow:loss = 0.2152664, step = 100 (0.271 sec)\n",
      "INFO:tensorflow:global_step/sec: 492.809\n",
      "INFO:tensorflow:loss = 0.03358087, step = 200 (0.203 sec)\n",
      "INFO:tensorflow:global_step/sec: 490.62\n",
      "INFO:tensorflow:loss = 0.12010437, step = 300 (0.204 sec)\n",
      "INFO:tensorflow:global_step/sec: 493.747\n",
      "INFO:tensorflow:loss = 0.12110722, step = 400 (0.203 sec)\n",
      "INFO:tensorflow:global_step/sec: 491.944\n",
      "INFO:tensorflow:loss = 0.22646192, step = 500 (0.203 sec)\n",
      "INFO:tensorflow:global_step/sec: 495.226\n",
      "INFO:tensorflow:loss = 0.0139647145, step = 600 (0.202 sec)\n",
      "INFO:tensorflow:global_step/sec: 495.699\n",
      "INFO:tensorflow:loss = 0.15728565, step = 700 (0.202 sec)\n",
      "INFO:tensorflow:global_step/sec: 494.894\n",
      "INFO:tensorflow:loss = 0.028464878, step = 800 (0.202 sec)\n",
      "INFO:tensorflow:global_step/sec: 490.22\n",
      "INFO:tensorflow:loss = 0.006109527, step = 900 (0.204 sec)\n",
      "INFO:tensorflow:global_step/sec: 494.162\n",
      "INFO:tensorflow:loss = 0.004872977, step = 1000 (0.202 sec)\n",
      "INFO:tensorflow:global_step/sec: 494.384\n",
      "INFO:tensorflow:loss = 0.080814645, step = 1100 (0.202 sec)\n",
      "INFO:tensorflow:global_step/sec: 495.719\n",
      "INFO:tensorflow:loss = 0.06399597, step = 1200 (0.202 sec)\n",
      "INFO:tensorflow:global_step/sec: 492.452\n",
      "INFO:tensorflow:loss = 0.08539894, step = 1300 (0.203 sec)\n",
      "INFO:tensorflow:global_step/sec: 473.342\n",
      "INFO:tensorflow:loss = 0.012894904, step = 1400 (0.211 sec)\n",
      "INFO:tensorflow:global_step/sec: 497.371\n",
      "INFO:tensorflow:loss = 0.028970355, step = 1500 (0.201 sec)\n",
      "INFO:tensorflow:global_step/sec: 471.159\n",
      "INFO:tensorflow:loss = 0.0024361014, step = 1600 (0.212 sec)\n",
      "INFO:tensorflow:global_step/sec: 468.649\n",
      "INFO:tensorflow:loss = 0.15359803, step = 1700 (0.213 sec)\n",
      "INFO:tensorflow:global_step/sec: 458.808\n",
      "INFO:tensorflow:loss = 0.03816614, step = 1800 (0.218 sec)\n",
      "INFO:tensorflow:global_step/sec: 457.472\n",
      "INFO:tensorflow:loss = 0.007451052, step = 1900 (0.219 sec)\n",
      "INFO:tensorflow:global_step/sec: 471.32\n",
      "INFO:tensorflow:loss = 0.10420319, step = 2000 (0.212 sec)\n",
      "INFO:tensorflow:global_step/sec: 455.519\n",
      "INFO:tensorflow:loss = 0.040498927, step = 2100 (0.219 sec)\n",
      "INFO:tensorflow:global_step/sec: 457.724\n",
      "INFO:tensorflow:loss = 0.013367789, step = 2200 (0.218 sec)\n",
      "INFO:tensorflow:global_step/sec: 459.497\n",
      "INFO:tensorflow:loss = 0.0025246684, step = 2300 (0.218 sec)\n",
      "INFO:tensorflow:global_step/sec: 494.802\n",
      "INFO:tensorflow:loss = 0.011380215, step = 2400 (0.202 sec)\n",
      "INFO:tensorflow:global_step/sec: 458.949\n",
      "INFO:tensorflow:loss = 0.0015734365, step = 2500 (0.218 sec)\n",
      "INFO:tensorflow:global_step/sec: 498.113\n",
      "INFO:tensorflow:loss = 0.15961397, step = 2600 (0.201 sec)\n",
      "INFO:tensorflow:global_step/sec: 498.554\n",
      "INFO:tensorflow:loss = 0.0010789947, step = 2700 (0.201 sec)\n",
      "INFO:tensorflow:global_step/sec: 498.413\n",
      "INFO:tensorflow:loss = 0.026236212, step = 2800 (0.201 sec)\n",
      "INFO:tensorflow:global_step/sec: 499.997\n",
      "INFO:tensorflow:loss = 0.004066573, step = 2900 (0.200 sec)\n",
      "INFO:tensorflow:global_step/sec: 502.715\n",
      "INFO:tensorflow:loss = 0.046781495, step = 3000 (0.199 sec)\n",
      "INFO:tensorflow:global_step/sec: 499.762\n",
      "INFO:tensorflow:loss = 0.30548173, step = 3100 (0.200 sec)\n",
      "INFO:tensorflow:global_step/sec: 502.397\n",
      "INFO:tensorflow:loss = 0.02977289, step = 3200 (0.199 sec)\n",
      "INFO:tensorflow:global_step/sec: 497.36\n",
      "INFO:tensorflow:loss = 0.0007862925, step = 3300 (0.201 sec)\n",
      "INFO:tensorflow:global_step/sec: 497.846\n",
      "INFO:tensorflow:loss = 0.029813217, step = 3400 (0.201 sec)\n",
      "INFO:tensorflow:global_step/sec: 502.013\n",
      "INFO:tensorflow:loss = 0.0041636606, step = 3500 (0.199 sec)\n",
      "INFO:tensorflow:global_step/sec: 497.784\n",
      "INFO:tensorflow:loss = 0.0022755263, step = 3600 (0.201 sec)\n",
      "INFO:tensorflow:global_step/sec: 494.816\n",
      "INFO:tensorflow:loss = 0.14619707, step = 3700 (0.202 sec)\n",
      "INFO:tensorflow:global_step/sec: 502.288\n",
      "INFO:tensorflow:loss = 0.04017503, step = 3800 (0.199 sec)\n",
      "INFO:tensorflow:global_step/sec: 494.474\n",
      "INFO:tensorflow:loss = 0.12792699, step = 3900 (0.202 sec)\n",
      "INFO:tensorflow:global_step/sec: 496.648\n",
      "INFO:tensorflow:loss = 0.029994225, step = 4000 (0.201 sec)\n",
      "INFO:tensorflow:global_step/sec: 495.113\n",
      "INFO:tensorflow:loss = 0.003038609, step = 4100 (0.202 sec)\n",
      "INFO:tensorflow:global_step/sec: 500.59\n",
      "INFO:tensorflow:loss = 0.0011849585, step = 4200 (0.200 sec)\n",
      "INFO:tensorflow:global_step/sec: 496.45\n",
      "INFO:tensorflow:loss = 0.047339242, step = 4300 (0.201 sec)\n",
      "INFO:tensorflow:global_step/sec: 502.22\n",
      "INFO:tensorflow:loss = 0.010950925, step = 4400 (0.199 sec)\n",
      "INFO:tensorflow:global_step/sec: 500.476\n",
      "INFO:tensorflow:loss = 0.016959075, step = 4500 (0.200 sec)\n",
      "INFO:tensorflow:global_step/sec: 502.594\n",
      "INFO:tensorflow:loss = 0.026714247, step = 4600 (0.199 sec)\n",
      "INFO:tensorflow:global_step/sec: 500.876\n",
      "INFO:tensorflow:loss = 0.006802082, step = 4700 (0.200 sec)\n",
      "INFO:tensorflow:global_step/sec: 502.171\n",
      "INFO:tensorflow:loss = 0.29239118, step = 4800 (0.199 sec)\n",
      "INFO:tensorflow:global_step/sec: 496.675\n",
      "INFO:tensorflow:loss = 0.00088351336, step = 4900 (0.201 sec)\n",
      "INFO:tensorflow:global_step/sec: 493.007\n",
      "INFO:tensorflow:loss = 0.34573653, step = 5000 (0.203 sec)\n",
      "INFO:tensorflow:global_step/sec: 496.074\n",
      "INFO:tensorflow:loss = 0.0020537074, step = 5100 (0.201 sec)\n",
      "INFO:tensorflow:global_step/sec: 492.212\n",
      "INFO:tensorflow:loss = 0.019528726, step = 5200 (0.203 sec)\n",
      "INFO:tensorflow:global_step/sec: 489.374\n",
      "INFO:tensorflow:loss = 0.00073314644, step = 5300 (0.204 sec)\n",
      "INFO:tensorflow:global_step/sec: 487.982\n",
      "INFO:tensorflow:loss = 0.11038427, step = 5400 (0.205 sec)\n",
      "INFO:tensorflow:global_step/sec: 501.345\n",
      "INFO:tensorflow:loss = 0.021029487, step = 5500 (0.200 sec)\n",
      "INFO:tensorflow:global_step/sec: 495.402\n",
      "INFO:tensorflow:loss = 0.00021048682, step = 5600 (0.202 sec)\n",
      "INFO:tensorflow:global_step/sec: 485.404\n",
      "INFO:tensorflow:loss = 0.0028456582, step = 5700 (0.206 sec)\n",
      "INFO:tensorflow:global_step/sec: 485.036\n",
      "INFO:tensorflow:loss = 0.03498192, step = 5800 (0.206 sec)\n",
      "INFO:tensorflow:global_step/sec: 492.315\n",
      "INFO:tensorflow:loss = 0.014472015, step = 5900 (0.203 sec)\n",
      "INFO:tensorflow:global_step/sec: 502.538\n",
      "INFO:tensorflow:loss = 0.00439337, step = 6000 (0.199 sec)\n",
      "INFO:tensorflow:global_step/sec: 482.716\n",
      "INFO:tensorflow:loss = 0.030944204, step = 6100 (0.207 sec)\n",
      "INFO:tensorflow:global_step/sec: 503.869\n",
      "INFO:tensorflow:loss = 0.0008038517, step = 6200 (0.199 sec)\n",
      "INFO:tensorflow:global_step/sec: 493.286\n",
      "INFO:tensorflow:loss = 0.0016648563, step = 6300 (0.203 sec)\n",
      "INFO:tensorflow:global_step/sec: 493.843\n",
      "INFO:tensorflow:loss = 0.0013701683, step = 6400 (0.203 sec)\n",
      "INFO:tensorflow:global_step/sec: 480.413\n",
      "INFO:tensorflow:loss = 0.0043816753, step = 6500 (0.208 sec)\n",
      "INFO:tensorflow:global_step/sec: 485.84\n",
      "INFO:tensorflow:loss = 0.11178425, step = 6600 (0.206 sec)\n",
      "INFO:tensorflow:global_step/sec: 494.873\n",
      "INFO:tensorflow:loss = 0.00063195324, step = 6700 (0.203 sec)\n",
      "INFO:tensorflow:global_step/sec: 488.629\n",
      "INFO:tensorflow:loss = 0.008614418, step = 6800 (0.204 sec)\n",
      "INFO:tensorflow:global_step/sec: 479.511\n",
      "INFO:tensorflow:loss = 0.011397758, step = 6900 (0.208 sec)\n",
      "INFO:tensorflow:global_step/sec: 477.651\n",
      "INFO:tensorflow:loss = 0.035096478, step = 7000 (0.209 sec)\n",
      "INFO:tensorflow:global_step/sec: 481.695\n",
      "INFO:tensorflow:loss = 0.016994797, step = 7100 (0.208 sec)\n"
     ]
    },
    {
     "name": "stdout",
     "output_type": "stream",
     "text": [
      "INFO:tensorflow:global_step/sec: 483.082\n",
      "INFO:tensorflow:loss = 0.022228446, step = 7200 (0.207 sec)\n",
      "INFO:tensorflow:global_step/sec: 486.302\n",
      "INFO:tensorflow:loss = 0.00013212554, step = 7300 (0.206 sec)\n",
      "INFO:tensorflow:global_step/sec: 484.349\n",
      "INFO:tensorflow:loss = 0.008270181, step = 7400 (0.206 sec)\n",
      "INFO:tensorflow:global_step/sec: 483.729\n",
      "INFO:tensorflow:loss = 0.00014045695, step = 7500 (0.207 sec)\n",
      "INFO:tensorflow:global_step/sec: 484.52\n",
      "INFO:tensorflow:loss = 0.00015227625, step = 7600 (0.206 sec)\n",
      "INFO:tensorflow:global_step/sec: 483.84\n",
      "INFO:tensorflow:loss = 0.00012691527, step = 7700 (0.207 sec)\n",
      "INFO:tensorflow:global_step/sec: 483.893\n",
      "INFO:tensorflow:loss = 0.011763247, step = 7800 (0.207 sec)\n",
      "INFO:tensorflow:global_step/sec: 484.166\n",
      "INFO:tensorflow:loss = 0.004361762, step = 7900 (0.207 sec)\n",
      "INFO:tensorflow:global_step/sec: 485.337\n",
      "INFO:tensorflow:loss = 0.008013714, step = 8000 (0.206 sec)\n",
      "INFO:tensorflow:global_step/sec: 478.87\n",
      "INFO:tensorflow:loss = 0.00070219307, step = 8100 (0.209 sec)\n",
      "INFO:tensorflow:global_step/sec: 482.7\n",
      "INFO:tensorflow:loss = 4.2514446e-05, step = 8200 (0.207 sec)\n",
      "INFO:tensorflow:global_step/sec: 484.851\n",
      "INFO:tensorflow:loss = 4.3996235e-05, step = 8300 (0.206 sec)\n",
      "INFO:tensorflow:global_step/sec: 484.466\n",
      "INFO:tensorflow:loss = 0.057067532, step = 8400 (0.206 sec)\n",
      "INFO:tensorflow:global_step/sec: 476.909\n",
      "INFO:tensorflow:loss = 0.11331753, step = 8500 (0.210 sec)\n",
      "INFO:tensorflow:global_step/sec: 485.346\n",
      "INFO:tensorflow:loss = 4.9299455e-05, step = 8600 (0.206 sec)\n",
      "INFO:tensorflow:global_step/sec: 481.842\n",
      "INFO:tensorflow:loss = 0.011690997, step = 8700 (0.208 sec)\n",
      "INFO:tensorflow:global_step/sec: 477.917\n",
      "INFO:tensorflow:loss = 0.0018251181, step = 8800 (0.209 sec)\n",
      "INFO:tensorflow:global_step/sec: 484.986\n",
      "INFO:tensorflow:loss = 0.0018197129, step = 8900 (0.206 sec)\n",
      "INFO:tensorflow:global_step/sec: 485.143\n",
      "INFO:tensorflow:loss = 0.031422805, step = 9000 (0.206 sec)\n",
      "INFO:tensorflow:global_step/sec: 481.471\n",
      "INFO:tensorflow:loss = 0.21315841, step = 9100 (0.208 sec)\n",
      "INFO:tensorflow:global_step/sec: 485.35\n",
      "INFO:tensorflow:loss = 0.077771015, step = 9200 (0.206 sec)\n",
      "INFO:tensorflow:global_step/sec: 474.782\n",
      "INFO:tensorflow:loss = 7.4016694e-05, step = 9300 (0.211 sec)\n",
      "INFO:tensorflow:global_step/sec: 481.256\n",
      "INFO:tensorflow:loss = 5.2909454e-05, step = 9400 (0.208 sec)\n",
      "INFO:tensorflow:global_step/sec: 485.689\n",
      "INFO:tensorflow:loss = 0.0082910685, step = 9500 (0.206 sec)\n",
      "INFO:tensorflow:global_step/sec: 480.638\n",
      "INFO:tensorflow:loss = 0.00058722903, step = 9600 (0.208 sec)\n",
      "INFO:tensorflow:global_step/sec: 484.901\n",
      "INFO:tensorflow:loss = 0.48937678, step = 9700 (0.206 sec)\n",
      "INFO:tensorflow:global_step/sec: 485.331\n",
      "INFO:tensorflow:loss = 0.0005004617, step = 9800 (0.206 sec)\n",
      "INFO:tensorflow:global_step/sec: 480.427\n",
      "INFO:tensorflow:loss = 0.17508289, step = 9900 (0.208 sec)\n",
      "INFO:tensorflow:Saving checkpoints for 10000 into tf1_customized_estimator_model/model.ckpt.\n",
      "INFO:tensorflow:Loss for final step: 0.045730967.\n"
     ]
    }
   ],
   "source": [
    "trsin_result = estimator.train(\n",
    "    input_fn=train_data_fn,\n",
    "    steps=10000\n",
    ")"
   ]
  },
  {
   "cell_type": "code",
   "execution_count": 17,
   "metadata": {},
   "outputs": [
    {
     "data": {
      "text/plain": [
       "<tensorflow_estimator.python.estimator.estimator.Estimator at 0x7fdc333445c0>"
      ]
     },
     "execution_count": 17,
     "metadata": {},
     "output_type": "execute_result"
    }
   ],
   "source": [
    "trsin_result"
   ]
  },
  {
   "cell_type": "markdown",
   "metadata": {},
   "source": [
    "## 7. 测试"
   ]
  },
  {
   "cell_type": "code",
   "execution_count": 18,
   "metadata": {},
   "outputs": [
    {
     "name": "stdout",
     "output_type": "stream",
     "text": [
      "INFO:tensorflow:Calling model_fn.\n",
      "INFO:tensorflow:Done calling model_fn.\n",
      "INFO:tensorflow:Starting evaluation at 2020-01-23T16:14:48Z\n",
      "INFO:tensorflow:Graph was finalized.\n",
      "INFO:tensorflow:Restoring parameters from tf1_customized_estimator_model/model.ckpt-10000\n",
      "INFO:tensorflow:Running local_init_op.\n",
      "INFO:tensorflow:Done running local_init_op.\n",
      "INFO:tensorflow:Finished evaluation at 2020-01-23-16:14:49\n",
      "INFO:tensorflow:Saving dict for global step 10000: accuracy = 0.9905, global_step = 10000, loss = 0.03241456\n",
      "INFO:tensorflow:Saving 'checkpoint_path' summary for global step 10000: tf1_customized_estimator_model/model.ckpt-10000\n"
     ]
    }
   ],
   "source": [
    "result = estimator.evaluate(input_fn=test_data_fn)"
   ]
  },
  {
   "cell_type": "code",
   "execution_count": 19,
   "metadata": {},
   "outputs": [
    {
     "data": {
      "text/plain": [
       "{'accuracy': 0.9905, 'loss': 0.03241456, 'global_step': 10000}"
      ]
     },
     "execution_count": 19,
     "metadata": {},
     "output_type": "execute_result"
    }
   ],
   "source": [
    "result"
   ]
  },
  {
   "cell_type": "markdown",
   "metadata": {},
   "source": [
    "## 8. 预测"
   ]
  },
  {
   "cell_type": "code",
   "execution_count": 27,
   "metadata": {},
   "outputs": [],
   "source": [
    "predict_input_fn = tf.estimator.inputs.numpy_input_fn(\n",
    "    x={\"images\": mnist.test.images[:5]},\n",
    "    num_epochs=1,\n",
    "    shuffle=False\n",
    ")\n",
    "\n",
    "predict_result = estimator.predict(input_fn=predict_input_fn)"
   ]
  },
  {
   "cell_type": "code",
   "execution_count": 28,
   "metadata": {},
   "outputs": [
    {
     "name": "stdout",
     "output_type": "stream",
     "text": [
      "INFO:tensorflow:Calling model_fn.\n",
      "INFO:tensorflow:Done calling model_fn.\n",
      "INFO:tensorflow:Graph was finalized.\n",
      "INFO:tensorflow:Restoring parameters from tf1_customized_estimator_model/model.ckpt-10000\n",
      "INFO:tensorflow:Running local_init_op.\n",
      "INFO:tensorflow:Done running local_init_op.\n",
      "[ -1.8492608   -6.195212     4.2140293   -1.1713935   -5.965131\n",
      " -10.141287    -8.888818    26.20546      0.82345736  -0.1283355 ]\n",
      "[6.5462100e-13 8.4833340e-15 2.8134756e-10 1.2893873e-12 1.0678015e-14\n",
      " 1.6398637e-16 5.7378525e-16 1.0000000e+00 9.4784345e-12 3.6591307e-12]\n",
      "[7]\n",
      "[  2.4726052    3.0356703   25.621538    -0.69463056  -4.446682\n",
      " -17.964666     0.5203086   -2.2105596   -2.2382793   -5.4442    ]\n",
      "[8.8419071e-11 1.5526794e-10 1.0000000e+00 3.7242045e-12 8.7405330e-14\n",
      " 1.1769334e-19 1.2550900e-11 8.1784953e-13 7.9549052e-13 3.2234513e-14]\n",
      "[2]\n",
      "[-2.6458664   8.36285    -3.0758567  -1.8377589   0.39156744 -2.582029\n",
      "  2.576137    2.5318596  -0.5712558  -1.8195261 ]\n",
      "[1.6448190e-05 9.9344301e-01 1.0699795e-05 3.6904101e-05 3.4297205e-04\n",
      " 1.7532433e-05 3.0479326e-03 2.9159214e-03 1.3095138e-04 3.7583159e-05]\n",
      "[1]\n",
      "[ 22.988714  -10.643454    1.0429118  -3.4849253 -11.344316   -5.9648623\n",
      "   8.613802   -3.0665367   3.1876903   0.5786435]\n",
      "[9.9999940e-01 2.4759099e-15 2.9448199e-10 3.1815867e-12 1.2284400e-15\n",
      " 2.6645323e-13 5.7155052e-07 4.8344640e-12 2.5149218e-09 1.8510997e-10]\n",
      "[0]\n",
      "[-6.6016846 -1.4694492 -7.818352  -6.069107  19.762589  -2.385446\n",
      " -4.8954487 -5.6979327  4.7624555  5.9123607]\n",
      "[3.5492872e-12 6.0123229e-10 1.0513547e-12 6.0455608e-12 9.9999869e-01\n",
      " 2.4056368e-10 1.9550143e-11 8.7626477e-12 3.0586108e-07 9.6587758e-07]\n",
      "[4]\n"
     ]
    }
   ],
   "source": [
    "for item in predict_result:\n",
    "    print(item[\"logits\"])\n",
    "    print(item[\"probabilities\"])\n",
    "    print(item[\"class_ids\"])"
   ]
  },
  {
   "cell_type": "code",
   "execution_count": null,
   "metadata": {},
   "outputs": [],
   "source": []
  }
 ],
 "metadata": {
  "kernelspec": {
   "display_name": "Python 3",
   "language": "python",
   "name": "python3"
  },
  "language_info": {
   "codemirror_mode": {
    "name": "ipython",
    "version": 3
   },
   "file_extension": ".py",
   "mimetype": "text/x-python",
   "name": "python",
   "nbconvert_exporter": "python",
   "pygments_lexer": "ipython3",
   "version": "3.6.8"
  }
 },
 "nbformat": 4,
 "nbformat_minor": 2
}
