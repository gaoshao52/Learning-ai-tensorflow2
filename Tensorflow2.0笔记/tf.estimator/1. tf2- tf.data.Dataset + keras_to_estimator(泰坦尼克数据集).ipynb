{
 "cells": [
  {
   "cell_type": "markdown",
   "metadata": {},
   "source": [
    "# 目录\n",
    "### 1. 导入模块\n",
    "### 2. 导入泰坦尼克数据并分析\n",
    "  - `x_train[\"age\"].hist(bins=20)`\n",
    "  - `x_train[\"sex\"].value_counts().plot(kind=\"barh\")`\n",
    "  - `x_train[\"class\"].value_counts().plot(kind=\"barh\")`\n",
    "  - `pd.concat([x_train,y_train], axis=1).groupby(by=[\"sex\"]).survived.mean().plot(kind=\"barh\")`\n",
    "  \n",
    "### 3. 定义Estimator的输入feature_columns\n",
    "  - `tf.feature_column.indicator_column`\n",
    "  - `tf.feature_column.categorical_column_with_vocabulary_list`\n",
    "  - `tf.feature_column.numeric_column`\n",
    "  \n",
    "### 4. 使用tf.data.Dataset定义喂数据的迭代器\n",
    "  - `tf.data.Dataset.from_tensor_slices`\n",
    "  - `shuffle`\n",
    "  - `repeat`\n",
    "  - `batch`\n",
    "  \n",
    "### 5. 定义模型 \n",
    "#### 5.1 keras接入数据层： `keras.layers.DenseFeatures` 衔接 feature_columns\n",
    "#### 5.2 定义模型\n",
    "\n",
    "### 6. keras 训练\n",
    "  - `estimator.train`和`estimator.evaluate` 参数 `input_fn`: \n",
    "  - 1. 是一个函数；\n",
    "  - 2. 这个函数是一个迭代器；\n",
    "  - 3. 返回 （features, labels）数据, features是一个字典，才能与feature_columns对应\n",
    "  \n",
    "### 7. keras转estimizer训练\n",
    "  - `keras.estimator.model_to_estimator`"
   ]
  },
  {
   "cell_type": "markdown",
   "metadata": {},
   "source": [
    "## 1. 导入模块"
   ]
  },
  {
   "cell_type": "code",
   "execution_count": 1,
   "metadata": {},
   "outputs": [
    {
     "name": "stdout",
     "output_type": "stream",
     "text": [
      "numpy 1.18.1\n",
      "pandas 0.25.3\n",
      "matplotlib 3.1.2\n",
      "sklearn 0.22.1\n",
      "tensorflow_core.python.keras.api._v2.keras 2.2.4-tf\n",
      "tensorflow 2.1.0\n"
     ]
    }
   ],
   "source": [
    "%matplotlib inline\n",
    "import numpy as np\n",
    "import pandas as pd\n",
    "import matplotlib as mpl\n",
    "import matplotlib.pyplot as plt\n",
    "import sklearn\n",
    "\n",
    "from tensorflow import keras\n",
    "import tensorflow as tf\n",
    "import sys\n",
    "import os\n",
    "import time\n",
    "import datetime\n",
    "\n",
    "for module in [np, pd, mpl, sklearn, keras, tf]:\n",
    "    print(module.__name__, module.__version__)"
   ]
  },
  {
   "cell_type": "markdown",
   "metadata": {},
   "source": [
    "## 2. 导入泰坦尼克数据并分析"
   ]
  },
  {
   "cell_type": "code",
   "execution_count": 2,
   "metadata": {},
   "outputs": [
    {
     "data": {
      "text/html": [
       "<div>\n",
       "<style scoped>\n",
       "    .dataframe tbody tr th:only-of-type {\n",
       "        vertical-align: middle;\n",
       "    }\n",
       "\n",
       "    .dataframe tbody tr th {\n",
       "        vertical-align: top;\n",
       "    }\n",
       "\n",
       "    .dataframe thead th {\n",
       "        text-align: right;\n",
       "    }\n",
       "</style>\n",
       "<table border=\"1\" class=\"dataframe\">\n",
       "  <thead>\n",
       "    <tr style=\"text-align: right;\">\n",
       "      <th></th>\n",
       "      <th>sex</th>\n",
       "      <th>age</th>\n",
       "      <th>n_siblings_spouses</th>\n",
       "      <th>parch</th>\n",
       "      <th>fare</th>\n",
       "      <th>class</th>\n",
       "      <th>deck</th>\n",
       "      <th>embark_town</th>\n",
       "      <th>alone</th>\n",
       "    </tr>\n",
       "  </thead>\n",
       "  <tbody>\n",
       "    <tr>\n",
       "      <th>0</th>\n",
       "      <td>male</td>\n",
       "      <td>22.0</td>\n",
       "      <td>1</td>\n",
       "      <td>0</td>\n",
       "      <td>7.2500</td>\n",
       "      <td>Third</td>\n",
       "      <td>unknown</td>\n",
       "      <td>Southampton</td>\n",
       "      <td>n</td>\n",
       "    </tr>\n",
       "    <tr>\n",
       "      <th>1</th>\n",
       "      <td>female</td>\n",
       "      <td>38.0</td>\n",
       "      <td>1</td>\n",
       "      <td>0</td>\n",
       "      <td>71.2833</td>\n",
       "      <td>First</td>\n",
       "      <td>C</td>\n",
       "      <td>Cherbourg</td>\n",
       "      <td>n</td>\n",
       "    </tr>\n",
       "    <tr>\n",
       "      <th>2</th>\n",
       "      <td>female</td>\n",
       "      <td>26.0</td>\n",
       "      <td>0</td>\n",
       "      <td>0</td>\n",
       "      <td>7.9250</td>\n",
       "      <td>Third</td>\n",
       "      <td>unknown</td>\n",
       "      <td>Southampton</td>\n",
       "      <td>y</td>\n",
       "    </tr>\n",
       "    <tr>\n",
       "      <th>3</th>\n",
       "      <td>female</td>\n",
       "      <td>35.0</td>\n",
       "      <td>1</td>\n",
       "      <td>0</td>\n",
       "      <td>53.1000</td>\n",
       "      <td>First</td>\n",
       "      <td>C</td>\n",
       "      <td>Southampton</td>\n",
       "      <td>n</td>\n",
       "    </tr>\n",
       "    <tr>\n",
       "      <th>4</th>\n",
       "      <td>male</td>\n",
       "      <td>28.0</td>\n",
       "      <td>0</td>\n",
       "      <td>0</td>\n",
       "      <td>8.4583</td>\n",
       "      <td>Third</td>\n",
       "      <td>unknown</td>\n",
       "      <td>Queenstown</td>\n",
       "      <td>y</td>\n",
       "    </tr>\n",
       "  </tbody>\n",
       "</table>\n",
       "</div>"
      ],
      "text/plain": [
       "      sex   age  n_siblings_spouses  parch     fare  class     deck  \\\n",
       "0    male  22.0                   1      0   7.2500  Third  unknown   \n",
       "1  female  38.0                   1      0  71.2833  First        C   \n",
       "2  female  26.0                   0      0   7.9250  Third  unknown   \n",
       "3  female  35.0                   1      0  53.1000  First        C   \n",
       "4    male  28.0                   0      0   8.4583  Third  unknown   \n",
       "\n",
       "   embark_town alone  \n",
       "0  Southampton     n  \n",
       "1    Cherbourg     n  \n",
       "2  Southampton     y  \n",
       "3  Southampton     n  \n",
       "4   Queenstown     y  "
      ]
     },
     "execution_count": 2,
     "metadata": {},
     "output_type": "execute_result"
    }
   ],
   "source": [
    "train_file = \"./data/titanic/train.csv\"\n",
    "eval_file = \"./data/titanic/eval.csv\"\n",
    "\n",
    "train_df = pd.read_csv(train_file)\n",
    "eval_df = pd.read_csv(eval_file)\n",
    "\n",
    "# y_train y_eval 是 pd.Series 类型\n",
    "y_train = train_df.pop(\"survived\") # survived 这一列的数据从 train_df 中移除，并返回给 y_train\n",
    "y_eval = eval_df.pop(\"survived\")\n",
    "\n",
    "x_train = train_df.copy()\n",
    "x_eval = eval_df.copy()\n",
    "\n",
    "x_train.head()"
   ]
  },
  {
   "cell_type": "code",
   "execution_count": 3,
   "metadata": {},
   "outputs": [
    {
     "name": "stdout",
     "output_type": "stream",
     "text": [
      "(627, 9) (627,)\n",
      "(264, 9) (264,)\n"
     ]
    }
   ],
   "source": [
    "print(x_train.shape, y_train.shape)\n",
    "print(x_eval.shape, y_eval.shape)"
   ]
  },
  {
   "cell_type": "code",
   "execution_count": 4,
   "metadata": {},
   "outputs": [
    {
     "data": {
      "text/html": [
       "<div>\n",
       "<style scoped>\n",
       "    .dataframe tbody tr th:only-of-type {\n",
       "        vertical-align: middle;\n",
       "    }\n",
       "\n",
       "    .dataframe tbody tr th {\n",
       "        vertical-align: top;\n",
       "    }\n",
       "\n",
       "    .dataframe thead th {\n",
       "        text-align: right;\n",
       "    }\n",
       "</style>\n",
       "<table border=\"1\" class=\"dataframe\">\n",
       "  <thead>\n",
       "    <tr style=\"text-align: right;\">\n",
       "      <th></th>\n",
       "      <th>age</th>\n",
       "      <th>n_siblings_spouses</th>\n",
       "      <th>parch</th>\n",
       "      <th>fare</th>\n",
       "    </tr>\n",
       "  </thead>\n",
       "  <tbody>\n",
       "    <tr>\n",
       "      <th>count</th>\n",
       "      <td>627.000000</td>\n",
       "      <td>627.000000</td>\n",
       "      <td>627.000000</td>\n",
       "      <td>627.000000</td>\n",
       "    </tr>\n",
       "    <tr>\n",
       "      <th>mean</th>\n",
       "      <td>29.631308</td>\n",
       "      <td>0.545455</td>\n",
       "      <td>0.379585</td>\n",
       "      <td>34.385399</td>\n",
       "    </tr>\n",
       "    <tr>\n",
       "      <th>std</th>\n",
       "      <td>12.511818</td>\n",
       "      <td>1.151090</td>\n",
       "      <td>0.792999</td>\n",
       "      <td>54.597730</td>\n",
       "    </tr>\n",
       "    <tr>\n",
       "      <th>min</th>\n",
       "      <td>0.750000</td>\n",
       "      <td>0.000000</td>\n",
       "      <td>0.000000</td>\n",
       "      <td>0.000000</td>\n",
       "    </tr>\n",
       "    <tr>\n",
       "      <th>25%</th>\n",
       "      <td>23.000000</td>\n",
       "      <td>0.000000</td>\n",
       "      <td>0.000000</td>\n",
       "      <td>7.895800</td>\n",
       "    </tr>\n",
       "    <tr>\n",
       "      <th>50%</th>\n",
       "      <td>28.000000</td>\n",
       "      <td>0.000000</td>\n",
       "      <td>0.000000</td>\n",
       "      <td>15.045800</td>\n",
       "    </tr>\n",
       "    <tr>\n",
       "      <th>75%</th>\n",
       "      <td>35.000000</td>\n",
       "      <td>1.000000</td>\n",
       "      <td>0.000000</td>\n",
       "      <td>31.387500</td>\n",
       "    </tr>\n",
       "    <tr>\n",
       "      <th>max</th>\n",
       "      <td>80.000000</td>\n",
       "      <td>8.000000</td>\n",
       "      <td>5.000000</td>\n",
       "      <td>512.329200</td>\n",
       "    </tr>\n",
       "  </tbody>\n",
       "</table>\n",
       "</div>"
      ],
      "text/plain": [
       "              age  n_siblings_spouses       parch        fare\n",
       "count  627.000000          627.000000  627.000000  627.000000\n",
       "mean    29.631308            0.545455    0.379585   34.385399\n",
       "std     12.511818            1.151090    0.792999   54.597730\n",
       "min      0.750000            0.000000    0.000000    0.000000\n",
       "25%     23.000000            0.000000    0.000000    7.895800\n",
       "50%     28.000000            0.000000    0.000000   15.045800\n",
       "75%     35.000000            1.000000    0.000000   31.387500\n",
       "max     80.000000            8.000000    5.000000  512.329200"
      ]
     },
     "execution_count": 4,
     "metadata": {},
     "output_type": "execute_result"
    }
   ],
   "source": [
    "x_train.describe()"
   ]
  },
  {
   "cell_type": "code",
   "execution_count": 5,
   "metadata": {},
   "outputs": [
    {
     "data": {
      "text/plain": [
       "<matplotlib.axes._subplots.AxesSubplot at 0x7fcf52d65b70>"
      ]
     },
     "execution_count": 5,
     "metadata": {},
     "output_type": "execute_result"
    },
    {
     "data": {
      "image/png": "[encoded data removed]",
      "text/plain": [
       "<Figure size 432x288 with 1 Axes>"
      ]
     },
     "metadata": {
      "needs_background": "light"
     },
     "output_type": "display_data"
    }
   ],
   "source": [
    "x_train[\"age\"].hist(bins=20)"
   ]
  },
  {
   "cell_type": "code",
   "execution_count": 6,
   "metadata": {},
   "outputs": [
    {
     "data": {
      "text/plain": [
       "<matplotlib.axes._subplots.AxesSubplot at 0x7fcf50be5da0>"
      ]
     },
     "execution_count": 6,
     "metadata": {},
     "output_type": "execute_result"
    },
    {
     "data": {
      "image/png": "[encoded data removed]",
      "text/plain": [
       "<Figure size 432x288 with 1 Axes>"
      ]
     },
     "metadata": {
      "needs_background": "light"
     },
     "output_type": "display_data"
    }
   ],
   "source": [
    "x_train[\"sex\"].value_counts().plot(kind=\"barh\")"
   ]
  },
  {
   "cell_type": "code",
   "execution_count": 7,
   "metadata": {},
   "outputs": [
    {
     "data": {
      "text/plain": [
       "<matplotlib.axes._subplots.AxesSubplot at 0x7fcf50716198>"
      ]
     },
     "execution_count": 7,
     "metadata": {},
     "output_type": "execute_result"
    },
    {
     "data": {
      "image/png": "[encoded data removed]",
      "text/plain": [
       "<Figure size 432x288 with 1 Axes>"
      ]
     },
     "metadata": {
      "needs_background": "light"
     },
     "output_type": "display_data"
    }
   ],
   "source": [
    "x_train[\"class\"].value_counts().plot(kind=\"barh\")"
   ]
  },
  {
   "cell_type": "code",
   "execution_count": 8,
   "metadata": {},
   "outputs": [
    {
     "data": {
      "text/plain": [
       "<matplotlib.axes._subplots.AxesSubplot at 0x7fcf506f5d68>"
      ]
     },
     "execution_count": 8,
     "metadata": {},
     "output_type": "execute_result"
    },
    {
     "data": {
      "image/png": "[encoded data removed]",
      "text/plain": [
       "<Figure size 432x288 with 1 Axes>"
      ]
     },
     "metadata": {
      "needs_background": "light"
     },
     "output_type": "display_data"
    }
   ],
   "source": [
    "pd.concat([x_train,y_train], axis=1).groupby(by=[\"sex\"]).survived.mean().plot(kind=\"barh\")"
   ]
  },
  {
   "cell_type": "markdown",
   "metadata": {},
   "source": [
    "## 3. 定义Estimator的输入feature_columns"
   ]
  },
  {
   "cell_type": "code",
   "execution_count": 9,
   "metadata": {},
   "outputs": [
    {
     "name": "stdout",
     "output_type": "stream",
     "text": [
      "n_siblings_spouses --->  [1 0 3 4 2 5 8]\n",
      "class --->  ['Third' 'First' 'Second']\n",
      "sex --->  ['male' 'female']\n",
      "parch --->  [0 1 2 5 3 4]\n",
      "deck --->  ['unknown' 'C' 'G' 'A' 'B' 'D' 'F' 'E']\n",
      "alone --->  ['n' 'y']\n",
      "embark_town --->  ['Southampton' 'Cherbourg' 'Queenstown' 'unknown']\n"
     ]
    }
   ],
   "source": [
    "numerical_columns = [\"age\", \"fare\"]\n",
    "categorical_columns = list(set(x_train.columns.tolist()).difference(set(numerical_columns)))\n",
    "\n",
    "feature_columns = []\n",
    "\n",
    "# 离散数据的输入\n",
    "for categorical_column in categorical_columns:\n",
    "    vocab = x_train[categorical_column].unique()\n",
    "    \n",
    "    print(categorical_column, \"---> \",vocab)\n",
    "    feature_columns.append(\n",
    "        tf.feature_column.indicator_column(\n",
    "            tf.feature_column.categorical_column_with_vocabulary_list(categorical_column, vocab) # 列名 --> 几种类别的列表\n",
    "        )\n",
    "    )\n",
    "\n",
    "# 连续数据的输入\n",
    "for numerical_column in numerical_columns:\n",
    "    feature_columns.append(\n",
    "        tf.feature_column.numeric_column(\n",
    "            numerical_column, dtype=tf.float32   # 列名 --> 维度为0 的连续数据\n",
    "        )\n",
    "    )"
   ]
  },
  {
   "cell_type": "markdown",
   "metadata": {},
   "source": [
    "## 4. 使用tf.data.Dataset定义喂数据的迭代器"
   ]
  },
  {
   "cell_type": "code",
   "execution_count": 10,
   "metadata": {},
   "outputs": [],
   "source": [
    "def make_dataset(train_df, label_df, shuffle=False, epochs=10, batch_size=32):\n",
    "    '''\n",
    "    train_df DataFrame 类型\n",
    "    label_dfel  Series 类型\n",
    "    '''\n",
    "    # (features, labels), features 必须是一个字典类型，才能与feature_columns 的列名对应\n",
    "    dataset = tf.data.Dataset.from_tensor_slices((dict(train_df), label_df))\n",
    "    if shuffle:\n",
    "        dataset = dataset.shuffle(10000)\n",
    "    dataset = dataset.repeat(epochs).batch(batch_size)\n",
    "    return dataset"
   ]
  },
  {
   "cell_type": "markdown",
   "metadata": {},
   "source": [
    "**打印看看**"
   ]
  },
  {
   "cell_type": "code",
   "execution_count": 11,
   "metadata": {},
   "outputs": [
    {
     "name": "stdout",
     "output_type": "stream",
     "text": [
      "{'sex': <tf.Tensor: shape=(3,), dtype=string, numpy=array([b'male', b'female', b'female'], dtype=object)>, 'age': <tf.Tensor: shape=(3,), dtype=float64, numpy=array([22., 38., 26.])>, 'n_siblings_spouses': <tf.Tensor: shape=(3,), dtype=int32, numpy=array([1, 1, 0], dtype=int32)>, 'parch': <tf.Tensor: shape=(3,), dtype=int32, numpy=array([0, 0, 0], dtype=int32)>, 'fare': <tf.Tensor: shape=(3,), dtype=float64, numpy=array([ 7.25  , 71.2833,  7.925 ])>, 'class': <tf.Tensor: shape=(3,), dtype=string, numpy=array([b'Third', b'First', b'Third'], dtype=object)>, 'deck': <tf.Tensor: shape=(3,), dtype=string, numpy=array([b'unknown', b'C', b'unknown'], dtype=object)>, 'embark_town': <tf.Tensor: shape=(3,), dtype=string, numpy=array([b'Southampton', b'Cherbourg', b'Southampton'], dtype=object)>, 'alone': <tf.Tensor: shape=(3,), dtype=string, numpy=array([b'n', b'n', b'y'], dtype=object)>}\n",
      "====\n",
      "tf.Tensor([0 1 1], shape=(3,), dtype=int32)\n"
     ]
    }
   ],
   "source": [
    "test_dataset = make_dataset(x_train, y_train, batch_size=3)\n",
    "for x, y in test_dataset.take(1):\n",
    "    print(x)  # 返回的是一个字典类型\n",
    "    print(\"====\")\n",
    "    print(y)"
   ]
  },
  {
   "cell_type": "markdown",
   "metadata": {},
   "source": [
    "## 5. 定义模型"
   ]
  },
  {
   "cell_type": "markdown",
   "metadata": {},
   "source": [
    "### 5.1 keras接入数据层： `keras.layers.DenseFeatures` 衔接 feature_columns"
   ]
  },
  {
   "cell_type": "code",
   "execution_count": 12,
   "metadata": {},
   "outputs": [
    {
     "name": "stdout",
     "output_type": "stream",
     "text": [
      "WARNING:tensorflow:Layer dense_features is casting an input tensor from dtype float64 to the layer's dtype of float32, which is new behavior in TensorFlow 2.  The layer has dtype float32 because it's dtype defaults to floatx.\n",
      "\n",
      "If you intended to run this layer in float32, you can safely ignore this warning. If in doubt, this warning is likely only an issue if you are porting a TensorFlow 1.X model to TensorFlow 2.\n",
      "\n",
      "To change all layers to have dtype float64 by default, call `tf.keras.backend.set_floatx('float64')`. To change just this layer, pass dtype='float64' to the layer constructor. If you are the author of this layer, you can disable autocasting by passing autocast=False to the base Layer constructor.\n",
      "\n",
      "[[22.]\n",
      " [38.]\n",
      " [26.]]\n",
      "WARNING:tensorflow:Layer dense_features_1 is casting an input tensor from dtype float64 to the layer's dtype of float32, which is new behavior in TensorFlow 2.  The layer has dtype float32 because it's dtype defaults to floatx.\n",
      "\n",
      "If you intended to run this layer in float32, you can safely ignore this warning. If in doubt, this warning is likely only an issue if you are porting a TensorFlow 1.X model to TensorFlow 2.\n",
      "\n",
      "To change all layers to have dtype float64 by default, call `tf.keras.backend.set_floatx('float64')`. To change just this layer, pass dtype='float64' to the layer constructor. If you are the author of this layer, you can disable autocasting by passing autocast=False to the base Layer constructor.\n",
      "\n",
      "WARNING:tensorflow:From /home/gaosy/environment/tf2_py3/lib/python3.6/site-packages/tensorflow_core/python/feature_column/feature_column_v2.py:4267: IndicatorColumn._variable_shape (from tensorflow.python.feature_column.feature_column_v2) is deprecated and will be removed in a future version.\n",
      "Instructions for updating:\n",
      "The old _FeatureColumn APIs are being deprecated. Please use the new FeatureColumn APIs instead.\n",
      "WARNING:tensorflow:From /home/gaosy/environment/tf2_py3/lib/python3.6/site-packages/tensorflow_core/python/feature_column/feature_column_v2.py:4322: VocabularyListCategoricalColumn._num_buckets (from tensorflow.python.feature_column.feature_column_v2) is deprecated and will be removed in a future version.\n",
      "Instructions for updating:\n",
      "The old _FeatureColumn APIs are being deprecated. Please use the new FeatureColumn APIs instead.\n",
      "[[1. 0. 0. 0. 0. 0. 0.]\n",
      " [1. 0. 0. 0. 0. 0. 0.]\n",
      " [0. 1. 0. 0. 0. 0. 0.]]\n",
      "WARNING:tensorflow:Layer dense_features_2 is casting an input tensor from dtype float64 to the layer's dtype of float32, which is new behavior in TensorFlow 2.  The layer has dtype float32 because it's dtype defaults to floatx.\n",
      "\n",
      "If you intended to run this layer in float32, you can safely ignore this warning. If in doubt, this warning is likely only an issue if you are porting a TensorFlow 1.X model to TensorFlow 2.\n",
      "\n",
      "To change all layers to have dtype float64 by default, call `tf.keras.backend.set_floatx('float64')`. To change just this layer, pass dtype='float64' to the layer constructor. If you are the author of this layer, you can disable autocasting by passing autocast=False to the base Layer constructor.\n",
      "\n",
      "[[22.      1.      0.      1.      0.      0.      1.      0.      0.\n",
      "   0.      0.      0.      0.      0.      1.      0.      0.      0.\n",
      "   7.25    1.      0.      0.      0.      0.      0.      0.      1.\n",
      "   0.      0.      0.      0.      0.      1.      0.    ]\n",
      " [38.      1.      0.      0.      1.      0.      0.      1.      0.\n",
      "   0.      0.      0.      0.      0.      0.      1.      0.      0.\n",
      "  71.2833  1.      0.      0.      0.      0.      0.      0.      1.\n",
      "   0.      0.      0.      0.      0.      0.      1.    ]\n",
      " [26.      0.      1.      1.      0.      0.      1.      0.      0.\n",
      "   0.      0.      0.      0.      0.      1.      0.      0.      0.\n",
      "   7.925   0.      1.      0.      0.      0.      0.      0.      1.\n",
      "   0.      0.      0.      0.      0.      0.      1.    ]]\n"
     ]
    }
   ],
   "source": [
    "test_dataset = make_dataset(x_train, y_train, batch_size=3)\n",
    "for x, y in test_dataset.take(1):\n",
    "    age_col = feature_columns[7]\n",
    "    sex_col = feature_columns[0]\n",
    "    print(keras.layers.DenseFeatures(age_col)(x).numpy()) #  接入age的输入，喂数据，提取出age数据\n",
    "    print(keras.layers.DenseFeatures(sex_col)(x).numpy()) #  接入sex的输入，喂数据，提取出sex数据\n",
    "    print(keras.layers.DenseFeatures(feature_columns)(x).numpy()) # 接入feature_columns的输入，喂数据，提取出数据"
   ]
  },
  {
   "cell_type": "markdown",
   "metadata": {},
   "source": [
    "### 5.2 定义模型"
   ]
  },
  {
   "cell_type": "code",
   "execution_count": 13,
   "metadata": {},
   "outputs": [],
   "source": [
    "model = keras.models.Sequential([\n",
    "    keras.layers.DenseFeatures(feature_columns),\n",
    "    keras.layers.Dense(100, activation=\"relu\"),\n",
    "    keras.layers.Dense(100, activation=\"relu\"),\n",
    "    keras.layers.Dense(2, activation=\"softmax\")\n",
    "])\n",
    "\n",
    "model.compile(\n",
    "    loss=\"sparse_categorical_crossentropy\",  # 1. label 做onehot编码；2. 跟logits做交叉熵损失\n",
    "    optimizer=keras.optimizers.SGD(lr=1e-3), \n",
    "    metrics=[\"accuracy\"]  # 分类的度量\n",
    ")"
   ]
  },
  {
   "cell_type": "markdown",
   "metadata": {},
   "source": [
    "## 6. keras 训练"
   ]
  },
  {
   "cell_type": "code",
   "execution_count": 14,
   "metadata": {},
   "outputs": [
    {
     "name": "stdout",
     "output_type": "stream",
     "text": [
      "Train for 19 steps, validate for 8 steps\n",
      "Epoch 1/100\n",
      "19/19 [==============================] - 1s 52ms/step - loss: 0.9124 - accuracy: 0.6612 - val_loss: 0.8568 - val_accuracy: 0.5039\n",
      "Epoch 2/100\n",
      "19/19 [==============================] - 0s 5ms/step - loss: 1.0035 - accuracy: 0.6151 - val_loss: 0.8983 - val_accuracy: 0.4375\n",
      "Epoch 3/100\n",
      "19/19 [==============================] - 0s 5ms/step - loss: 0.7093 - accuracy: 0.6414 - val_loss: 0.6545 - val_accuracy: 0.6602\n",
      "Epoch 4/100\n",
      "19/19 [==============================] - 0s 5ms/step - loss: 0.7374 - accuracy: 0.6546 - val_loss: 0.9252 - val_accuracy: 0.4727\n",
      "Epoch 5/100\n",
      "19/19 [==============================] - 0s 5ms/step - loss: 0.7807 - accuracy: 0.6234 - val_loss: 0.6630 - val_accuracy: 0.6133\n",
      "Epoch 6/100\n",
      "19/19 [==============================] - 0s 5ms/step - loss: 0.7905 - accuracy: 0.6217 - val_loss: 0.6429 - val_accuracy: 0.6914\n",
      "Epoch 7/100\n",
      "19/19 [==============================] - 0s 5ms/step - loss: 0.6489 - accuracy: 0.6678 - val_loss: 0.6576 - val_accuracy: 0.6562\n",
      "Epoch 8/100\n",
      "19/19 [==============================] - 0s 5ms/step - loss: 0.7148 - accuracy: 0.6398 - val_loss: 0.6482 - val_accuracy: 0.6914\n",
      "Epoch 9/100\n",
      "19/19 [==============================] - 0s 5ms/step - loss: 0.6979 - accuracy: 0.6464 - val_loss: 0.6336 - val_accuracy: 0.6914\n",
      "Epoch 10/100\n",
      "19/19 [==============================] - 0s 5ms/step - loss: 0.7603 - accuracy: 0.6513 - val_loss: 0.6373 - val_accuracy: 0.6758\n",
      "Epoch 11/100\n",
      "19/19 [==============================] - 0s 5ms/step - loss: 0.7408 - accuracy: 0.6398 - val_loss: 0.6325 - val_accuracy: 0.6836\n",
      "Epoch 12/100\n",
      "19/19 [==============================] - 0s 5ms/step - loss: 0.6701 - accuracy: 0.6530 - val_loss: 0.6484 - val_accuracy: 0.6602\n",
      "Epoch 13/100\n",
      "19/19 [==============================] - 0s 5ms/step - loss: 0.6846 - accuracy: 0.6743 - val_loss: 0.7919 - val_accuracy: 0.5977\n",
      "Epoch 14/100\n",
      "19/19 [==============================] - 0s 5ms/step - loss: 0.6662 - accuracy: 0.6464 - val_loss: 0.6419 - val_accuracy: 0.6445\n",
      "Epoch 15/100\n",
      "19/19 [==============================] - 0s 5ms/step - loss: 0.6482 - accuracy: 0.6414 - val_loss: 0.6721 - val_accuracy: 0.6602\n",
      "Epoch 16/100\n",
      "19/19 [==============================] - 0s 5ms/step - loss: 0.6806 - accuracy: 0.6793 - val_loss: 0.6240 - val_accuracy: 0.6641\n",
      "Epoch 17/100\n",
      "19/19 [==============================] - 0s 5ms/step - loss: 0.6357 - accuracy: 0.6612 - val_loss: 0.6747 - val_accuracy: 0.6562\n",
      "Epoch 18/100\n",
      "19/19 [==============================] - 0s 5ms/step - loss: 0.6435 - accuracy: 0.6760 - val_loss: 0.6250 - val_accuracy: 0.6445\n",
      "Epoch 19/100\n",
      "19/19 [==============================] - 0s 5ms/step - loss: 0.6568 - accuracy: 0.6645 - val_loss: 0.6260 - val_accuracy: 0.6914\n",
      "Epoch 20/100\n",
      "19/19 [==============================] - 0s 5ms/step - loss: 0.6469 - accuracy: 0.6711 - val_loss: 0.6263 - val_accuracy: 0.6641\n",
      "Epoch 21/100\n",
      "19/19 [==============================] - 0s 5ms/step - loss: 0.6957 - accuracy: 0.6118 - val_loss: 0.6280 - val_accuracy: 0.6523\n",
      "Epoch 22/100\n",
      "19/19 [==============================] - 0s 5ms/step - loss: 0.6448 - accuracy: 0.6776 - val_loss: 0.6506 - val_accuracy: 0.6719\n",
      "Epoch 23/100\n",
      "19/19 [==============================] - 0s 5ms/step - loss: 0.7852 - accuracy: 0.6546 - val_loss: 0.7021 - val_accuracy: 0.6289\n",
      "Epoch 24/100\n",
      "19/19 [==============================] - 0s 5ms/step - loss: 0.6534 - accuracy: 0.6694 - val_loss: 0.6273 - val_accuracy: 0.6953\n",
      "Epoch 25/100\n",
      "19/19 [==============================] - 0s 5ms/step - loss: 0.6373 - accuracy: 0.6711 - val_loss: 0.6090 - val_accuracy: 0.6992\n",
      "Epoch 26/100\n",
      "19/19 [==============================] - 0s 5ms/step - loss: 0.6432 - accuracy: 0.6776 - val_loss: 0.6222 - val_accuracy: 0.6953\n",
      "Epoch 27/100\n",
      "19/19 [==============================] - 0s 5ms/step - loss: 0.6069 - accuracy: 0.6875 - val_loss: 0.6471 - val_accuracy: 0.6289\n",
      "Epoch 28/100\n",
      "19/19 [==============================] - 0s 5ms/step - loss: 0.6270 - accuracy: 0.6694 - val_loss: 0.6394 - val_accuracy: 0.6406\n",
      "Epoch 29/100\n",
      "19/19 [==============================] - 0s 5ms/step - loss: 0.6460 - accuracy: 0.6595 - val_loss: 1.0904 - val_accuracy: 0.5820\n",
      "Epoch 30/100\n",
      "19/19 [==============================] - 0s 5ms/step - loss: 0.7422 - accuracy: 0.6579 - val_loss: 0.6224 - val_accuracy: 0.6914\n",
      "Epoch 31/100\n",
      "19/19 [==============================] - 0s 5ms/step - loss: 0.6430 - accuracy: 0.6579 - val_loss: 0.6321 - val_accuracy: 0.6562\n",
      "Epoch 32/100\n",
      "19/19 [==============================] - 0s 5ms/step - loss: 0.6106 - accuracy: 0.6826 - val_loss: 0.6055 - val_accuracy: 0.6953\n",
      "Epoch 33/100\n",
      "19/19 [==============================] - 0s 5ms/step - loss: 0.6249 - accuracy: 0.6743 - val_loss: 0.6053 - val_accuracy: 0.7070\n",
      "Epoch 34/100\n",
      "19/19 [==============================] - 0s 5ms/step - loss: 0.6974 - accuracy: 0.6694 - val_loss: 0.6310 - val_accuracy: 0.6992\n",
      "Epoch 35/100\n",
      "19/19 [==============================] - 0s 5ms/step - loss: 0.6216 - accuracy: 0.6694 - val_loss: 0.6514 - val_accuracy: 0.6367\n",
      "Epoch 36/100\n",
      "19/19 [==============================] - 0s 5ms/step - loss: 0.6177 - accuracy: 0.6859 - val_loss: 0.6569 - val_accuracy: 0.6406\n",
      "Epoch 37/100\n",
      "19/19 [==============================] - 0s 5ms/step - loss: 0.6360 - accuracy: 0.6628 - val_loss: 0.6016 - val_accuracy: 0.6914\n",
      "Epoch 38/100\n",
      "19/19 [==============================] - 0s 5ms/step - loss: 0.6316 - accuracy: 0.6776 - val_loss: 0.6095 - val_accuracy: 0.7070\n",
      "Epoch 39/100\n",
      "19/19 [==============================] - 0s 5ms/step - loss: 0.6611 - accuracy: 0.6595 - val_loss: 0.6087 - val_accuracy: 0.6719\n",
      "Epoch 40/100\n",
      "19/19 [==============================] - 0s 5ms/step - loss: 0.6115 - accuracy: 0.7039 - val_loss: 0.6005 - val_accuracy: 0.7070\n",
      "Epoch 41/100\n",
      "19/19 [==============================] - 0s 5ms/step - loss: 0.5913 - accuracy: 0.6957 - val_loss: 0.6123 - val_accuracy: 0.6562\n",
      "Epoch 42/100\n",
      "19/19 [==============================] - 0s 5ms/step - loss: 0.6152 - accuracy: 0.6891 - val_loss: 0.6263 - val_accuracy: 0.6641\n",
      "Epoch 43/100\n",
      "19/19 [==============================] - 0s 5ms/step - loss: 0.5941 - accuracy: 0.7056 - val_loss: 0.5996 - val_accuracy: 0.6953\n",
      "Epoch 44/100\n",
      "19/19 [==============================] - 0s 5ms/step - loss: 0.6176 - accuracy: 0.6891 - val_loss: 0.5957 - val_accuracy: 0.7070\n",
      "Epoch 45/100\n",
      "19/19 [==============================] - 0s 5ms/step - loss: 0.6316 - accuracy: 0.6809 - val_loss: 0.7152 - val_accuracy: 0.6328\n",
      "Epoch 46/100\n",
      "19/19 [==============================] - 0s 5ms/step - loss: 0.6136 - accuracy: 0.7007 - val_loss: 0.6294 - val_accuracy: 0.6562\n",
      "Epoch 47/100\n",
      "19/19 [==============================] - 0s 5ms/step - loss: 0.5861 - accuracy: 0.7237 - val_loss: 0.6003 - val_accuracy: 0.6836\n",
      "Epoch 48/100\n",
      "19/19 [==============================] - 0s 5ms/step - loss: 0.6090 - accuracy: 0.7056 - val_loss: 0.5987 - val_accuracy: 0.6836\n",
      "Epoch 49/100\n",
      "19/19 [==============================] - 0s 5ms/step - loss: 0.6226 - accuracy: 0.6793 - val_loss: 0.5949 - val_accuracy: 0.6953\n",
      "Epoch 50/100\n",
      "19/19 [==============================] - 0s 5ms/step - loss: 0.6329 - accuracy: 0.6826 - val_loss: 0.6163 - val_accuracy: 0.6562\n",
      "Epoch 51/100\n",
      "19/19 [==============================] - 0s 5ms/step - loss: 0.5881 - accuracy: 0.7171 - val_loss: 0.6089 - val_accuracy: 0.6406\n",
      "Epoch 52/100\n",
      "19/19 [==============================] - 0s 5ms/step - loss: 0.5912 - accuracy: 0.7023 - val_loss: 0.5977 - val_accuracy: 0.6836\n",
      "Epoch 53/100\n",
      "19/19 [==============================] - 0s 5ms/step - loss: 0.5670 - accuracy: 0.7171 - val_loss: 0.5907 - val_accuracy: 0.7109\n",
      "Epoch 54/100\n",
      "19/19 [==============================] - 0s 5ms/step - loss: 0.6010 - accuracy: 0.7023 - val_loss: 0.6216 - val_accuracy: 0.6367\n",
      "Epoch 55/100\n",
      "19/19 [==============================] - 0s 5ms/step - loss: 0.5947 - accuracy: 0.7105 - val_loss: 0.6070 - val_accuracy: 0.6797\n",
      "Epoch 56/100\n",
      "19/19 [==============================] - 0s 5ms/step - loss: 0.5752 - accuracy: 0.7089 - val_loss: 0.5874 - val_accuracy: 0.6992\n",
      "Epoch 57/100\n",
      "19/19 [==============================] - 0s 5ms/step - loss: 0.6800 - accuracy: 0.6595 - val_loss: 0.5969 - val_accuracy: 0.6875\n",
      "Epoch 58/100\n",
      "19/19 [==============================] - 0s 5ms/step - loss: 0.6402 - accuracy: 0.6826 - val_loss: 0.5884 - val_accuracy: 0.6953\n",
      "Epoch 59/100\n",
      "19/19 [==============================] - 0s 5ms/step - loss: 0.6014 - accuracy: 0.7007 - val_loss: 0.7417 - val_accuracy: 0.6328\n",
      "Epoch 60/100\n",
      "19/19 [==============================] - 0s 5ms/step - loss: 0.6001 - accuracy: 0.6875 - val_loss: 0.5787 - val_accuracy: 0.7031\n",
      "Epoch 61/100\n",
      "19/19 [==============================] - 0s 5ms/step - loss: 0.5909 - accuracy: 0.7188 - val_loss: 0.6629 - val_accuracy: 0.6406\n",
      "Epoch 62/100\n",
      "19/19 [==============================] - 0s 5ms/step - loss: 0.5975 - accuracy: 0.6891 - val_loss: 0.6396 - val_accuracy: 0.6406\n",
      "Epoch 63/100\n",
      "19/19 [==============================] - 0s 5ms/step - loss: 0.5806 - accuracy: 0.7023 - val_loss: 0.6217 - val_accuracy: 0.6406\n",
      "Epoch 64/100\n",
      "19/19 [==============================] - 0s 5ms/step - loss: 0.5819 - accuracy: 0.6924 - val_loss: 0.5761 - val_accuracy: 0.7070\n",
      "Epoch 65/100\n",
      "19/19 [==============================] - 0s 5ms/step - loss: 0.6302 - accuracy: 0.6776 - val_loss: 0.7127 - val_accuracy: 0.6719\n",
      "Epoch 66/100\n",
      "19/19 [==============================] - 0s 5ms/step - loss: 0.6162 - accuracy: 0.7105 - val_loss: 0.5824 - val_accuracy: 0.6992\n",
      "Epoch 67/100\n",
      "19/19 [==============================] - 0s 5ms/step - loss: 0.5771 - accuracy: 0.6990 - val_loss: 0.5978 - val_accuracy: 0.6836\n",
      "Epoch 68/100\n",
      "19/19 [==============================] - 0s 5ms/step - loss: 0.5987 - accuracy: 0.6924 - val_loss: 0.5798 - val_accuracy: 0.6914\n",
      "Epoch 69/100\n",
      "19/19 [==============================] - 0s 5ms/step - loss: 0.5817 - accuracy: 0.7089 - val_loss: 0.5838 - val_accuracy: 0.6875\n",
      "Epoch 70/100\n",
      "19/19 [==============================] - 0s 5ms/step - loss: 0.5891 - accuracy: 0.6957 - val_loss: 0.6131 - val_accuracy: 0.6836\n",
      "Epoch 71/100\n",
      "19/19 [==============================] - 0s 5ms/step - loss: 0.5821 - accuracy: 0.7007 - val_loss: 0.5733 - val_accuracy: 0.6992\n",
      "Epoch 72/100\n",
      "19/19 [==============================] - 0s 5ms/step - loss: 0.5574 - accuracy: 0.7188 - val_loss: 0.6183 - val_accuracy: 0.6758\n",
      "Epoch 73/100\n",
      "19/19 [==============================] - 0s 5ms/step - loss: 0.5932 - accuracy: 0.7155 - val_loss: 0.6436 - val_accuracy: 0.6328\n",
      "Epoch 74/100\n",
      "19/19 [==============================] - 0s 5ms/step - loss: 0.5482 - accuracy: 0.7319 - val_loss: 0.5714 - val_accuracy: 0.6992\n",
      "Epoch 75/100\n",
      "19/19 [==============================] - 0s 5ms/step - loss: 0.6197 - accuracy: 0.7007 - val_loss: 0.5820 - val_accuracy: 0.7070\n",
      "Epoch 76/100\n",
      "19/19 [==============================] - 0s 6ms/step - loss: 0.5848 - accuracy: 0.6974 - val_loss: 0.5873 - val_accuracy: 0.6875\n",
      "Epoch 77/100\n",
      "19/19 [==============================] - 0s 5ms/step - loss: 0.5439 - accuracy: 0.7319 - val_loss: 0.5932 - val_accuracy: 0.6953\n",
      "Epoch 78/100\n",
      "19/19 [==============================] - 0s 6ms/step - loss: 0.6044 - accuracy: 0.7155 - val_loss: 0.6492 - val_accuracy: 0.6758\n",
      "Epoch 79/100\n",
      "19/19 [==============================] - 0s 5ms/step - loss: 0.5602 - accuracy: 0.7188 - val_loss: 0.5693 - val_accuracy: 0.7109\n",
      "Epoch 80/100\n",
      "19/19 [==============================] - 0s 5ms/step - loss: 0.6616 - accuracy: 0.6842 - val_loss: 0.6428 - val_accuracy: 0.6406\n",
      "Epoch 81/100\n",
      "19/19 [==============================] - 0s 5ms/step - loss: 0.5772 - accuracy: 0.7237 - val_loss: 0.6042 - val_accuracy: 0.6562\n",
      "Epoch 82/100\n",
      "19/19 [==============================] - 0s 5ms/step - loss: 0.5528 - accuracy: 0.7188 - val_loss: 0.5701 - val_accuracy: 0.6953\n",
      "Epoch 83/100\n",
      "19/19 [==============================] - 0s 5ms/step - loss: 0.5573 - accuracy: 0.7204 - val_loss: 0.5877 - val_accuracy: 0.6719\n",
      "Epoch 84/100\n",
      "19/19 [==============================] - 0s 5ms/step - loss: 0.6068 - accuracy: 0.6875 - val_loss: 0.5699 - val_accuracy: 0.6914\n",
      "Epoch 85/100\n",
      "19/19 [==============================] - 0s 5ms/step - loss: 0.5669 - accuracy: 0.7089 - val_loss: 0.5774 - val_accuracy: 0.6992\n",
      "Epoch 86/100\n",
      "19/19 [==============================] - 0s 5ms/step - loss: 0.5588 - accuracy: 0.7270 - val_loss: 0.5697 - val_accuracy: 0.7109\n",
      "Epoch 87/100\n",
      "19/19 [==============================] - 0s 5ms/step - loss: 0.5702 - accuracy: 0.7089 - val_loss: 0.5713 - val_accuracy: 0.6914\n",
      "Epoch 88/100\n",
      "19/19 [==============================] - 0s 5ms/step - loss: 0.5204 - accuracy: 0.7303 - val_loss: 0.5748 - val_accuracy: 0.7109\n",
      "Epoch 89/100\n",
      "19/19 [==============================] - 0s 5ms/step - loss: 0.5840 - accuracy: 0.6957 - val_loss: 0.5762 - val_accuracy: 0.6953\n",
      "Epoch 90/100\n",
      "19/19 [==============================] - 0s 5ms/step - loss: 0.5622 - accuracy: 0.7105 - val_loss: 0.5670 - val_accuracy: 0.7227\n",
      "Epoch 91/100\n",
      "19/19 [==============================] - 0s 5ms/step - loss: 0.5517 - accuracy: 0.7319 - val_loss: 0.5739 - val_accuracy: 0.6953\n",
      "Epoch 92/100\n",
      "19/19 [==============================] - 0s 5ms/step - loss: 0.5774 - accuracy: 0.7072 - val_loss: 0.5663 - val_accuracy: 0.6992\n",
      "Epoch 93/100\n",
      "19/19 [==============================] - 0s 5ms/step - loss: 0.5525 - accuracy: 0.7286 - val_loss: 0.5758 - val_accuracy: 0.7031\n",
      "Epoch 94/100\n",
      "19/19 [==============================] - 0s 5ms/step - loss: 0.5650 - accuracy: 0.7138 - val_loss: 0.6424 - val_accuracy: 0.6953\n",
      "Epoch 95/100\n",
      "19/19 [==============================] - 0s 5ms/step - loss: 0.6086 - accuracy: 0.7023 - val_loss: 0.5586 - val_accuracy: 0.7070\n",
      "Epoch 96/100\n",
      "19/19 [==============================] - 0s 6ms/step - loss: 0.5453 - accuracy: 0.7385 - val_loss: 0.5599 - val_accuracy: 0.7070\n",
      "Epoch 97/100\n",
      "19/19 [==============================] - 0s 5ms/step - loss: 0.5467 - accuracy: 0.7270 - val_loss: 0.5843 - val_accuracy: 0.6992\n",
      "Epoch 98/100\n",
      "19/19 [==============================] - 0s 5ms/step - loss: 0.5781 - accuracy: 0.6793 - val_loss: 0.5797 - val_accuracy: 0.6797\n",
      "Epoch 99/100\n",
      "19/19 [==============================] - 0s 5ms/step - loss: 0.5496 - accuracy: 0.7253 - val_loss: 0.5691 - val_accuracy: 0.7031\n",
      "Epoch 100/100\n",
      "19/19 [==============================] - 0s 5ms/step - loss: 0.5487 - accuracy: 0.7253 - val_loss: 0.5792 - val_accuracy: 0.7031\n"
     ]
    },
    {
     "data": {
      "text/plain": [
       "<tensorflow.python.keras.callbacks.History at 0x7fcf4071f860>"
      ]
     },
     "execution_count": 14,
     "metadata": {},
     "output_type": "execute_result"
    }
   ],
   "source": [
    "train_dataset = make_dataset(x_train, y_train, epochs=100, shuffle=True, batch_size=32)\n",
    "eval_dataset = make_dataset(x_eval, y_eval, epochs=1, shuffle=False, batch_size=32)\n",
    "\n",
    "model.fit(\n",
    "    train_dataset, \n",
    "    validation_data=eval_dataset, \n",
    "    steps_per_epoch=x_train.shape[0]//32, \n",
    "    validation_steps=x_eval.shape[0]//32,\n",
    "    epochs=100\n",
    ")"
   ]
  },
  {
   "cell_type": "markdown",
   "metadata": {},
   "source": [
    "## 7. keras转estimator训练"
   ]
  },
  {
   "cell_type": "code",
   "execution_count": 15,
   "metadata": {},
   "outputs": [
    {
     "name": "stdout",
     "output_type": "stream",
     "text": [
      "INFO:tensorflow:Using default config.\n",
      "WARNING:tensorflow:Using temporary folder as model directory: /tmp/tmp4bpjkjx2\n",
      "INFO:tensorflow:Using the Keras model provided.\n",
      "WARNING:tensorflow:You are creating an Estimator from a Keras model manually subclassed from `Model`, that was already called on some inputs (and thus already had weights). We are currently unable to preserve the model's state (its weights) as part of the estimator in this case. Be warned that the estimator has been created using a freshly initialized version of your model.\n",
      "Note that this doesn't affect the state of the model instance you passed as `keras_model` argument.\n",
      "INFO:tensorflow:Using config: {'_model_dir': '/tmp/tmp4bpjkjx2', '_tf_random_seed': None, '_save_summary_steps': 100, '_save_checkpoints_steps': None, '_save_checkpoints_secs': 600, '_session_config': allow_soft_placement: true\n",
      "graph_options {\n",
      "  rewrite_options {\n",
      "    meta_optimizer_iterations: ONE\n",
      "  }\n",
      "}\n",
      ", '_keep_checkpoint_max': 5, '_keep_checkpoint_every_n_hours': 10000, '_log_step_count_steps': 100, '_train_distribute': None, '_device_fn': None, '_protocol': None, '_eval_distribute': None, '_experimental_distribute': None, '_experimental_max_worker_delay_secs': None, '_session_creation_timeout_secs': 7200, '_service': None, '_cluster_spec': ClusterSpec({}), '_task_type': 'worker', '_task_id': 0, '_global_id_in_cluster': 0, '_master': '', '_evaluation_master': '', '_is_chief': True, '_num_ps_replicas': 0, '_num_worker_replicas': 1}\n",
      "WARNING:tensorflow:From /home/gaosy/environment/tf2_py3/lib/python3.6/site-packages/tensorflow_core/python/ops/resource_variable_ops.py:1635: calling BaseResourceVariable.__init__ (from tensorflow.python.ops.resource_variable_ops) with constraint is deprecated and will be removed in a future version.\n",
      "Instructions for updating:\n",
      "If using Keras pass *_constraint arguments to layers.\n",
      "WARNING:tensorflow:From /home/gaosy/environment/tf2_py3/lib/python3.6/site-packages/tensorflow_core/python/training/training_util.py:236: Variable.initialized_value (from tensorflow.python.ops.variables) is deprecated and will be removed in a future version.\n",
      "Instructions for updating:\n",
      "Use Variable.read_value. Variables in 2.X are initialized automatically both in eager and graph (inside tf.defun) contexts.\n",
      "INFO:tensorflow:Calling model_fn.\n"
     ]
    },
    {
     "ename": "ValueError",
     "evalue": "Unexpectedly found an instance of type `<class 'dict'>`. Expected a symbolic tensor instance.",
     "output_type": "error",
     "traceback": [
      "\u001b[0;31m---------------------------------------------------------------------------\u001b[0m",
      "\u001b[0;31mValueError\u001b[0m                                Traceback (most recent call last)",
      "\u001b[0;32m<ipython-input-15-8422735cac41>\u001b[0m in \u001b[0;36m<module>\u001b[0;34m\u001b[0m\n\u001b[1;32m      2\u001b[0m \u001b[0;34m\u001b[0m\u001b[0m\n\u001b[1;32m      3\u001b[0m \u001b[0;31m# input_fn: 1. 是一个函数；2. 这个函数是一个迭代器；3. 返回 （features, labels）数据, features是一个字典，才能与feature_columns对应\u001b[0m\u001b[0;34m\u001b[0m\u001b[0;34m\u001b[0m\u001b[0;34m\u001b[0m\u001b[0m\n\u001b[0;32m----> 4\u001b[0;31m \u001b[0mestimizer\u001b[0m\u001b[0;34m.\u001b[0m\u001b[0mtrain\u001b[0m\u001b[0;34m(\u001b[0m\u001b[0minput_fn\u001b[0m \u001b[0;34m=\u001b[0m \u001b[0;32mlambda\u001b[0m\u001b[0;34m:\u001b[0m \u001b[0mmake_dataset\u001b[0m\u001b[0;34m(\u001b[0m\u001b[0mx_train\u001b[0m\u001b[0;34m,\u001b[0m \u001b[0my_train\u001b[0m\u001b[0;34m,\u001b[0m \u001b[0mshuffle\u001b[0m\u001b[0;34m=\u001b[0m\u001b[0;32mTrue\u001b[0m\u001b[0;34m,\u001b[0m \u001b[0mepochs\u001b[0m\u001b[0;34m=\u001b[0m\u001b[0;36m100\u001b[0m\u001b[0;34m,\u001b[0m \u001b[0mbatch_size\u001b[0m\u001b[0;34m=\u001b[0m\u001b[0;36m32\u001b[0m\u001b[0;34m)\u001b[0m\u001b[0;34m)\u001b[0m\u001b[0;34m\u001b[0m\u001b[0;34m\u001b[0m\u001b[0m\n\u001b[0m",
      "\u001b[0;32m/home/gaosy/environment/tf2_py3/lib/python3.6/site-packages/tensorflow_estimator/python/estimator/estimator.py\u001b[0m in \u001b[0;36mtrain\u001b[0;34m(self, input_fn, hooks, steps, max_steps, saving_listeners)\u001b[0m\n\u001b[1;32m    372\u001b[0m \u001b[0;34m\u001b[0m\u001b[0m\n\u001b[1;32m    373\u001b[0m       \u001b[0msaving_listeners\u001b[0m \u001b[0;34m=\u001b[0m \u001b[0m_check_listeners_type\u001b[0m\u001b[0;34m(\u001b[0m\u001b[0msaving_listeners\u001b[0m\u001b[0;34m)\u001b[0m\u001b[0;34m\u001b[0m\u001b[0;34m\u001b[0m\u001b[0m\n\u001b[0;32m--> 374\u001b[0;31m       \u001b[0mloss\u001b[0m \u001b[0;34m=\u001b[0m \u001b[0mself\u001b[0m\u001b[0;34m.\u001b[0m\u001b[0m_train_model\u001b[0m\u001b[0;34m(\u001b[0m\u001b[0minput_fn\u001b[0m\u001b[0;34m,\u001b[0m \u001b[0mhooks\u001b[0m\u001b[0;34m,\u001b[0m \u001b[0msaving_listeners\u001b[0m\u001b[0;34m)\u001b[0m\u001b[0;34m\u001b[0m\u001b[0;34m\u001b[0m\u001b[0m\n\u001b[0m\u001b[1;32m    375\u001b[0m       \u001b[0mlogging\u001b[0m\u001b[0;34m.\u001b[0m\u001b[0minfo\u001b[0m\u001b[0;34m(\u001b[0m\u001b[0;34m'Loss for final step: %s.'\u001b[0m\u001b[0;34m,\u001b[0m \u001b[0mloss\u001b[0m\u001b[0;34m)\u001b[0m\u001b[0;34m\u001b[0m\u001b[0;34m\u001b[0m\u001b[0m\n\u001b[1;32m    376\u001b[0m       \u001b[0;32mreturn\u001b[0m \u001b[0mself\u001b[0m\u001b[0;34m\u001b[0m\u001b[0;34m\u001b[0m\u001b[0m\n",
      "\u001b[0;32m/home/gaosy/environment/tf2_py3/lib/python3.6/site-packages/tensorflow_estimator/python/estimator/estimator.py\u001b[0m in \u001b[0;36m_train_model\u001b[0;34m(self, input_fn, hooks, saving_listeners)\u001b[0m\n\u001b[1;32m   1162\u001b[0m       \u001b[0;32mreturn\u001b[0m \u001b[0mself\u001b[0m\u001b[0;34m.\u001b[0m\u001b[0m_train_model_distributed\u001b[0m\u001b[0;34m(\u001b[0m\u001b[0minput_fn\u001b[0m\u001b[0;34m,\u001b[0m \u001b[0mhooks\u001b[0m\u001b[0;34m,\u001b[0m \u001b[0msaving_listeners\u001b[0m\u001b[0;34m)\u001b[0m\u001b[0;34m\u001b[0m\u001b[0;34m\u001b[0m\u001b[0m\n\u001b[1;32m   1163\u001b[0m     \u001b[0;32melse\u001b[0m\u001b[0;34m:\u001b[0m\u001b[0;34m\u001b[0m\u001b[0;34m\u001b[0m\u001b[0m\n\u001b[0;32m-> 1164\u001b[0;31m       \u001b[0;32mreturn\u001b[0m \u001b[0mself\u001b[0m\u001b[0;34m.\u001b[0m\u001b[0m_train_model_default\u001b[0m\u001b[0;34m(\u001b[0m\u001b[0minput_fn\u001b[0m\u001b[0;34m,\u001b[0m \u001b[0mhooks\u001b[0m\u001b[0;34m,\u001b[0m \u001b[0msaving_listeners\u001b[0m\u001b[0;34m)\u001b[0m\u001b[0;34m\u001b[0m\u001b[0;34m\u001b[0m\u001b[0m\n\u001b[0m\u001b[1;32m   1165\u001b[0m \u001b[0;34m\u001b[0m\u001b[0m\n\u001b[1;32m   1166\u001b[0m   \u001b[0;32mdef\u001b[0m \u001b[0m_train_model_default\u001b[0m\u001b[0;34m(\u001b[0m\u001b[0mself\u001b[0m\u001b[0;34m,\u001b[0m \u001b[0minput_fn\u001b[0m\u001b[0;34m,\u001b[0m \u001b[0mhooks\u001b[0m\u001b[0;34m,\u001b[0m \u001b[0msaving_listeners\u001b[0m\u001b[0;34m)\u001b[0m\u001b[0;34m:\u001b[0m\u001b[0;34m\u001b[0m\u001b[0;34m\u001b[0m\u001b[0m\n",
      "\u001b[0;32m/home/gaosy/environment/tf2_py3/lib/python3.6/site-packages/tensorflow_estimator/python/estimator/estimator.py\u001b[0m in \u001b[0;36m_train_model_default\u001b[0;34m(self, input_fn, hooks, saving_listeners)\u001b[0m\n\u001b[1;32m   1192\u001b[0m       \u001b[0mworker_hooks\u001b[0m\u001b[0;34m.\u001b[0m\u001b[0mextend\u001b[0m\u001b[0;34m(\u001b[0m\u001b[0minput_hooks\u001b[0m\u001b[0;34m)\u001b[0m\u001b[0;34m\u001b[0m\u001b[0;34m\u001b[0m\u001b[0m\n\u001b[1;32m   1193\u001b[0m       estimator_spec = self._call_model_fn(\n\u001b[0;32m-> 1194\u001b[0;31m           features, labels, ModeKeys.TRAIN, self.config)\n\u001b[0m\u001b[1;32m   1195\u001b[0m       \u001b[0mglobal_step_tensor\u001b[0m \u001b[0;34m=\u001b[0m \u001b[0mtraining_util\u001b[0m\u001b[0;34m.\u001b[0m\u001b[0mget_global_step\u001b[0m\u001b[0;34m(\u001b[0m\u001b[0mg\u001b[0m\u001b[0;34m)\u001b[0m\u001b[0;34m\u001b[0m\u001b[0;34m\u001b[0m\u001b[0m\n\u001b[1;32m   1196\u001b[0m       return self._train_with_estimator_spec(estimator_spec, worker_hooks,\n",
      "\u001b[0;32m/home/gaosy/environment/tf2_py3/lib/python3.6/site-packages/tensorflow_estimator/python/estimator/estimator.py\u001b[0m in \u001b[0;36m_call_model_fn\u001b[0;34m(self, features, labels, mode, config)\u001b[0m\n\u001b[1;32m   1150\u001b[0m \u001b[0;34m\u001b[0m\u001b[0m\n\u001b[1;32m   1151\u001b[0m     \u001b[0mlogging\u001b[0m\u001b[0;34m.\u001b[0m\u001b[0minfo\u001b[0m\u001b[0;34m(\u001b[0m\u001b[0;34m'Calling model_fn.'\u001b[0m\u001b[0;34m)\u001b[0m\u001b[0;34m\u001b[0m\u001b[0;34m\u001b[0m\u001b[0m\n\u001b[0;32m-> 1152\u001b[0;31m     \u001b[0mmodel_fn_results\u001b[0m \u001b[0;34m=\u001b[0m \u001b[0mself\u001b[0m\u001b[0;34m.\u001b[0m\u001b[0m_model_fn\u001b[0m\u001b[0;34m(\u001b[0m\u001b[0mfeatures\u001b[0m\u001b[0;34m=\u001b[0m\u001b[0mfeatures\u001b[0m\u001b[0;34m,\u001b[0m \u001b[0;34m**\u001b[0m\u001b[0mkwargs\u001b[0m\u001b[0;34m)\u001b[0m\u001b[0;34m\u001b[0m\u001b[0;34m\u001b[0m\u001b[0m\n\u001b[0m\u001b[1;32m   1153\u001b[0m     \u001b[0mlogging\u001b[0m\u001b[0;34m.\u001b[0m\u001b[0minfo\u001b[0m\u001b[0;34m(\u001b[0m\u001b[0;34m'Done calling model_fn.'\u001b[0m\u001b[0;34m)\u001b[0m\u001b[0;34m\u001b[0m\u001b[0;34m\u001b[0m\u001b[0m\n\u001b[1;32m   1154\u001b[0m \u001b[0;34m\u001b[0m\u001b[0m\n",
      "\u001b[0;32m/home/gaosy/environment/tf2_py3/lib/python3.6/site-packages/tensorflow_estimator/python/estimator/keras.py\u001b[0m in \u001b[0;36mmodel_fn\u001b[0;34m(features, labels, mode)\u001b[0m\n\u001b[1;32m    286\u001b[0m         \u001b[0mfeatures\u001b[0m\u001b[0;34m=\u001b[0m\u001b[0mfeatures\u001b[0m\u001b[0;34m,\u001b[0m\u001b[0;34m\u001b[0m\u001b[0;34m\u001b[0m\u001b[0m\n\u001b[1;32m    287\u001b[0m         \u001b[0mlabels\u001b[0m\u001b[0;34m=\u001b[0m\u001b[0mlabels\u001b[0m\u001b[0;34m,\u001b[0m\u001b[0;34m\u001b[0m\u001b[0;34m\u001b[0m\u001b[0m\n\u001b[0;32m--> 288\u001b[0;31m         optimizer_config=optimizer_config)\n\u001b[0m\u001b[1;32m    289\u001b[0m     \u001b[0mmodel_output_names\u001b[0m \u001b[0;34m=\u001b[0m \u001b[0;34m[\u001b[0m\u001b[0;34m]\u001b[0m\u001b[0;34m\u001b[0m\u001b[0;34m\u001b[0m\u001b[0m\n\u001b[1;32m    290\u001b[0m     \u001b[0;31m# We need to make sure that the output names of the last layer in the model\u001b[0m\u001b[0;34m\u001b[0m\u001b[0;34m\u001b[0m\u001b[0;34m\u001b[0m\u001b[0m\n",
      "\u001b[0;32m/home/gaosy/environment/tf2_py3/lib/python3.6/site-packages/tensorflow_estimator/python/estimator/keras.py\u001b[0m in \u001b[0;36m_clone_and_build_model\u001b[0;34m(mode, keras_model, custom_objects, features, labels, optimizer_config)\u001b[0m\n\u001b[1;32m    225\u001b[0m       \u001b[0min_place_reset\u001b[0m\u001b[0;34m=\u001b[0m\u001b[0;34m(\u001b[0m\u001b[0;32mnot\u001b[0m \u001b[0mkeras_model\u001b[0m\u001b[0;34m.\u001b[0m\u001b[0m_is_graph_network\u001b[0m\u001b[0;34m)\u001b[0m\u001b[0;34m,\u001b[0m\u001b[0;34m\u001b[0m\u001b[0;34m\u001b[0m\u001b[0m\n\u001b[1;32m    226\u001b[0m       \u001b[0moptimizer_iterations\u001b[0m\u001b[0;34m=\u001b[0m\u001b[0mglobal_step\u001b[0m\u001b[0;34m,\u001b[0m\u001b[0;34m\u001b[0m\u001b[0;34m\u001b[0m\u001b[0m\n\u001b[0;32m--> 227\u001b[0;31m       optimizer_config=optimizer_config)\n\u001b[0m\u001b[1;32m    228\u001b[0m \u001b[0;34m\u001b[0m\u001b[0m\n\u001b[1;32m    229\u001b[0m   \u001b[0;32mif\u001b[0m \u001b[0msample_weight_tensors\u001b[0m \u001b[0;32mis\u001b[0m \u001b[0;32mnot\u001b[0m \u001b[0;32mNone\u001b[0m\u001b[0;34m:\u001b[0m\u001b[0;34m\u001b[0m\u001b[0;34m\u001b[0m\u001b[0m\n",
      "\u001b[0;32m/home/gaosy/environment/tf2_py3/lib/python3.6/site-packages/tensorflow_core/python/keras/models.py\u001b[0m in \u001b[0;36mclone_and_build_model\u001b[0;34m(model, input_tensors, target_tensors, custom_objects, compile_clone, in_place_reset, optimizer_iterations, optimizer_config)\u001b[0m\n\u001b[1;32m    636\u001b[0m   \u001b[0;32mwith\u001b[0m \u001b[0mCustomObjectScope\u001b[0m\u001b[0;34m(\u001b[0m\u001b[0mcustom_objects\u001b[0m \u001b[0;32mor\u001b[0m \u001b[0;34m{\u001b[0m\u001b[0;34m}\u001b[0m\u001b[0;34m)\u001b[0m\u001b[0;34m:\u001b[0m\u001b[0;34m\u001b[0m\u001b[0;34m\u001b[0m\u001b[0m\n\u001b[1;32m    637\u001b[0m     \u001b[0;32mif\u001b[0m \u001b[0mmodel\u001b[0m\u001b[0;34m.\u001b[0m\u001b[0m_is_graph_network\u001b[0m \u001b[0;32mor\u001b[0m \u001b[0misinstance\u001b[0m\u001b[0;34m(\u001b[0m\u001b[0mmodel\u001b[0m\u001b[0;34m,\u001b[0m \u001b[0mSequential\u001b[0m\u001b[0;34m)\u001b[0m\u001b[0;34m:\u001b[0m\u001b[0;34m\u001b[0m\u001b[0;34m\u001b[0m\u001b[0m\n\u001b[0;32m--> 638\u001b[0;31m       \u001b[0mclone\u001b[0m \u001b[0;34m=\u001b[0m \u001b[0mclone_model\u001b[0m\u001b[0;34m(\u001b[0m\u001b[0mmodel\u001b[0m\u001b[0;34m,\u001b[0m \u001b[0minput_tensors\u001b[0m\u001b[0;34m=\u001b[0m\u001b[0minput_tensors\u001b[0m\u001b[0;34m)\u001b[0m\u001b[0;34m\u001b[0m\u001b[0;34m\u001b[0m\u001b[0m\n\u001b[0m\u001b[1;32m    639\u001b[0m \u001b[0;34m\u001b[0m\u001b[0m\n\u001b[1;32m    640\u001b[0m       if all([\n",
      "\u001b[0;32m/home/gaosy/environment/tf2_py3/lib/python3.6/site-packages/tensorflow_core/python/keras/models.py\u001b[0m in \u001b[0;36mclone_model\u001b[0;34m(model, input_tensors, clone_function)\u001b[0m\n\u001b[1;32m    419\u001b[0m   \u001b[0;32mif\u001b[0m \u001b[0misinstance\u001b[0m\u001b[0;34m(\u001b[0m\u001b[0mmodel\u001b[0m\u001b[0;34m,\u001b[0m \u001b[0mSequential\u001b[0m\u001b[0;34m)\u001b[0m\u001b[0;34m:\u001b[0m\u001b[0;34m\u001b[0m\u001b[0;34m\u001b[0m\u001b[0m\n\u001b[1;32m    420\u001b[0m     return _clone_sequential_model(\n\u001b[0;32m--> 421\u001b[0;31m         model, input_tensors=input_tensors, layer_fn=clone_function)\n\u001b[0m\u001b[1;32m    422\u001b[0m   \u001b[0;32melse\u001b[0m\u001b[0;34m:\u001b[0m\u001b[0;34m\u001b[0m\u001b[0;34m\u001b[0m\u001b[0m\n\u001b[1;32m    423\u001b[0m     return _clone_functional_model(\n",
      "\u001b[0;32m/home/gaosy/environment/tf2_py3/lib/python3.6/site-packages/tensorflow_core/python/keras/models.py\u001b[0m in \u001b[0;36m_clone_sequential_model\u001b[0;34m(model, input_tensors, layer_fn)\u001b[0m\n\u001b[1;32m    338\u001b[0m       \u001b[0minput_tensors\u001b[0m \u001b[0;34m=\u001b[0m \u001b[0mlist\u001b[0m\u001b[0;34m(\u001b[0m\u001b[0minput_tensors\u001b[0m\u001b[0;34m)\u001b[0m\u001b[0;34m\u001b[0m\u001b[0;34m\u001b[0m\u001b[0m\n\u001b[1;32m    339\u001b[0m     \u001b[0mx\u001b[0m \u001b[0;34m=\u001b[0m \u001b[0mgeneric_utils\u001b[0m\u001b[0;34m.\u001b[0m\u001b[0mto_list\u001b[0m\u001b[0;34m(\u001b[0m\u001b[0minput_tensors\u001b[0m\u001b[0;34m)\u001b[0m\u001b[0;34m[\u001b[0m\u001b[0;36m0\u001b[0m\u001b[0;34m]\u001b[0m\u001b[0;34m\u001b[0m\u001b[0;34m\u001b[0m\u001b[0m\n\u001b[0;32m--> 340\u001b[0;31m     \u001b[0;32mif\u001b[0m \u001b[0mK\u001b[0m\u001b[0;34m.\u001b[0m\u001b[0mis_keras_tensor\u001b[0m\u001b[0;34m(\u001b[0m\u001b[0mx\u001b[0m\u001b[0;34m)\u001b[0m\u001b[0;34m:\u001b[0m\u001b[0;34m\u001b[0m\u001b[0;34m\u001b[0m\u001b[0m\n\u001b[0m\u001b[1;32m    341\u001b[0m       \u001b[0morigin_layer\u001b[0m \u001b[0;34m=\u001b[0m \u001b[0mx\u001b[0m\u001b[0;34m.\u001b[0m\u001b[0m_keras_history\u001b[0m\u001b[0;34m.\u001b[0m\u001b[0mlayer\u001b[0m\u001b[0;34m\u001b[0m\u001b[0;34m\u001b[0m\u001b[0m\n\u001b[1;32m    342\u001b[0m       \u001b[0;32mif\u001b[0m \u001b[0misinstance\u001b[0m\u001b[0;34m(\u001b[0m\u001b[0morigin_layer\u001b[0m\u001b[0;34m,\u001b[0m \u001b[0mInputLayer\u001b[0m\u001b[0;34m)\u001b[0m\u001b[0;34m:\u001b[0m\u001b[0;34m\u001b[0m\u001b[0;34m\u001b[0m\u001b[0m\n",
      "\u001b[0;32m/home/gaosy/environment/tf2_py3/lib/python3.6/site-packages/tensorflow_core/python/keras/backend.py\u001b[0m in \u001b[0;36mis_keras_tensor\u001b[0;34m(x)\u001b[0m\n\u001b[1;32m    985\u001b[0m                         sparse_tensor.SparseTensor)):\n\u001b[1;32m    986\u001b[0m     raise ValueError('Unexpectedly found an instance of type `' + str(type(x)) +\n\u001b[0;32m--> 987\u001b[0;31m                      '`. Expected a symbolic tensor instance.')\n\u001b[0m\u001b[1;32m    988\u001b[0m   \u001b[0;32mreturn\u001b[0m \u001b[0mhasattr\u001b[0m\u001b[0;34m(\u001b[0m\u001b[0mx\u001b[0m\u001b[0;34m,\u001b[0m \u001b[0;34m'_keras_history'\u001b[0m\u001b[0;34m)\u001b[0m\u001b[0;34m\u001b[0m\u001b[0;34m\u001b[0m\u001b[0m\n\u001b[1;32m    989\u001b[0m \u001b[0;34m\u001b[0m\u001b[0m\n",
      "\u001b[0;31mValueError\u001b[0m: Unexpectedly found an instance of type `<class 'dict'>`. Expected a symbolic tensor instance."
     ]
    }
   ],
   "source": [
    "estimizer = keras.estimator.model_to_estimator(model)\n",
    "\n",
    "# input_fn: \n",
    "# 1. 是一个函数；\n",
    "#2. 这个函数是一个迭代器；\n",
    "#3. 返回 （features, labels）数据, features是一个字典，才能与feature_columns对应\n",
    "estimizer.train(input_fn = lambda: make_dataset(x_train, y_train, shuffle=True, epochs=100, batch_size=32))"
   ]
  },
  {
   "cell_type": "code",
   "execution_count": null,
   "metadata": {},
   "outputs": [],
   "source": []
  }
 ],
 "metadata": {
  "kernelspec": {
   "display_name": "Python 3",
   "language": "python",
   "name": "python3"
  },
  "language_info": {
   "codemirror_mode": {
    "name": "ipython",
    "version": 3
   },
   "file_extension": ".py",
   "mimetype": "text/x-python",
   "name": "python",
   "nbconvert_exporter": "python",
   "pygments_lexer": "ipython3",
   "version": "3.6.8"
  }
 },
 "nbformat": 4,
 "nbformat_minor": 2
}
