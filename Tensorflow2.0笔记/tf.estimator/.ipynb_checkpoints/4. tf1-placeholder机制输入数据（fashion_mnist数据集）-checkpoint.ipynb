{
 "cells": [
  {
   "cell_type": "markdown",
   "metadata": {},
   "source": [
    "# 目录\n",
    "### 1. 导入模块\n",
    "### 2. 导入fashion_mnist数据\n",
    "### 3. 定义模型（图）\n",
    "### 4. tf.Seesion 训练"
   ]
  },
  {
   "cell_type": "markdown",
   "metadata": {},
   "source": [
    "## 1. 导入模块"
   ]
  },
  {
   "cell_type": "code",
   "execution_count": 1,
   "metadata": {},
   "outputs": [
    {
     "name": "stdout",
     "output_type": "stream",
     "text": [
      "numpy 1.17.2\n",
      "pandas 0.25.1\n",
      "matplotlib 3.1.1\n",
      "sklearn 0.21.3\n",
      "tensorflow.python.keras.api._v1.keras 2.2.4-tf\n",
      "tensorflow 1.15.0\n"
     ]
    }
   ],
   "source": [
    "%matplotlib inline\n",
    "import numpy as np\n",
    "import pandas as pd\n",
    "import matplotlib as mpl\n",
    "import matplotlib.pyplot as plt\n",
    "import sklearn\n",
    "\n",
    "from tensorflow import keras\n",
    "import tensorflow as tf\n",
    "import sys\n",
    "import os\n",
    "import time\n",
    "import datetime\n",
    "\n",
    "for module in [np, pd, mpl, sklearn, keras, tf]:\n",
    "    print(module.__name__, module.__version__)"
   ]
  },
  {
   "cell_type": "markdown",
   "metadata": {},
   "source": [
    "## 2. 导入fashion_mnist数据"
   ]
  },
  {
   "cell_type": "code",
   "execution_count": 2,
   "metadata": {},
   "outputs": [
    {
     "name": "stdout",
     "output_type": "stream",
     "text": [
      "(55000, 28, 28) (55000,)\n",
      "(5000, 28, 28) (5000,)\n",
      "(10000, 28, 28) (10000,)\n"
     ]
    }
   ],
   "source": [
    "fashion_mnist = keras.datasets.fashion_mnist\n",
    "\n",
    "(x_train_all, y_train_all), (x_test, y_test) = fashion_mnist.load_data()\n",
    "\n",
    "x_valid, x_train = x_train_all[:5000], x_train_all[5000:]\n",
    "y_valid, y_train = y_train_all[:5000], y_train_all[5000:]\n",
    "\n",
    "print(x_train.shape, y_train.shape)\n",
    "print(x_valid.shape, y_valid.shape)\n",
    "print(x_test.shape, y_test.shape)"
   ]
  },
  {
   "cell_type": "code",
   "execution_count": 3,
   "metadata": {},
   "outputs": [],
   "source": [
    "from sklearn.preprocessing import StandardScaler\n",
    "\n",
    "scaler = StandardScaler()\n",
    "\n",
    "x_train_scaled = scaler.fit_transform(x_train.astype(np.float32).reshape(-1,1)).reshape(-1, 28*28)\n",
    "x_valid_scaled = scaler.transform(x_valid.astype(np.float32).reshape(-1,1)).reshape(-1, 28*28)\n",
    "x_test_scaled = scaler.transform(x_test.astype(np.float32).reshape(-1,1)).reshape(-1, 28*28)"
   ]
  },
  {
   "cell_type": "markdown",
   "metadata": {},
   "source": [
    "## 3. 定义模型（图）"
   ]
  },
  {
   "cell_type": "code",
   "execution_count": 4,
   "metadata": {},
   "outputs": [
    {
     "name": "stdout",
     "output_type": "stream",
     "text": [
      "WARNING:tensorflow:From <ipython-input-4-4d39419219c0>:10: dense (from tensorflow.python.layers.core) is deprecated and will be removed in a future version.\n",
      "Instructions for updating:\n",
      "Use keras.layers.Dense instead.\n",
      "WARNING:tensorflow:From /home/gaosy/environment/tf1.14_py3/lib/python3.6/site-packages/tensorflow_core/python/layers/core.py:187: Layer.apply (from tensorflow.python.keras.engine.base_layer) is deprecated and will be removed in a future version.\n",
      "Instructions for updating:\n",
      "Please use `layer.__call__` method instead.\n",
      "WARNING:tensorflow:From /home/gaosy/environment/tf1.14_py3/lib/python3.6/site-packages/tensorflow_core/python/ops/losses/losses_impl.py:121: where (from tensorflow.python.ops.array_ops) is deprecated and will be removed in a future version.\n",
      "Instructions for updating:\n",
      "Use tf.where in 2.0, which has the same broadcast rule as np.where\n"
     ]
    }
   ],
   "source": [
    "# 网络结构\n",
    "hidden_units = [100, 100]\n",
    "class_num = 10\n",
    "\n",
    "x = tf.placeholder(tf.float32, shape=(None, 28*28))\n",
    "y = tf.placeholder(tf.int64, shape=(None))\n",
    "\n",
    "input_for_next_layer = x\n",
    "for hidden_unit in hidden_units:\n",
    "    input_for_next_layer = tf.layers.dense(input_for_next_layer, units=hidden_unit, activation=tf.nn.relu)\n",
    "\n",
    "logits = tf.layers.dense(input_for_next_layer, class_num)\n",
    "\n",
    "# 计算损失\n",
    "loss = tf.losses.sparse_softmax_cross_entropy(labels=y, logits=logits)\n",
    "\n",
    "# 预测\n",
    "prediction = tf.argmax(logits, axis=1)\n",
    "\n",
    "# 计算准确率\n",
    "correct_prediction = tf.equal(prediction, y)\n",
    "accuracy = tf.reduce_mean(tf.cast(correct_prediction, tf.float32))\n",
    "\n",
    "# 训练操作\n",
    "train_op = tf.train.AdamOptimizer(1e-3).minimize(loss)"
   ]
  },
  {
   "cell_type": "markdown",
   "metadata": {},
   "source": [
    "## 4. tf.Seesion 训练"
   ]
  },
  {
   "cell_type": "code",
   "execution_count": 5,
   "metadata": {},
   "outputs": [
    {
     "name": "stdout",
     "output_type": "stream",
     "text": [
      "[train] epoch: 0, loss: 0.40328, acc: 0.81\t[valid] accuracy: 0.87\n",
      "[train] epoch: 1, loss: 0.41917, acc: 0.81\t[valid] accuracy: 0.88\n",
      "[train] epoch: 2, loss: 0.39985, acc: 0.84\t[valid] accuracy: 0.88\n",
      "[train] epoch: 3, loss: 0.39487, acc: 0.81\t[valid] accuracy: 0.88\n",
      "[train] epoch: 4, loss: 0.37143, acc: 0.84\t[valid] accuracy: 0.87\n",
      "[train] epoch: 5, loss: 0.27811, acc: 0.91\t[valid] accuracy: 0.88\n",
      "[train] epoch: 6, loss: 0.32157, acc: 0.88\t[valid] accuracy: 0.88\n",
      "[train] epoch: 7, loss: 0.21142, acc: 0.88\t[valid] accuracy: 0.87\n",
      "[train] epoch: 8, loss: 0.25593, acc: 0.84\t[valid] accuracy: 0.88\n",
      "[train] epoch: 9, loss: 0.24053, acc: 0.88\t[valid] accuracy: 0.88\n"
     ]
    }
   ],
   "source": [
    "init = tf.global_variables_initializer()\n",
    "epochs = 10\n",
    "batch_size = 32\n",
    "\n",
    "train_step_per_epoch = x_train_scaled.shape[0] // batch_size\n",
    "\n",
    "def valid_with_sess(sess, x, y, images, labels, accuracy, batch_size):\n",
    "    valid_step_per_epoch = images.shape[0] // batch_size\n",
    "    accuracy_list = []\n",
    "    for valid_step in range(valid_step_per_epoch):\n",
    "        # 取数据\n",
    "        batch_x = images[valid_step*batch_size:(valid_step+1)*batch_size]\n",
    "        batch_y = labels[valid_step*batch_size:(valid_step+1)*batch_size]\n",
    "        # 推理\n",
    "        accuracy_value = sess.run(accuracy, feed_dict={x: batch_x, y: batch_y})\n",
    "        accuracy_list.append(accuracy_value)\n",
    "    return np.mean(accuracy_list)\n",
    "\n",
    "\n",
    "with tf.Session() as sess:\n",
    "    sess.run(init)\n",
    "    for epoch in range(epochs):\n",
    "        for step in range(train_step_per_epoch):\n",
    "            # 取数据\n",
    "            batch_x = x_train_scaled[step*batch_size:(step+1)*batch_size]\n",
    "            batch_y = y_train[step*batch_size:(step+1)*batch_size]\n",
    "            # 推理和反向传播\n",
    "            loss_value, prediction_value, accuracy_value, _ = sess.run(\n",
    "                [loss, prediction, accuracy, train_op], \n",
    "                feed_dict={x: batch_x, y: batch_y}\n",
    "            )\n",
    "            print(\"\\r[train] epoch: {}, loss: {:.5f}, acc: {:.2f}\".format(epoch, loss_value, accuracy_value), end=\"\")\n",
    "            \n",
    "        valid_accuracy = valid_with_sess(sess, x, y, x_valid_scaled, y_valid, accuracy, batch_size)\n",
    "        print(\"\\t[valid] accuracy: {:.2f}\".format(valid_accuracy))"
   ]
  },
  {
   "cell_type": "code",
   "execution_count": null,
   "metadata": {},
   "outputs": [],
   "source": []
  },
  {
   "cell_type": "code",
   "execution_count": null,
   "metadata": {},
   "outputs": [],
   "source": []
  }
 ],
 "metadata": {
  "kernelspec": {
   "display_name": "Python 3",
   "language": "python",
   "name": "python3"
  },
  "language_info": {
   "codemirror_mode": {
    "name": "ipython",
    "version": 3
   },
   "file_extension": ".py",
   "mimetype": "text/x-python",
   "name": "python",
   "nbconvert_exporter": "python",
   "pygments_lexer": "ipython3",
   "version": "3.6.8"
  }
 },
 "nbformat": 4,
 "nbformat_minor": 2
}
